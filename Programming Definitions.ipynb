{
 "cells": [
  {
   "cell_type": "markdown",
   "metadata": {},
   "source": [
    "Iterable"
   ]
  },
  {
   "cell_type": "code",
   "execution_count": 1,
   "metadata": {},
   "outputs": [],
   "source": [
    "#Iterable is an object which can be looped over or iterated over with\n",
    "#the help of a for loop .\n",
    "#Objects like lists, tuples, sets, dictionaries, strings etc are \n",
    "#called iterables.\n",
    "#In short iterable, is anything that you can loop over."
   ]
  },
  {
   "cell_type": "markdown",
   "metadata": {},
   "source": [
    "Non_Iterable"
   ]
  },
  {
   "cell_type": "code",
   "execution_count": null,
   "metadata": {},
   "outputs": [],
   "source": [
    "#If an object is not capable of returning its member value\n",
    "#one by one it's non_iterable."
   ]
  },
  {
   "cell_type": "markdown",
   "metadata": {},
   "source": [
    "Iteration"
   ]
  },
  {
   "cell_type": "code",
   "execution_count": 1,
   "metadata": {},
   "outputs": [],
   "source": [
    "#Sometimes an algorithm needs to repeat certain steps until told\n",
    "#to stop until a particular condition has been met.\n",
    "#It is the process of repeating steps.\n",
    "#A real world example\n",
    "#1.put cereal in bowl\n",
    "#2.add milk to cereal\n",
    "#3.spoon cereal and milk into mouth\n",
    "#4.repeat step 3 until all cereal and milk is eaten\n",
    "#5.rinse bowl and spoon\n",
    "#The algorithm will repeat steps 3 and 4 until \n",
    "#all the cereal and milk has been eaten.\n",
    "\n",
    "#In programming iteration is often referred to as looping."
   ]
  },
  {
   "cell_type": "markdown",
   "metadata": {},
   "source": [
    "Placeholder Value"
   ]
  },
  {
   "cell_type": "code",
   "execution_count": null,
   "metadata": {},
   "outputs": [],
   "source": [
    "#In Python, Placeholder is a word, characters or a string of\n",
    "#characters to hold a temporary place. \n",
    "#The placeholder behaves as a dynamic place holder in such a\n",
    "#way that you can pass a particular value for that\n",
    "#placeholder."
   ]
  },
  {
   "cell_type": "markdown",
   "metadata": {},
   "source": [
    "Dynamic Website"
   ]
  },
  {
   "cell_type": "code",
   "execution_count": null,
   "metadata": {},
   "outputs": [],
   "source": [
    "#This is a website that displays different types of content\n",
    "#everytime a user views it. \n",
    "#This display changes depending on a number of factors like\n",
    "#viewer demographics, time to day, location, language \n",
    "#settings etc"
   ]
  },
  {
   "cell_type": "markdown",
   "metadata": {},
   "source": [
    "Primitive DataTypes"
   ]
  },
  {
   "cell_type": "code",
   "execution_count": null,
   "metadata": {},
   "outputs": [],
   "source": [
    "#Primitive data types are a set of basic data types from \n",
    "#which all other data types are constructed. It often refers\n",
    "#to the limited set of data representations in use by a \n",
    "#particular processor, which all compiled programs must use.\n",
    "#They include: byte, short , int, long, float, double, bool,\n",
    "#char\n"
   ]
  },
  {
   "cell_type": "markdown",
   "metadata": {},
   "source": [
    "Non-Primitive Datatypes"
   ]
  },
  {
   "cell_type": "code",
   "execution_count": null,
   "metadata": {},
   "outputs": [],
   "source": [
    "#They refere to objects and hence they are called reference\n",
    "#types. \n",
    "#Examples include: Strings, Arrays, Classes, Interface etc"
   ]
  },
  {
   "cell_type": "code",
   "execution_count": null,
   "metadata": {},
   "outputs": [],
   "source": [
    "print('\\n A\\n B\\n C\\n D')\n"
   ]
  },
  {
   "cell_type": "code",
   "execution_count": null,
   "metadata": {},
   "outputs": [],
   "source": []
  }
 ],
 "metadata": {
  "kernelspec": {
   "display_name": "Python 3",
   "language": "python",
   "name": "python3"
  },
  "language_info": {
   "codemirror_mode": {
    "name": "ipython",
    "version": 3
   },
   "file_extension": ".py",
   "mimetype": "text/x-python",
   "name": "python",
   "nbconvert_exporter": "python",
   "pygments_lexer": "ipython3",
   "version": "3.7.3"
  }
 },
 "nbformat": 4,
 "nbformat_minor": 2
}
