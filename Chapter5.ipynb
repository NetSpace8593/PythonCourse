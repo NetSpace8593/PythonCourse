{
 "cells": [
  {
   "cell_type": "markdown",
   "metadata": {},
   "source": [
    "# IF STATEMENTS"
   ]
  },
  {
   "cell_type": "code",
   "execution_count": 2,
   "metadata": {},
   "outputs": [],
   "source": [
    "#Programming involves looking at a set of conditions\n",
    "#and deciding the set of action based on those \n",
    "#conditions.\n",
    "\n",
    "#Python if statement allows you to examine the \n",
    "#current state of a program and respond appropriately\n",
    "#to that state."
   ]
  },
  {
   "cell_type": "markdown",
   "metadata": {},
   "source": [
    "Example"
   ]
  },
  {
   "cell_type": "code",
   "execution_count": 3,
   "metadata": {},
   "outputs": [
    {
     "name": "stdout",
     "output_type": "stream",
     "text": [
      "Audi\n",
      "BMW\n",
      "Subaru\n",
      "Toyota\n"
     ]
    }
   ],
   "source": [
    "#You have a list of cars and you want to print 'bmw'\n",
    "#in all uppercase.\n",
    "cars = ['audi', 'bmw', 'subaru', 'toyota']\n",
    "for car in cars:\n",
    "    if car == 'bmw':\n",
    "        print(car.upper())\n",
    "    else:\n",
    "        print(car.title())\n",
    "#The loop in this example first checks if the\n",
    "#current value of car is 'bmw'. If so it prints the\n",
    "#value in uppercase. Otherwise, if the value of car\n",
    "#is anything other than 'bmw', it's printed in \n",
    "#title case."
   ]
  },
  {
   "cell_type": "markdown",
   "metadata": {},
   "source": [
    "Conditional Tests"
   ]
  },
  {
   "cell_type": "code",
   "execution_count": 4,
   "metadata": {},
   "outputs": [],
   "source": [
    "#At the heart of every if statement is an \n",
    "#expression that can be evaluated to either true\n",
    "#or false and is called 'conditional test'.\n",
    "\n",
    "#Python uses true or false to decide whether the \n",
    "#code in an if statement should be executed.\n",
    "\n",
    "#If a conditional test evaluates ot True, Python\n",
    "#executes the code following the if statement.\n",
    "#Otherwise if the test evaluates to false, Python\n",
    "#ignores the code following the if statement."
   ]
  },
  {
   "cell_type": "markdown",
   "metadata": {},
   "source": [
    "Checking for Equality"
   ]
  },
  {
   "cell_type": "code",
   "execution_count": 7,
   "metadata": {},
   "outputs": [
    {
     "data": {
      "text/plain": [
       "True"
      ]
     },
     "execution_count": 7,
     "metadata": {},
     "output_type": "execute_result"
    }
   ],
   "source": [
    "#Most conditional tests compare the current value\n",
    "#of a variable to a specific value of interest.\n",
    "\n",
    "#Example\n",
    "car = 'bmw'#1\n",
    "car == 'bmw'#2\n",
    "#The line #1 sets the value of car to 'bmw' using\n",
    "#a single equal sign\n",
    "#The line #2 checks whether the value of car is'bmw'\n",
    "#using the double equal sign (==)"
   ]
  },
  {
   "cell_type": "code",
   "execution_count": 10,
   "metadata": {},
   "outputs": [],
   "source": [
    "#The equality operator, returns True if the values\n",
    "#at both sides of the operator are equal or match\n",
    "#otherwise return False if they don't match.\n",
    "\n",
    "#Example2\n",
    "#If the value of is anything other than 'bmw', this\n",
    "#test returns False:\n",
    "car = 'audi'\n",
    "car == 'bmw'"
   ]
  },
  {
   "cell_type": "code",
   "execution_count": 15,
   "metadata": {},
   "outputs": [],
   "source": [
    "#Considering the last example\n",
    "#In simple language, the equal sign  might be read\n",
    "#as \"Set the value of car equal to audi\"\n",
    "#On the other hand, a double equal sign, might be\n",
    "#read as: \"Is the value of car equal to 'bmw'?\""
   ]
  },
  {
   "cell_type": "markdown",
   "metadata": {},
   "source": [
    "Checking for Inequality"
   ]
  },
  {
   "cell_type": "code",
   "execution_count": 16,
   "metadata": {},
   "outputs": [
    {
     "name": "stdout",
     "output_type": "stream",
     "text": [
      "Hold the anchovies!\n"
     ]
    }
   ],
   "source": [
    "#When you want to determine whether two values are\n",
    "#not equal, you can use the exclamation mark(not)\n",
    "#and an equal sign(!=)\n",
    "\n",
    "#Example\n",
    "requested_topping = 'mushrooms'\n",
    "\n",
    "if requested_topping != 'anchovies':#1\n",
    "    print(\"Hold the anchovies!\")#2\n",
    "    \n",
    "#Line #1 compares the value requested_topping to \n",
    "#the value 'anchovies'. If the values do not match\n",
    "#Python returns True and executes the code following\n",
    "#the if statement.\n",
    "#If the two values match Python returns False and\n",
    "#does not run the code following the if statement."
   ]
  },
  {
   "cell_type": "markdown",
   "metadata": {},
   "source": [
    "Numerical Comparisons"
   ]
  },
  {
   "cell_type": "code",
   "execution_count": 18,
   "metadata": {},
   "outputs": [
    {
     "data": {
      "text/plain": [
       "True"
      ]
     },
     "execution_count": 18,
     "metadata": {},
     "output_type": "execute_result"
    }
   ],
   "source": [
    "#Example\n",
    "#Testing if two numbers are equal\n",
    "age = 18\n",
    "age == 18"
   ]
  },
  {
   "cell_type": "code",
   "execution_count": 19,
   "metadata": {},
   "outputs": [
    {
     "name": "stdout",
     "output_type": "stream",
     "text": [
      "That is not the correct answer. Please try again!\n"
     ]
    }
   ],
   "source": [
    "#Testing if two numbers are not equal\n",
    "answer = 17\n",
    "\n",
    "if answer != 42:\n",
    "    print(\"That is not the correct answer. Please try again!\")\n",
    "#The condition test passes coz 17 is not equal to 42.\n",
    "#Thus the indented code block is executed."
   ]
  },
  {
   "cell_type": "code",
   "execution_count": 20,
   "metadata": {},
   "outputs": [
    {
     "data": {
      "text/plain": [
       "True"
      ]
     },
     "execution_count": 20,
     "metadata": {},
     "output_type": "execute_result"
    }
   ],
   "source": [
    "#You can include other mathematical comparisons in\n",
    "#your conditional statements as well, such as less\n",
    "#than, less than equal to, greater than, and \n",
    "#greater than or equal to.\n",
    "\n",
    "#Examples\n",
    "age = 19\n",
    "age < 21"
   ]
  },
  {
   "cell_type": "code",
   "execution_count": 21,
   "metadata": {},
   "outputs": [
    {
     "data": {
      "text/plain": [
       "True"
      ]
     },
     "execution_count": 21,
     "metadata": {},
     "output_type": "execute_result"
    }
   ],
   "source": [
    "#Example 2\n",
    "age <= 21#Less than equal to"
   ]
  },
  {
   "cell_type": "code",
   "execution_count": 22,
   "metadata": {},
   "outputs": [
    {
     "data": {
      "text/plain": [
       "False"
      ]
     },
     "execution_count": 22,
     "metadata": {},
     "output_type": "execute_result"
    }
   ],
   "source": [
    "#Example 3\n",
    "age > 21#Greater than"
   ]
  },
  {
   "cell_type": "code",
   "execution_count": 23,
   "metadata": {},
   "outputs": [
    {
     "data": {
      "text/plain": [
       "False"
      ]
     },
     "execution_count": 23,
     "metadata": {},
     "output_type": "execute_result"
    }
   ],
   "source": [
    "#Example 4\n",
    "age >= 21#Greater than equal to"
   ]
  },
  {
   "cell_type": "markdown",
   "metadata": {},
   "source": [
    "Checking Multiple Conditions"
   ]
  },
  {
   "cell_type": "code",
   "execution_count": 24,
   "metadata": {},
   "outputs": [],
   "source": [
    "#You may want to check multiple conditions at the\n",
    "#same time.\n",
    "#The keywords 'and' and 'or' can help you in this\n",
    "#situations."
   ]
  },
  {
   "cell_type": "markdown",
   "metadata": {},
   "source": [
    "Using 'and' to Check Multiple Conditions"
   ]
  },
  {
   "cell_type": "code",
   "execution_count": 25,
   "metadata": {},
   "outputs": [
    {
     "data": {
      "text/plain": [
       "False"
      ]
     },
     "execution_count": 25,
     "metadata": {},
     "output_type": "execute_result"
    }
   ],
   "source": [
    "#To check whether two conditions are True \n",
    "#simultaneously, use 'and' to combine and check\n",
    "#both conditional tests.\n",
    "#if each tests passes the overall expression \n",
    "#evaluates to True.\n",
    "#If either or both tests fail, the expression \n",
    "#evaluates to false.\n",
    "\n",
    "#Example\n",
    "age_0 = 22\n",
    "age_1 = 18\n",
    "age_0 >= 21 and age_1 >= 21\n",
    "#We check whether both ages are 21 and over.\n",
    "#The test on the left passes but on the right fails\n",
    "#the overall expression therefore evaluates false."
   ]
  },
  {
   "cell_type": "code",
   "execution_count": 27,
   "metadata": {},
   "outputs": [
    {
     "data": {
      "text/plain": [
       "True"
      ]
     },
     "execution_count": 27,
     "metadata": {},
     "output_type": "execute_result"
    }
   ],
   "source": [
    "age_1 = 22\n",
    "age_0 >= 21 and age_1 >= 21\n",
    "#age_1 is changed to 22. Both individuals therefore\n",
    "#test pass, the overall conditional expression\n",
    "#therefore evaluating to true.\n",
    "\n",
    "#You can use parentheses to improve readability."
   ]
  },
  {
   "cell_type": "markdown",
   "metadata": {},
   "source": [
    "Using or to Check Multiple Conditions"
   ]
  },
  {
   "cell_type": "code",
   "execution_count": 29,
   "metadata": {},
   "outputs": [
    {
     "data": {
      "text/plain": [
       "True"
      ]
     },
     "execution_count": 29,
     "metadata": {},
     "output_type": "execute_result"
    }
   ],
   "source": [
    "#The keyword 'or' allows you to check multiple \n",
    "#conditions as well.\n",
    "#It passes when either or both of the individual\n",
    "#tests pass.\n",
    "#An 'or' expression fails when both individual tests\n",
    "#fail.\n",
    "\n",
    "#Example1\n",
    "age_0 = 22\n",
    "age_1 = 18\n",
    "age_0 >= 21 or age_1 >= 21\n"
   ]
  },
  {
   "cell_type": "code",
   "execution_count": 30,
   "metadata": {},
   "outputs": [
    {
     "data": {
      "text/plain": [
       "False"
      ]
     },
     "execution_count": 30,
     "metadata": {},
     "output_type": "execute_result"
    }
   ],
   "source": [
    "#Exaple2\n",
    "age_0 = 18\n",
    "age_0 >= 21 or age_1 >= 21"
   ]
  },
  {
   "cell_type": "markdown",
   "metadata": {},
   "source": [
    "Checking Whether a Value is in a list"
   ]
  },
  {
   "cell_type": "code",
   "execution_count": 34,
   "metadata": {},
   "outputs": [
    {
     "data": {
      "text/plain": [
       "True"
      ]
     },
     "execution_count": 34,
     "metadata": {},
     "output_type": "execute_result"
    }
   ],
   "source": [
    "#Sometimes you might want to check whether a value\n",
    "#is in a given list before taking action.\n",
    "#For example before listing a location in a mapping\n",
    "#project, you might want to know whether the location\n",
    "#is already in existence.\n",
    "\n",
    "#To find whether a value is already in existence in\n",
    "#a list use the keywork in.\n",
    "#Example1\n",
    "requested_toppings = ['mushrooms', 'onions', 'pineapple']\n",
    "'mushrooms' in requested_toppings"
   ]
  },
  {
   "cell_type": "code",
   "execution_count": 35,
   "metadata": {},
   "outputs": [
    {
     "data": {
      "text/plain": [
       "False"
      ]
     },
     "execution_count": 35,
     "metadata": {},
     "output_type": "execute_result"
    }
   ],
   "source": [
    "#Example2\n",
    "'pepperoni' in requested_toppings"
   ]
  },
  {
   "cell_type": "code",
   "execution_count": 36,
   "metadata": {},
   "outputs": [],
   "source": [
    "#At example 1 and 2 above, Python uses keyword in\n",
    "#to check the existence of 'mushrooms' and 'pepperoni'\n",
    "#in the list requested_toppings."
   ]
  },
  {
   "cell_type": "markdown",
   "metadata": {},
   "source": [
    "Checking Whether a Value Is Not in a List"
   ]
  },
  {
   "cell_type": "code",
   "execution_count": 42,
   "metadata": {},
   "outputs": [
    {
     "name": "stdout",
     "output_type": "stream",
     "text": [
      "Marie, you can post a response if you wish.\n"
     ]
    }
   ],
   "source": [
    "#It's also important to know if a value does not\n",
    "#appear in a list. In this case you can use the \n",
    "#keyword 'not'.\n",
    "#Consider a list of users who are banned from \n",
    "#commenting in a forumn. You can check whether a \n",
    "#user is banned before allowing that person to\n",
    "#submit a comment.\n",
    "\n",
    "#Example\n",
    "banned_users = ['andrew', 'carolina', 'david']\n",
    "user = 'marie'\n",
    "\n",
    "if user not in banned_users:\n",
    "    print(f\"{user.title()}, you can post a response if you wish.\")\n",
    "\n",
    "#Above, if the value of user is not in the \n",
    "#banned_users python returns True and executes the\n",
    "#indented line."
   ]
  },
  {
   "cell_type": "markdown",
   "metadata": {},
   "source": [
    "Boolean Expressions"
   ]
  },
  {
   "cell_type": "code",
   "execution_count": 43,
   "metadata": {},
   "outputs": [],
   "source": [
    "#This is another name for a conditional test. A\n",
    "#Boolean value is either True or False.\n",
    "#They are often used to keep track of certain\n",
    "#conditions, such as whether a game is running\n",
    "#or whether a user can edit certain content on \n",
    "#website\n",
    "#Example\n",
    "game_active = True\n",
    "can_edit = False\n",
    "\n",
    "#Boolean values provide an efficient way to track\n",
    "#the state of a program or a particular conditon\n",
    "#that is important in your program."
   ]
  },
  {
   "cell_type": "markdown",
   "metadata": {},
   "source": [
    "# Exercises"
   ]
  },
  {
   "cell_type": "code",
   "execution_count": 53,
   "metadata": {},
   "outputs": [
    {
     "name": "stdout",
     "output_type": "stream",
     "text": [
      "Is stacey == 'girl'? I guess this is True.\n",
      "True\n"
     ]
    }
   ],
   "source": [
    "#5-1.Conditional Test: Write a series of conditional\n",
    "#tests. Print a statement describing each test and\n",
    "#your prediction for the results of each test. Your\n",
    "#code should look something like this.\n",
    "# car = 'subaru'\n",
    "# print(\"Is car == 'subaru'? I predict True.\")\n",
    "# print(car == 'subaru')\n",
    "\n",
    "# print(\"\\nIs car == 'audi'? I predict False.\")\n",
    "# print(car == 'audi')\n",
    "stacey = 'girl'\n",
    "print(\"Is stacey == 'girl'? I guess this is True.\")\n",
    "print(stacey == 'girl')"
   ]
  },
  {
   "cell_type": "code",
   "execution_count": 56,
   "metadata": {},
   "outputs": [
    {
     "name": "stdout",
     "output_type": "stream",
     "text": [
      "Is stacey == 'boy'? I guess this might be False.\n",
      "False\n"
     ]
    }
   ],
   "source": [
    "print(\"Is stacey == 'boy'? I guess this might be False.\")\n",
    "print(stacey == 'boy')"
   ]
  },
  {
   "cell_type": "code",
   "execution_count": 60,
   "metadata": {},
   "outputs": [
    {
     "name": "stdout",
     "output_type": "stream",
     "text": [
      "Is watch == 'Rolex'? I guess so!\n",
      "True\n"
     ]
    }
   ],
   "source": [
    "#Example 2\n",
    "watch = 'Rolex'\n",
    "print(\"Is watch == 'Rolex'? I guess so!\")\n",
    "print(watch == 'Rolex')"
   ]
  },
  {
   "cell_type": "code",
   "execution_count": 61,
   "metadata": {},
   "outputs": [
    {
     "name": "stdout",
     "output_type": "stream",
     "text": [
      "Is watch == 'Casio'? I do not think it is.\n",
      "False\n"
     ]
    }
   ],
   "source": [
    "print(\"Is watch == 'Casio'? I do not think it is.\")\n",
    "print(watch == 'Casio')"
   ]
  },
  {
   "cell_type": "code",
   "execution_count": 62,
   "metadata": {},
   "outputs": [],
   "source": [
    "#.Look closely at your results, and make sure you\n",
    "#understand why each line evaluates to True or False."
   ]
  },
  {
   "cell_type": "code",
   "execution_count": 46,
   "metadata": {},
   "outputs": [],
   "source": [
    "#.Create at least ten tests. Have at least five\n",
    "#tests evaluate to True and another five tests\n",
    "#evaluate to False."
   ]
  },
  {
   "cell_type": "code",
   "execution_count": 63,
   "metadata": {},
   "outputs": [
    {
     "data": {
      "text/plain": [
       "True"
      ]
     },
     "execution_count": 63,
     "metadata": {},
     "output_type": "execute_result"
    }
   ],
   "source": [
    "#Test1\n",
    "school = 'Mangu'\n",
    "school == 'Mangu'"
   ]
  },
  {
   "cell_type": "code",
   "execution_count": 65,
   "metadata": {},
   "outputs": [
    {
     "data": {
      "text/plain": [
       "False"
      ]
     },
     "execution_count": 65,
     "metadata": {},
     "output_type": "execute_result"
    }
   ],
   "source": [
    "#Test2\n",
    "school = 'Starehe Boys'\n",
    "school == 'Aliance Boys'"
   ]
  },
  {
   "cell_type": "code",
   "execution_count": 67,
   "metadata": {},
   "outputs": [
    {
     "data": {
      "text/plain": [
       "True"
      ]
     },
     "execution_count": 67,
     "metadata": {},
     "output_type": "execute_result"
    }
   ],
   "source": [
    "#Test3\n",
    "school = 'Pumwani'\n",
    "school == 'Pumwani'"
   ]
  },
  {
   "cell_type": "code",
   "execution_count": 69,
   "metadata": {},
   "outputs": [
    {
     "data": {
      "text/plain": [
       "False"
      ]
     },
     "execution_count": 69,
     "metadata": {},
     "output_type": "execute_result"
    }
   ],
   "source": [
    "#Test4\n",
    "school = 'Maasai Boys'\n",
    "school == 'Maasai Girls'"
   ]
  },
  {
   "cell_type": "code",
   "execution_count": 70,
   "metadata": {},
   "outputs": [
    {
     "data": {
      "text/plain": [
       "True"
      ]
     },
     "execution_count": 70,
     "metadata": {},
     "output_type": "execute_result"
    }
   ],
   "source": [
    "#Test5\n",
    "school = 'Strathmore University'\n",
    "school == 'Strathmore University'"
   ]
  },
  {
   "cell_type": "code",
   "execution_count": 71,
   "metadata": {},
   "outputs": [
    {
     "data": {
      "text/plain": [
       "False"
      ]
     },
     "execution_count": 71,
     "metadata": {},
     "output_type": "execute_result"
    }
   ],
   "source": [
    "#Test6\n",
    "county = 'Nairobi'\n",
    "county == 'Kajiado'"
   ]
  },
  {
   "cell_type": "code",
   "execution_count": 72,
   "metadata": {},
   "outputs": [
    {
     "data": {
      "text/plain": [
       "True"
      ]
     },
     "execution_count": 72,
     "metadata": {},
     "output_type": "execute_result"
    }
   ],
   "source": [
    "#Test7\n",
    "county = 'Meru'\n",
    "county == 'Meru'"
   ]
  },
  {
   "cell_type": "code",
   "execution_count": 74,
   "metadata": {},
   "outputs": [
    {
     "data": {
      "text/plain": [
       "False"
      ]
     },
     "execution_count": 74,
     "metadata": {},
     "output_type": "execute_result"
    }
   ],
   "source": [
    "#Test8\n",
    "county = 'Embu'\n",
    "county == 'Marsabit'"
   ]
  },
  {
   "cell_type": "code",
   "execution_count": 75,
   "metadata": {},
   "outputs": [
    {
     "data": {
      "text/plain": [
       "True"
      ]
     },
     "execution_count": 75,
     "metadata": {},
     "output_type": "execute_result"
    }
   ],
   "source": [
    "#Test9\n",
    "county = 'Kisii'\n",
    "county == 'Kisii'"
   ]
  },
  {
   "cell_type": "code",
   "execution_count": 78,
   "metadata": {},
   "outputs": [
    {
     "data": {
      "text/plain": [
       "False"
      ]
     },
     "execution_count": 78,
     "metadata": {},
     "output_type": "execute_result"
    }
   ],
   "source": [
    "#Test10\n",
    "county = \"Kisumu\"\n",
    "county == \"Nakuru\""
   ]
  },
  {
   "cell_type": "code",
   "execution_count": 47,
   "metadata": {},
   "outputs": [],
   "source": [
    "#5-2.More Conditional Tests: You don't have to limit\n",
    "#the number of tests you create to ten. If you want\n",
    "#to try more comparisons, write more tests and add\n",
    "#them to conditional_tests.py. Have at least one\n",
    "#True and one False result for each of the \n",
    "#following:"
   ]
  },
  {
   "cell_type": "code",
   "execution_count": 79,
   "metadata": {},
   "outputs": [],
   "source": [
    "#.Tests for equality and inequality with strings."
   ]
  },
  {
   "cell_type": "markdown",
   "metadata": {},
   "source": [
    "Testing for Equality"
   ]
  },
  {
   "cell_type": "code",
   "execution_count": 80,
   "metadata": {},
   "outputs": [
    {
     "data": {
      "text/plain": [
       "True"
      ]
     },
     "execution_count": 80,
     "metadata": {},
     "output_type": "execute_result"
    }
   ],
   "source": [
    "#Test1\n",
    "food = 'chips'\n",
    "food == 'chips'"
   ]
  },
  {
   "cell_type": "code",
   "execution_count": 81,
   "metadata": {},
   "outputs": [
    {
     "data": {
      "text/plain": [
       "True"
      ]
     },
     "execution_count": 81,
     "metadata": {},
     "output_type": "execute_result"
    }
   ],
   "source": [
    "#Test2\n",
    "food = 'ugali'\n",
    "food == 'ugali'"
   ]
  },
  {
   "cell_type": "code",
   "execution_count": 82,
   "metadata": {},
   "outputs": [
    {
     "data": {
      "text/plain": [
       "True"
      ]
     },
     "execution_count": 82,
     "metadata": {},
     "output_type": "execute_result"
    }
   ],
   "source": [
    "#Test3\n",
    "food = 'potatoes'\n",
    "food == 'potatoes'"
   ]
  },
  {
   "cell_type": "code",
   "execution_count": 83,
   "metadata": {},
   "outputs": [
    {
     "data": {
      "text/plain": [
       "True"
      ]
     },
     "execution_count": 83,
     "metadata": {},
     "output_type": "execute_result"
    }
   ],
   "source": [
    "#Test4\n",
    "food = 'spinach'\n",
    "food == 'spinach'"
   ]
  },
  {
   "cell_type": "code",
   "execution_count": 84,
   "metadata": {},
   "outputs": [
    {
     "data": {
      "text/plain": [
       "True"
      ]
     },
     "execution_count": 84,
     "metadata": {},
     "output_type": "execute_result"
    }
   ],
   "source": [
    "#Test5\n",
    "food = 'cabbage'\n",
    "food == 'cabbage'"
   ]
  },
  {
   "cell_type": "markdown",
   "metadata": {},
   "source": [
    "Testing for Inequality"
   ]
  },
  {
   "cell_type": "code",
   "execution_count": 85,
   "metadata": {},
   "outputs": [
    {
     "name": "stdout",
     "output_type": "stream",
     "text": [
      "Please replace the ugali with rice!\n"
     ]
    }
   ],
   "source": [
    "#Test1\n",
    "food = 'ugali'\n",
    "if food != 'rice':\n",
    "    print(\"Please replace the ugali with rice!\")"
   ]
  },
  {
   "cell_type": "code",
   "execution_count": 89,
   "metadata": {},
   "outputs": [
    {
     "name": "stdout",
     "output_type": "stream",
     "text": [
      "Please replace the potatoes with smashed potatoes!\n"
     ]
    }
   ],
   "source": [
    "#Test2\n",
    "food = 'potatoes'\n",
    "if food != 'smashed potatoes':\n",
    "     print(\"Please replace the potatoes with smashed potatoes!\")"
   ]
  },
  {
   "cell_type": "code",
   "execution_count": 11,
   "metadata": {},
   "outputs": [
    {
     "name": "stdout",
     "output_type": "stream",
     "text": [
      "Please replace the spinach with kales!\n"
     ]
    }
   ],
   "source": [
    "#Test3\n",
    "food = 'spinach'\n",
    "if food != 'kales':\n",
    "    print(\"Please replace the spinach with kales!\")\n",
    "  \n"
   ]
  },
  {
   "cell_type": "code",
   "execution_count": 12,
   "metadata": {},
   "outputs": [
    {
     "name": "stdout",
     "output_type": "stream",
     "text": [
      "Please replace the cabbage with tomatoes!\n"
     ]
    }
   ],
   "source": [
    "#Test4\n",
    "food = 'cabbage'\n",
    "if food != 'tomatoes':\n",
    "    print(\"Please replace the cabbage with tomatoes!\")"
   ]
  },
  {
   "cell_type": "code",
   "execution_count": 13,
   "metadata": {},
   "outputs": [
    {
     "name": "stdout",
     "output_type": "stream",
     "text": [
      "Please replace the chips with bhajia!\n"
     ]
    }
   ],
   "source": [
    "#Test5\n",
    "food = 'chips'\n",
    "if food != 'bhajia':\n",
    "        print(\"Please replace the chips with bhajia!\")"
   ]
  },
  {
   "cell_type": "code",
   "execution_count": 3,
   "metadata": {},
   "outputs": [
    {
     "data": {
      "text/plain": [
       "True"
      ]
     },
     "execution_count": 3,
     "metadata": {},
     "output_type": "execute_result"
    }
   ],
   "source": [
    "#.Tests using the lower() method\n",
    "fridge = 'Samsung'\n",
    "fridge.lower() == 'samsung'\n"
   ]
  },
  {
   "cell_type": "code",
   "execution_count": 5,
   "metadata": {},
   "outputs": [
    {
     "name": "stdout",
     "output_type": "stream",
     "text": [
      "Samsung\n"
     ]
    }
   ],
   "source": [
    "print(fridge)\n",
    "#The original value is not affected"
   ]
  },
  {
   "cell_type": "code",
   "execution_count": 50,
   "metadata": {},
   "outputs": [],
   "source": [
    "#.Numerical tests involving equality and inequality, \n",
    "#greater than and less than, greater than or equal to, \n",
    "#and less than or equal to."
   ]
  },
  {
   "cell_type": "code",
   "execution_count": 6,
   "metadata": {},
   "outputs": [
    {
     "data": {
      "text/plain": [
       "True"
      ]
     },
     "execution_count": 6,
     "metadata": {},
     "output_type": "execute_result"
    }
   ],
   "source": [
    "#1.Equality\n",
    "#Example1\n",
    "cars = 18\n",
    "cars == 18"
   ]
  },
  {
   "cell_type": "code",
   "execution_count": 7,
   "metadata": {},
   "outputs": [
    {
     "data": {
      "text/plain": [
       "False"
      ]
     },
     "execution_count": 7,
     "metadata": {},
     "output_type": "execute_result"
    }
   ],
   "source": [
    "#Example2\n",
    "cars = 18\n",
    "cars == 19"
   ]
  },
  {
   "cell_type": "code",
   "execution_count": 8,
   "metadata": {},
   "outputs": [
    {
     "name": "stdout",
     "output_type": "stream",
     "text": [
      "The cars are supposed to be 30 and not 29\n"
     ]
    }
   ],
   "source": [
    "#2.Inequality\n",
    "cars = 29\n",
    "if cars != 30:\n",
    "    print(\"The cars are supposed to be 30 and not 29\")"
   ]
  },
  {
   "cell_type": "code",
   "execution_count": 9,
   "metadata": {},
   "outputs": [
    {
     "data": {
      "text/plain": [
       "True"
      ]
     },
     "execution_count": 9,
     "metadata": {},
     "output_type": "execute_result"
    }
   ],
   "source": [
    "#3.Greater Than\n",
    "#Example1\n",
    "cars = 83\n",
    "cars > 50"
   ]
  },
  {
   "cell_type": "code",
   "execution_count": 10,
   "metadata": {},
   "outputs": [
    {
     "data": {
      "text/plain": [
       "False"
      ]
     },
     "execution_count": 10,
     "metadata": {},
     "output_type": "execute_result"
    }
   ],
   "source": [
    "#Example2\n",
    "cars = 32\n",
    "cars > 53"
   ]
  },
  {
   "cell_type": "code",
   "execution_count": 11,
   "metadata": {},
   "outputs": [
    {
     "data": {
      "text/plain": [
       "True"
      ]
     },
     "execution_count": 11,
     "metadata": {},
     "output_type": "execute_result"
    }
   ],
   "source": [
    "#4.Less Than\n",
    "#Example1\n",
    "cars = 78\n",
    "cars < 89"
   ]
  },
  {
   "cell_type": "code",
   "execution_count": 12,
   "metadata": {},
   "outputs": [
    {
     "data": {
      "text/plain": [
       "False"
      ]
     },
     "execution_count": 12,
     "metadata": {},
     "output_type": "execute_result"
    }
   ],
   "source": [
    "#Example2\n",
    "cars = 43\n",
    "cars < 23"
   ]
  },
  {
   "cell_type": "code",
   "execution_count": 13,
   "metadata": {},
   "outputs": [
    {
     "data": {
      "text/plain": [
       "True"
      ]
     },
     "execution_count": 13,
     "metadata": {},
     "output_type": "execute_result"
    }
   ],
   "source": [
    "#5.Greater than or Equal to\n",
    "#Example1\n",
    "cars = 63\n",
    "cars >= 50"
   ]
  },
  {
   "cell_type": "code",
   "execution_count": 14,
   "metadata": {},
   "outputs": [
    {
     "data": {
      "text/plain": [
       "False"
      ]
     },
     "execution_count": 14,
     "metadata": {},
     "output_type": "execute_result"
    }
   ],
   "source": [
    "#Example2\n",
    "cars = 67\n",
    "cars >= 82"
   ]
  },
  {
   "cell_type": "code",
   "execution_count": 15,
   "metadata": {},
   "outputs": [
    {
     "data": {
      "text/plain": [
       "True"
      ]
     },
     "execution_count": 15,
     "metadata": {},
     "output_type": "execute_result"
    }
   ],
   "source": [
    "#6.Less than or Equal to\n",
    "#Example1\n",
    "cars = 81\n",
    "cars <= 82"
   ]
  },
  {
   "cell_type": "code",
   "execution_count": 16,
   "metadata": {},
   "outputs": [
    {
     "data": {
      "text/plain": [
       "False"
      ]
     },
     "execution_count": 16,
     "metadata": {},
     "output_type": "execute_result"
    }
   ],
   "source": [
    "#Example2\n",
    "cars = 84\n",
    "cars <= 30"
   ]
  },
  {
   "cell_type": "code",
   "execution_count": 18,
   "metadata": {},
   "outputs": [],
   "source": [
    "#.Tests using the and keyword and the or keyword.\n",
    "#Use the values below for the 'and' and 'or' \n",
    "#examples\n",
    "car_1 = 20\n",
    "car_2 = 64"
   ]
  },
  {
   "cell_type": "code",
   "execution_count": 22,
   "metadata": {},
   "outputs": [
    {
     "data": {
      "text/plain": [
       "True"
      ]
     },
     "execution_count": 22,
     "metadata": {},
     "output_type": "execute_result"
    }
   ],
   "source": [
    "#using and\n",
    "#Example1\n",
    "car_1 > 18 and car_2 > 61"
   ]
  },
  {
   "cell_type": "code",
   "execution_count": 24,
   "metadata": {},
   "outputs": [
    {
     "data": {
      "text/plain": [
       "False"
      ]
     },
     "execution_count": 24,
     "metadata": {},
     "output_type": "execute_result"
    }
   ],
   "source": [
    "#Example2\n",
    "car_1 < 39 and car_2 <= 50"
   ]
  },
  {
   "cell_type": "code",
   "execution_count": 25,
   "metadata": {},
   "outputs": [
    {
     "data": {
      "text/plain": [
       "True"
      ]
     },
     "execution_count": 25,
     "metadata": {},
     "output_type": "execute_result"
    }
   ],
   "source": [
    "#using or\n",
    "#Example1\n",
    "car_1 > 18 or car_2 <= 19\n",
    "#One of the condition need to be true for the \n",
    "#result to be true"
   ]
  },
  {
   "cell_type": "code",
   "execution_count": 26,
   "metadata": {},
   "outputs": [
    {
     "data": {
      "text/plain": [
       "False"
      ]
     },
     "execution_count": 26,
     "metadata": {},
     "output_type": "execute_result"
    }
   ],
   "source": [
    "#Example2\n",
    "car_1 > 28 or car_2 >= 98\n",
    "#For 'or' to be false both conditions need to be \n",
    "#false"
   ]
  },
  {
   "cell_type": "code",
   "execution_count": 27,
   "metadata": {},
   "outputs": [
    {
     "data": {
      "text/plain": [
       "False"
      ]
     },
     "execution_count": 27,
     "metadata": {},
     "output_type": "execute_result"
    }
   ],
   "source": [
    "#.Test whether an item is in a list.\n",
    "requested_food = ['ugali', 'njahe', 'spinach', 'kales']\n",
    "'cabbage' in requested_food"
   ]
  },
  {
   "cell_type": "code",
   "execution_count": 28,
   "metadata": {},
   "outputs": [
    {
     "data": {
      "text/plain": [
       "True"
      ]
     },
     "execution_count": 28,
     "metadata": {},
     "output_type": "execute_result"
    }
   ],
   "source": [
    "'njahe' in requested_food"
   ]
  },
  {
   "cell_type": "code",
   "execution_count": 32,
   "metadata": {},
   "outputs": [
    {
     "name": "stdout",
     "output_type": "stream",
     "text": [
      "Coupper is not available today.\n"
     ]
    }
   ],
   "source": [
    "#.Test whether an item is not in a list.\n",
    "requested_cars = ['bmw', 'tesla', 'nissan', 'boughatti']\n",
    "other = 'coupper'\n",
    "\n",
    "if other not in requested_cars:\n",
    "    print(f\"{other.title()}, is not available today.\")"
   ]
  },
  {
   "cell_type": "markdown",
   "metadata": {},
   "source": [
    "if Statements"
   ]
  },
  {
   "cell_type": "code",
   "execution_count": 1,
   "metadata": {},
   "outputs": [],
   "source": [
    "#Several different kinds of if statements exist and your choice depends on\n",
    "#the number of conditions to be tested."
   ]
  },
  {
   "cell_type": "markdown",
   "metadata": {},
   "source": [
    "# Exercises"
   ]
  },
  {
   "cell_type": "code",
   "execution_count": 13,
   "metadata": {},
   "outputs": [],
   "source": [
    "#5-3.Aline Colors #1. Imagine an alien was just shot down in a game. Create\n",
    "#a variable called alien_color and assign it a value of 'green', 'yellow'\n",
    "#or 'red'\n",
    "alien_color = ['green', 'yellow', 'red']"
   ]
  },
  {
   "cell_type": "code",
   "execution_count": 14,
   "metadata": {},
   "outputs": [
    {
     "name": "stdout",
     "output_type": "stream",
     "text": [
      "You have earned 5 points!\n"
     ]
    }
   ],
   "source": [
    "#•Write an if statement to test whether the alien’s color is green. \n",
    "#If it is, print a message that the player just earned 5 points.\n",
    "if 'green' in alien_color:\n",
    "    print(\"You have earned 5 points!\")"
   ]
  },
  {
   "cell_type": "code",
   "execution_count": 15,
   "metadata": {},
   "outputs": [],
   "source": [
    "#•Write one version of this program that passes the if test and \n",
    "#another that fails. (The version that fails will have no output.)"
   ]
  },
  {
   "cell_type": "code",
   "execution_count": 16,
   "metadata": {},
   "outputs": [
    {
     "name": "stdout",
     "output_type": "stream",
     "text": [
      "You have earned 5 points!\n"
     ]
    }
   ],
   "source": [
    "#Version that passes\n",
    "if 'green' in alien_color:\n",
    "    print(\"You have earned 5 points!\")"
   ]
  },
  {
   "cell_type": "code",
   "execution_count": 17,
   "metadata": {},
   "outputs": [],
   "source": [
    "#Version that fails\n",
    "if 'brown' in alien_color:\n",
    "    print(\"You have earned 5 points!\")"
   ]
  },
  {
   "cell_type": "code",
   "execution_count": 18,
   "metadata": {},
   "outputs": [],
   "source": [
    "#5-4. Alien Colors #2: Choose a color for an alien as you did in \n",
    "#Exercise 5-3, and write an if-else chain."
   ]
  },
  {
   "cell_type": "code",
   "execution_count": 21,
   "metadata": {},
   "outputs": [
    {
     "name": "stdout",
     "output_type": "stream",
     "text": [
      "You have earned 5 points!\n"
     ]
    }
   ],
   "source": [
    "#•If the alien’s color is green, print a statement that the player \n",
    "#just earned 5 points for shooting the alien.\n",
    "#•If the alien’s color isn’t green, print a statement that the \n",
    "#player just earned 10 points.\n",
    "#•Write one version of this program that runs the if block and \n",
    "#another that runs the else block.\n",
    "if 'green' in alien_color:\n",
    "    print(\"You have earned 5 points!\")\n",
    "else:\n",
    "    print(\"You have earned 10 points!\")"
   ]
  },
  {
   "cell_type": "code",
   "execution_count": 22,
   "metadata": {},
   "outputs": [],
   "source": [
    "#5-5.Alien Colors #3: Turn your if-else chain from Exercise 5-4 \n",
    "#into an if-elif-else chain.\n",
    "#•Write three versions of this program, making sure each message is \n",
    "#printed for the appropriate color alien."
   ]
  },
  {
   "cell_type": "code",
   "execution_count": 24,
   "metadata": {},
   "outputs": [
    {
     "name": "stdout",
     "output_type": "stream",
     "text": [
      "You have earned 5 points!\n"
     ]
    }
   ],
   "source": [
    "#•If the alien is green, print a message that the player earned 5 points.\n",
    "if 'green' in alien_color:\n",
    "    print(\"You have earned 5 points!\")\n",
    "elif 'red' in alien_color:\n",
    "    print(\"You have earned 15 points!\")\n",
    "elif 'yellow' in alien_color:\n",
    "    print(\"You have earned 10 points!\")\n",
    "else:\n",
    "    print(\"You have earned no points!\")"
   ]
  },
  {
   "cell_type": "code",
   "execution_count": 25,
   "metadata": {},
   "outputs": [
    {
     "name": "stdout",
     "output_type": "stream",
     "text": [
      "You have earned 10 points!\n"
     ]
    }
   ],
   "source": [
    "#•If the alien is yellow, print a message that the player earned 10 points\n",
    "if 'yellow' in alien_color:\n",
    "    print(\"You have earned 10 points!\")\n",
    "elif 'red' in alien_color:\n",
    "    print(\"You have earned 15 points!\")\n",
    "elif 'green' in alien_color:\n",
    "    print(\"You have earned 5 points!\")\n",
    "else:\n",
    "    print(\"You have earned no points!\")"
   ]
  },
  {
   "cell_type": "code",
   "execution_count": 26,
   "metadata": {},
   "outputs": [
    {
     "name": "stdout",
     "output_type": "stream",
     "text": [
      "You have earned 15 points!\n"
     ]
    }
   ],
   "source": [
    "#•If the alien is red, print a message that the player earned 15 points.\n",
    "if 'red' in alien_color:\n",
    "    print(\"You have earned 15 points!\")\n",
    "elif 'green' in alien_color:\n",
    "    print(\"You have earned 5 points!\")\n",
    "elif 'yellow' in alien_color:\n",
    "    print(\"You have earned 10 points!\")\n",
    "else:\n",
    "    print(\"You have earned no points!\")"
   ]
  },
  {
   "cell_type": "code",
   "execution_count": 29,
   "metadata": {},
   "outputs": [
    {
     "name": "stdout",
     "output_type": "stream",
     "text": [
      "You are an elder!\n"
     ]
    }
   ],
   "source": [
    "#5-6. Stages of Life: Write an if-elif-else chain that determines a \n",
    "#person’s stage of life. Set a value for the variable age, and then:\n",
    "#•If the person is less than 2 years old, print a message that the \n",
    "#person is a baby.\n",
    "#•If the person is at least 2 years old but less than 4, print a \n",
    "#message that the person is a toddler.\n",
    "#•If the person is at least 4 years old but less than 13, print a \n",
    "#message that the person is a kid.\n",
    "#•If the person is at least 13 years old but less than 20, print a \n",
    "#message that the person is a teenager.\n",
    "#•If the person is at least 20 years old but less than 65, print a \n",
    "#message that the person is an adult.\n",
    "#•If the person is age 65 or older, print a message that the person \n",
    "#is an elder.\n",
    "age = 78\n",
    "if age < 2:\n",
    "    print(\"You are a baby!\")\n",
    "elif age >= 2 and age < 4:\n",
    "    print(\"You are a toddler!\")\n",
    "elif age >= 4 and age < 13:\n",
    "    print(\"You are a kid!\")\n",
    "elif age >= 13 and age < 20:\n",
    "    print(\"You are a teenager!\")\n",
    "elif age >= 20 and age < 65:\n",
    "    print(\"You are an adult!\")\n",
    "elif age >= 65:\n",
    "    print(\"You are an elder!\")"
   ]
  },
  {
   "cell_type": "code",
   "execution_count": 36,
   "metadata": {},
   "outputs": [
    {
     "name": "stdout",
     "output_type": "stream",
     "text": [
      "Banana is available!\n"
     ]
    }
   ],
   "source": [
    "#5-7. Favorite Fruit: Make a list of your favorite fruits, and \n",
    "#then write a series of independent if statements that check for\n",
    "#certain fruits in your list.\n",
    "fruits = ['banana', 'oranges', 'pashon', 'mangoe', 'melon']\n",
    "if 'banana' in fruits:\n",
    "    print(\"Banana is available!\")"
   ]
  },
  {
   "cell_type": "code",
   "execution_count": 37,
   "metadata": {},
   "outputs": [
    {
     "name": "stdout",
     "output_type": "stream",
     "text": [
      "Oranges are available!\n"
     ]
    }
   ],
   "source": [
    "if 'oranges' in fruits:\n",
    "    print(\"Oranges are available!\")"
   ]
  },
  {
   "cell_type": "code",
   "execution_count": 38,
   "metadata": {},
   "outputs": [
    {
     "name": "stdout",
     "output_type": "stream",
     "text": [
      "Mangoe is available!\n"
     ]
    }
   ],
   "source": [
    "if 'mangoe' in fruits:\n",
    "    print(\"Mangoe is available!\")"
   ]
  },
  {
   "cell_type": "code",
   "execution_count": 49,
   "metadata": {},
   "outputs": [],
   "source": [
    "#•Make a list of your three favorite fruits and call it favorite_fruits.\n",
    "favorite_fruits = ['bananas', 'oranges', 'mangoe']"
   ]
  },
  {
   "cell_type": "code",
   "execution_count": 50,
   "metadata": {},
   "outputs": [
    {
     "name": "stdout",
     "output_type": "stream",
     "text": [
      "You really like bananas!\n"
     ]
    }
   ],
   "source": [
    "#•Write five if statements. Each should check whether a certain kind of \n",
    "#fruit is in your list. If the fruit is in your list, the if block \n",
    "#should print a statement, such as You really like bananas\n",
    "if 'bananas' in favorite_fruits:\n",
    "    print(\"You really like bananas!\")"
   ]
  },
  {
   "cell_type": "code",
   "execution_count": 51,
   "metadata": {},
   "outputs": [
    {
     "name": "stdout",
     "output_type": "stream",
     "text": [
      "You really like mangoe!\n"
     ]
    }
   ],
   "source": [
    "if 'mangoe' in favorite_fruits:\n",
    "    print(\"You really like mangoe!\")"
   ]
  },
  {
   "cell_type": "code",
   "execution_count": 52,
   "metadata": {},
   "outputs": [],
   "source": [
    "if 'pashon' in favorite_fruits:\n",
    "    print(\"You really like pashon!\")"
   ]
  },
  {
   "cell_type": "code",
   "execution_count": 53,
   "metadata": {},
   "outputs": [],
   "source": [
    "if 'apple' in favorite_fruits:\n",
    "    print(\"You really like apple!\")"
   ]
  },
  {
   "cell_type": "code",
   "execution_count": 54,
   "metadata": {},
   "outputs": [
    {
     "name": "stdout",
     "output_type": "stream",
     "text": [
      "You really like oranges!\n"
     ]
    }
   ],
   "source": [
    "if 'oranges' in favorite_fruits:\n",
    "    print(\"You really like oranges!\")"
   ]
  },
  {
   "cell_type": "markdown",
   "metadata": {},
   "source": [
    "Using if Statements with Lists"
   ]
  },
  {
   "cell_type": "code",
   "execution_count": 55,
   "metadata": {},
   "outputs": [],
   "source": [
    "#You can do some interesting work when you combine if statements and\n",
    "#lists. You can watch for special values that need to be treated\n",
    "#differently than other values in the list."
   ]
  },
  {
   "cell_type": "markdown",
   "metadata": {},
   "source": [
    "Checking for Special Items in a list"
   ]
  },
  {
   "cell_type": "code",
   "execution_count": 57,
   "metadata": {},
   "outputs": [
    {
     "name": "stdout",
     "output_type": "stream",
     "text": [
      "Adding mushrooms.\n",
      "Adding green peppers.\n",
      "Adding extra cheese.\n",
      "\n",
      "Finished making your pizza!\n"
     ]
    }
   ],
   "source": [
    "requested_toppings = ['mushrooms', 'green peppers', 'extra cheese']\n",
    "\n",
    "for requested_topping in requested_toppings:\n",
    "    print(f\"Adding {requested_topping}.\")\n",
    "\n",
    "print(\"\\nFinished making your pizza!\")"
   ]
  },
  {
   "cell_type": "code",
   "execution_count": 58,
   "metadata": {},
   "outputs": [
    {
     "name": "stdout",
     "output_type": "stream",
     "text": [
      "Adding mushrooms.\n",
      "Sorry, we are out of green peppers right now.\n",
      "Adding extra cheese.\n",
      "\n",
      "Finished making your pizza!\n"
     ]
    }
   ],
   "source": [
    "#What if pizzeria above runs out of 'green peppers'\n",
    "#an if-statement inside a for loop can handle this situation appropriately.\n",
    "requested_toppings = ['mushrooms', 'green peppers', 'extra cheese']\n",
    "\n",
    "for requested_topping in requested_toppings:\n",
    "    if requested_topping == 'green peppers':#1\n",
    "        print(\"Sorry, we are out of green peppers right now.\")\n",
    "    \n",
    "    else:#2\n",
    "        print(f\"Adding {requested_topping}.\")\n",
    "\n",
    "print(\"\\nFinished making your pizza!\")\n",
    "#This time we check the availability of each item before adding it to \n",
    "#the pizza.\n",
    "#The #1 checks to see if the person requested green peppers, if so, we \n",
    "#print a message explaining why they can't have green peppers.\n",
    "#else block at #2, ensures that all other toppings will be added to the\n",
    "#pizza."
   ]
  },
  {
   "cell_type": "markdown",
   "metadata": {},
   "source": [
    "Checking That a List is not Empty"
   ]
  },
  {
   "cell_type": "code",
   "execution_count": 59,
   "metadata": {},
   "outputs": [
    {
     "name": "stdout",
     "output_type": "stream",
     "text": [
      "Are you sure you want a plain pizza?\n"
     ]
    }
   ],
   "source": [
    "#In some situations users will have to provide information for lists. In\n",
    "#such a situation we'll have to confirm that the list is not empty, before\n",
    "#running a loop.\n",
    "#Example, let's check whether the list of requested toppings is empty\n",
    "#before building the pizza.\n",
    "requested_toppings = []\n",
    "\n",
    "if requested_toppings:\n",
    "    for requested_topping in requested_toppings:\n",
    "        print(f\"Adding {requested_topping}.\")\n",
    "    print(\"\\nFished making your pizza!\")\n",
    "else:\n",
    "    print(\"Are you sure you want a plain pizza?\")\n",
    "#Like above, when the name of a list is used in an if statement python\n",
    "#returns true if the list contains at least one item. An empty list \n",
    "#evaluates to False.\n",
    "#If requested_toppings passes the conditional test, we run the for loop,\n",
    "#otherwise the else condition is run."
   ]
  },
  {
   "cell_type": "markdown",
   "metadata": {},
   "source": [
    "Using Multiple Lists"
   ]
  },
  {
   "cell_type": "code",
   "execution_count": 1,
   "metadata": {},
   "outputs": [
    {
     "name": "stdout",
     "output_type": "stream",
     "text": [
      "Adding mushrooms.\n",
      "Sorry, we don't have french fries.\n",
      "Adding extra cheese.\n",
      "\n",
      "Finished making your pizza!\n"
     ]
    }
   ],
   "source": [
    "#Customers may ask for pizza toppings that are not available in a given \n",
    "#menu.For example adding french fries to the pizza toppings.\n",
    "#Below, this time items in requested_toppings is checked against the list\n",
    "#of available toppings before it's added to the pizza.\n",
    "available_toppings = ['mushrooms', 'olives', 'green peppers'\n",
    "                     'pepperoni', 'pineapple', 'extra cheese']\n",
    "requested_toppings = ['mushrooms', 'french fries', 'extra cheese']\n",
    "\n",
    "for requested_topping in requested_toppings:#3\n",
    "    if requested_topping in available_toppings:\n",
    "        print(f\"Adding {requested_topping}.\")\n",
    "    else:\n",
    "        print(f\"Sorry, we don't have {requested_topping}.\")\n",
    "        \n",
    "print(\"\\nFinished making your pizza!\")\n",
    "#@ #3 we loop through the list requested_toppings n first check if the\n",
    "#items in requested toppings are in available_toppings.\n",
    "#If it is we add the topping to the pizza, otherwise the else block will\n",
    "#run."
   ]
  },
  {
   "cell_type": "markdown",
   "metadata": {},
   "source": [
    "# Exercise"
   ]
  },
  {
   "cell_type": "code",
   "execution_count": 10,
   "metadata": {},
   "outputs": [
    {
     "name": "stdout",
     "output_type": "stream",
     "text": [
      "Hello, admin\n",
      "Hello, Nick\n",
      "Hello, Davie\n",
      "Hello, Tasha\n",
      "Hello, Talia\n",
      "Hello, Bill\n"
     ]
    }
   ],
   "source": [
    "#5-8.Hello Admin: Make a list of five or more usernames, including the name\n",
    "#'admin'. Imagine you are writing code that will print a greeting to each\n",
    "#user after they log in to a website. Loop through the list, and print a\n",
    "#greeting to each user:\n",
    "usernames = ['admin', 'Nick', 'Davie', 'Tasha', 'Talia', 'Bill']\n",
    "for username in usernames:\n",
    "    #if username in usernames:\n",
    "        print(f\"Hello, {username}\")"
   ]
  },
  {
   "cell_type": "code",
   "execution_count": 13,
   "metadata": {},
   "outputs": [
    {
     "name": "stdout",
     "output_type": "stream",
     "text": [
      "Hello, admin, would you like to see a status report?\n",
      "Hello,Nick, thank you for loggin in again.\n",
      "Hello,Davie, thank you for loggin in again.\n",
      "Hello,Tasha, thank you for loggin in again.\n",
      "Hello,Talia, thank you for loggin in again.\n",
      "Hello,Bill, thank you for loggin in again.\n"
     ]
    }
   ],
   "source": [
    "#•If the username is 'admin', print a special greeting, such as Hello \n",
    "#admin, would you like to see a status report?\n",
    "#•Otherwise, print a generic greeting, such as Hello Jaden, thank you for \n",
    "#logging in again.\n",
    "usernames = ['admin', 'Nick', 'Davie', 'Tasha', 'Talia', 'Bill']\n",
    "for username in usernames:\n",
    "    if username == 'admin':\n",
    "        print(f\"Hello, {username}, would you like to see a status report?\")\n",
    "    else:\n",
    "        print(f\"Hello,{username}, thank you for loggin in again.\")"
   ]
  },
  {
   "cell_type": "code",
   "execution_count": 15,
   "metadata": {},
   "outputs": [
    {
     "name": "stdout",
     "output_type": "stream",
     "text": [
      "Hello,admin\n",
      "Hello,Nick\n",
      "Hello,Davie\n",
      "Hello,Tasha\n",
      "Hello,Talia\n",
      "Hello,Bill\n",
      "The list is not empty!\n"
     ]
    }
   ],
   "source": [
    "#5-9.No Users:Add an if test to hello_admin.py to make sure the list of \n",
    "#users is not empty.\n",
    "#•If the list is empty, print the message We need to find some users\n",
    "if usernames:\n",
    "    for username in usernames:\n",
    "        print(f\"Hello,{username}\")\n",
    "    print(\"The list is not empty!\")\n",
    "else:\n",
    "    print(\"We need to find some users.\")\n",
    "    \n",
    "    \n",
    "        "
   ]
  },
  {
   "cell_type": "code",
   "execution_count": 16,
   "metadata": {},
   "outputs": [
    {
     "name": "stdout",
     "output_type": "stream",
     "text": [
      "We need to find some users.\n"
     ]
    }
   ],
   "source": [
    "#•Remove all of the usernames from your list, and make sure the correct \n",
    "#message is printed.\n",
    "usernames = []\n",
    "if usernames:\n",
    "    for username in usernames:\n",
    "        print(f\"Hello{username}\")\n",
    "    print(\"The list is not empty!\")\n",
    "else:\n",
    "    print(\"We need to find some users.\")"
   ]
  },
  {
   "cell_type": "code",
   "execution_count": 25,
   "metadata": {},
   "outputs": [],
   "source": [
    "#5-10.Checking Usernames: Do the following to create a program that\n",
    "#simulates how websites ensure that everyone has a unique username."
   ]
  },
  {
   "cell_type": "code",
   "execution_count": 26,
   "metadata": {},
   "outputs": [],
   "source": [
    "#•Make a list of five or more usernames called current_users.\n",
    "current_users = ['Nick', 'Peter', 'Andrew', 'Samuel', 'Diana', 'Stacey']"
   ]
  },
  {
   "cell_type": "code",
   "execution_count": 27,
   "metadata": {
    "scrolled": true
   },
   "outputs": [],
   "source": [
    "#•Make another list of five usernames called new_users. Make sure one \n",
    "#or two of the new usernames are also in the current_users list.\n",
    "new_users = ['Mark', 'Mason', 'Andrew','Delaila','Diana']"
   ]
  },
  {
   "cell_type": "code",
   "execution_count": 28,
   "metadata": {},
   "outputs": [
    {
     "name": "stdout",
     "output_type": "stream",
     "text": [
      "Username is available!\n",
      "Username is available!\n",
      "You will need to enter a new username!\n",
      "Username is available!\n",
      "You will need to enter a new username!\n"
     ]
    }
   ],
   "source": [
    "#•Loop through the new_users list to see if each new username has already \n",
    "#been used. If it has, print a message that the person will need to enter \n",
    "#a new username. If a username has not been used, print a message saying \n",
    "#that the username is available.\n",
    "for new_user in new_users:\n",
    "    if new_user in current_users:\n",
    "        print(\"You will need to enter a new username!\")\n",
    "    else:\n",
    "        print(\"Username is available!\")\n",
    "        "
   ]
  },
  {
   "cell_type": "code",
   "execution_count": 32,
   "metadata": {},
   "outputs": [
    {
     "name": "stdout",
     "output_type": "stream",
     "text": [
      "Username is available!\n",
      "Username is available!\n",
      "You will need to enter a new username!\n",
      "Username is available!\n",
      "You will need to enter a new username!\n"
     ]
    }
   ],
   "source": [
    "#•Make sure your comparison is case insensitive. If 'John' has been used, \n",
    "#'JOHN' should not be accepted. (To do this, you’ll need to make a copy of \n",
    "#current_users containing the lowercase versions of all existing users.)\n",
    "current_users = ['nick', 'peter', 'andrew', 'samuel', 'diana', 'stacey']\n",
    "for new_user in new_users:\n",
    "    if new_user.casefold() in current_users:\n",
    "        print(\"You will need to enter a new username!\")\n",
    "    else:\n",
    "        print(\"Username is available!\")\n",
    "#The casefold() returns a string where all characters are in lower case.\n",
    "#casefold() is similar to the lower() method. However the casefold() \n",
    "#method converts more characters into lower case."
   ]
  },
  {
   "cell_type": "code",
   "execution_count": 33,
   "metadata": {},
   "outputs": [],
   "source": [
    "#5-11.Ordinal Numbers: Ordinal numbers indicates their position in a list,\n",
    "#such as 1st or 2nd. Most ordinal numbers end in th, except 1, 2, and 3."
   ]
  },
  {
   "cell_type": "code",
   "execution_count": 43,
   "metadata": {},
   "outputs": [],
   "source": [
    "#•Store the numbers 1 through 9 in a list.\n",
    "ordinal_numbers = [1, 2, 3, 4, 5, 6, 7, 8, 9,64]"
   ]
  },
  {
   "cell_type": "code",
   "execution_count": 44,
   "metadata": {},
   "outputs": [
    {
     "name": "stdout",
     "output_type": "stream",
     "text": [
      "1\n",
      "2\n",
      "3\n",
      "4\n",
      "5\n",
      "6\n",
      "7\n",
      "8\n",
      "9\n",
      "64\n"
     ]
    }
   ],
   "source": [
    "#•Loop through the list.\n",
    "for ordinal_number in ordinal_numbers:\n",
    "    print(ordinal_number)"
   ]
  },
  {
   "cell_type": "code",
   "execution_count": 45,
   "metadata": {},
   "outputs": [
    {
     "name": "stdout",
     "output_type": "stream",
     "text": [
      "1st\n",
      "2nd\n",
      "3rd\n",
      "4th\n",
      "5th\n",
      "6th\n",
      "7th\n",
      "8th\n",
      "9th\n",
      "Woiwoiwo! Woiwoiwoiwoiwo!\n"
     ]
    }
   ],
   "source": [
    "#•Use an if-elif-else chain inside the loop to print the proper ordinal \n",
    "#ending for each number. Your output should read \"1st 2nd 3rd 4th 5th 6th \n",
    "#7th 8th 9th\", and each result should be on a separate line\n",
    "for ordinal_number in ordinal_numbers:\n",
    "    if ordinal_number == 1:\n",
    "        print(f\"{ordinal_number}st\")\n",
    "    elif ordinal_number == 2:\n",
    "        print(f\"{ordinal_number}nd\")\n",
    "    elif ordinal_number == 3:\n",
    "        print(f\"{ordinal_number}rd\")\n",
    "    elif ordinal_number == 4:\n",
    "        print(f\"{ordinal_number}th\")\n",
    "    elif ordinal_number == 5:\n",
    "        print(f\"{ordinal_number}th\")\n",
    "    elif ordinal_number == 6:\n",
    "        print(f\"{ordinal_number}th\")\n",
    "    elif ordinal_number == 7:\n",
    "        print(f\"{ordinal_number}th\")\n",
    "    elif ordinal_number == 8:\n",
    "        print(f\"{ordinal_number}th\")\n",
    "    elif ordinal_number == 9:\n",
    "        print(f\"{ordinal_number}th\")\n",
    "    else:\n",
    "        print(\"Woiwoiwo! Woiwoiwoiwoiwo!\")\n"
   ]
  },
  {
   "cell_type": "markdown",
   "metadata": {},
   "source": [
    "Styling Your if statement"
   ]
  },
  {
   "cell_type": "code",
   "execution_count": null,
   "metadata": {},
   "outputs": [],
   "source": [
    "#The only recommendation PEP 8 provides is to use a single space around\n",
    "#comparison operators, such as ==, >=, <=. For example:\n",
    "if age < 4:"
   ]
  }
 ],
 "metadata": {
  "kernelspec": {
   "display_name": "Python 3",
   "language": "python",
   "name": "python3"
  },
  "language_info": {
   "codemirror_mode": {
    "name": "ipython",
    "version": 3
   },
   "file_extension": ".py",
   "mimetype": "text/x-python",
   "name": "python",
   "nbconvert_exporter": "python",
   "pygments_lexer": "ipython3",
   "version": "3.7.3"
  }
 },
 "nbformat": 4,
 "nbformat_minor": 2
}
