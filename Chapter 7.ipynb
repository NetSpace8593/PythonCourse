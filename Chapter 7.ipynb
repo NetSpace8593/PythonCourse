{
 "cells": [
  {
   "cell_type": "markdown",
   "metadata": {},
   "source": [
    "# USER INPUT AND WHILE LOOPS"
   ]
  },
  {
   "cell_type": "code",
   "execution_count": 3,
   "metadata": {},
   "outputs": [],
   "source": [
    "#In this chapter you'll learn how to accept user input so your\n",
    "#program can then work with it.\n",
    "#When your program needs a name you'll be able to prompt the \n",
    "#user for a name.\n",
    "#When your program needs a list of names, you'll be able to \n",
    "#prompt the user for a series of names.\n",
    "#To do this, you'll use the input() function.\n",
    "#You'll also learn how to keep programs running so long as users\n",
    "#want them to, so they can enter as much information as they \n",
    "#need it.\n",
    "#You'll use Python's while loop to keep programs running as long\n",
    "#as certain conditions remain true.\n",
    "#With the ability to work with user input and ability to control\n",
    "#how long your program run, you'll be able to write fully \n",
    "#interactive programs."
   ]
  },
  {
   "cell_type": "markdown",
   "metadata": {},
   "source": [
    "# How the input() Function Works\n"
   ]
  },
  {
   "cell_type": "code",
   "execution_count": 4,
   "metadata": {},
   "outputs": [
    {
     "name": "stdout",
     "output_type": "stream",
     "text": [
      "Tell me something, and I will repeat it back to you: ghr\n",
      "ghr\n"
     ]
    }
   ],
   "source": [
    "#The input() function pauses your program and waits for the \n",
    "#user to enter some text.\n",
    "#Once python receives the input, it assigns it to a variable\n",
    "#to make it convenient to work with.\n",
    "#Example\n",
    "message = input(\"Tell me something, and I will repeat it back to you: \")\n",
    "print(message)\n",
    "#Like above, the input function takes one argument: the prompt,\n",
    "#or instructions, that we want to display to the user so that\n",
    "#they know what to do.\n",
    "#Above, the prompt is the wording in quotation."
   ]
  },
  {
   "cell_type": "markdown",
   "metadata": {},
   "source": [
    "Write Clear Prompts"
   ]
  },
  {
   "cell_type": "code",
   "execution_count": 5,
   "metadata": {},
   "outputs": [
    {
     "name": "stdout",
     "output_type": "stream",
     "text": [
      "Please enter your name: hgfds\n",
      "\n",
      "Hello, hgfds!\n"
     ]
    }
   ],
   "source": [
    "#When you use the input() function, you should use clear \n",
    "#and understandable prompts.\n",
    "#Example\n",
    "name = input(\"Please enter your name: \")\n",
    "print(f\"\\nHello, {name}!\")\n",
    "#Make it a habit to leave some space, at the end of your \n",
    "#prompts to seperate the prompt from the user response and to\n",
    "#make it clear to your user where to enter their text."
   ]
  },
  {
   "cell_type": "code",
   "execution_count": 2,
   "metadata": {},
   "outputs": [
    {
     "name": "stdout",
     "output_type": "stream",
     "text": [
      "If you tell us who you are, we can personalize the messages you see.\n",
      "What is your first name? hgfd\n",
      "\n",
      "Hello, hgfd!\n"
     ]
    }
   ],
   "source": [
    "#Sometimes you'll want to write prompts that are longer than \n",
    "#one line.\n",
    "#You can assign your prompt to a variable and pass that \n",
    "#variable to the input() function.\n",
    "#This allows you to build your prompt over several lines, \n",
    "#then write a clean input() statement.\n",
    "prompt = \"If you tell us who you are, we can personalize the messages you see.\"\n",
    "prompt += \"\\nWhat is your first name? \"\n",
    "\n",
    "name = input(prompt)\n",
    "print(f\"\\nHello, {name}!\")\n",
    "\n",
    "#Above shows you how to build a multi-line string.\n",
    "#The first line assigns the first part of the message to the\n",
    "#variable prompt.\n",
    "#The second line, the operator += takes the string that was\n",
    "#assigned to prompt and adds the new string onto the end."
   ]
  },
  {
   "cell_type": "markdown",
   "metadata": {},
   "source": [
    "Using Int() to Accept Numerical Input"
   ]
  },
  {
   "cell_type": "code",
   "execution_count": 5,
   "metadata": {},
   "outputs": [
    {
     "name": "stdout",
     "output_type": "stream",
     "text": [
      "How old are you?78\n"
     ]
    },
    {
     "ename": "TypeError",
     "evalue": "'>=' not supported between instances of 'str' and 'int'",
     "output_type": "error",
     "traceback": [
      "\u001b[1;31m---------------------------------------------------------------------------\u001b[0m",
      "\u001b[1;31mTypeError\u001b[0m                                 Traceback (most recent call last)",
      "\u001b[1;32m<ipython-input-5-94cd15a7a766>\u001b[0m in \u001b[0;36m<module>\u001b[1;34m\u001b[0m\n\u001b[0;32m      3\u001b[0m \u001b[1;31m#Example\u001b[0m\u001b[1;33m\u001b[0m\u001b[1;33m\u001b[0m\u001b[1;33m\u001b[0m\u001b[0m\n\u001b[0;32m      4\u001b[0m \u001b[0mage\u001b[0m \u001b[1;33m=\u001b[0m \u001b[0minput\u001b[0m\u001b[1;33m(\u001b[0m\u001b[1;34m\"How old are you?\"\u001b[0m\u001b[1;33m)\u001b[0m\u001b[1;33m\u001b[0m\u001b[1;33m\u001b[0m\u001b[0m\n\u001b[1;32m----> 5\u001b[1;33m \u001b[0mage\u001b[0m \u001b[1;33m>=\u001b[0m \u001b[1;36m45\u001b[0m\u001b[1;33m\u001b[0m\u001b[1;33m\u001b[0m\u001b[0m\n\u001b[0m\u001b[0;32m      6\u001b[0m \u001b[1;31m#When you enter a value, Python interprets the value as a\u001b[0m\u001b[1;33m\u001b[0m\u001b[1;33m\u001b[0m\u001b[1;33m\u001b[0m\u001b[0m\n\u001b[0;32m      7\u001b[0m \u001b[1;31m#string thus the error. The error is brought about because\u001b[0m\u001b[1;33m\u001b[0m\u001b[1;33m\u001b[0m\u001b[1;33m\u001b[0m\u001b[0m\n",
      "\u001b[1;31mTypeError\u001b[0m: '>=' not supported between instances of 'str' and 'int'"
     ]
    }
   ],
   "source": [
    "#When you enter the input() function, Python interprets \n",
    "#everything the user enters as a string.\n",
    "#Example\n",
    "age = input(\"How old are you?\")\n",
    "age >= 45\n",
    "#When you enter a value, Python interprets the value as a \n",
    "#string thus the error. The error is brought about because\n",
    "#Python cannot compare a string to a numerical value or \n",
    "#integer."
   ]
  },
  {
   "cell_type": "code",
   "execution_count": 6,
   "metadata": {},
   "outputs": [
    {
     "name": "stdout",
     "output_type": "stream",
     "text": [
      "How old are you?78\n"
     ]
    },
    {
     "data": {
      "text/plain": [
       "True"
      ]
     },
     "execution_count": 6,
     "metadata": {},
     "output_type": "execute_result"
    }
   ],
   "source": [
    "#We can resolve the issue by using the int() function, which\n",
    "#tells python to treat the input as a numerical value or \n",
    "#convert it to a numerical value.\n",
    "age = input(\"How old are you?\")\n",
    "age1 = int(age)\n",
    "age1 >= 18"
   ]
  },
  {
   "cell_type": "code",
   "execution_count": 7,
   "metadata": {},
   "outputs": [
    {
     "name": "stdout",
     "output_type": "stream",
     "text": [
      "How tall are you, in inches? 98\n",
      "\n",
      "You're tall enough to ride!\n"
     ]
    }
   ],
   "source": [
    "#Using the int() function in an actual program.\n",
    "height = input(\"How tall are you, in inches? \")\n",
    "height = int(height)#Converts height to a numerical value \n",
    "#before comparison is made\n",
    "\n",
    "if height >= 48:\n",
    "    print(\"\\nYou're tall enough to ride!\")\n",
    "else:\n",
    "    print(\"\\nYou'll be able to ride when you're a little older.\")"
   ]
  },
  {
   "cell_type": "markdown",
   "metadata": {},
   "source": [
    "The Modulo Operator"
   ]
  },
  {
   "cell_type": "code",
   "execution_count": 8,
   "metadata": {},
   "outputs": [
    {
     "name": "stdout",
     "output_type": "stream",
     "text": [
      "Enter a number, and I'll tell you if it's even or odd: 87\n",
      "87 is odd.\n"
     ]
    }
   ],
   "source": [
    "#This operator doesn't tell you how many times one number fits\n",
    "#into another, but tells you the remainder\n",
    "#When a number is divisible by another the remainder is 0.\n",
    "#You can use this fact to determine if a number is even or odd\n",
    "#as shown below:\n",
    "number = input(\"Enter a number, and I'll tell you if it's even or odd: \")\n",
    "number = int(number)\n",
    "\n",
    "if number % 2 == 0:\n",
    "    print(f\"{number} is even.\")\n",
    "else:\n",
    "    print(f\"{number} is odd.\")"
   ]
  },
  {
   "cell_type": "markdown",
   "metadata": {},
   "source": [
    "Exercise"
   ]
  },
  {
   "cell_type": "code",
   "execution_count": 7,
   "metadata": {},
   "outputs": [
    {
     "name": "stdout",
     "output_type": "stream",
     "text": [
      "What kind of rental car would you like?Tesla\n",
      "Let me see if I can find you a Tesla\n"
     ]
    }
   ],
   "source": [
    "#7-1. Rental Car: Write a program that asks the user what kind \n",
    "#of rental car they would like. Print a message about that car, \n",
    "#such as “Let me see if I can find you a Subaru.”\n",
    "car = input(\"What kind of rental car would you like?\")\n",
    "print(f\"Let me see if I can find you a {car}\")"
   ]
  },
  {
   "cell_type": "code",
   "execution_count": 2,
   "metadata": {},
   "outputs": [
    {
     "name": "stdout",
     "output_type": "stream",
     "text": [
      "How many people are in your dinner group?63\n",
      "You'll have to wait for a table!\n"
     ]
    }
   ],
   "source": [
    "#7-2. Restaurant Seating: Write a program that asks the user \n",
    "#how many people are in their dinner group. If the answer is \n",
    "#more than eight, print a message saying they’ll have to wait\n",
    "#for a table. Otherwise, report that their table is ready\n",
    "table = input(\"How many people are in your dinner group?\")\n",
    "table = int(table)\n",
    "#You can also convert the input value to int as \n",
    "#follows:\n",
    "#table = int(input(\"How many people are in your dinner group?\"))\n",
    "if table > 8:\n",
    "    print(\"You'll have to wait for a table!\")\n",
    "else:\n",
    "    print(\"Your table is ready!\")"
   ]
  },
  {
   "cell_type": "code",
   "execution_count": 8,
   "metadata": {},
   "outputs": [
    {
     "name": "stdout",
     "output_type": "stream",
     "text": [
      "Please enter a number!78\n",
      "78 is not a multiple of 10!\n"
     ]
    }
   ],
   "source": [
    "#7-3. Multiples of Ten: Ask the user for a number, and then \n",
    "#report whether the number is a multiple of 10 or not\n",
    "number = input(\"Please enter a number!\")\n",
    "number = int(number)\n",
    "\n",
    "if number % 10 == 0:\n",
    "    print(f\"{number} is a multiple of 10!\")\n",
    "else:\n",
    "    print(f\"{number} is not a multiple of 10!\")"
   ]
  },
  {
   "cell_type": "markdown",
   "metadata": {},
   "source": [
    "# Introducing While Loop"
   ]
  },
  {
   "cell_type": "code",
   "execution_count": 9,
   "metadata": {},
   "outputs": [],
   "source": [
    "#For loops is used to print a collection or block of items\n",
    "#once for each item in the collection. In contrast, the while\n",
    "#loop runs as long as, or while, a certain condition is true."
   ]
  },
  {
   "cell_type": "markdown",
   "metadata": {},
   "source": [
    "The While loop in Action"
   ]
  },
  {
   "cell_type": "code",
   "execution_count": 10,
   "metadata": {},
   "outputs": [
    {
     "name": "stdout",
     "output_type": "stream",
     "text": [
      "1\n",
      "2\n",
      "3\n",
      "4\n",
      "5\n"
     ]
    }
   ],
   "source": [
    "#Using while loop to count up through a series of numbers.\n",
    "current_number = 1\n",
    "while current_number <= 5:\n",
    "    print(current_number)\n",
    "    current_number += 1\n",
    "#The while loop is set to keep running as long as the value\n",
    "#of current_number is less than or equal to 5.\n",
    "#The code inside the loop prints the value of current_number\n",
    "#and then adds 1 to that value with current_number ie += 1\n",
    "#the shorthand for current_number = current_number + 1.\n",
    "#Python repeats the loop as long as the condition \n",
    "#current_number <= 5 is true."
   ]
  },
  {
   "cell_type": "markdown",
   "metadata": {},
   "source": [
    "Letting the User choose When to Quit"
   ]
  },
  {
   "cell_type": "code",
   "execution_count": 1,
   "metadata": {},
   "outputs": [
    {
     "name": "stdout",
     "output_type": "stream",
     "text": [
      "h\n",
      "h\n",
      "\n",
      "Tell me something, and I will repeat it back to you:\n",
      "Enter 'quit' to end the program. g\n",
      "g\n",
      "\n",
      "\n",
      "g\n",
      "g\n",
      "\n",
      "Tell me something, and I will repeat it back to you:\n",
      "Enter 'quit' to end the program. quit\n",
      "quit\n",
      "\n",
      "\n"
     ]
    }
   ],
   "source": [
    "#Below we'll define a quit value and then keep the program\n",
    "#running as long as the user has not entered the quit value\n",
    "prompt = \"\\nTell me something, and I will repeat it back to you:\"#1\n",
    "prompt += \"\\nEnter 'quit' to end the program. \"\n",
    "\n",
    "message = \"h\"#2\n",
    "\n",
    "while (message != 'quit'):#3\n",
    "    print(message)\n",
    "    print(message)\n",
    "    \n",
    "    message = input(prompt)\n",
    "    print(message)\n",
    "    print(\"\\n\")\n",
    "\n",
    "#At #1 python gives the user a prompt to either enter any\n",
    "#message or the quit value.\n",
    "#At #2 we then set up a variable message to keep track of \n",
    "#whatever value the user enters and it is defined as an \n",
    "#empty string.\n",
    "#In the program above, when python reaches the while \n",
    "#statement, it needs a value to compare to 'quit'. In our\n",
    "#case we do not have any.\n",
    "#It is advisable however to have an initial value for python\n",
    "#to have a value to compare in the while statement.\n",
    "#The while loop at #3 runs as long as the value of message \n",
    "#is not 'quit'.\n",
    "#At message = input(prompt), Python displays the prompt and\n",
    "#waits for the user to enter their input. Whatever they\n",
    "#enter is assigned to message and printed; then python \n",
    "#reevalueates the condition in the while statement.\n",
    "#As long as the user has not entered the word 'quit', the\n",
    "#prompt is displayed again and python waits for more input.\n",
    "#When 'quit' is finally entered python stops executing the \n",
    "#while loop and the program ends.\n",
    "\n",
    "#Note: The program above will ignore the rest of the program\n",
    "#and focus on the while loop only after the first iteration.\n",
    "#The value stored in the message variable will be carried\n",
    "#forward for the next iteration until when the user inputs\n",
    "#'quit' to stop the program.\n"
   ]
  },
  {
   "cell_type": "code",
   "execution_count": 1,
   "metadata": {},
   "outputs": [
    {
     "ename": "NameError",
     "evalue": "name 'message' is not defined",
     "output_type": "error",
     "traceback": [
      "\u001b[1;31m---------------------------------------------------------------------------\u001b[0m",
      "\u001b[1;31mNameError\u001b[0m                                 Traceback (most recent call last)",
      "\u001b[1;32m<ipython-input-1-6654a8064768>\u001b[0m in \u001b[0;36m<module>\u001b[1;34m\u001b[0m\n\u001b[0;32m      4\u001b[0m \u001b[1;31m#message = \"k\"#2\u001b[0m\u001b[1;33m\u001b[0m\u001b[1;33m\u001b[0m\u001b[1;33m\u001b[0m\u001b[0m\n\u001b[0;32m      5\u001b[0m \u001b[1;33m\u001b[0m\u001b[0m\n\u001b[1;32m----> 6\u001b[1;33m \u001b[1;32mwhile\u001b[0m \u001b[1;33m(\u001b[0m\u001b[0mmessage\u001b[0m \u001b[1;33m!=\u001b[0m \u001b[1;34m'quit'\u001b[0m\u001b[1;33m)\u001b[0m\u001b[1;33m:\u001b[0m\u001b[1;31m#3\u001b[0m\u001b[1;33m\u001b[0m\u001b[1;33m\u001b[0m\u001b[0m\n\u001b[0m\u001b[0;32m      7\u001b[0m     \u001b[0mmessage\u001b[0m \u001b[1;33m=\u001b[0m \u001b[0minput\u001b[0m\u001b[1;33m(\u001b[0m\u001b[0mprompt\u001b[0m\u001b[1;33m)\u001b[0m\u001b[1;33m\u001b[0m\u001b[1;33m\u001b[0m\u001b[0m\n\u001b[0;32m      8\u001b[0m     \u001b[1;31m#print(message1)\u001b[0m\u001b[1;33m\u001b[0m\u001b[1;33m\u001b[0m\u001b[1;33m\u001b[0m\u001b[0m\n",
      "\u001b[1;31mNameError\u001b[0m: name 'message' is not defined"
     ]
    }
   ],
   "source": [
    "prompt = \"\\nTell me something, and I will repeat it back to you:\"#1\n",
    "prompt += \"\\nEnter 'quit' to end the program. \"\n",
    "\n",
    "message = \"\"#2\n",
    "\n",
    "while (message != 'quit'):#3\n",
    "    message = input(prompt)\n",
    "    #print(message1)\n",
    "    print(message)"
   ]
  },
  {
   "cell_type": "code",
   "execution_count": null,
   "metadata": {},
   "outputs": [],
   "source": [
    "#The above program works well, only that python prints 'quit'\n",
    "#as if it was an actual message. A simple if test fixes this\n",
    "prompt = \"\\nTell me something, and I will repeat it back to you:\"#1\n",
    "prompt += \"\\nEnter 'quit' to end the program. \"\n",
    "\n",
    "message = \"d\"\n",
    "while message: #!= 'quit' ):\n",
    "    message = input(prompt)\n",
    "     \n",
    "    if message != 'quit':\n",
    "        print(message)\n",
    "    else:\n",
    "        break\n",
    "#Now the program makes a quick check before displaying the \n",
    "#message and only prints the message if it does not match\n",
    "#the quit value."
   ]
  },
  {
   "cell_type": "markdown",
   "metadata": {},
   "source": [
    "Using a Flag"
   ]
  },
  {
   "cell_type": "code",
   "execution_count": 3,
   "metadata": {},
   "outputs": [
    {
     "name": "stdout",
     "output_type": "stream",
     "text": [
      "hallo Nick\n",
      "\n",
      "Tell me something, and I will repeat it back to you:\n",
      "Enter 'quit' to end the program. j\n",
      "j\n",
      "\n",
      "Tell me something, and I will repeat it back to you:\n",
      "Enter 'quit' to end the program. lad\n",
      "lad\n",
      "\n",
      "Tell me something, and I will repeat it back to you:\n",
      "Enter 'quit' to end the program. Love Christ!\n",
      "Love Christ!\n",
      "\n",
      "Tell me something, and I will repeat it back to you:\n",
      "Enter 'quit' to end the program. quit\n"
     ]
    }
   ],
   "source": [
    "#Previously we had the program perform certain tasks while a \n",
    "#given condition was true.\n",
    "#What about complicated programs in which many different\n",
    "#events could cause the program to stop running?\n",
    "#For example in a game, different events can end the game. eg\n",
    "#When a player runs out of ships, their time runs out etc It \n",
    "#needs to end if any of the obove or more events occur.\n",
    "\n",
    "#If many possible events might occur to stop the program, \n",
    "#trying to test all these conditions in one while statement\n",
    "#becomes complicated and difficult.\n",
    "\n",
    "#To solve this, we can define one variable that determines \n",
    "#whether or not the entire program is active. This variable is\n",
    "#called a flag, which acts as a signal to the program.\n",
    "\n",
    "#We can write our programs so they run while the flag is set \n",
    "#to True and stop running when any of several events set the\n",
    "#value of the flag to False.\n",
    "#Our While Condition therefore has to check only one condition\n",
    "#:whether or not the flag is currently True. Then, all our \n",
    "#other tests can be neatly organized in the rest of the \n",
    "#program.\n",
    "\n",
    "#Example\n",
    "prompt = \"\\nTell me something, and I will repeat it back to you:\"\n",
    "prompt += \"\\nEnter 'quit' to end the program. \"\n",
    "\n",
    "print(\"hallo Nick\")#This is to prove that the interpreter will\n",
    "#only iterate the while loop condition after the first \n",
    "#iteration.\n",
    "active = True #1\n",
    "\n",
    "while active: #2\n",
    "    message = input(prompt)\n",
    "    \n",
    "    if message == 'quit': #3\n",
    "        active = False\n",
    "    \n",
    "    else: #4\n",
    "        print(message)\n",
    "#Above, so long as the active variable remains True, the loop\n",
    "#will continue running.\n",
    "#In the if statement if the user enters quit, the programs \n",
    "#stops otherwise the program will continue running.\n",
    "\n",
    "#This program will have a similar output with the previous one\n",
    "#that did not include a flag.\n",
    "#The difference however is that the flag indicates whether the\n",
    "#overall program is in an active state, it would be easy to \n",
    "#add more tests(eg elif statements) for events that should \n",
    "#cause active to become False. This as said earlier can be \n",
    "#useful in games, where if an event cause the flag to turn\n",
    "#false, the game ends."
   ]
  },
  {
   "cell_type": "markdown",
   "metadata": {},
   "source": [
    "Using break to Exit a Loop"
   ]
  },
  {
   "cell_type": "code",
   "execution_count": 1,
   "metadata": {},
   "outputs": [
    {
     "name": "stdout",
     "output_type": "stream",
     "text": [
      "\n",
      "Please enter the name of a city you have visited:\n",
      "(Enter 'quit' when you are finished.) asdf\n",
      "I'd love to go to Asdf!\n",
      "\n",
      "Please enter the name of a city you have visited:\n",
      "(Enter 'quit' when you are finished.) asfd\n",
      "I'd love to go to Asfd!\n",
      "\n",
      "Please enter the name of a city you have visited:\n",
      "(Enter 'quit' when you are finished.) quit\n"
     ]
    }
   ],
   "source": [
    "#To exit a while loop immediately without running any \n",
    "#remaining code in the loop, regardless of any conditioinal \n",
    "#test, use the break statement.\n",
    "#The break statement directs the flow of your program; you can\n",
    "#control which line of code are executed and which aren't.\n",
    "#Example\n",
    "prompt = \"\\nPlease enter the name of a city you have visited:\"\n",
    "prompt += \"\\n(Enter 'quit' when you are finished.) \"\n",
    "while True:\n",
    "    city = input(prompt)\n",
    "    \n",
    "    if city == 'quit':\n",
    "        break\n",
    "    else:\n",
    "        print(f\"I'd love to go to {city.title()}!\")\n",
    "#A loop that starts with While True, will run forever unless\n",
    "#it reaches a break statement.\n",
    "#The program keeps on asking the user which city they are from\n",
    "#until the user enter quit. This runs the break statement,\n",
    "#which exits the program."
   ]
  },
  {
   "cell_type": "code",
   "execution_count": 2,
   "metadata": {},
   "outputs": [],
   "source": [
    "#Note: You can use break statement in any Python's loop eg\n",
    "#for loop that's working through a list."
   ]
  },
  {
   "cell_type": "markdown",
   "metadata": {},
   "source": [
    "Using continue in a loop"
   ]
  },
  {
   "cell_type": "code",
   "execution_count": 12,
   "metadata": {},
   "outputs": [
    {
     "name": "stdout",
     "output_type": "stream",
     "text": [
      "1\n",
      "3\n",
      "5\n",
      "7\n",
      "9\n"
     ]
    }
   ],
   "source": [
    "#Rather than breaking from a loop entirely, without executing\n",
    "#the rest of the code entirely, you can use the continue\n",
    "#statement to return to the beginning of the loop based on \n",
    "#the result of a conditional test.\n",
    "#Example, A loop printing only odd numbers in a range\n",
    "current_number = 0\n",
    "while current_number < 10:\n",
    "    current_number += 1\n",
    "    if current_number % 2 == 0:\n",
    "        continue\n",
    "        \n",
    "    print(current_number)\n",
    "#In the example above, if the modulo is 0, the continue \n",
    "#statement tells Python to ignore the rest of the loop and\n",
    "#return to the beginning.\n",
    "#If the current number is not divisible by 2, Python prints \n",
    "#the current number."
   ]
  },
  {
   "cell_type": "markdown",
   "metadata": {},
   "source": [
    "Avoiding Infinite Loops"
   ]
  },
  {
   "cell_type": "code",
   "execution_count": 4,
   "metadata": {},
   "outputs": [
    {
     "name": "stdout",
     "output_type": "stream",
     "text": [
      "1\n",
      "2\n",
      "Now3\n",
      "3\n",
      "Now4\n",
      "4\n",
      "Now5\n",
      "5\n",
      "Now6\n"
     ]
    }
   ],
   "source": [
    "#Every while loops needs a way to stop running to avoid \n",
    "#running forever.\n",
    "#Example\n",
    "x = 1\n",
    "while x <= 5:\n",
    "    print(x)\n",
    "    x += 1\n",
    "    if x == 2:\n",
    "        continue\n",
    "    print(f\"Now{x}\")\n",
    "\n",
    "#If you accidentally omit the line x += 1, the loop will run\n",
    "#forever. Example\n",
    "\n",
    "#x = 1\n",
    "#while x <= 5:\n",
    "#    print(x)\n",
    "    \n",
    "#The value x will start at 1 and never change. The condition\n",
    "#test x <= 5 will always evaluate to True and the while loop \n",
    "#will run forever, printing a series of 1s.\n",
    "\n",
    "#CTRL-C OR JUST CLOSING THE TERMINAL WINDOW WILL EXIT FROM THE\n",
    "#INFINITE LOOP.\n",
    "#To avoid cases of infinite loops, make sure at least one part\n",
    "#of the program can make the loop's condition False or cause \n",
    "#it to reach a break statement."
   ]
  },
  {
   "cell_type": "markdown",
   "metadata": {},
   "source": [
    "Exercises"
   ]
  },
  {
   "cell_type": "code",
   "execution_count": null,
   "metadata": {
    "scrolled": true
   },
   "outputs": [
    {
     "name": "stdout",
     "output_type": "stream",
     "text": [
      "Add j to your pizza\n",
      "Please enter a pizza topping and enjoy!!!n\n",
      "Add n to your pizza\n"
     ]
    }
   ],
   "source": [
    "#7-4. Pizza Toppings: Write a loop that prompts the user to \n",
    "#enter a series of pizza toppings until they enter a 'quit' \n",
    "#value. As they enter each topping, print a message saying \n",
    "#you’ll add that topping to their pizza\n",
    "prompt = \"Please enter a pizza topping\"\n",
    "prompt += \" and enjoy!!!\"\n",
    "\n",
    "inpPrompt = \"j\"\n",
    "while inpPrompt:\n",
    "    if inpPrompt != \"quit\":\n",
    "        print(f\"Add {inpPrompt} to your pizza\")\n",
    "    else:\n",
    "        break\n",
    "    inpPrompt = input(prompt)\n",
    "    \n",
    "    \n",
    "    \n",
    "    \n",
    "    \n",
    "    "
   ]
  },
  {
   "cell_type": "code",
   "execution_count": 21,
   "metadata": {},
   "outputs": [
    {
     "name": "stdout",
     "output_type": "stream",
     "text": [
      "What is your age?78\n",
      "The ticket is $15!\n",
      "What is your age?77\n",
      "The ticket is $15!\n",
      "What is your age?1\n",
      "The ticket is free!\n",
      "What is your age?-0\n",
      "The ticket is free!\n"
     ]
    }
   ],
   "source": [
    "#7-5. Movie Tickets: A movie theater charges different ticket \n",
    "#prices depending on a person’s age. If a person is under the \n",
    "#age of 3, the ticket is free; if they are between 3 and 12, \n",
    "#the ticket is $10; and if they are over age 12, the ticket is \n",
    "#$15. Write a loop in which you ask users their age, and then \n",
    "#tell them the cost of their movie ticket.\n",
    "\n",
    "\n",
    "prompt = \"What is your age?\"\n",
    "num_age = 9\n",
    "\n",
    "while num_age:\n",
    "    \n",
    "    num_age = int(input(prompt))\n",
    "        \n",
    "\n",
    "    if num_age >= 0 and num_age < 3:\n",
    "        print(\"The ticket is free!\")\n",
    "    elif num_age >= 3 and num_age <= 12:\n",
    "        print(\"The ticket is $10!\")\n",
    "    elif num_age > 12:\n",
    "        print(\"The ticket is $15!\")\n",
    "    else:\n",
    "        if num_age <= -1:\n",
    "            print(\"Invalid input!\")\n",
    "            break\n",
    "        \n",
    "\n",
    "#while True:\n",
    " #   question = \"What is your age?\"\n",
    "    \n",
    "  #  person = int(input(question))\n",
    "   # person = int\n",
    "    \n",
    "    #if person < 3:\n",
    "     #   print(\"The ticket is free! \")\n",
    "    #elif person >= 3 and person <= 12:\n",
    "      #  print(\"The ticket is $10! \")\n",
    "    #elif person > 12:\n",
    "       # print(\"The ticket is $15! \")\n",
    "    #else:\n",
    "     #   if int(person) == \"quit\":\n",
    "      #      break\n",
    "        \n",
    "   \n",
    "    \n",
    "    \n",
    "        \n",
    "#As done above, if you are using Python 3.x input will return\n",
    "#a string, so you should use int method to convert string to \n",
    "#integer."
   ]
  },
  {
   "cell_type": "code",
   "execution_count": 12,
   "metadata": {},
   "outputs": [],
   "source": [
    "#7-6. Three Exits: Write different versions of either Exercise \n",
    "#7-4 or Exercise 7-5 that do each of the following at least \n",
    "#once:\n",
    "#•\t Use a conditional test in the while statement to stop \n",
    "#the loop.\n",
    "#•\t Use an active variable to control how long the loop runs.\n",
    "#•\t Use a break statement to exit the loop when the user \n",
    "#enters a 'quit' value"
   ]
  },
  {
   "cell_type": "code",
   "execution_count": null,
   "metadata": {},
   "outputs": [],
   "source": [
    "#.Use a conditional test in the while statement to \n",
    "#stop the loop(7-4)\n"
   ]
  },
  {
   "cell_type": "markdown",
   "metadata": {},
   "source": [
    "# Using a While Loop with Lists and Dictionaries"
   ]
  },
  {
   "cell_type": "code",
   "execution_count": 4,
   "metadata": {},
   "outputs": [],
   "source": [
    "#So far we've received the user's input and then \n",
    "#printed the input or a response to it.\n",
    "#To keep track of many users and pieces of info,\n",
    "#we'll need to use lists and dictionaries with our\n",
    "#while loops.\n",
    "#For loop is good for looping through a list, but\n",
    "#modifying items in the list, will cause trouble\n",
    "#keeping track of the items in the list.\n",
    "#To modify a list efficiently, use a while loop.\n",
    "#It allows you to collect, store and organize lots\n",
    "#of input to examine and report on later.\n"
   ]
  },
  {
   "cell_type": "markdown",
   "metadata": {},
   "source": [
    "Moving Items from One list ot Another"
   ]
  },
  {
   "cell_type": "code",
   "execution_count": 7,
   "metadata": {},
   "outputs": [
    {
     "name": "stdout",
     "output_type": "stream",
     "text": [
      "Verifying user: Candace\n",
      "\n",
      "The following users have been confirmed:\n",
      "Candace\n",
      "Verifying user: Brian\n",
      "\n",
      "The following users have been confirmed:\n",
      "Candace\n",
      "Brian\n",
      "Verifying user: Alice\n",
      "\n",
      "The following users have been confirmed:\n",
      "Candace\n",
      "Brian\n",
      "Alice\n"
     ]
    }
   ],
   "source": [
    "#Consider a list of newly registered but unverified\n",
    "#users of a website.\n",
    "#After we verify these users, how can we move them\n",
    "#to a seperate lists of confirmed users? \n",
    "#One way would be to use while loops to pull users\n",
    "#from the list of unconfirmed users as we verify\n",
    "#them and then add them to a seperate list of \n",
    "#confirmed users.\n",
    "unconfirmed_users = ['alice', 'brian', 'candace']#1\n",
    "confirmed_users = []\n",
    "\n",
    "while unconfirmed_users:#2\n",
    "    current_user = unconfirmed_users.pop()#3\n",
    "    \n",
    "    print(f\"Verifying user: {current_user.title()}\")\n",
    "    confirmed_users.append(current_user)#4\n",
    "    \n",
    "    print(\"\\nThe following users have been confirmed:\")\n",
    "    for confirmed_user in confirmed_users:\n",
    "          print(confirmed_user.title())\n",
    "#We start with a list of unconfirmed users at #1 and\n",
    "#an empty list to hold confirmed users.\n",
    "#The while loop at #2 runs as long as the list \n",
    "#unconfirmed_users is not empty\n",
    "#Within this loop, the pop() function at #3 removes\n",
    "#unverified users one at a time from the end of \n",
    "#unconfirmed_users.\n",
    "#Since 'candace' is the last in the unconfirmed_users\n",
    "#it will be the first to be removed, assigned to \n",
    "#current_user, and added to the confirmed_users list\n",
    "#at #4.\n",
    "#We simulate confirming each user by printing a \n",
    "#verification message and adding them to the list\n",
    "#of confirmed users.\n",
    "#When the list of unconfirmed users is empty, the \n",
    "#loop stops and the list of confirmed users is \n",
    "#printed."
   ]
  },
  {
   "cell_type": "markdown",
   "metadata": {},
   "source": [
    "Removing all Instances of Specific Values from a list"
   ]
  },
  {
   "cell_type": "code",
   "execution_count": 10,
   "metadata": {},
   "outputs": [
    {
     "name": "stdout",
     "output_type": "stream",
     "text": [
      "['dog', 'cat', 'dog', 'goldfish', 'cat', 'rabbit', 'cat']\n",
      "['dog', 'dog', 'goldfish', 'cat', 'rabbit', 'cat']\n",
      "['dog', 'dog', 'goldfish', 'rabbit', 'cat']\n",
      "['dog', 'dog', 'goldfish', 'rabbit']\n"
     ]
    }
   ],
   "source": [
    "#In chapter 3 we used remove() function to remove a\n",
    "#specific instance in a list that was not repeated.\n",
    "#What if an instance is repeated more than once in \n",
    "#a list? And you want to remove them all?\n",
    "#To do so, you can run a while loop until the repeated\n",
    "#instance is no longer in the list. Example:\n",
    "pets = ['dog', 'cat', 'dog', 'goldfish', 'cat', 'rabbit', 'cat']\n",
    "print(pets)\n",
    "\n",
    "while 'cat' in pets:\n",
    "    pets.remove('cat')\n",
    "    print(pets)\n",
    "#Python removes each instanceo of 'cat' until the \n",
    "#value is no longer in the list, at which point \n",
    "#Python exits the loop and prints the list again."
   ]
  },
  {
   "cell_type": "markdown",
   "metadata": {},
   "source": [
    "Filling a Dictionary with User Input"
   ]
  },
  {
   "cell_type": "code",
   "execution_count": 7,
   "metadata": {},
   "outputs": [
    {
     "name": "stdout",
     "output_type": "stream",
     "text": [
      "\n",
      "What is your name? sdd\n",
      "Which mountain would you like to climb someday? das\n",
      "Would you like to let another person respond? (yes/no) yes\n",
      "\n",
      "What is your name? dssd\n",
      "Which mountain would you like to climb someday? dss\n",
      "Would you like to let another person respond? (yes/no) sd\n",
      "\n",
      "What is your name? dsds\n",
      "Which mountain would you like to climb someday? sd\n",
      "Would you like to let another person respond? (yes/no) no\n",
      "\n",
      "---Poll Results---\n",
      "sdd would like to climb das.\n",
      "dssd would like to climb dss.\n",
      "dsds would like to climb sd.\n"
     ]
    }
   ],
   "source": [
    "#You can prompt for as much input as you need in\n",
    "#each pass through a while loop.\n",
    "#Let's make a polling program in which each pass \n",
    "#through the loop prompts for the participant's name\n",
    "#and response.\n",
    "#We'll store the date we gather in a dictionary.\n",
    "responses = {}#This is an empty dictionary\n",
    "#set a flag to indicate that the polling is active\n",
    "#As long as the polling_active is True, python will run \n",
    "#the code in the while loop.\n",
    "polling_active = True\n",
    "\n",
    "while polling_active:\n",
    "    #prompt for the person's name and response.\n",
    "    name = input(\"\\nWhat is your name? \")\n",
    "    response = input(\"Which mountain would you like to climb someday? \")\n",
    "    \n",
    "    #Store the response in the dictionary\n",
    "    responses[name] = response\n",
    "    \n",
    "    #Find out if anyone else is going to take the poll.\n",
    "    repeat = input(\"Would you like to let another person respond? (yes/no) \")\n",
    "    if repeat == 'no':\n",
    "        polling_active = False\n",
    "    elif repeat == 'yes':\n",
    "        polling_active = True\n",
    "    else:\n",
    "        print(\"Invalid input. Type either 'Yes' or 'No'. \")\n",
    "        #continue\n",
    "        \n",
    "\n",
    "#Polling is complete. Show the results\n",
    "print(\"\\n---Poll Results---\")\n",
    "for name, response in responses.items():\n",
    "    print(f\"{name} would like to climb {response}.\")\n",
    "    \n",
    "#How can I make the loop not print when the response is neither 'yes' nor 'no'?"
   ]
  },
  {
   "cell_type": "markdown",
   "metadata": {},
   "source": [
    "Exercises"
   ]
  },
  {
   "cell_type": "code",
   "execution_count": 25,
   "metadata": {},
   "outputs": [
    {
     "name": "stdout",
     "output_type": "stream",
     "text": [
      "I made you a Grilled Cheese\n",
      "I made you a Seafood Sandwich\n",
      "I made you a Egg Sandwich\n",
      "I made you a Chicken Sandwich\n",
      "\n",
      "The list of finished_sandwiches is:\n",
      "Grilled Cheese\n",
      "Seafood Sandwich\n",
      "Egg Sandwich\n",
      "Chicken Sandwich\n"
     ]
    }
   ],
   "source": [
    "#7-8. Deli: Make a list called sandwich_orders and fill it \n",
    "#with the names of various sandwiches. Then make an empty \n",
    "#list called finished_sandwiches. Loop through the list of \n",
    "#sandwich orders and print a message for each order, such \n",
    "#as I made your tuna sandwich. As each sandwich is made, \n",
    "#move it to the list of finished sandwiches. After all the \n",
    "#sandwiches have been made, print a \n",
    "#message listing each sandwich that was made.\n",
    "\n",
    "#List of sandwich orders\n",
    "sandwich_orders = ['chicken sandwich', 'egg sandwich', 'seafood sandwich', 'grilled cheese' ]\n",
    "finished_sandwiches = []\n",
    "\n",
    "#Loop through the list of sandwich_orders and print a message\n",
    "#print(\"List of ordered sandwiches: \")\n",
    "#for sand_order in  sandwich_orders:\n",
    "#    print(f\"I made your {sand_order}.\")\n",
    "\n",
    "while sandwich_orders:\n",
    "    finished = sandwich_orders.pop()\n",
    "    print(f\"I made you a {finished.title()}\")\n",
    "    \n",
    "    #Move each sandwich to the list of finished_sandwiches\n",
    "    finished_sandwiches.append(finished)\n",
    "\n",
    "    \n",
    "print(\"\\nThe list of finished_sandwiches is:\")\n",
    "for finished_sandwich in finished_sandwiches:\n",
    "    print(finished_sandwich.title())\n",
    "\n",
    "\n",
    "\n",
    "    \n"
   ]
  },
  {
   "cell_type": "code",
   "execution_count": 62,
   "metadata": {
    "scrolled": true
   },
   "outputs": [
    {
     "name": "stdout",
     "output_type": "stream",
     "text": [
      "The deli has run out of pastrami.\n",
      "['chicken sandwich', 'seafood sandwich', 'pastrami', 'pastrami', 'masold', 'pastrami', 'complia']\n",
      "['chicken sandwich', 'seafood sandwich', 'pastrami', 'masold', 'pastrami', 'complia']\n",
      "['chicken sandwich', 'seafood sandwich', 'masold', 'pastrami', 'complia']\n",
      "['chicken sandwich', 'seafood sandwich', 'masold', 'complia']\n",
      "['complia']\n",
      "['complia', 'masold']\n",
      "['complia', 'masold', 'seafood sandwich']\n",
      "['complia', 'masold', 'seafood sandwich', 'chicken sandwich']\n"
     ]
    }
   ],
   "source": [
    "#7-9. No Pastrami: Using the list sandwich_orders from \n",
    "#Exercise 7-8, make sure the sandwich 'pastrami' appears in \n",
    "#the list at least three times. Add code near the beginning \n",
    "#of your program to print a message saying the deli has \n",
    "#run out of pastrami, and then use a while loop to remove \n",
    "#all occurrences of 'pastrami' from sandwich_orders. Make \n",
    "#sure no pastrami sandwiches end up in finished_sandwiches.\n",
    "\n",
    "#List of sandwich_orders to together with empty list of finished_sandwiches\n",
    "sandwich_orders = ['chicken sandwich', 'pastrami', 'seafood sandwich', 'pastrami', 'pastrami', 'masold', 'pastrami', 'complia' ]\n",
    "finished_sandwiches = []\n",
    "print(\"The deli has run out of pastrami.\")\n",
    "\n",
    "#Loop to remove 'pastrami' instances in the list sandwich_orders\n",
    "while 'pastrami' in sandwich_orders:\n",
    "    sandwich_orders.remove('pastrami')\n",
    "    print(sandwich_orders)\n",
    "    \n",
    "#loop to Transfer the remaining items in sandwich_orders list to finished_sandwiches list.\n",
    "while sandwich_orders:\n",
    "    finished = sandwich_orders.pop()\n",
    "    \n",
    "    finished_sandwiches.append(finished)\n",
    "\n",
    "\n",
    "\n",
    "    print(finished_sandwiches)\n",
    "\n",
    "#Note: The interpreter finishes the first loop and then goes on to the next loop\n",
    "\n",
    "\n",
    "\n",
    "\n",
    "    \n",
    "\n",
    "   \n",
    "    #finished_sandwiche = finished_sandwiches.append(finished)\n",
    "#print(f\"\\n{finished}\")\n",
    "\n",
    "#Redo the "
   ]
  },
  {
   "cell_type": "code",
   "execution_count": 12,
   "metadata": {},
   "outputs": [
    {
     "name": "stdout",
     "output_type": "stream",
     "text": [
      "Please enter your name: adsfsdf\n",
      "If you could visit one place in the world, where would you go? adsdsf\n",
      "Please enter your name: adsfadsfdsa\n",
      "If you could visit one place in the world, where would you go? adsfafs\n",
      "Please enter your name: none\n",
      "If you could visit one place in the world, where would you go? sfaddd\n",
      "Please enter your name: aldskf\n",
      "If you could visit one place in the world, where would you go? none\n",
      "Name:Location\n",
      "adsfsdf:adsdsf\n",
      "adsfadsfdsa:adsfafs\n",
      "none:sfaddd\n",
      "aldskf:none\n"
     ]
    }
   ],
   "source": [
    "#7-10. Dream Vacation: Write a program that polls users about \n",
    "#their dream vacation. Write a prompt similar to \"If you \n",
    "#could visit one place in the world, where would you go?\"\n",
    "#Include a block of code that prints the results of the \n",
    "#poll.\n",
    "\n",
    "#An empty dictionary to store the answers of various users\n",
    "vacation = {}\n",
    "#prompt = \"If you could visit one place in the\" \n",
    "#prompt += \" world, where would you go?\"\n",
    "\n",
    "vacation_Flag = True\n",
    "\n",
    "while vacation_Flag:\n",
    "    \n",
    "    name = input(\"Please enter your name: \")\n",
    "    \n",
    "    location = input(\"If you could visit one place in the world, where would you go? \")\n",
    "    \n",
    "    vacation[name] = location\n",
    "    \n",
    "    #Code to stop the loop\n",
    "    if location == 'none':\n",
    "        vacation_Flag = False\n",
    "\n",
    "\n",
    "print(f\"Name:Location\")\n",
    "for key, value in vacation.items():\n",
    "    \n",
    "    print(f\"{key}:{value}\")\n",
    "    \n",
    "    \n",
    "#Revisit this problem again later"
   ]
  },
  {
   "cell_type": "code",
   "execution_count": null,
   "metadata": {},
   "outputs": [],
   "source": []
  }
 ],
 "metadata": {
  "kernelspec": {
   "display_name": "Python 3",
   "language": "python",
   "name": "python3"
  },
  "language_info": {
   "codemirror_mode": {
    "name": "ipython",
    "version": 3
   },
   "file_extension": ".py",
   "mimetype": "text/x-python",
   "name": "python",
   "nbconvert_exporter": "python",
   "pygments_lexer": "ipython3",
   "version": "3.7.3"
  }
 },
 "nbformat": 4,
 "nbformat_minor": 2
}
