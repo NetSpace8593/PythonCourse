{
 "cells": [
  {
   "cell_type": "code",
   "execution_count": null,
   "metadata": {},
   "outputs": [],
   "source": [
    "#Functions are named blocks of code that are designed to do\n",
    "#one specific job.\n",
    "#When you want to perform a particular task that you've \n",
    "#defined in a function, you call the function responsible for\n",
    "#it.\n",
    "#If you need to perform that task multiple times throughout \n",
    "#your program, you don't need to type all the code for the\n",
    "#same task again and again, you just call the function \n",
    "#dedicated to handling that task, and the call tells Python to\n",
    "#run the code inside the functions.\n",
    "#Using Functions makes your programs easier to write, read,\n",
    "#test and fix."
   ]
  },
  {
   "cell_type": "markdown",
   "metadata": {},
   "source": [
    "# Defining a Function"
   ]
  },
  {
   "cell_type": "code",
   "execution_count": null,
   "metadata": {},
   "outputs": [],
   "source": [
    "#Here's a simple function named greet_user() that prints a \n",
    "#greeting\n",
    "def greet_user():#1\n",
    "    \"\"\"Display a simple greeting.\"\"\"#2\n",
    "    print(\"Hello!\")#3\n",
    "    \n",
    "greet_user()#4\n",
    "#This is the simplest structure of a fuction\n",
    "#At #1 the keyword def is used to inform Python that you're\n",
    "#defining a funcion.This is the function definition, which\n",
    "#tells Python the name of the function and, if applicable,\n",
    "#what kind of information the function needs to do its job.\n",
    "#The parentheses holds that information.\n",
    "#The name of the function is greet_user() and at the\n",
    "#moment it is empty, of which it can still work. The \n",
    "#definition ends with a colon.\n",
    "\n",
    "#Any indented lines following the def greet_user():, makes\n",
    "#up the body of the function.\n",
    "#The text at #2, is a comment called docstring, which \n",
    "#describes what the function does.\n",
    "#Docstings are enclosed in triple quotes, which Python \n",
    "#looks for when it generates documentation for the \n",
    "#functions in your program.\n",
    "\n",
    "#The line print(\"Hello!\") #3, is the only line of actual\n",
    "#code in the body of this function, so greet_user() has\n",
    "#just one job: print(\"Hello!\").\n",
    "\n",
    "#When you want to use this information, you call the \n",
    "#function. A function call tells Python to execute \n",
    "#the code in the function. To call a function, you \n",
    "#write the name of the function, followed by any \n",
    "#necessary information in parentheses, as shown at #4.\n",
    "\n"
   ]
  },
  {
   "cell_type": "markdown",
   "metadata": {},
   "source": [
    "Passing Information to a Function"
   ]
  },
  {
   "cell_type": "code",
   "execution_count": null,
   "metadata": {},
   "outputs": [],
   "source": [
    "#Modified slightly the function greet_user() can greet the\n",
    "#user by name. To do this, you enter the username in the \n",
    "#parentheses of the function's definition at def \n",
    "#greet_user().\n",
    "#By adding username, you allow the function to accept any\n",
    "#value of username you specify.\n",
    "#The function now expects you to provide a value for \n",
    "#username each time you call it.\n",
    "def greet_user(username):\n",
    "    print(f\"Hello, {username.title()}!\")\n",
    "\n",
    "greet_user('jesse')\n",
    "\n",
    "#Entering greet_user('Jesse') calls greet_user() and gives\n",
    "#the function the information it needs to execute the \n",
    "#print() call. The function accepts the name you passed\n",
    "#it and displays the greeting for that name."
   ]
  },
  {
   "cell_type": "markdown",
   "metadata": {},
   "source": [
    "Argument and Parameters"
   ]
  },
  {
   "cell_type": "code",
   "execution_count": null,
   "metadata": {},
   "outputs": [],
   "source": [
    "#The variable username in the definition of greet_user() is an\n",
    "#example of a parameter, a piece of information the function \n",
    "#needs to do its job.\n",
    "#The value 'jesse' in greet_user('jesse') is an example of an \n",
    "#argument. An argument is a piece of information that's passed\n",
    "#from a function call to a function.\n",
    "#When we call the function, we place the value we want the \n",
    "#function to work with in parentheses. In this case the argument\n",
    "#'jesse' was passed to the function greet_user(), and the value\n",
    "#was assigned to the parameter username."
   ]
  },
  {
   "cell_type": "markdown",
   "metadata": {},
   "source": [
    "Exercises"
   ]
  },
  {
   "cell_type": "code",
   "execution_count": null,
   "metadata": {},
   "outputs": [],
   "source": [
    "#8-1. Message: Write a function called display_message() that \n",
    "#prints one sentence telling everyone what you are learning \n",
    "#about in this chapter. Call the function, and make sure the \n",
    "#message displays correctly.\n",
    "def display_message():\n",
    "    print(\"I am learning about Python Functions.\")\n",
    "\n",
    "display_message()"
   ]
  },
  {
   "cell_type": "code",
   "execution_count": null,
   "metadata": {},
   "outputs": [],
   "source": [
    "#8-2. Favorite Book: Write a function called favorite_book() that \n",
    "#accepts one parameter, title. The function should print a message\n",
    "#, such as One of my favorite books is Alice in Wonderland. Call \n",
    "#the function, making sure to include a book title as an argument \n",
    "#in the function call\n",
    "def favorite_book(title):\n",
    "    print(f\"One of my favorite books is {title}\")\n",
    "\n",
    "favorite_book(\"'The Power of Focus.'\")"
   ]
  },
  {
   "cell_type": "markdown",
   "metadata": {},
   "source": [
    "# Passing Arguments"
   ]
  },
  {
   "cell_type": "code",
   "execution_count": null,
   "metadata": {},
   "outputs": [],
   "source": [
    "#Coz a function definition can have multiple parameters, a \n",
    "#function call may need multiple arguments.\n",
    "#You can pass arguments to your functions in a number of ways:\n",
    "#You can use positional arguments  or keyword argument, "
   ]
  },
  {
   "cell_type": "markdown",
   "metadata": {},
   "source": [
    "# Positional Argument"
   ]
  },
  {
   "cell_type": "code",
   "execution_count": null,
   "metadata": {
    "scrolled": true
   },
   "outputs": [],
   "source": [
    "#When you call a function, Python must match each argument in the\n",
    "#function call with a parameter in the function definition.\n",
    "#The simplest way to do this is based on the order of the \n",
    "#arguments provided. Values matched up this way are called \n",
    "#positional arguments.\n",
    "#Example\n",
    "def describe_pet(animal_type, pet_name):#1 Calling describe_pet()\n",
    "    #and providing an animal type and a name\n",
    "    \"\"\"Display informaton about a pet.\"\"\"\n",
    "    print(f\"\\nI have a {animal_type}.\")\n",
    "    print(f\"My {animal_type}'s name is {pet_name.title()}.\")\n",
    "    \n",
    "describe_pet('hamster', 'harry')#2 This is the function call and\n",
    "#argument 'hamster' is assigned to the parameter animal_type and\n",
    "#the argument 'harry' is assigned to the parameter pet_name.\n",
    "#In the function body, these two parameters are used to display\n",
    "#information about the pet being described."
   ]
  },
  {
   "cell_type": "markdown",
   "metadata": {},
   "source": [
    "Multiple Function Calls"
   ]
  },
  {
   "cell_type": "code",
   "execution_count": null,
   "metadata": {},
   "outputs": [],
   "source": [
    "#You can call a function as many times as needed. Describing a \n",
    "#second pet for instance, requires just one more call to \n",
    "#describe_pet():\n",
    "def describe_pet(animal_type, pet_name):#1 Calling describe_pet()\n",
    "    #and providing an animal type and a name\n",
    "    \"\"\"Display informaiton about a pet.\"\"\"\n",
    "    print(f\"\\nI have a {animal_type}.\")\n",
    "    print(f\"My {animal_type}'s name is {pet_name.title()}.\")\n",
    "    \n",
    "describe_pet('hamster', 'harry')\n",
    "describe_pet('dog', 'willie')\n",
    "#In the second call we pass describe_pet() the arguments 'dog' \n",
    "#and 'willie'.\n",
    "#As previously, python matches 'dog' with parameter animal_type\n",
    "#and 'willie' with pet_name.\n",
    "\n",
    "#You can use as many positional arguments as you need in your\n",
    "#functions. "
   ]
  },
  {
   "cell_type": "markdown",
   "metadata": {},
   "source": [
    "Order Matters in Positional Arguments"
   ]
  },
  {
   "cell_type": "code",
   "execution_count": null,
   "metadata": {},
   "outputs": [],
   "source": [
    "#You can get unexpected results if you mix up the order of the \n",
    "#arguments in a function call when using positional arguments\n",
    "#Example\n",
    "def describe_pet(animal_type, pet_name):\n",
    " \"\"\"Display information about a pet.\"\"\"\n",
    " print(f\"\\nI have a {animal_type}.\")\n",
    " print(f\"My {animal_type}'s name is {pet_name.title()}.\")\n",
    " \n",
    "describe_pet('harry', 'hamster')\n",
    "#In this example we list the name first and the type of animal \n",
    "#second. 'harry' is assigned to animal_type and 'hamster' to \n",
    "#pet_name"
   ]
  },
  {
   "cell_type": "markdown",
   "metadata": {},
   "source": [
    "# Keyword Argument"
   ]
  },
  {
   "cell_type": "code",
   "execution_count": null,
   "metadata": {},
   "outputs": [],
   "source": [
    "#A keyword argument is a name-value pair that you pass to a \n",
    "#function.\n",
    "#You directly associate the name and the value within the \n",
    "#argument, so when you pass the argument to the function\n",
    "#there's no confusion.\n",
    "#K.Arguments free you from worrying about correctly ordering\n",
    "#your arguments in the function call.\n",
    "#They also clarify the role of each value in the function\n",
    "#call.\n",
    "#Example\n",
    "def describe_pet(animal_type, pet_name):\n",
    " \"\"\"Display information about a pet.\"\"\"\n",
    " print(f\"\\nI have a {animal_type}.\")\n",
    " print(f\"My {animal_type}'s name is {pet_name.title()}.\")\n",
    " \n",
    "describe_pet(animal_type='hamster', pet_name='harry')\n",
    "#Here we explicitly tell python which\n",
    "#parameter each argument should be matched with.\n",
    "#The order of keyword arguments doesn't matter coz Python\n",
    "#knows where each value should go.\n",
    "\n",
    "#Note: When using keyword arguments be sure to use the exact\n",
    "#names of the parameters in the funciton call."
   ]
  },
  {
   "cell_type": "markdown",
   "metadata": {},
   "source": [
    "Default Values"
   ]
  },
  {
   "cell_type": "code",
   "execution_count": null,
   "metadata": {},
   "outputs": [],
   "source": [
    "#If an argument for a parameter is provided in the function\n",
    "#call, Python uses the argument value. If not, it uses the \n",
    "#parameter's default value.\n",
    "#When defining a default value for a parameter, you can \n",
    "#exclude the corresponding argument you'd usually write in \n",
    "#the function call.\n",
    "#Using default values can simplify your function calls.\n",
    "#For Example, Most of the calls to describe_pet() are being\n",
    "#used to describe dogs, you can set the default value of \n",
    "#animal_type to 'dog'. Now anyone calling describe_pet() for\n",
    "#a dog can omit this information.\n",
    "def describe_pet(pet_name, animal_type = 'dog'):\n",
    "    \"\"\"Display information about a pet\"\"\"\n",
    "    print(f\"\\nI have a {animal_type}.\")\n",
    "    print(f\"My {animal_type}'s name is {pet_name.title()}.\")\n",
    "    \n",
    "describe_pet(pet_name = 'willie')\n",
    "\n",
    "#Above, the order of the parameters in the function \n",
    "#definition had to be changed. Because the default value \n",
    "#makes it unecessary to specify a type of animal as an \n",
    "#argument.\n",
    "#Python still interprets this as a positional argument, so \n",
    "#if the function is called with just the pet's name, that \n",
    "#argument will match up with the first parameter listed in \n",
    "#the function's definition. This is why the first parameter\n",
    "#needs to be pet_name.\n",
    "#The simplest way to used this function is to provide just \n",
    "#a dog's name in the function call\n",
    "describe_pet('willie')\n",
    "\n",
    "#To describe an animal other than a dog, you could use a \n",
    "#function call like this.\n",
    "describe_pet(pet_name = 'harry', animal_type = 'hamster')\n",
    "#Because an explicit argument for animal_type is provided,\n",
    "#Python will ignore the parameter's default value.\n",
    "\n",
    "#Note: When you use default values, parameters with a \n",
    "#default value need to be listed after the parameters that\n",
    "#don't have default values.\n",
    "#This allows Python to continue interpreting positional \n",
    "#arguments correctly."
   ]
  },
  {
   "cell_type": "markdown",
   "metadata": {},
   "source": [
    "Equivalent Function Calls"
   ]
  },
  {
   "cell_type": "code",
   "execution_count": null,
   "metadata": {},
   "outputs": [],
   "source": [
    "#Because positional arguments, keyword arguments and default\n",
    "#values can all be used together, often you'll have several\n",
    "#equivalent ways to call a function.\n",
    "def describe_pet(pet_name, animal_type = 'dog'):\n",
    "#With this definition, an argument always needs to be \n",
    "#provided for pet_name, and this value can be provided using\n",
    "#the positional or keyword format.\n",
    "#If the animal being described is not a dog, an argument for\n",
    "#animal_type must be included in the call, and can be \n",
    "#specified using positional or keyword format.\n",
    "\n",
    "#All the following calls would work for this function:\n",
    "# A dog named Willie.\n",
    "    describe_pet('willie')\n",
    "    describe_pet(pet_name='willie')\n",
    "# A hamster named Harry.\n",
    "    describe_pet('harry', 'hamster')\n",
    "    describe_pet(pet_name='harry', animal_type='hamster')\n",
    "    describe_pet(animal_type='hamster', pet_name='harry')\n",
    "\n",
    "#Note: It does not matter which calling style you use. So \n",
    "#long as your function calls produce the output you want, \n",
    "#just use the style you find easiest to understand."
   ]
  },
  {
   "cell_type": "markdown",
   "metadata": {},
   "source": [
    "Avoiding Argument Errors"
   ]
  },
  {
   "cell_type": "code",
   "execution_count": null,
   "metadata": {},
   "outputs": [],
   "source": [
    "#When using functions, it is very easy to encounter errors\n",
    "#about unmatched arguments. \n",
    "#This type of error occur when you provide fewer or more \n",
    "#arguments than a function needs to do its work.\n",
    "#Example\n",
    "def describe_pet(animal_type, pet_name):\n",
    " \"\"\"Display information about a pet.\"\"\"\n",
    " print(f\"\\nI have a {animal_type}.\")\n",
    " print(f\"My {animal_type}'s name is {pet_name.title()}.\")\n",
    "describe_pet()\n",
    "#In the error, the traceback tells us the location of the \n",
    "#problem, allowing us to look back and see that something\n",
    "#went wrong in our function call.\n",
    "#The traceback tells us the call is missing two arguments \n",
    "#and reports the names of the missing arguments.\n",
    "#Python is helpful for reading the function's code for us\n",
    "#and tells us the names of the arguments we need to \n",
    "#provide, which is another motivation for giving your \n",
    "#variables and functions descriptive names. This can be \n",
    "#useful to you and anyone else who might use your code.\n",
    "\n",
    "#By using too much arguments, you should get a similar \n",
    "#traceback that can help you correctly match your function\n",
    "#call to the function definition"
   ]
  },
  {
   "cell_type": "markdown",
   "metadata": {},
   "source": [
    "Exercises"
   ]
  },
  {
   "cell_type": "code",
   "execution_count": null,
   "metadata": {},
   "outputs": [],
   "source": [
    "#8-3. T-Shirt: Write a function called make_shirt() that \n",
    "#accepts a size and the text of a message that should be \n",
    "#printed on the shirt. The function should print a sentence \n",
    "#summarizing the size of the shirt and the message printed on\n",
    "#it.Call the function once using positional arguments to make\n",
    "#a shirt. Call the function a second time using keyword \n",
    "#arguments.\n",
    "def make_shirt(size, text):\n",
    "    print(f\"The size of the shirt is {size} and the message on it is {text}.\")\n",
    "\n",
    "make_shirt(\"17\", \"I love Christ!\")\n",
    "make_shirt(size = \"27\", text = \"Just Do It!\")\n",
    "make_shirt(size = \"7\", text = \"Ronaldo is back!\")"
   ]
  },
  {
   "cell_type": "code",
   "execution_count": null,
   "metadata": {},
   "outputs": [],
   "source": [
    "#8-4. Large Shirts: Modify the make_shirt() function so that \n",
    "#shirts are large by default with a message that reads I love \n",
    "#Python. Make a large shirt and a medium shirt with the \n",
    "#default message, and a shirt of any size with a different \n",
    "#message.\n",
    "def make_shirt(text, size = \"large\"):\n",
    "    print(f\"The size of the shirt is {size} and the message on it is {text}.\")\n",
    "\n",
    "make_shirt(\"I love Python\")\n",
    "\n",
    "make_shirt(size = \"Large\", text = \"I love Python\")\n",
    "\n",
    "make_shirt(size = \"Medium\", text = \"I love Python\")\n",
    "\n",
    "make_shirt(size = \"Extra_Large\", text = \"I love a purpose driven life\")"
   ]
  },
  {
   "cell_type": "code",
   "execution_count": null,
   "metadata": {},
   "outputs": [],
   "source": [
    "#8-5. Cities: Write a function called describe_city() that \n",
    "#accepts the name of a city and its country. The function \n",
    "#should print a simple sentence, such as Reykjavik is in \n",
    "#Iceland. Give the parameter for the country a default \n",
    "#value. Call your function for three different cities, at \n",
    "#least one of which is not in the default country.\n",
    "def describe_city(city, country = \"Kenya\"):\n",
    "    print(f\"{city} is in {country}\")\n",
    "\n",
    "describe_city(city = \"Nairobi\")\n",
    "describe_city(city = \"Nakuru\")\n",
    "describe_city(country = \"Israel\", city = \"Jerusalem\")"
   ]
  },
  {
   "cell_type": "markdown",
   "metadata": {},
   "source": [
    "# Return Values"
   ]
  },
  {
   "cell_type": "code",
   "execution_count": null,
   "metadata": {},
   "outputs": [],
   "source": [
    "#A function doesn't have to display its output directly. It can \n",
    "#hwv process some data and then return a value or set of values.\n",
    "#The value the function returns is called return value.\n",
    "\n",
    "#The return statement takes a value from inside a function and \n",
    "#sends it back to the line that called the function.\n",
    "\n",
    "#Return values allow you to move much of your program's grunt work\n",
    "#into functions, which can simplify the body of your program."
   ]
  },
  {
   "cell_type": "code",
   "execution_count": null,
   "metadata": {},
   "outputs": [],
   "source": [
    "#Example of returning a Simple Value\n",
    "def get_formatted_name(first_name, last_name):#1\n",
    "    \"\"\"Return a full name, neatly formatted.\"\"\"\n",
    "    full_name = f\"{first_name} {last_name}\"#2\n",
    "    return full_name.title()#3\n",
    "\n",
    "musician = get_formatted_name(\"jimi\", 'hendrix')#4\n",
    "print(musician)\n",
    "\n",
    "#At #1 get_formatted_name() takes as parameters a first and last\n",
    "#name.\n",
    "#At #2 the function combines these two names, adds a space between\n",
    "#them, and assigns the result to full_name\n",
    "#At #3 the value of full_name is converted to title case, and then \n",
    "#returned to the calling line at #3.\n",
    "#At #4 When you call a function that returns a value, you need to\n",
    "#provide a variable that the return value can be assigned to. In \n",
    "#our case the returned value is assigned to the variable musician\n",
    "\n",
    "#The above method will be mainly used in case where you are dealing\n",
    "#with a large program that needs to store many first and last \n",
    "#names seperately."
   ]
  },
  {
   "cell_type": "markdown",
   "metadata": {},
   "source": [
    "Making an Argument Optional"
   ]
  },
  {
   "cell_type": "code",
   "execution_count": null,
   "metadata": {},
   "outputs": [],
   "source": [
    "#It makes sense sometimes to make an argument optional so that\n",
    "#people using the function can choose to provide extra information\n",
    "#only if they want to.\n",
    "#For example in the case of writing names, middle names aren't \n",
    "#always needed.\n",
    "#In a coding scenario, we can give the middle_name argument an \n",
    "#empty default value and ignore the argument unless the user \n",
    "#provides a value.\n",
    "#For example\n",
    "def get_formatted_name(first_name, last_name, middle_name = ''):\n",
    "    if middle_name:\n",
    "        full_name = f\"{first_name} {middle_name} {last_name}\"\n",
    "        \n",
    "    else:\n",
    "        full_name = f\"{first_name} {last_name}\"\n",
    "        \n",
    "    return full_name.title()\n",
    "\n",
    "musician = get_formatted_name('jimi', 'hendrix')\n",
    "print(musician)\n",
    "\n",
    "musician = get_formatted_name('john', 'hooker', 'lee')\n",
    "print(musician)\n",
    "\n",
    "#In the body of the function, we check to see if a middle name\n",
    "#has been provided.\n",
    "#Python interprets non-empty strings as True, so if middle-name\n",
    "#evaluates to True if a middle name argument is in the \n",
    "#function call.\n",
    "#If a middle name is provided, the first, middle, and last \n",
    "#names are combined to form a full name. It is then changed to\n",
    "#title case and returned to the function call line where it\n",
    "#is assigned to the variable musician and printed.\n",
    "#If no middle name is provided, the empty string fails the if\n",
    "#test and the else block runs."
   ]
  },
  {
   "cell_type": "markdown",
   "metadata": {},
   "source": [
    "Returning a Dictionary"
   ]
  },
  {
   "cell_type": "code",
   "execution_count": null,
   "metadata": {},
   "outputs": [],
   "source": [
    "#A function can return any kind of value you need it to eg\n",
    "#Dictionaries, lists, tuples etc\n",
    "#for example\n",
    "def build_up(first_name, last_name):\n",
    "    \"\"\"Return a dictionary of information about a person.\"\"\"\n",
    "    person = {'first' : first_name, 'last' : last_name}\n",
    "    return person\n",
    "\n",
    "musician = build_up('Nickson', 'Okeyo')\n",
    "print(musician)\n",
    "#This function takes in simple textual information and puts\n",
    "#it into a more meaningful data structure that lets you work\n",
    "#with the information beyond just printing it.\n"
   ]
  },
  {
   "cell_type": "code",
   "execution_count": null,
   "metadata": {},
   "outputs": [],
   "source": [
    "#You can easily extend this information to accept optional\n",
    "#values like a middle name, an age, an occupation, or any\n",
    "#other information you want to store about a person.\n",
    "def build_person(first_name, last_name, age = None):\n",
    "    \"\"\"Return a dictionary of information about a person\"\"\"\n",
    "    person = {'first' : first_name, 'last' : last_name}\n",
    "    if age:\n",
    "        person['age'] = age\n",
    "    return person\n",
    "\n",
    "musician = build_person('jimi', 'hendrix', age = 27)\n",
    "musician2 = build_person('jimi', 'hendrix')\n",
    "\n",
    "print(musician)\n",
    "print(musician2)\n",
    "\n",
    "#We add a new optional parameter age to the function \n",
    "#definition and assign the parameter the special value None,\n",
    "#which is used when a variable has no specific value\n",
    "#assigned to it. None can be thought as a placeholder value.\n",
    "#In conditional tests, None evalueates to False.\n",
    "\n",
    "\n",
    "#If the function call includes a value for age, that value\n",
    "#is stored in the dictionary. This function always stores a\n",
    "#person's name, but it can also be modified to store an \n",
    "#other information you want about a person."
   ]
  },
  {
   "cell_type": "markdown",
   "metadata": {},
   "source": [
    "Using a Function with a while Loop"
   ]
  },
  {
   "cell_type": "code",
   "execution_count": null,
   "metadata": {},
   "outputs": [],
   "source": [
    "#You can use functions with all the Python structures you've\n",
    "#learned about so far.\n",
    "#Example using While Loop\n",
    "def get_formatted_name(first_name, last_name):\n",
    "    \"\"\"Return a full name, neatly formatted.\"\"\"\n",
    "    full_name = f\"{first_name} {last_name}\"\n",
    "    return full_name.title()\n",
    "\n",
    "#This is an infinite loop!\n",
    "while True:\n",
    "    print(\"\\nPlease tell me your name:\")\n",
    "    print(\"(enter 'q' at any time to quit)\")\n",
    "    f_name = input()\n",
    "    #if f_name == 'q':\n",
    "     #   break\n",
    "        \n",
    "    #l_name = input(\"Last name: \")\n",
    "    #if l_name == 'q':\n",
    "     #   break\n",
    "    \n",
    "    \n",
    "    #formatted_name = get_formatted_name(f_name, l_name)\n",
    "    #print(f\"\\nHello, {formatted_name}!\")\n",
    "#The While Loop prompts the user for their first and last \n",
    "#names.\n",
    "#Variable storing the input values for the first and last\n",
    "#names, are used in the function call.\n",
    "\n",
    "#There's one problem with the while loop: We haven't defined\n",
    "#a quit condition. The break statement offers a straight \n",
    "#forward way to exit the loop at either prompt.\n",
    "    "
   ]
  },
  {
   "cell_type": "markdown",
   "metadata": {},
   "source": [
    "# Exercises"
   ]
  },
  {
   "cell_type": "code",
   "execution_count": null,
   "metadata": {},
   "outputs": [],
   "source": [
    "#8-6 City Names: Write a function called city_country() that\n",
    "#takes in the name of a city and its country. The function\n",
    "#should return a string formatted like this:\n",
    "#\"Santiago, Chile\"\n",
    "\n",
    "#Call your function with at least three city country pairs, \n",
    "#and print the values that are returned.\n",
    "\n",
    "def city_country(city_name, country_name):\n",
    "    \"\"\"Return Value\"\"\"\n",
    "    names = f\"{city_name}, {country_name}\"\n",
    "    return(names.title())\n",
    "print(city_country('Kisumu', 'Kenya'))\n",
    "print(city_country('moscow', 'russia'))"
   ]
  },
  {
   "cell_type": "code",
   "execution_count": null,
   "metadata": {},
   "outputs": [],
   "source": [
    "#8-7. Album: Write a function called make_album() that \n",
    "#builds a dictionary describing a music album. The function \n",
    "#should take in an artist name and an album title, and it \n",
    "#should return a dictionary containing these two pieces of \n",
    "#information. Use the function to make three dictionaries \n",
    "#representing different albums. Print each return value to \n",
    "#show that the dictionaries are storing the album \n",
    "#information correctly.Use None to add an optional parameter \n",
    "#to make_album() that allows you to store the number of \n",
    "#songs on an album. If the calling line includes a value for \n",
    "#the number of songs, add that value to the album’s \n",
    "#dictionary. Make at least one new function call that \n",
    "#includes the number of songs on an album.\n",
    "\n",
    "def make_album(artist_name, album_title, number_songs = None):\n",
    "    \"\"\"Create a dictionary containing the above information.\"\"\"\n",
    "    dic_1 = {'name' : artist_name, 'title' : album_title}\n",
    "    dic_2 = {'name1' : artist_name, 'title' : album_title}\n",
    "    dic_3 = {'name2' : artist_name, 'title' : album_title}\n",
    "    \n",
    "    if number_songs:\n",
    "        dic_1['number_songs'] = number_songs\n",
    "        dic_2['number_songs'] = number_songs\n",
    "        dic_3['number_songs'] = number_songs\n",
    "    return(dic_1, dic_2, dic_3)\n",
    "\n",
    "#Why is it that when I indent the return statement in the if\n",
    "#statement, it prints none for the print statement without\n",
    "#number_songs value?\n",
    "    \n",
    "    \n",
    "\n",
    "\n",
    "print(make_album('Davies', 'Jesus is Lord', 23))\n",
    "\n",
    "print(make_album('Bill', 'Jesus is Lord'))\n",
    "\n",
    "\n",
    "\n",
    "\n",
    "\n",
    "    \n",
    "     \n",
    "\n",
    "    \n",
    "    "
   ]
  },
  {
   "cell_type": "code",
   "execution_count": 13,
   "metadata": {},
   "outputs": [],
   "source": [
    "#8-8. User Albums: Start with your program from Exercise \n",
    "#8-7. Write a whileloop that allows users to enter an \n",
    "#album’s artist and title. Once you have that information, \n",
    "#call make_album() with the user’s input and print the \n",
    "#dictionary that’s created. Be sure to include a quit value \n",
    "#in the while loop.\n",
    "def make_album(artist_name, album_title):\n",
    "    \"\"\"Create a dictionary containing the above information.\"\"\"\n",
    "    dic_1 = {'name' : artist_name, 'title' : album_title}\n",
    "    \n",
    "    \n",
    "    #while dic_1:\n",
    "     #   dic_input = input(dic_1)\n",
    "        \n",
    "    return(dic_1)\n",
    "\n",
    "    while dic_1.items():\n",
    "        name_ = input()\n",
    "        value_ = input()\n",
    "        \n",
    "        class_ = {name_:value_}\n",
    "        \n",
    "        \n",
    "        \n",
    "        \n",
    "\n"
   ]
  },
  {
   "cell_type": "markdown",
   "metadata": {},
   "source": [
    "# Passing a List"
   ]
  },
  {
   "cell_type": "code",
   "execution_count": 14,
   "metadata": {},
   "outputs": [
    {
     "name": "stdout",
     "output_type": "stream",
     "text": [
      "Hello, Hannah!\n",
      "Hello, Ty!\n",
      "Hello, Margot!\n"
     ]
    }
   ],
   "source": [
    "#You'll find it useful to pass a list to a function.\n",
    "#When you pass a list to a function, the function gets direct\n",
    "#access to the contents of the list.\n",
    "#Example\n",
    "def greet_users(names):\n",
    "    \"\"\"Print a simple greeting to each user in the list\"\"\"\n",
    "    for name in names:\n",
    "        msg = f\"Hello, {name.title()}!\"\n",
    "        print(msg)\n",
    "        \n",
    "usernames = ['hannah', 'ty', 'margot']\n",
    "greet_users(usernames)\n",
    "\n",
    "#In the example above, we define greet_users() so it expects a\n",
    "#list of names, which it assigns to the parameter names.\n",
    "\n",
    "#The function loops through the list it receives and \n",
    "#personalizes the greeting to each user.\n",
    "\n",
    "#At 1 we define a list of users and then pass the list \n",
    "#usernames to greet_users() in our function call."
   ]
  },
  {
   "cell_type": "code",
   "execution_count": 16,
   "metadata": {},
   "outputs": [
    {
     "name": "stdout",
     "output_type": "stream",
     "text": [
      "['Nickson', 'Bill', 'Davies']\n"
     ]
    }
   ],
   "source": [
    "def greet_users2():\n",
    "    \"\"\"Print a list\"\"\"\n",
    "    users = ['Nickson', 'Bill', 'Davies']\n",
    "    \n",
    "    return(users)\n",
    "\n",
    "print(greet_users2())\n",
    "\n",
    "\n"
   ]
  },
  {
   "cell_type": "markdown",
   "metadata": {},
   "source": [
    "Modifying a List in a Function"
   ]
  },
  {
   "cell_type": "code",
   "execution_count": 24,
   "metadata": {},
   "outputs": [
    {
     "name": "stdout",
     "output_type": "stream",
     "text": [
      "Printing model: phone case\n",
      "Printing model: robot pendant\n",
      "Printing model: phone case\n",
      "\n",
      "The following models have been printed: \n",
      "phone case\n",
      "robot pendant\n",
      "phone case\n"
     ]
    }
   ],
   "source": [
    "#When you pass a list to a function, the function can modify\n",
    "#the list.\n",
    "#Any changes made to the list inside the function's body are \n",
    "#permanent, allowing you to work efficiently even when you're\n",
    "#dealing with large amounts of data.\n",
    "#Example of a 3D company that prints designs and then stored in\n",
    "#a list.\n",
    "#Example without a function.\n",
    "\n",
    "#Start with some designs that need to be printed.\n",
    "unprinted_designs = ['phone case', 'robot pendant', 'phone case']\n",
    "completed_models = [] #Empty list that each design will be \n",
    "#moved to after it has been printed.\n",
    "\n",
    "#Simulate printing each design, until none are left.\n",
    "#Move each design to completed_models after printing.\n",
    "while unprinted_designs:\n",
    "    current_design = unprinted_designs.pop()\n",
    "    \n",
    "    print(f\"Printing model: {current_design}\")\n",
    "    \n",
    "    completed_models.append(current_design)\n",
    "    \n",
    "    #Display all completed models.\n",
    "print(\"\\nThe following models have been printed: \")\n",
    "for completed_model in completed_models:\n",
    "    print(completed_model)\n",
    "    \n"
   ]
  },
  {
   "cell_type": "code",
   "execution_count": 101,
   "metadata": {},
   "outputs": [
    {
     "name": "stdout",
     "output_type": "stream",
     "text": [
      "Printing model: dodecahedron\n",
      "Printing model: robot pendant\n",
      "Printing model: phone case\n",
      "\n",
      "The following models have been printed:\n",
      "dodecahedron\n",
      "robot pendant\n",
      "phone case\n",
      "The unprinted_designs are:  []\n"
     ]
    }
   ],
   "source": [
    "#We can reorganize the code above by writing two functions, \n",
    "#each of which does one specific job. The code won't change \n",
    "#but we want a more structured approach.\n",
    "\n",
    "\n",
    "def print_models(unprinted_designs, completed_models):\n",
    "    \"\"\"\n",
    "    Simulate printing each design, until none are left.\n",
    "    Move each design to complete_models after printing.\n",
    "    \"\"\"\n",
    "    while unprinted_designs:\n",
    "        current_design = unprinted_designs.pop()\n",
    "        print(f\"Printing model: {current_design}\")\n",
    "        completed_models.append(current_design)\n",
    "\n",
    "\n",
    "def show_completed_models(completed_models):\n",
    "    \"\"\"Show all the models that were printed\"\"\"\n",
    "    print(\"\\nThe following models have been printed:\")\n",
    "    for complete_model in completed_models:\n",
    "        print(complete_model)\n",
    "\n",
    "\n",
    "unprinted_designs = ['phone case', 'robot pendant', 'dodecahedron']\n",
    "completed_models = []\n",
    "\n",
    "print_models(unprinted_designs, completed_models)\n",
    "show_completed_models(completed_models)\n",
    "\n",
    "#The unprinted design is empty\n",
    "print(f\"The unprinted_designs are:  {unprinted_designs}\")\n",
    "#We set up a list of unprinted designs and an empty list that\n",
    "#will hold the completed models. \n",
    "#Then, because we’ve already defined our two functions, \n",
    "#all we have to do is call them and pass them the right \n",
    "#arguments. We call print_models() and pass it the two lists it \n",
    "#needs; as expected, print_models()simulates printing the \n",
    "#designs. \n",
    "\n",
    "#Then we call show_completed_models() and pass it the list of \n",
    "#completed models so it can report the models that have been \n",
    "#printed. The descriptive function names allow others to read \n",
    "#this code and understand it, even without comments.\n",
    "\n",
    "#The example above, demonstrates that every function should\n",
    "#have one specific job. The first one prints each design and \n",
    "#the second one displayes the completed models. This is to \n",
    "#prevent a single function from doing too much work."
   ]
  },
  {
   "cell_type": "markdown",
   "metadata": {},
   "source": [
    "Preventing a Function from Modifying a List"
   ]
  },
  {
   "cell_type": "code",
   "execution_count": 36,
   "metadata": {},
   "outputs": [
    {
     "name": "stdout",
     "output_type": "stream",
     "text": [
      "Printing model: dodecahedron\n",
      "Printing model: robot pendant\n",
      "Printing model: phone case\n",
      "\n",
      "The following models have been printed:\n",
      "dodecahedron\n",
      "robot pendant\n",
      "phone case\n",
      "The unprinted_designs are:  ['phone case', 'robot pendant', 'dodecahedron']\n"
     ]
    }
   ],
   "source": [
    "#Sometimes you'll want to prevent a function from \n",
    "#modifying a list.\n",
    "#Say you start with a list of unprinted designs and write\n",
    "#a function to move them to a list of completed models.\n",
    "#You may decide that even though you've printed all the \n",
    "#designs, you want to keep the original list of unprinted\n",
    "#designs for your record.\n",
    "\n",
    "#To prevent the unprinted designs from being empty, you pass\n",
    "#the function a copy of the list, not the original.\n",
    "#Any changes the function makes to the list will affect only\n",
    "#the copy leaving, the original list intact.\n",
    "\n",
    "#The syntax for sending a copy of a list to a function is:\n",
    "#function_name(list_name[:])\n",
    "\n",
    "#The slice notation [:] makes a copy of the list to send to\n",
    "#the function\n",
    "\n",
    "#Therefore, if we didn't want to empty the list of unprinted\n",
    "#designs, we could call print_models() like this:\n",
    "#print_models(unprinted_designs[:], completed_models)\n",
    "\n",
    "def print_models(unprinted_designs, completed_models):\n",
    "    \"\"\"\n",
    "    Simulate printing each design, until none are left.\n",
    "    Move each design to complete_models after printing.\n",
    "    \"\"\"\n",
    "    while unprinted_designs:\n",
    "        current_design = unprinted_designs.pop()\n",
    "        print(f\"Printing model: {current_design}\")\n",
    "        completed_models.append(current_design)\n",
    "\n",
    "\n",
    "def show_completed_models(completed_models):\n",
    "    \"\"\"Show all the models that were printed\"\"\"\n",
    "    print(\"\\nThe following models have been printed:\")\n",
    "    for complete_mode in completed_model:\n",
    "        print(complete_mode)\n",
    "\n",
    "unprinted_design = ['phone case', 'robot pendant', 'dodecahedron']\n",
    "completed_model = []\n",
    "\n",
    "\n",
    "print_models(unprinted_design[:], completed_model)\n",
    "show_completed_models(completed_model)\n",
    "\n",
    "\n",
    "#The unprinted design is not empty\n",
    "print(f\"The unprinted_designs are:  {unprinted_designs}\")\n",
    "\n",
    "#Even though you can preserve the contents of a list by \n",
    "#passing a copy of it to your functions, you should pass the\n",
    "#original list to functions unless you have a specific \n",
    "#reason to pass a copy.\n",
    "#It's more efficient to work with an existing list to avoid\n",
    "#using the time and memory needed to make a seperate copy,\n",
    "#especially when you're working with large lists."
   ]
  },
  {
   "cell_type": "markdown",
   "metadata": {},
   "source": [
    "# Exercises"
   ]
  },
  {
   "cell_type": "code",
   "execution_count": 78,
   "metadata": {
    "scrolled": true
   },
   "outputs": [
    {
     "name": "stdout",
     "output_type": "stream",
     "text": [
      "The text message you received is: I love you \n",
      "The text message you received is: Baby come over \n",
      "The text message you received is: You are late \n",
      "The text message you received is: I won't make it \n"
     ]
    }
   ],
   "source": [
    "#8-9. Messages: Make a list containing a series of short text \n",
    "#messages. Pass the list to a function called show_messages()\n",
    "#, which prints each text message.\n",
    "\n",
    "text_messages = ['I love you', 'Baby come over', 'You are late', 'I won\\'t make it']\n",
    "\n",
    "def show_messages(txt_msgs):\n",
    "    \n",
    "    for txt_msg in text_messages:\n",
    "        print(f\"The text message you received is: {txt_msg} \" )\n",
    "        \n",
    "show_messages(text_messages)\n",
    "    "
   ]
  },
  {
   "cell_type": "code",
   "execution_count": 104,
   "metadata": {},
   "outputs": [
    {
     "name": "stdout",
     "output_type": "stream",
     "text": [
      "The text message you received is: I love you \n",
      "The text message you received is: Baby come over \n",
      "The text message you received is: You are late \n",
      "The text message you received is: I won't make it \n",
      "Sent messages are: I won't make it\n",
      "Sent messages are: You are late\n",
      "Sent messages are: Baby come over\n",
      "Sent messages are: I love you\n",
      "[]\n"
     ]
    }
   ],
   "source": [
    "#8-10. Sending Messages: Start with a copy of your program \n",
    "#from Exercise 8-9. Write a function called send_messages() \n",
    "#that prints each text message and moves each message to a \n",
    "#new list called sent_messages as it’s printed. After calling\n",
    "#the function, print both of your lists to make sure the \n",
    "#messages were moved correctly.\n",
    "\n",
    "\n",
    "def show_messages(txt_msgs):\n",
    "    \n",
    "    for txt_msg in txt_msgs:\n",
    "        print(f\"The text message you received is: {txt_msg} \" )\n",
    "        \n",
    "\n",
    "\n",
    "\n",
    "def send_messages(txt_msgs, snd_msgs):\n",
    "    \n",
    "    while text_messages:\n",
    "        transferred_messages = text_messages.pop()\n",
    "        \n",
    "        sent_messages.append(transferred_messages)\n",
    "    \n",
    "    for snd_msg in sent_messages:\n",
    "        print(f\"Sent messages are: {snd_msg}\")\n",
    "        \n",
    "        \n",
    "text_messages = ['I love you', 'Baby come over', 'You are late', 'I won\\'t make it']\n",
    "sent_messages = []\n",
    "\n",
    "show_messages(text_messages)\n",
    "send_messages(text_messages[:], sent_messages)\n",
    "\n",
    "print(text_messages)\n",
    "    \n",
    "    \n",
    "    \n"
   ]
  },
  {
   "cell_type": "code",
   "execution_count": 99,
   "metadata": {},
   "outputs": [
    {
     "name": "stdout",
     "output_type": "stream",
     "text": [
      "Sent messages are: I won't make it\n",
      "Sent messages are: You are late\n",
      "Sent messages are: Baby come over\n",
      "Sent messages are: I love you\n",
      "[]\n"
     ]
    }
   ],
   "source": [
    "#8-11. Archived Messages: Start with your work from \n",
    "#Exercise 8-10. Call the function send_messages() with a copy\n",
    "#of the list of messages. After calling the function, print \n",
    "#both of your lists to show that the original list has \n",
    "#retained its messages.\n",
    "\n",
    "#def show_messages(txt_msgs):\n",
    "    \n",
    " #   for txt_msg in txt_msgs:\n",
    "  #      print(f\"The text message you received is: {txt_msg} \" )\n",
    "        \n",
    "#show_messages(text_messages)\n",
    "\n",
    "\n",
    "\n",
    "def send_messages(txt_msgs, snd_msgs):\n",
    "    \n",
    "    while text_messages:\n",
    "        transferred_messages = text_messages.pop()\n",
    "        \n",
    "        sent_messages.append(transferred_messages)\n",
    "    \n",
    "    for snd_msg in sent_messages:\n",
    "        print(f\"Sent messages are: {snd_msg}\")\n",
    "\n",
    "text_messages = ['I love you', 'Baby come over', 'You are late', 'I won\\'t make it']\n",
    "\n",
    "sent_messages = []\n",
    "\n",
    "\n",
    "send_messages(text_messages[:], sent_messages)\n",
    "#show_messages(text_messages)\n",
    "\n",
    "\n",
    "print(text_messages)\n",
    "\n",
    "    \n",
    "    "
   ]
  },
  {
   "cell_type": "markdown",
   "metadata": {},
   "source": [
    "# Passing an Arbitrary Number of Arguments"
   ]
  },
  {
   "cell_type": "code",
   "execution_count": 105,
   "metadata": {},
   "outputs": [
    {
     "name": "stdout",
     "output_type": "stream",
     "text": [
      "('pepperoni',)\n",
      "('mushrooms', 'green peppers', 'extra cheese')\n"
     ]
    }
   ],
   "source": [
    "#Python allows a function to collect an arbitrary number of \n",
    "#arguments from the calling statement.\n",
    "#In the example below, the function in the following example has \n",
    "#one parameter *toppings, but this parameter collects as many \n",
    "#arguments as the calling line provides.\n",
    "\n",
    "def make_pizza(*toppings):\n",
    "    \"\"\"Print the list of toppings that have been requested.\"\"\"\n",
    "    print(toppings)\n",
    "    \n",
    "make_pizza('pepperoni')\n",
    "make_pizza('mushrooms', 'green peppers', 'extra cheese')\n",
    "\n",
    "#The asterick in the parameter name *toppings tells Python to make\n",
    "#an empty tuple called toppings and pack whatever values it\n",
    "#receives into the tuple.\n",
    "\n",
    "#The print() call in the function body produces output showing that\n",
    "#Python can handle a function call with one value and a call with\n",
    "#three values. It treats the different calls similarly.\n",
    "\n",
    "#Python packs the arguments into a tuple, even if the function \n",
    "#receives only one value."
   ]
  },
  {
   "cell_type": "code",
   "execution_count": 106,
   "metadata": {},
   "outputs": [
    {
     "name": "stdout",
     "output_type": "stream",
     "text": [
      "\n",
      "Making a pizza with the following toppings:\n",
      "- pepperoni\n",
      "\n",
      "Making a pizza with the following toppings:\n",
      "- mushrooms\n",
      "- green peppers\n",
      "- extra cheese\n"
     ]
    }
   ],
   "source": [
    "#Now we can replace the print() call with a loop that runs through\n",
    "#the list of toppings and describes the pizza being ordered.\n",
    "def make_pizza(*toppings):\n",
    "    \"\"\"Summarize the pizza we are about to make.\"\"\"\n",
    "    print(\"\\nMaking a pizza with the following toppings:\")\n",
    "    for topping in toppings:\n",
    "        print(f\"- {topping}\")\n",
    "        \n",
    "make_pizza('pepperoni')\n",
    "make_pizza('mushrooms', 'green peppers', 'extra cheese')"
   ]
  },
  {
   "cell_type": "markdown",
   "metadata": {},
   "source": [
    "Mixing Positional and Arbitrary Arguments"
   ]
  },
  {
   "cell_type": "code",
   "execution_count": 107,
   "metadata": {},
   "outputs": [
    {
     "name": "stdout",
     "output_type": "stream",
     "text": [
      "\n",
      "Making a 16-inch pizza with the following toppings:\n",
      "-pepperoni\n",
      "\n",
      "Making a 12-inch pizza with the following toppings:\n",
      "-mushrooms\n",
      "-green peppers\n",
      "-extra cheese\n"
     ]
    }
   ],
   "source": [
    "#If you want a function to accept several different kinds of \n",
    "#arguments, the parameter that accepts an arbitrary number of \n",
    "#arguments must be placed last in the function definition.\n",
    "\n",
    "#Python matches positional and keyword arguments first and then\n",
    "#collects any remaining arguments in the final parameter.\n",
    "\n",
    "#For example\n",
    "def make_pizza(size, *toppings):\n",
    "    \"\"\"Summarize the pizza we are about to make.\"\"\"\n",
    "    print(f\"\\nMaking a {size}-inch pizza with the following toppings:\")\n",
    "    for topping in toppings:\n",
    "        print(f\"-{topping}\")\n",
    "        \n",
    "make_pizza(16, \"pepperoni\")\n",
    "make_pizza(12, \"mushrooms\", \"green peppers\", \"extra cheese\")\n",
    "\n",
    "#In the function definition, Python assigns the first value it\n",
    "#receives to the parameter size. \n",
    "\n",
    "#All other values that come after are stored in the tuple toppings.\n",
    "\n",
    "#The function calls include an argument for the size first, \n",
    "#followed by as many toppings as needed."
   ]
  },
  {
   "cell_type": "markdown",
   "metadata": {},
   "source": [
    "Using Arbitrary Keyword Arguments"
   ]
  },
  {
   "cell_type": "code",
   "execution_count": 109,
   "metadata": {},
   "outputs": [
    {
     "name": "stdout",
     "output_type": "stream",
     "text": [
      "{'location': 'princenton', 'field': 'physics', 'first_name': 'albert', 'last_name': 'einstein'}\n"
     ]
    }
   ],
   "source": [
    "#Sometimes you'll want to accept an arbitrary number of arguments,\n",
    "#but you won't know ahead of time what kind of information will be\n",
    "#passed to the function.\n",
    "\n",
    "#In this case, you can write a function that accepts as many \n",
    "#key-value pairs as the calling statement provides.\n",
    "\n",
    "#Example is building a user profile. Apart from the names, you'll \n",
    "#not be sure what kind of information you'll receive.\n",
    "\n",
    "def build_profile(first, last, **user_info):\n",
    "    \"\"\"Build a dictionary containing everything we know about a user.\"\"\"\n",
    "    user_info['first_name'] = first #1\n",
    "    user_info['last_name'] = last\n",
    "    return user_info\n",
    "\n",
    "user_profile = build_profile ('albert', 'einstein', \n",
    "                              location = 'princenton',\n",
    "                             field = 'physics')\n",
    "\n",
    "\n",
    "print(user_profile)\n",
    "\n",
    "#The definition of build_profile() expects a first and last name,\n",
    "#and then it allows the user to pass in as many name-value pairs\n",
    "#as they want.\n",
    "\n",
    "#The double asterisks before the parameter **user_info causes \n",
    "#Python to create an empty dictionary called user_info and pack \n",
    "#whatever name-value pairs it receives into the dictionary.\n",
    "\n",
    "#In the body of build_profile(), we add the first and last names to\n",
    "#the user_info dictionary because we'll always receive these two\n",
    "#pieces of information from the user #1 and they haven't been \n",
    "#placed into the dictionary yet.\n",
    "#Then we return the user_info dictionary to the function call line.\n",
    "\n",
    "#Within the function, you can access the key-value pairs in \n",
    "#user-info just as you would for any dictionary.\n",
    "\n",
    "#The function would work no matter how many additional key-value\n",
    "#pairs are provided in the function call\n",
    "\n",
    "#You can mix positional, keyword, and arbitrary values in many \n",
    "#different ways when writing your own functions. "
   ]
  },
  {
   "cell_type": "markdown",
   "metadata": {},
   "source": [
    "# Exercises"
   ]
  },
  {
   "cell_type": "code",
   "execution_count": 123,
   "metadata": {},
   "outputs": [
    {
     "name": "stdout",
     "output_type": "stream",
     "text": [
      "Please add the following items to the sandwich: \n",
      "- Spinach\n",
      "- Beef\n",
      "Please add the following items to the sandwich: \n",
      "- Kales\n",
      "- Chicken\n",
      "- Lemon\n",
      "Please add the following items to the sandwich: \n",
      "- Pinapple\n"
     ]
    }
   ],
   "source": [
    "#8-12. Sandwiches: Write a function that accepts a list of items a \n",
    "#person wants on a sandwich. The function should have one parameter \n",
    "#that collects as many items as the function call provides, and it \n",
    "#should print a summary of the sand\u0002wich that’s being ordered. Call \n",
    "#the function three times, using a different num\u0002ber of arguments \n",
    "#each time\n",
    "sandwich_items = []\n",
    "def item_list(*sandwich):\n",
    "    \"\"\"Declare an empty list that will store the sandwich items\"\"\"\n",
    "    sandwich_items = [*sandwich]\n",
    "    print(\"Please add the following items to the sandwich: \")\n",
    "    \n",
    "    for sandwich_item in sandwich_items:\n",
    "        print(f\"- {sandwich_item}\")\n",
    "        \n",
    "item_list('Spinach', 'Beef')\n",
    "item_list('Kales', 'Chicken', 'Lemon')\n",
    "item_list('Pinapple')"
   ]
  },
  {
   "cell_type": "code",
   "execution_count": 136,
   "metadata": {},
   "outputs": [
    {
     "name": "stdout",
     "output_type": "stream",
     "text": [
      "{'location': 'Nairobi', 'food': 'ugali', 'hobby': 'working out', 'first_name': 'Nickson', 'last_name': 'Okeyo', 'age': 24}\n"
     ]
    }
   ],
   "source": [
    "#8-13. User Profile: Start with a copy of user_profile.py from page \n",
    "#149. Build a profile of yourself by calling build_profile(), \n",
    "#using your first and last names and three other key-value pairs\n",
    "#that describe you.\n",
    "def build_profile(first, last, age, **user_info):\n",
    "    \"\"\"Build a dictionary containing everything we know about a user.\"\"\"\n",
    "\n",
    "    user_info['first_name'] = first\n",
    "    user_info['last_name'] = last\n",
    "    user_info['age'] = age\n",
    "    return user_info\n",
    "\n",
    "my_profile = build_profile( 'Nickson', 'Okeyo', 24,\n",
    "                           location = 'Nairobi', food = 'ugali',\n",
    "                           hobby = 'working out'\n",
    "              \n",
    ")\n",
    "\n",
    "print(my_profile)\n",
    "    \n"
   ]
  },
  {
   "cell_type": "code",
   "execution_count": 3,
   "metadata": {},
   "outputs": [
    {
     "name": "stdout",
     "output_type": "stream",
     "text": [
      "('Subaru', 'Outback', {'color': 'black', 'size': 'big'})\n"
     ]
    }
   ],
   "source": [
    "#8-14. Cars: Write a function that stores information about a car \n",
    "#in a dictionary. The function should always receive a manufacturer\n",
    "#and a model name. It should then accept an arbitrary number of \n",
    "#keyword arguments. Call the function with the required information\n",
    "#and two other name-value pairs, such as a color or an optional \n",
    "#feature. Your function should work for a call like this \n",
    "#one:car = make_car('subaru', 'outback', color='blue', tow_package=True)\n",
    "#Print the dictionary that’s returned to make sure all the \n",
    "#information was stored correctly\n",
    "\n",
    "def car_information(manufacturer_name, model_name, **other_information):\n",
    "    \n",
    "    return manufacturer_name, model_name, other_information\n",
    "\n",
    "car = car_information('Subaru', 'Outback', color = 'black', size = 'big')\n",
    "\n",
    "print(car)\n",
    "    "
   ]
  },
  {
   "cell_type": "markdown",
   "metadata": {},
   "source": [
    "# Storing Your Functions in Modules"
   ]
  },
  {
   "cell_type": "code",
   "execution_count": 4,
   "metadata": {},
   "outputs": [],
   "source": [
    "#One advantage of functions is the way they seperate blocks of code\n",
    "#from your main program.\n",
    "#You can go a step further by storing your functions in a seperate\n",
    "#file called a module and then importing that module into your\n",
    "#main program.\n",
    "#An import statement tells Python to make the code in a module \n",
    "#available in the currently running program file.\n",
    "\n",
    "#Storing your function in a seperate file allows you to hide the \n",
    "#details of your program's code and focus on its higher-level logic.\n",
    "#It also allows you to reuse functions in many different programs.\n",
    "\n",
    "#When you store your functions in seperate files, you can share \n",
    "#those files with other programmers without having to share your \n",
    "#entire program.\n",
    "\n",
    "#importing functions allows you to use libraries that other \n",
    "#programmers have written."
   ]
  },
  {
   "cell_type": "markdown",
   "metadata": {},
   "source": [
    "Importing an entire Module"
   ]
  },
  {
   "cell_type": "code",
   "execution_count": 5,
   "metadata": {},
   "outputs": [],
   "source": [
    "#To start importing functions, we first need to create a \n",
    "#module.\n",
    "#A module is a file ending with .py that contains the code\n",
    "#that you want to import into your program.\n",
    "#Let's make a module that contains the function make_pizza()\n",
    "#.To make this module, we'll remove everything from the \n",
    "#file pizza.py we made earlier except the function \n",
    "#make_pizza().\n",
    "def make_pizza(size, *toppings):\n",
    "    \"\"\"Summarize the pizza we are about to make.\"\"\"\n",
    "    print(f\"\\nMaking a {size}-inch pizza with the following toppings:\")\n",
    "    for topping in toppings:\n",
    "        print(f\"- {topping}\")"
   ]
  },
  {
   "cell_type": "code",
   "execution_count": 6,
   "metadata": {},
   "outputs": [
    {
     "ename": "ModuleNotFoundError",
     "evalue": "No module named 'pizza'",
     "output_type": "error",
     "traceback": [
      "\u001b[1;31m---------------------------------------------------------------------------\u001b[0m",
      "\u001b[1;31mModuleNotFoundError\u001b[0m                       Traceback (most recent call last)",
      "\u001b[1;32m<ipython-input-6-88fcad62d442>\u001b[0m in \u001b[0;36m<module>\u001b[1;34m\u001b[0m\n\u001b[0;32m      3\u001b[0m \u001b[1;31m#module we created above. We then make two calls to\u001b[0m\u001b[1;33m\u001b[0m\u001b[1;33m\u001b[0m\u001b[1;33m\u001b[0m\u001b[0m\n\u001b[0;32m      4\u001b[0m \u001b[1;31m#make_pizza().\u001b[0m\u001b[1;33m\u001b[0m\u001b[1;33m\u001b[0m\u001b[1;33m\u001b[0m\u001b[0m\n\u001b[1;32m----> 5\u001b[1;33m \u001b[1;32mimport\u001b[0m \u001b[0mpizza\u001b[0m\u001b[1;33m\u001b[0m\u001b[1;33m\u001b[0m\u001b[0m\n\u001b[0m\u001b[0;32m      6\u001b[0m \u001b[1;33m\u001b[0m\u001b[0m\n\u001b[0;32m      7\u001b[0m \u001b[0mpizza\u001b[0m\u001b[1;33m.\u001b[0m\u001b[0mmake_pizza\u001b[0m\u001b[1;33m(\u001b[0m\u001b[1;36m16\u001b[0m\u001b[1;33m,\u001b[0m \u001b[1;34m'pepperoni'\u001b[0m\u001b[1;33m)\u001b[0m\u001b[1;33m\u001b[0m\u001b[1;33m\u001b[0m\u001b[0m\n",
      "\u001b[1;31mModuleNotFoundError\u001b[0m: No module named 'pizza'"
     ]
    }
   ],
   "source": [
    "#Now we'll make a seperate file called making_pizzas.py in \n",
    "#the same directory as pizza.py. This file imports the \n",
    "#module we created above. We then make two calls to \n",
    "#make_pizza().\n",
    "import pizza\n",
    "\n",
    "pizza.make_pizza(16, 'pepperoni')#1\n",
    "pizza.make_pizza(12, 'mushrooms', 'green peppers', 'extra cheese')\n",
    "#(Use another editor for this exercise)\n",
    "\n",
    "#When Python reads this file, the line import pizza tells \n",
    "#Python to open the file pizza.py and copies all the \n",
    "#functions from it into this program.\n",
    "#Any function defined in pizza.py will now be available in\n",
    "#making_pizzas.py.\n",
    "\n",
    "#To call a function from an imported module, enter the name\n",
    "#of the module you imported, pizza, followed by the name of\n",
    "#the function, make_pizza(), seperated by a dot at #1.\n",
    "\n",
    "#This approach to importing, in which you write import \n",
    "#followed by the name of the module, makes every function\n",
    "#from the module available in your program.\n",
    "\n",
    "#The import syntax is:\n",
    "#module_name.function_name()"
   ]
  },
  {
   "cell_type": "markdown",
   "metadata": {},
   "source": [
    "Importing Specific Functions"
   ]
  },
  {
   "cell_type": "code",
   "execution_count": 7,
   "metadata": {},
   "outputs": [
    {
     "ename": "ModuleNotFoundError",
     "evalue": "No module named 'pizza'",
     "output_type": "error",
     "traceback": [
      "\u001b[1;31m---------------------------------------------------------------------------\u001b[0m",
      "\u001b[1;31mModuleNotFoundError\u001b[0m                       Traceback (most recent call last)",
      "\u001b[1;32m<ipython-input-7-7361a15d465c>\u001b[0m in \u001b[0;36m<module>\u001b[1;34m\u001b[0m\n\u001b[0;32m     10\u001b[0m \u001b[1;31m#want to import just the function we're going to use:\u001b[0m\u001b[1;33m\u001b[0m\u001b[1;33m\u001b[0m\u001b[1;33m\u001b[0m\u001b[0m\n\u001b[0;32m     11\u001b[0m \u001b[1;33m\u001b[0m\u001b[0m\n\u001b[1;32m---> 12\u001b[1;33m \u001b[1;32mfrom\u001b[0m \u001b[0mpizza\u001b[0m \u001b[1;32mimport\u001b[0m \u001b[0mmake_pizza\u001b[0m\u001b[1;33m\u001b[0m\u001b[1;33m\u001b[0m\u001b[0m\n\u001b[0m\u001b[0;32m     13\u001b[0m \u001b[1;33m\u001b[0m\u001b[0m\n\u001b[0;32m     14\u001b[0m \u001b[0mmake_pizza\u001b[0m\u001b[1;33m(\u001b[0m\u001b[1;36m16\u001b[0m\u001b[1;33m,\u001b[0m \u001b[1;34m'pepperoni'\u001b[0m\u001b[1;33m)\u001b[0m\u001b[1;33m\u001b[0m\u001b[1;33m\u001b[0m\u001b[0m\n",
      "\u001b[1;31mModuleNotFoundError\u001b[0m: No module named 'pizza'"
     ]
    }
   ],
   "source": [
    "#You can also import a specific function from a module.\n",
    "#The general syntax for this approach is:\n",
    "#from module_name import function_name\n",
    "\n",
    "#You can import as many functions as you want from a module\n",
    "#by separating each function's name with a comma:\n",
    "#from module_name import function_0, function_1, function_2\n",
    "\n",
    "#The making_pizza.py example would look like this if we \n",
    "#want to import just the function we're going to use:\n",
    "\n",
    "from pizza import make_pizza\n",
    "\n",
    "make_pizza(16, 'pepperoni')\n",
    "make_pizza(12, 'mushrooms', 'green peppers', 'extra cheese')\n",
    "\n",
    "#With this syntax, you don't have to use the dot notation\n",
    "#when calling a function. Bcoz we've explicitly imported\n",
    "#the function make_pizza() in the import statement, we can\n",
    "#call it by name when we use the function."
   ]
  },
  {
   "cell_type": "markdown",
   "metadata": {},
   "source": [
    "Using as to Give a Function an Alias"
   ]
  },
  {
   "cell_type": "code",
   "execution_count": 1,
   "metadata": {},
   "outputs": [
    {
     "ename": "ModuleNotFoundError",
     "evalue": "No module named 'pizza'",
     "output_type": "error",
     "traceback": [
      "\u001b[1;31m---------------------------------------------------------------------------\u001b[0m",
      "\u001b[1;31mModuleNotFoundError\u001b[0m                       Traceback (most recent call last)",
      "\u001b[1;32m<ipython-input-1-db03cca07d23>\u001b[0m in \u001b[0;36m<module>\u001b[1;34m\u001b[0m\n\u001b[0;32m     12\u001b[0m \u001b[1;31m#provide.\u001b[0m\u001b[1;33m\u001b[0m\u001b[1;33m\u001b[0m\u001b[1;33m\u001b[0m\u001b[0m\n\u001b[0;32m     13\u001b[0m \u001b[1;31m#Example\u001b[0m\u001b[1;33m\u001b[0m\u001b[1;33m\u001b[0m\u001b[1;33m\u001b[0m\u001b[0m\n\u001b[1;32m---> 14\u001b[1;33m \u001b[1;32mfrom\u001b[0m \u001b[0mpizza\u001b[0m \u001b[1;32mimport\u001b[0m \u001b[0mmake_pizza\u001b[0m \u001b[1;32mas\u001b[0m \u001b[0mmp\u001b[0m\u001b[1;33m\u001b[0m\u001b[1;33m\u001b[0m\u001b[0m\n\u001b[0m\u001b[0;32m     15\u001b[0m \u001b[1;33m\u001b[0m\u001b[0m\n\u001b[0;32m     16\u001b[0m \u001b[0mmp\u001b[0m\u001b[1;33m(\u001b[0m\u001b[1;36m16\u001b[0m\u001b[1;33m,\u001b[0m \u001b[1;34m'pepperoni'\u001b[0m\u001b[1;33m)\u001b[0m\u001b[1;33m\u001b[0m\u001b[1;33m\u001b[0m\u001b[0m\n",
      "\u001b[1;31mModuleNotFoundError\u001b[0m: No module named 'pizza'"
     ]
    }
   ],
   "source": [
    "#If the name of a function you're importing might conflict\n",
    "#with an existing name in your program or if the function\n",
    "#name is long, you can use a short, unique alias.\n",
    "#An alias is an alternate name similar to a nickname for \n",
    "#the function.\n",
    "#You'll give the function this special nickname when you \n",
    "#import the function.\n",
    "\n",
    "#Below we give the function make_pizza() an alias, mp() by\n",
    "#importing make_pizza as mp.\n",
    "#The as keyword renames a function using the alias you \n",
    "#provide.\n",
    "#Example\n",
    "from pizza import make_pizza as mp\n",
    "\n",
    "mp(16, 'pepperoni')\n",
    "mp(12, 'mushrooms', 'green peppers', 'extra cheese')\n",
    "\n",
    "#Above, any time we want to call make_pizza() we can simply\n",
    "#write mp() instead, and Python will run the code in \n",
    "#make_pizza() while avoiding any confusion with another\n",
    "#make_pizza() function you might have written in the above\n",
    "#program file.\n",
    "\n",
    "#The general syntax for providing an alias is:\n",
    "# from module_name import function_name as fn"
   ]
  },
  {
   "cell_type": "markdown",
   "metadata": {},
   "source": [
    "Using as to Give a Module an Alias"
   ]
  },
  {
   "cell_type": "code",
   "execution_count": 2,
   "metadata": {
    "scrolled": true
   },
   "outputs": [
    {
     "ename": "ModuleNotFoundError",
     "evalue": "No module named 'pizza'",
     "output_type": "error",
     "traceback": [
      "\u001b[1;31m---------------------------------------------------------------------------\u001b[0m",
      "\u001b[1;31mModuleNotFoundError\u001b[0m                       Traceback (most recent call last)",
      "\u001b[1;32m<ipython-input-2-88049d012a87>\u001b[0m in \u001b[0;36m<module>\u001b[1;34m\u001b[0m\n\u001b[0;32m      5\u001b[0m \u001b[1;31m#pizza.make_pizza()\u001b[0m\u001b[1;33m\u001b[0m\u001b[1;33m\u001b[0m\u001b[1;33m\u001b[0m\u001b[0m\n\u001b[0;32m      6\u001b[0m \u001b[1;31m#example\u001b[0m\u001b[1;33m\u001b[0m\u001b[1;33m\u001b[0m\u001b[1;33m\u001b[0m\u001b[0m\n\u001b[1;32m----> 7\u001b[1;33m \u001b[1;32mimport\u001b[0m \u001b[0mpizza\u001b[0m \u001b[1;32mas\u001b[0m \u001b[0mp\u001b[0m\u001b[1;33m\u001b[0m\u001b[1;33m\u001b[0m\u001b[0m\n\u001b[0m\u001b[0;32m      8\u001b[0m \u001b[1;33m\u001b[0m\u001b[0m\n\u001b[0;32m      9\u001b[0m \u001b[0mp\u001b[0m\u001b[1;33m.\u001b[0m\u001b[0mmake_pizza\u001b[0m\u001b[1;33m(\u001b[0m\u001b[1;36m16\u001b[0m\u001b[1;33m,\u001b[0m \u001b[1;34m'pepperoni'\u001b[0m\u001b[1;33m)\u001b[0m\u001b[1;33m\u001b[0m\u001b[1;33m\u001b[0m\u001b[0m\n",
      "\u001b[1;31mModuleNotFoundError\u001b[0m: No module named 'pizza'"
     ]
    }
   ],
   "source": [
    "#You can also provide an alias for a module name.\n",
    "#Giving a module a short alias, like p for pizza, allows you\n",
    "#to call the module's functions more quickly.\n",
    "#Calling p.make_pizza() is more concise than calling \n",
    "#pizza.make_pizza()\n",
    "#example\n",
    "import pizza as p\n",
    "\n",
    "p.make_pizza(16, 'pepperoni')\n",
    "p.make_pizza(12, 'mushrooms', 'green peppers', 'extra cheese')\n",
    "\n",
    "#The module pizza is given the alias p but all of the \n",
    "#module's functions retain their original names.\n",
    "#Writing modules this way, redirects your attention from the\n",
    "#module name and allows you to focus on the descriptive names\n",
    "#of its functions. The functions descriptive nature, are more\n",
    "#important to the readability of your code than using the\n",
    "#full module name.\n",
    "#The general syntax for this approach is:\n",
    "#import module_name as mn"
   ]
  },
  {
   "cell_type": "markdown",
   "metadata": {},
   "source": [
    "Importing All Functions in a Module"
   ]
  },
  {
   "cell_type": "code",
   "execution_count": 3,
   "metadata": {},
   "outputs": [
    {
     "ename": "ModuleNotFoundError",
     "evalue": "No module named 'pizza'",
     "output_type": "error",
     "traceback": [
      "\u001b[1;31m---------------------------------------------------------------------------\u001b[0m",
      "\u001b[1;31mModuleNotFoundError\u001b[0m                       Traceback (most recent call last)",
      "\u001b[1;32m<ipython-input-3-954ba895c77c>\u001b[0m in \u001b[0;36m<module>\u001b[1;34m\u001b[0m\n\u001b[0;32m      1\u001b[0m \u001b[1;31m#You can tell Python to import every function in a module by\u001b[0m\u001b[1;33m\u001b[0m\u001b[1;33m\u001b[0m\u001b[1;33m\u001b[0m\u001b[0m\n\u001b[0;32m      2\u001b[0m \u001b[1;31m#using the asterisk (*) operator:\u001b[0m\u001b[1;33m\u001b[0m\u001b[1;33m\u001b[0m\u001b[1;33m\u001b[0m\u001b[0m\n\u001b[1;32m----> 3\u001b[1;33m \u001b[1;32mfrom\u001b[0m \u001b[0mpizza\u001b[0m \u001b[1;32mimport\u001b[0m \u001b[1;33m*\u001b[0m\u001b[1;33m\u001b[0m\u001b[1;33m\u001b[0m\u001b[0m\n\u001b[0m\u001b[0;32m      4\u001b[0m \u001b[1;33m\u001b[0m\u001b[0m\n\u001b[0;32m      5\u001b[0m \u001b[0mmake_pizza\u001b[0m\u001b[1;33m(\u001b[0m\u001b[1;36m16\u001b[0m\u001b[1;33m,\u001b[0m \u001b[1;34m'pepperoni'\u001b[0m\u001b[1;33m)\u001b[0m\u001b[1;33m\u001b[0m\u001b[1;33m\u001b[0m\u001b[0m\n",
      "\u001b[1;31mModuleNotFoundError\u001b[0m: No module named 'pizza'"
     ]
    }
   ],
   "source": [
    "#You can tell Python to import every function in a module by\n",
    "#using the asterisk (*) operator:\n",
    "from pizza import *\n",
    "\n",
    "make_pizza(16, 'pepperoni')\n",
    "make_pizza(12, 'mushrooms', 'green peppers', 'extra cheese')\n",
    "\n",
    "#The asterisk in the import statement tells Python to copy \n",
    "#every function from the module pizza into this program file.\n",
    "\n",
    "#Because every function is imported, you can call each \n",
    "#function by name without using the dot notation.\n",
    "#However, it's best not to use this approach when you're\n",
    "#working with larger modules that you didn't write: if the \n",
    "#module has a function name that matches an existing name in\n",
    "#your project, you can get some unexpected results.\n",
    "#Python might see several functions or variables with the \n",
    "#same name, and instead of importing all the functions \n",
    "#seperately, it will overwrite the functions.\n",
    "\n",
    "#The best approach is to import the function or functions you\n",
    "#want, or import the entire module and use the dot notation.\n",
    "#This leads to clear code that's easy to read and understand.\n",
    "#The syntax for importing all Functions in a Module is:\n",
    "#from module_name import*"
   ]
  },
  {
   "cell_type": "markdown",
   "metadata": {},
   "source": [
    "# Styling Functions"
   ]
  },
  {
   "cell_type": "code",
   "execution_count": null,
   "metadata": {},
   "outputs": [],
   "source": [
    "#You need to keep a few details in mind when you're styling\n",
    "#functions.\n",
    "#1. Functions should have descriptive names, and these \n",
    "#names should use lowercase letters and underscores.\n",
    "#*Descriptive names help you and others understand what your\n",
    "#code is trying to do. \n",
    "#Module names should use these conventions as well.\n",
    "\n",
    "#2.Every function should have a comment that explains \n",
    "#concisely what the function does.\n",
    "#This comments should appear immediately after the function\n",
    "#definition and use the docstring format.\n",
    "#*In a well-documented function, other programmers can use the\n",
    "#function by reading only the description in the docstring.\n",
    "#As long as they know the name of the function, the arguments\n",
    "#it needs, and the kind of value it returns, they should be\n",
    "#able to use it in their program.\n",
    "\n",
    "#3. If you specify a default value for a parameter, no spaces\n",
    "#should be used on either side of the equal sign.\n",
    "def function_name(parameter_0, parameter_1='default value')\n",
    "#The same convention should be used for keyword arguments in\n",
    "#function calls.\n",
    "function_name(value_0, parameter_1='value')\n",
    "\n",
    "#4.PEP 8 (https://www.python.org/dev/peps/pep-0008/) recommends\n",
    "#that you limit lines of code to 79 characters so every line\n",
    "#is visible in a reasonably sized editor window.\n",
    "#If a set of parameters causes a function's definition to be\n",
    "#longer than 79 characters, press ENTER after the opening \n",
    "#parenthesis on the definition line.\n",
    "#On the next line, press TAB twice to seperate the list of \n",
    "#arguments from the body of the function, which will only be\n",
    "#indented one level.\n",
    "#Most editors automatically line up any additional lines of\n",
    "#parameters to match the indentation you have established on\n",
    "#the first line.\n",
    "\n",
    "def function_name(\n",
    "        parameter_0, parameter_1, parameter_2,\n",
    "        parameter_3, parameter_4, parameter_5):\n",
    " function body...\n",
    "\n",
    "#5. If your program or module has more than one function, you\n",
    "#can seperate each by two blank lines to make it easier to \n",
    "#see where one function ends and the next one begins.\n",
    "\n",
    "#6. All import statements should be written at the beginning\n",
    "#of a file.\n",
    "#The only exception is if you use comments at the beginning \n",
    "#of your file to describe the overall program."
   ]
  },
  {
   "cell_type": "markdown",
   "metadata": {},
   "source": [
    "# Exercises"
   ]
  },
  {
   "cell_type": "code",
   "execution_count": 4,
   "metadata": {},
   "outputs": [],
   "source": [
    "#8-15. Printing Models: Put the functions for the example \n",
    "#printing_models.py in a separate file called \n",
    "#printing_functions.py. Write an import statement at the top \n",
    "#of printing_models.py, and modify the file to use the \n",
    "#imported functions.\n",
    "\n",
    "#The solution is in the sublime text folder (python_exercises) \n",
    "#on the desktop"
   ]
  },
  {
   "cell_type": "code",
   "execution_count": 5,
   "metadata": {},
   "outputs": [],
   "source": [
    "#8-16. Imports: Using a program you wrote that has one \n",
    "#function in it, store that function in a separate file. \n",
    "#Import the function into your main program file, and call \n",
    "#the function using each of these approaches:\n",
    "#import module_name\n",
    "#from module_name import function_name\n",
    "#from module_name import function_name as fn\n",
    "#import module_name as mn\n",
    "#from module_name import "
   ]
  },
  {
   "cell_type": "code",
   "execution_count": null,
   "metadata": {},
   "outputs": [],
   "source": [
    "#8-17. Styling Functions: Choose any three programs you wrote\n",
    "#for this chapter, and make sure they follow the styling \n",
    "#guidelines described in this section."
   ]
  }
 ],
 "metadata": {
  "kernelspec": {
   "display_name": "Python 3",
   "language": "python",
   "name": "python3"
  },
  "language_info": {
   "codemirror_mode": {
    "name": "ipython",
    "version": 3
   },
   "file_extension": ".py",
   "mimetype": "text/x-python",
   "name": "python",
   "nbconvert_exporter": "python",
   "pygments_lexer": "ipython3",
   "version": "3.7.3"
  }
 },
 "nbformat": 4,
 "nbformat_minor": 2
}
