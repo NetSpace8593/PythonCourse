{
 "cells": [
  {
   "cell_type": "markdown",
   "metadata": {},
   "source": [
    "# Chapter 4: Working With Lists"
   ]
  },
  {
   "cell_type": "code",
   "execution_count": 1,
   "metadata": {},
   "outputs": [],
   "source": [
    "#In this chapter you'll learn how to loop through a list\n",
    "#using a few lines of code regardless of how long the list\n",
    "#is\n",
    "\n",
    "#Looping allows you to take the same set of actions on the\n",
    "#every item in a list.\n",
    "\n",
    "#You'll be able therefore to work efficiently with lists of \n",
    "#any length."
   ]
  },
  {
   "cell_type": "markdown",
   "metadata": {},
   "source": [
    "Looping Through an Entire List"
   ]
  },
  {
   "cell_type": "code",
   "execution_count": 2,
   "metadata": {},
   "outputs": [
    {
     "name": "stdout",
     "output_type": "stream",
     "text": [
      "alice\n",
      "david\n",
      "caroline\n"
     ]
    }
   ],
   "source": [
    "#When you want to perform the same task in every item in a list\n",
    "#you use python's for loop.\n",
    "#Let's use a for loop to print out each name in a list of \n",
    "#magicians.\n",
    "\n",
    "magicians = ['alice', 'david', 'caroline']#This is defining the list\n",
    "for magician in magicians:#This is defining a for loop.\n",
    "    print(magician)#Print the name that's just been assigned to magician\n",
    "\n",
    "#Line two, tells Python to pull a name from the list magicians and\n",
    "#associate it with the variable magician.\n",
    "\n",
    "#At line 3 we tell python to print the value assigned to magician.\n",
    "#Python then repeats line 2 and 3, once for each name in the list.\n",
    "\n",
    "#Because there are no more values in the list after python loops\n",
    "#through all of them,Python moves on to the next line in the program.\n",
    "#In our case nothing comes after the loop, so the program ends.\n",
    "\n",
    "#It might help to read the above code as \"For every magician in the\n",
    "#list of magicians, print the magician's name.\"\n"
   ]
  },
  {
   "cell_type": "markdown",
   "metadata": {},
   "source": [
    "A Closer look at Looping"
   ]
  },
  {
   "cell_type": "code",
   "execution_count": 3,
   "metadata": {},
   "outputs": [],
   "source": [
    "#The concept of looping is one of the most common because\n",
    "#because it simplifies repetitive tasks\n",
    "\n",
    "#Note: You can choose any name for the temporary variable\n",
    "#that will be associated with the items/values from the list.\n",
    "#However, it is helpful to choose a meaningful name that \n",
    "#represents a single item from the list.\n",
    "#Example: for cat in cats:\n",
    "\n",
    "#The naming convention can help you follow the action being\n",
    "#done on each item within a for loop."
   ]
  },
  {
   "cell_type": "markdown",
   "metadata": {},
   "source": [
    "Doing More Work Within a for loop"
   ]
  },
  {
   "cell_type": "code",
   "execution_count": 4,
   "metadata": {},
   "outputs": [
    {
     "name": "stdout",
     "output_type": "stream",
     "text": [
      "Alice, that was great trick!\n",
      "David, that was great trick!\n",
      "Carolina, that was great trick!\n"
     ]
    }
   ],
   "source": [
    "#You can do about anything with each item in a for loop.\n",
    "#Example\n",
    "magicians = ['alice', 'david', 'carolina']\n",
    "for magician in magicians:\n",
    "    print(f\"{magician.title()}, that was great trick!\")\n",
    "    \n",
    "#You can write as many lines of code in the for loop.\n",
    "#Every indented line following 'for magician in magicians:'\n",
    "#is considered \"inside the loop\", and each indented line is\n",
    "#executed once for each value in the list.\n",
    "#You can do therefore, as much work as you like with each\n",
    "#value in the list"
   ]
  },
  {
   "cell_type": "code",
   "execution_count": 5,
   "metadata": {},
   "outputs": [
    {
     "name": "stdout",
     "output_type": "stream",
     "text": [
      "Alice, that was great trick!\n",
      "I can't wait to see your next trick, Alice.\n",
      "\n",
      "David, that was great trick!\n",
      "I can't wait to see your next trick, David.\n",
      "\n",
      "Carolina, that was great trick!\n",
      "I can't wait to see your next trick, Carolina.\n",
      "\n"
     ]
    }
   ],
   "source": [
    "#Let us add a new line of code indented in the for loop\n",
    "magicians = ['alice', 'david', 'carolina']\n",
    "for magician in magicians:\n",
    "    print(f\"{magician.title()}, that was great trick!\")\n",
    "    print(f\"I can't wait to see your next trick, {magician.title()}.\\n\")\n",
    "    \n",
    "#Because we have indented each call to print(), each magician in\n",
    "#the list will be printed sepereately with the statement\n",
    "\n",
    "#The newline(\"\\n\") in the second print() call inserts a blank\n",
    "#line after each pass through the loop."
   ]
  },
  {
   "cell_type": "markdown",
   "metadata": {},
   "source": [
    "Doing something after a for loop"
   ]
  },
  {
   "cell_type": "code",
   "execution_count": 8,
   "metadata": {},
   "outputs": [
    {
     "name": "stdout",
     "output_type": "stream",
     "text": [
      "Alice, that was great trick!\n",
      "I can't wait to see your next trick, Alice\n",
      "\n",
      "David, that was great trick!\n",
      "I can't wait to see your next trick, David\n",
      "\n",
      "Carolina, that was great trick!\n",
      "I can't wait to see your next trick, Carolina\n",
      "\n",
      "Thank you, everyone. That was a great magic show!\n"
     ]
    }
   ],
   "source": [
    "#Any lines of code after the for loop that are not indented\n",
    "#are executed once without repetition.\n",
    "#Example\n",
    "magicians = ['alice', 'david', 'carolina']\n",
    "for magician in magicians:\n",
    "    print(f\"{magician.title()}, that was great trick!\")\n",
    "    print(f\"I can't wait to see your next trick, {magician.title()}\\n\")\n",
    "\n",
    "print(\"Thank you, everyone. That was a great magic show!\")\n",
    "\n",
    "#The above illustration, might be a way to summarize an operation\n",
    "#that was performed on an entire dataset.\n",
    "\n",
    "#Example\n",
    "#For example, you might use a for loop to initialize a game by running \n",
    "#through a list of characters and displaying each character on the screen. \n",
    "#You might then write some additional code after this loop that displays a \n",
    "#Play Now button after all the characters have been drawn to the screen."
   ]
  },
  {
   "cell_type": "markdown",
   "metadata": {},
   "source": [
    "Finding Indentation Errors"
   ]
  },
  {
   "cell_type": "code",
   "execution_count": 9,
   "metadata": {},
   "outputs": [],
   "source": [
    "#Python's use of indentation makes your code more readable\n",
    "#It uses whitespace to force you to write neatly formatted code\n",
    "#with clear visual structure.\n",
    "\n",
    "#In longer python codes, you'll notice indentations at different\n",
    "#levels in the code.\n",
    "#This is to help you gain a general sense of the overall program's\n",
    "#organization.\n",
    "\n",
    "#As you begin to write code that relies on indentation. One needs\n",
    "#to watch for indentation errors.\n",
    "#For example people indent lines of code that don't need to be\n",
    "#indented or forget to indent lines that need to be indented."
   ]
  },
  {
   "cell_type": "markdown",
   "metadata": {},
   "source": [
    "i)Forgetting to Indent"
   ]
  },
  {
   "cell_type": "code",
   "execution_count": 10,
   "metadata": {},
   "outputs": [],
   "source": [
    "#Example\n",
    "#magicians = ['alice', 'david', 'carolina']\n",
    "#for magician in magicians:\n",
    "#print(magician)\n",
    "\n",
    "#Above code will cause an error.\n",
    "#When python expects an indented block and doesn't find one,\n",
    "#it lets you know which line it had a problem with."
   ]
  },
  {
   "cell_type": "markdown",
   "metadata": {},
   "source": [
    "ii)Forgetting to Indent Additional Lines"
   ]
  },
  {
   "cell_type": "code",
   "execution_count": 12,
   "metadata": {},
   "outputs": [
    {
     "name": "stdout",
     "output_type": "stream",
     "text": [
      "Alice, that was great trick!\n",
      "David, that was great trick!\n",
      "Carolina, that was great trick!\n",
      "I can't wait to see your next trick, Carolina\n",
      "\n"
     ]
    }
   ],
   "source": [
    "#Sometimes your loop will run without any errors but won't\n",
    "#produce the expected results.\n",
    "#This happens when you are trying to do several tasks in the\n",
    "#loop and you forget to indent some of the lines\n",
    "#Example\n",
    "magicians = ['alice', 'david', 'carolina']\n",
    "for magician in magicians:\n",
    "    print(f\"{magician.title()}, that was great trick!\")\n",
    "print(f\"I can't wait to see your next trick, {magician.title()}\\n\")\n",
    "\n",
    "#Because the last value associated with magician is 'carolina'\n",
    "#she is the only one who receives the \"lookiing forward to the next trick\"\n",
    "#message\n",
    "\n",
    "#The above problem is a \"logical error\".\n",
    "#The syntax is valid python code, but the code does not produce\n",
    "#the desired result, because a problem occurs in its logic."
   ]
  },
  {
   "cell_type": "markdown",
   "metadata": {},
   "source": [
    "Indenting Unecessarily"
   ]
  },
  {
   "cell_type": "code",
   "execution_count": null,
   "metadata": {},
   "outputs": [],
   "source": []
  }
 ],
 "metadata": {
  "kernelspec": {
   "display_name": "Python 3",
   "language": "python",
   "name": "python3"
  },
  "language_info": {
   "codemirror_mode": {
    "name": "ipython",
    "version": 3
   },
   "file_extension": ".py",
   "mimetype": "text/x-python",
   "name": "python",
   "nbconvert_exporter": "python",
   "pygments_lexer": "ipython3",
   "version": "3.7.3"
  }
 },
 "nbformat": 4,
 "nbformat_minor": 2
}
