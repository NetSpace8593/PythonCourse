{
 "cells": [
  {
   "cell_type": "code",
   "execution_count": null,
   "metadata": {},
   "outputs": [],
   "source": [
    "#With basics at hand, it is time to think about making your\n",
    "#programs even more relevant and usable.\n",
    "#In this chapter you'll learn:\n",
    "#1. To work with files so your programs can quickly analyze\n",
    "#lots of data.\n",
    "#2. You'll learn to handle errors so your programs don't \n",
    "#crash when they encounter unexpected situations.\n",
    "#3. You'll learn about exceptions, which are special objects\n",
    "#Python creates to manage errors that rise while a program\n",
    "#is running.\n",
    "#4. You'll also learn about the json module, which allows \n",
    "#you to save user data so it isn't lost when your program\n",
    "#stops running."
   ]
  },
  {
   "cell_type": "markdown",
   "metadata": {},
   "source": [
    "# Reading From a File"
   ]
  },
  {
   "cell_type": "code",
   "execution_count": null,
   "metadata": {},
   "outputs": [],
   "source": [
    "#An incredible amount of data is available in text files.\n",
    "#Reading from a file is useful in data analysis apps, but\n",
    "#it's also applicable to any situation in which you want to\n",
    "#analyze or modify info stored in a file.\n",
    "#When you want to work with the info in a textfile, the\n",
    "#first step is to read the file into memory. You can read\n",
    "#the entire contents of a file, or you can work thru the\n",
    "#file one line at a time."
   ]
  },
  {
   "cell_type": "markdown",
   "metadata": {},
   "source": [
    "Reading an Entire File"
   ]
  },
  {
   "cell_type": "code",
   "execution_count": null,
   "metadata": {},
   "outputs": [],
   "source": [
    "#To begin we need a file with a few lines of text in it.\n",
    "#Example: 3.1411592653589793238462643383279\n",
    "#You can enter the above line in an editor and save the\n",
    "#file as pi_digits.txt. Save the file in the same \n",
    "#directory where you'll store the program that will open\n",
    "#the .txt file, read it and print the content of the file\n",
    "#on the screen.\n",
    "#Save the program file as file_reader.py and write the\n",
    "#following program:\n",
    "with open('pi_digits.txt') as file_object:\n",
    "    contents = file_object.read()\n",
    "print(contents)\n",
    "#In the first line of this program there is the open()\n",
    "#function. To do any work with a file, you first need\n",
    "#to open the file to access it.\n",
    "#The open() function needs one argument: the name of the\n",
    "#file you want to open.\n",
    "#Python looks for this file in the directory where the\n",
    "#program that's currently being executed is stored.\n",
    "#The open() function returns an object representing the\n",
    "#file. Here, open('pi_digits.txt') returns an object\n",
    "#representing pi_digits.txt. \n",
    "#Python assigns this object to file_object.\n",
    "\n",
    "#The keyword with, closes the file once access to it is\n",
    "#no longer needed. Notice in the program we call open()\n",
    "#and not close(). We do not do so coz if a bug in your\n",
    "#program prevents the close() method from being \n",
    "#executed, the file will never close. Improperly closed\n",
    "#files can cause data to be lost or corrupted.\n",
    "#If you call close() too early in your program, you'll \n",
    "#find yourself working with a closed file, which leads\n",
    "#to more errors.\n",
    "#It's not easy to know when to close a file but with\n",
    "#keyword with, python will do it for you.\n",
    "\n",
    "#Once we have a file object rep pi_digits.txt, we use\n",
    "#the read() method in the second line of our program to\n",
    "#read the entire contents of the file and store it as one\n",
    "#long string of contents. When we print the value of\n",
    "#contents, we get the entire text file back.\n",
    "\n",
    "#The only difference between this output and the original \n",
    "#file is the extra blank line at the end of the output. \n",
    "#The blank line appears because read() returns an empty \n",
    "#string when it reaches the end of the file; this empty \n",
    "#string shows up as a blank line. If you want to remove \n",
    "#the extra blank line, you can use rstrip() in the call \n",
    "#to print()\n",
    "with open('pi_digits.txt') as file_object:\n",
    "    contents = file_object.read()\n",
    "    print(contents.rstrip())\n",
    "    \n",
    "#Note: Python's rstrip() method removes, or strips, any\n",
    "#whitespace characters from the right side of the string."
   ]
  },
  {
   "cell_type": "markdown",
   "metadata": {},
   "source": [
    "File Paths"
   ]
  },
  {
   "cell_type": "code",
   "execution_count": null,
   "metadata": {},
   "outputs": [],
   "source": [
    "#When you pass a simple filename like pi_digits.txt to \n",
    "#the open() function, python looks in the directory where\n",
    "#the file that's currently being executed ie .py program\n",
    "#file is stored.\n",
    "\n",
    "#Sometimes, the file you want to open won't be in the\n",
    "#same directory as your program file.\n",
    "#For example, you might store your program files in a \n",
    "#folder called python_work; inside it you might have\n",
    "#another folder called text_files to distinguish your\n",
    "#program files from the text files they're manipulating.\n",
    "#Even though text_files is in python_work, just passing\n",
    "#open() the name of a file in text_files won't work, this\n",
    "#is coz Python will only look in python_work and stop \n",
    "#there; it won't go on and look in text_files.\n",
    "\n",
    "#To get python to open files from a directory other than\n",
    "#the one where your program file is stored, you need to\n",
    "#provide a file path, which tells python to look in a \n",
    "#specific location on your system.\n",
    "#Bcoz text_files is inside python_work, you could use a\n",
    "#relative file path to open a file from text_files.\n",
    "#A relative file path tells Python to look for a given\n",
    "#location relative to the directory where the currently\n",
    "#running program file is stored. Example:\n",
    "with open('text_files/filename.txt') as file_object:\n",
    "\n",
    "#This line tells python to look for the desired .txt file\n",
    "#in the folder text_files and assume that text_files is\n",
    "#located inside python_work.\n",
    "\n",
    "#Note: Windows systems use backlash(\\) instead of forward\n",
    "#slash (/) when displaying file paths, but you can still\n",
    "#use forward slashes in your code."
   ]
  },
  {
   "cell_type": "code",
   "execution_count": null,
   "metadata": {},
   "outputs": [],
   "source": [
    "#You can also tell Python exactly where the file is on your\n",
    "#computer regardless of where the program that's being\n",
    "#executed is stored. This is called absolute file path.\n",
    "\n",
    "#You use an absolute path if a relative path doesn't work.\n",
    "#For instance, if you've put text_files in another folder\n",
    "#other than python_work ie folder called other_files, then\n",
    "#just passing open() the path 'text_files/filename.txt' \n",
    "#won't work coz Python will only look for that location\n",
    "#inside python_work.\n",
    "#You'll need to write out a full path to clarify where you\n",
    "#want python to look.\n",
    "#Absoulte path are longer than relative, so it is helpful\n",
    "#to assign them a variable and then pass that variable to\n",
    "#open().\n",
    "file_path = '/home/ehmatthes/other_files/text_files/filename.txt'\n",
    "with open(file_path) as file_object:\n",
    "\n",
    "#Using absolute paths, you can read files from any location\n",
    "#on your system.\n",
    "\n",
    "#Note: If you try to use backslashes in a file path, you'll\n",
    "#get an error coz the backslash is used to escape characters\n",
    "#in strings."
   ]
  },
  {
   "cell_type": "markdown",
   "metadata": {},
   "source": [
    "Reading Line by Line"
   ]
  },
  {
   "cell_type": "code",
   "execution_count": null,
   "metadata": {},
   "outputs": [],
   "source": [
    "#When you are reading a file, you'll often want to examine\n",
    "#each line of the file.\n",
    "#You might be looking for certain info, or want to modify\n",
    "#the text in the file in some way. eg You might want to read\n",
    "#through a file of weather data n work with any line that \n",
    "#includes the word sunny in the description of that day's\n",
    "#weather.\n",
    "\n",
    "#You can use a for loop on the file object to examine each\n",
    "#line from a file one at a time.\n",
    "filename = 'pi_digits.txt' #1\n",
    "\n",
    "with open(filename) as file_object: #2\n",
    "    for line in file_object: #3\n",
    "        print(line)\n",
    "    \n",
    "#At #1 we assign the name of the file we're reading from \n",
    "#to the variable filename.\n",
    "#After we call open(), an object representing the file n its\n",
    "#contents is assigned to the variable file_object at #2.\n",
    "#We again use the with syntax to let Python open and close\n",
    "#the file properly. \n",
    "#To examine the file's contents, we work through each line\n",
    "#in the file by looping over the file object at #3.\n",
    "\n",
    "#When we print each line, we find even more blank lines.\n",
    "#These blank lines appear coz an invisible newline character\n",
    "#is at the end of each line in the text file. The print \n",
    "#function also adds its own newline each time we call it, so\n",
    "#we end up with two newline characters at the end of each\n",
    "#line: one from the file and one from print().\n",
    "\n",
    "#Using rstrip() on each line in the print() call eliminates\n",
    "#these extra blank lines."
   ]
  },
  {
   "cell_type": "markdown",
   "metadata": {},
   "source": [
    "Making a List of Lines from a File"
   ]
  },
  {
   "cell_type": "code",
   "execution_count": null,
   "metadata": {},
   "outputs": [],
   "source": [
    "#When you use with, the file object returned by open() is\n",
    "#only available inside the with block that contains it.\n",
    "#If you want to retain access to a file's contents outside\n",
    "#the with block, you can store the file's lines in a list\n",
    "#inside the block and then work with that list.\n",
    "\n",
    "#You can process parts of the file immediately and postpone\n",
    "#some for later in the program.\n",
    "\n",
    "#The following example stores the lines of pi_digits.txt in \n",
    "#a list inside the with block and then prints the lines\n",
    "#outside the with block.\n",
    "\n",
    "filename = 'pi_digits.txt'\n",
    "\n",
    "with open(filename) as file_object:\n",
    "    lines = file_object.readlines() #1\n",
    "    \n",
    "for line in lines: #2\n",
    "    print(line.rstrip())\n",
    "    \n",
    "#At #1 the readlines() method takes each line from the file\n",
    "#and stores it in a list. This list is the assigned to lines\n",
    "#, which we can continue to work with after the with block\n",
    "#ends.\n",
    "#At #2, we use a simple for loop to print each line from \n",
    "#lines. Because each item in lines corresponds to each line\n",
    "#in the file, the output matches the contents of the file\n",
    "#exactly."
   ]
  },
  {
   "cell_type": "markdown",
   "metadata": {},
   "source": [
    "Working with a File's Contents"
   ]
  },
  {
   "cell_type": "code",
   "execution_count": null,
   "metadata": {},
   "outputs": [],
   "source": [
    "#After you've read a file into memory, you can do whatever\n",
    "#you want with that data.\n",
    "#Let's explore the digits of pi. We'll first attempt to build\n",
    "#a single string containing all the digits in the file with\n",
    "#no whitespace in it.\n",
    "filename = 'pi_digits.txt'\n",
    "\n",
    "with open(filename) as file_object:\n",
    "    lines = file_object.readlines()\n",
    "    \n",
    "pi_string = '' #1\n",
    "for line in lines: #2\n",
    "    pi_string += line.rstrip()\n",
    "    \n",
    "print(pi_string) #3\n",
    "print(len(pi_string))\n",
    "\n",
    "#We start by opening the file and storing each line of digits\n",
    "#in a list.\n",
    "#At #1 we create a variable, pi_string, to hold the digits\n",
    "#of pi. We then create a loop that adds each line of digits\n",
    "#to pi_string and removes the newline character from each\n",
    "#line at #2.\n",
    "#At #3 we print this string and also show how long the string\n",
    "#is.\n",
    "\n",
    "#The variable pi_string contains the whitespace that was on\n",
    "#the left side of the digits in each line, but we can get\n",
    "#rid of that by using strip() instead of rstrip().\n",
    "filename = 'pi_digits.txt'\n",
    "\n",
    "with open(filename) as file_object:\n",
    "    lines = file_object.readlines()\n",
    "    \n",
    "pi_string = '' #1\n",
    "for line in lines: #2\n",
    "    pi_string += line.strip()\n",
    "    \n",
    "print(pi_string) #3\n",
    "print(len(pi_string))\n",
    "\n",
    "#NOTE: When python reads from a text file, it interprets all\n",
    "#text in the file as a string. If you read in a number and \n",
    "#want to work with that value in a numerical context, you'll\n",
    "#have to convert it to a n integer using the int() function\n",
    "#or convert it to a float using the float() function."
   ]
  },
  {
   "cell_type": "markdown",
   "metadata": {},
   "source": [
    "Large Files: One Million Digits"
   ]
  },
  {
   "cell_type": "code",
   "execution_count": null,
   "metadata": {},
   "outputs": [],
   "source": [
    "#We can start with a text file that contains pi to 1000000\n",
    "#decimal places instead of just 30.\n",
    "#We'll print only the first 50 decimal places.\n",
    "\n",
    "filename = 'pi_million_digits.txt'\n",
    "\n",
    "with open(filename) as file_object:\n",
    "    lines = file_object.readlines()\n",
    "    \n",
    "pi_string = ''\n",
    "    \n",
    "for line in lines:\n",
    "    pi_string += line.string()\n",
    "    \n",
    "print(f\"{pi_string[:52]}...\")\n",
    "print(len(pi_string))\n",
    "\n",
    "#Python has no inherent limit to how much data you can work\n",
    "#with; you can work with as much as your system memory can \n",
    "#handle."
   ]
  },
  {
   "cell_type": "markdown",
   "metadata": {},
   "source": [
    "Is Your Birthday Contained in Pi?"
   ]
  },
  {
   "cell_type": "code",
   "execution_count": null,
   "metadata": {},
   "outputs": [],
   "source": [
    "#Let's use the program to find out if someone's birthday appears\n",
    "#anywhere in the first million digits of pi.\n",
    "#We can do this by expressing each birthday as a string of digits\n",
    "#and seeing if that string appears anywhere in pi_string.\n",
    "filename = 'pi_million_digits.txt'\n",
    "\n",
    "with open(filename) as file_object:\n",
    "    lines = file_object.readlines()\n",
    "    \n",
    "pi_string = ''\n",
    "\n",
    "for line line in lines:\n",
    "    pi_string += line.strip()\n",
    "    \n",
    "birthday = input(\"Enter your birthday, in the form mmddyy \")\n",
    "if birthday in pi_string:\n",
    "    print(\"Your Birthday appears in the first million digits of pi.\")\n",
    "    \n",
    "else:\n",
    "    print(\"Your Birthday does not appear in the first million digits of pi.\")\n",
    "\n",
    "#At #1 we prompt for the user's birthday, and then at #2 we check\n",
    "#if that string is in pi_string."
   ]
  },
  {
   "cell_type": "markdown",
   "metadata": {},
   "source": [
    "# Exercises"
   ]
  },
  {
   "cell_type": "code",
   "execution_count": null,
   "metadata": {},
   "outputs": [],
   "source": [
    "#10-1. Learning Python: Open a blank file in your text editor\n",
    "#and write a few lines summarizig what you've learned about \n",
    "#Python so far. Start each line with the phrase you can ... save\n",
    "#the file as learning_python.txt in the same directory as your\n",
    "#exercises from this chapter. Write a program that reads the \n",
    "#file and prints what you wrote three times. Print the contents\n",
    "#once by reading in the entire file, once by looping over the \n",
    "#file object, and once by storing the lines in a list and then\n",
    "#working with them outside the with block.\n",
    "file_text = 'learning_python.txt'\n",
    "with open(file_text) as file_open:\n",
    "    read_file = file_open.read()\n",
    "    \n",
    "    three = 1\n",
    "    while three <= 3:\n",
    "        print(read_file)\n",
    "        print('')\n",
    "        three += 1\n"
   ]
  },
  {
   "cell_type": "code",
   "execution_count": null,
   "metadata": {},
   "outputs": [],
   "source": [
    "#Solution 10-1\n",
    "#Print the contents once by reading in the entire file\n",
    "file_text = 'learning_python.txt'\n",
    "with open(file_text) as file_open:\n",
    "    read_file = file_open.read()\n",
    "    print(read_file)"
   ]
  },
  {
   "cell_type": "code",
   "execution_count": null,
   "metadata": {},
   "outputs": [],
   "source": [
    "#Solution 10-1\n",
    "#Print the contents once by looping over the file object\n",
    "file_text = 'learning_python.txt'\n",
    "with open(file_text) as file_open:\n",
    "    read_file = file_open.readlines()\n",
    "    \n",
    "    for lines in read_file:\n",
    "        print(lines)"
   ]
  },
  {
   "cell_type": "code",
   "execution_count": null,
   "metadata": {},
   "outputs": [],
   "source": [
    "#Solution 10-1\n",
    "#Print the content once by storing the lines in a list and then\n",
    "#working them outside the with block\n",
    "file_text = 'learning_python.txt'\n",
    "with open(file_text) as file_open:\n",
    "    read_file = file_open.readlines()\n",
    "    \n",
    "outside = ''\n",
    "for lines in read_file:\n",
    "    outside += lines\n",
    "print(outside)"
   ]
  },
  {
   "cell_type": "code",
   "execution_count": null,
   "metadata": {},
   "outputs": [],
   "source": [
    "#10-2.Learning C: You can use the replace() method to replace\n",
    "#any word in a string with a different word. Here's a quick \n",
    "#example showing how to replace 'dog' with 'cat' in  a sentence:\n",
    "\n",
    "#>>> message = 'I really like dogs.'\n",
    "#>>> message.replace('dog', 'cat')\n",
    "#'I really like cats.'\n",
    "\n",
    "#Read in each line from the file you just created, \n",
    "#learning_python.txt, and replace the work python with the name\n",
    "#of another language, such as C. Print each modified line to the\n",
    "#screen.\n"
   ]
  },
  {
   "cell_type": "code",
   "execution_count": null,
   "metadata": {},
   "outputs": [],
   "source": [
    "file_name = 'learning_python.txt'\n",
    "with open(file_name) as file:\n",
    "    read_file = file.readlines()\n",
    "    \n",
    "    for line in read_file:\n",
    "        line.replace('you', 'JavaScript')\n",
    "        print(line)\n",
    "   \n",
    "        \n",
    "    \n",
    "    "
   ]
  },
  {
   "cell_type": "markdown",
   "metadata": {},
   "source": [
    "# Writing to a File"
   ]
  },
  {
   "cell_type": "code",
   "execution_count": null,
   "metadata": {},
   "outputs": [],
   "source": [
    "#One of the simplest ways to save data is to write it to a file.\n",
    "#When you write text to a file, the output will still be \n",
    "#available after you close the terminal containing your \n",
    "#program's output.\n",
    "#You can examine output after a program finishes running, and\n",
    "#you can share the output files with others as well.\n",
    "#You can also write programs that read the text back into \n",
    "#memory and work with it again."
   ]
  },
  {
   "cell_type": "markdown",
   "metadata": {},
   "source": [
    "Writing to an Empty File"
   ]
  },
  {
   "cell_type": "code",
   "execution_count": null,
   "metadata": {},
   "outputs": [],
   "source": [
    "#To write text to a file, you need to call open() with a second\n",
    "#argument telling Python that you want to write to the file.\n",
    "#Let's see an example, where we write a simple message and \n",
    "#store it in a file instead of printing it to the screen.\n",
    "filename = 'learning_python.txt'\n",
    "\n",
    "with open(filename, 'w') as file_object:#1\n",
    "    number = 1000\n",
    "    file_object.write(str('I love programming so much.' + str(number)))#2\n",
    "    \n",
    "#The call open() in this example has two arguments #1. This\n",
    "#argument is still the name of the file we want to open. The\n",
    "#second argument, 'w', tells python that we want to open the\n",
    "#file in write mode.\n",
    "\n",
    "#You can open a file in read mode('r'), write mode('w'), append\n",
    "#mode('a'), or a mode that allows you to read and write to the\n",
    "#file ('r+'). If you omit the mode argument, Python opens the \n",
    "#file in read-only mode by default.\n",
    "\n",
    "#The open() function automatically creates the file you're \n",
    "#writing to if it doesn't already exist. \n",
    "\n",
    "#Be careful opening a file in write mode ('w') coz if the file\n",
    "#does exist, Python will erase the contents of the file b4\n",
    "#returning the file object.\n",
    "\n",
    "#At #2 we use the write() method on the file object to write\n",
    "#a string to the file.\n",
    "#This program has no terminal output, but if you open the file\n",
    "#'learning_python.txt'you'll see one line \"I love programming\".\n",
    "\n",
    "#This file behaves like any other file on your computer. You \n",
    "#can open it, write new text in it, copy from it, paste to it,\n",
    "#and so forth.\n",
    "\n",
    "#NOTE: Python can only write strings to a text file. If you \n",
    "#want to store numerical data in as text file, you'll have to\n",
    "#convert the data to string format first using the str()\n",
    "#function."
   ]
  },
  {
   "cell_type": "markdown",
   "metadata": {},
   "source": [
    "Writing Multiple Lines"
   ]
  },
  {
   "cell_type": "code",
   "execution_count": null,
   "metadata": {},
   "outputs": [],
   "source": [
    "#The write() function doesn't add any newlines to the text you\n",
    "#write. So if you write more than one line without including\n",
    "#newline characters, your file may not look the way you want it\n",
    "#to.\n",
    "filename = 'learning_python.txt'\n",
    "\n",
    "with open(filename, 'w') as file_object:\n",
    "    file_object.write(\"I love programming.\")\n",
    "    file_object.write(\"I love creating new games.\")\n",
    "\n",
    "#If you open 'learning_python.txt', you'll see the two lines\n",
    "#squished together.\n",
    "#\"I love programming. I love creating games.\""
   ]
  },
  {
   "cell_type": "code",
   "execution_count": null,
   "metadata": {},
   "outputs": [],
   "source": [
    "#Including newlines in your calls to write() makes each string\n",
    "#appear on its own line.\n",
    "filename = 'learning_python.txt'\n",
    "\n",
    "with open(filename, 'w') as file_object:\n",
    "    file_object.write(\"I love programming.\\n\")\n",
    "    file_object.write(\"I love creating new games.\\n\")\n",
    "\n",
    "#The output now appears on seperate lines:\n",
    "\"\"\"\n",
    "I love programming.\n",
    "I love creating new games.\n",
    "\"\"\"\n",
    "\n",
    "#You can also use spaces, tab characters, and blank lines to \n",
    "#format your output, just like in the terminal based outputs."
   ]
  },
  {
   "cell_type": "markdown",
   "metadata": {},
   "source": [
    "Appending to a File"
   ]
  },
  {
   "cell_type": "code",
   "execution_count": null,
   "metadata": {},
   "outputs": [],
   "source": [
    "#If you want to add content to a file instead of writing over\n",
    "#existing content, you can open the file in append mode. \n",
    "#When you open a file in append mode, Python doesn't erase the\n",
    "#contents of the file b4 returning the file object. \n",
    "#Any lines you write to the file will be added at the end of \n",
    "#the file.\n",
    "#If the file doesn't exist yet, Python will create an empty \n",
    "#file for you.\n",
    "#Let's amend the 'learning_python.txt' and add more info.\n",
    "filename = 'learning_python.txt'\n",
    "with (open(filename, 'a')) as file_object:#1\n",
    "    file_object.write(\"I also love finding meaning in large datasets.\\n\")#2\n",
    "    file_object.write(\"I love creating apps that can run in a browser.\\n\")\n",
    "    \n",
    "#At #1 we use the 'a' argument to open the file for appending\n",
    "#rather than writing over the existing file.\n",
    "#At #2 we write two new lines, which are added to \n",
    "#'learning_python.txt'.\n",
    "#We end up with the original contents of the file, followed by\n",
    "#the new content we just added."
   ]
  },
  {
   "cell_type": "markdown",
   "metadata": {},
   "source": [
    "# Exercises"
   ]
  },
  {
   "cell_type": "code",
   "execution_count": null,
   "metadata": {},
   "outputs": [],
   "source": [
    "#10-3. Guest: Write a program that prompts the user for their \n",
    "#name. When they respond, write their name to a file called \n",
    "#guest.txt.\n",
    "user = input(\"What is your name:\")\n",
    "\n",
    "file_name = 'guest.txt'\n",
    "with open(file_name, 'w') as file_object:\n",
    "    \n",
    "    \n",
    "    \n",
    "\n",
    "    \n",
    "            \n",
    "\n",
    "\n"
   ]
  },
  {
   "cell_type": "code",
   "execution_count": null,
   "metadata": {},
   "outputs": [],
   "source": [
    "#10-4. Guest Book: Write a while loop that prompts users for \n",
    "#their name. When they enter their name, print a greeting to \n",
    "#the screen and add a line recording their visit in a file \n",
    "#called guest_book.txt. Make sure each entry appears on a new \n",
    "#line in the file.\n",
    "while True:\n",
    "    user = input(\"What is your name?\")\n",
    "    \n",
    "    print(f\"Good to see you {user}! Welcome to Strathmore University. \")\n",
    "    \n",
    "    file_name = 'guest_book.txt'\n",
    "    with open(file_name, 'a') as file_open:\n",
    "        file_open.write(f\"{user} has visited Strathmore University.\\n\")\n",
    "        \n"
   ]
  },
  {
   "cell_type": "code",
   "execution_count": null,
   "metadata": {},
   "outputs": [],
   "source": [
    "#10-5. Programming Poll: Write a while loop that asks people \n",
    "#why they like programming. Each time someone enters a reason, \n",
    "#add their reason to a file that stores all the responses.\n",
    "while True:\n",
    "    poll = input(\"Why do you like programming?\")\n",
    "    \n",
    "    file = 'poll_file.txt'\n",
    "    with open(file, 'a') as file_open:\n",
    "        file_open.write(f\"{poll}\\n\")"
   ]
  },
  {
   "cell_type": "markdown",
   "metadata": {},
   "source": [
    "# Exceptions"
   ]
  },
  {
   "cell_type": "code",
   "execution_count": null,
   "metadata": {},
   "outputs": [],
   "source": [
    "#Python uses special objects called exceptions to manage errors\n",
    "#that arise during a programming execution.\n",
    "#Whenever an error occurs that makes Python unsure what to do next\n",
    "#, it creates an exception object. \n",
    "#If you write code that handles the exception, the program will\n",
    "#continue running. If you don't handle the exception, the program\n",
    "#will halt and show a traceback, which includes a report of the\n",
    "#exception that was raised.\n",
    "\n",
    "#Exceptions are handled with try-except blocks. A try-except block\n",
    "#asks Python to do something, but also tells Python what to do if\n",
    "#an exception is raised.\n",
    "#When you use try-except blocks, your program will continue \n",
    "#running even if things start to go wrong.\n",
    "#Instead of tracebacks, which can be confusing for users to read\n",
    "#, users will see friendly error messages that you write."
   ]
  },
  {
   "cell_type": "markdown",
   "metadata": {},
   "source": [
    "Handling the ZeroDivisionError Exception"
   ]
  },
  {
   "cell_type": "code",
   "execution_count": null,
   "metadata": {},
   "outputs": [],
   "source": [
    "#A simple error that causes Python to raise an exception is \n",
    "#dividing a number by zero.\n",
    "#It raises a ZeroDivisionError.\n",
    "#Example\n",
    "print(5/0)"
   ]
  },
  {
   "cell_type": "code",
   "execution_count": null,
   "metadata": {},
   "outputs": [],
   "source": [
    "#The error reported above is the traceback, ZeroDivisionError,\n",
    "#which is an exception object.\n",
    "#Python creates this kind of object in response to a situation\n",
    "#where it can't do what we ask it to.\n",
    "#When this happens, Python stops the program and tells us the kind\n",
    "#of exception that was raised.\n",
    "\n",
    "#We can use this information to modify our program.\n",
    "\n",
    "#We'll tell Python what to do when this kind of exception occurs;\n",
    "#that way, if it happens again, we're prepared."
   ]
  },
  {
   "cell_type": "markdown",
   "metadata": {},
   "source": [
    "Using try-except Blocks"
   ]
  },
  {
   "cell_type": "code",
   "execution_count": null,
   "metadata": {},
   "outputs": [],
   "source": [
    "#When you think an error might occur, you can write a try-except\n",
    "#block to handle the exception that might be raised.\n",
    "#You tell Python to try running some code, and you tell it what to\n",
    "#do if the code results in a particular kind of exception\n",
    "#Below is a try-except block for handling the ZeroDivisionError\n",
    "#exception.\n",
    "try:\n",
    "    print(5/0)\n",
    "except ZeroDivisionError:\n",
    "    print(\"You can't divide by zero!\")\n",
    "#We put print(5/0), the line that caused the error, inside a try\n",
    "#block. If the code in a try block works, Python skips over the\n",
    "#except block.\n",
    "#If the code in the try block causes an error, Python looks for an\n",
    "#except block whose error matches the one that was raised and runs\n",
    "#the code in that block.\n",
    "\n",
    "#In the example above, the code in the try block produces a \n",
    "#ZeroDivisionError, so Python looks for an except block telling\n",
    "#it how to respond.\n",
    "#Python the runs the code in that block, and the user sees a \n",
    "#friendly error message instead of a traceback.\n",
    "\n",
    "#NOTE: If more code followed the try-except block, the program\n",
    "#would continue running coz we told Python how to handle the error.\n"
   ]
  },
  {
   "cell_type": "markdown",
   "metadata": {},
   "source": [
    "Using Exceptions to Prevent Crashes"
   ]
  },
  {
   "cell_type": "code",
   "execution_count": null,
   "metadata": {},
   "outputs": [],
   "source": [
    "#Handling errors correctly is especially important when the \n",
    "#program has more work to do after the error occurs.\n",
    "#This happens often in programs that prompts users for input.\n",
    "#If the program responds to invalid input appropriately, it can\n",
    "#prompt for more valid input instead of crashing.\n",
    "#Example: Create a simple calculateor that does only division.\n",
    "print(\"Give me two numbers, and I'll divide them.\")\n",
    "print(\"Enter 'q' to quit.\")\n",
    "\n",
    "while True:\n",
    "    first_number = input(\"\\nFirst number: \")\n",
    "    if first_number == 'q':\n",
    "        break\n",
    "    \n",
    "    second_number = input(\"Second number: \")\n",
    "    if second_number == 'q':\n",
    "        break\n",
    "    \n",
    "    answer = int(first_number) / int(second_number)\n",
    "    print(answer)\n",
    "    \n",
    "#The program does nothing to handle errors, so asking it to divide\n",
    "#by zero causes it to crash.\n",
    "\n",
    "#It's bad that the program crashed, but it's also not a good idea\n",
    "#to let users see tracebacks.\n",
    "#Because:\n",
    "#Nontechnical users will be confused by them, and in malicious\n",
    "#setting, attachers will learn more than you want them to know\n",
    "#from the traceback.\n",
    "#For example, they'll know the name of your program file, and \n",
    "#they'll see a part of your code that isn't working properly."
   ]
  },
  {
   "cell_type": "markdown",
   "metadata": {},
   "source": [
    "The else Block"
   ]
  },
  {
   "cell_type": "code",
   "execution_count": null,
   "metadata": {},
   "outputs": [],
   "source": [
    "#We can make this program more error resistant by wrapping the \n",
    "#line that might produce errors in a try-except block.\n",
    "#The error occurs on the line that performs the division, so \n",
    "#that's where we'll put the try-except block.\n",
    "#This example also includes an else block. Any code that depends\n",
    "#on the try block executing successfully goes in the else block.\n",
    "print(\"Give me two numbers, and I'll divide them.\")\n",
    "print(\"Enter 'q' to quit.\")\n",
    "\n",
    "while True:\n",
    "    first_number = input(\"\\nFirst number: \")\n",
    "    if first_number == 'q':\n",
    "        break\n",
    "    \n",
    "    second_number = input(\"Second number: \")\n",
    "    if second_number == 'q':\n",
    "        break\n",
    "    \n",
    "    try:#1\n",
    "        answer = int(first_number) / int(second_number)\n",
    "        \n",
    "    except ZeroDivisionError:#2\n",
    "        print(\"You can't divide by 0!\")\n",
    "    \n",
    "    else:#3\n",
    "        print(answer)\n",
    "        \n",
    "#We ask Python to try to complete the division operation in a try\n",
    "#block #1, which includes only the code that might cause an error.\n",
    "\n",
    "#Any code that depends on the try block succeeding is added to \n",
    "#the else block. In our case, if the division operation is \n",
    "#successful, we use the else block to print the result #3.\n",
    "\n",
    "#The except block tells Python how to respond when a\n",
    "#ZeroDivisionError arises.\n",
    "#If a try block doesn't success coz of the error, a friendly \n",
    "#message is printed telling the user how to avoid this kind of\n",
    "#error.\n",
    "\n",
    "#By anticipating likely sources of errors, you can write robust\n",
    "#programs that continue to run even when they encounter invalid\n",
    "#data and missing resources.\n",
    "#Your code will be resistant to innnocent user mistakes and \n",
    "#malicious attacks."
   ]
  },
  {
   "cell_type": "markdown",
   "metadata": {},
   "source": [
    "Handling the FileNotFoundError Exception"
   ]
  },
  {
   "cell_type": "code",
   "execution_count": null,
   "metadata": {},
   "outputs": [],
   "source": [
    "#One common issue with working with files is handling missing\n",
    "#files. The file your looking for might be:\n",
    "#1. In a different location\n",
    "#2. It's filename might be misspelled.\n",
    "#3. The file may not exist at all.\n",
    "#You can handle all of these situations with a try-except block.\n",
    "\n",
    "#Let's try to read a file that does not exist.\n",
    "filename = 'nick.txt'\n",
    "with open(filename, encoding = 'utf=8') as f:\n",
    "    contents = f.read()\n",
    "    \n",
    "#f represents the file object.\n",
    "\n",
    "#The encoding argument. This argument is needed when your\n",
    "#system's default encoding doesn't match the encoding of the\n",
    "#file that's being read.\n",
    "\n",
    "#Python can't read from a missing file, so it raises an \n",
    "#exception. The exception is 'FileNotFoundError'.\n",
    "\n"
   ]
  },
  {
   "cell_type": "code",
   "execution_count": null,
   "metadata": {},
   "outputs": [],
   "source": [
    "#In the example above, the open() function produces the error\n",
    "#so to handle it, the try block will begin with the line that\n",
    "#contains open().\n",
    "filename = 'nick.txt'\n",
    "\n",
    "try:\n",
    "    with open(filename, encoding = 'utf = 8') as f:\n",
    "        contents = f.read()\n",
    "        \n",
    "except FileNotFoundError:\n",
    "    print(\"The file you are reading is not available!\")\n",
    "    \n",
    "#The code in the try block produces a FileNotFoundError, so\n",
    "#Python looks for an except block that matches that error.\n",
    "#Python then runs the code in the block, and the result is a\n",
    "#friendly error message instead of traceback."
   ]
  },
  {
   "cell_type": "markdown",
   "metadata": {},
   "source": [
    "Analyzing Text"
   ]
  },
  {
   "cell_type": "code",
   "execution_count": null,
   "metadata": {},
   "outputs": [],
   "source": [
    "#You can analyze text files containing entire books.\n",
    "#Let's use the text 'Alice in Wonderland' and try count the\n",
    "#number of words in the text.\n",
    "#Use the string method split() to build a list of words from a\n",
    "#string.\n",
    "title = 'Alice in Wonderland'\n",
    "title.split()\n",
    "#The split() method seperates a string into parts whenever it\n",
    "#find a space and stores all the parts of the string in a list.\n",
    "#Some punctuatins may also appear with some of the words."
   ]
  },
  {
   "cell_type": "code",
   "execution_count": 8,
   "metadata": {},
   "outputs": [
    {
     "name": "stdout",
     "output_type": "stream",
     "text": [
      "The file alice.txt has about 958 words.\n"
     ]
    }
   ],
   "source": [
    "#To count the no of words in 'Alice in wonderland', we'll use\n",
    "#split() on the entire text. \n",
    "\n",
    "filenam = 'alice.txt'\n",
    "\n",
    "try:\n",
    "    with open(filenam, encoding = 'utf = 8') as f:\n",
    "        contents = f.read()\n",
    "    \n",
    "except FileNotFoundError:\n",
    "    print(f\"Sorry, the file {f} does not exist.\")\n",
    "\n",
    "else:\n",
    "    #Count the approximate number of words in the file.\n",
    "    words = contents.split()#1\n",
    "    \n",
    "    num_words = len(words)#2\n",
    "    print(f\"The file {filenam} has about {num_words} words.\")#3\n",
    "    \n",
    "\n",
    "#We use the split() method to produce a list of all the words\n",
    "#in the book.\n",
    "#At #2 we use len() to get an approximation of the number of\n",
    "#words in the list.\n",
    "\n",
    "#The code that prints the results is placed in the else block\n",
    "#coz it will work only if the code in the try block was \n",
    "#executed successfully."
   ]
  },
  {
   "cell_type": "markdown",
   "metadata": {},
   "source": [
    "Working with Multiple Files"
   ]
  },
  {
   "cell_type": "code",
   "execution_count": 18,
   "metadata": {},
   "outputs": [
    {
     "ename": "NameError",
     "evalue": "name 'filename' is not defined",
     "output_type": "error",
     "traceback": [
      "\u001b[1;31m---------------------------------------------------------------------------\u001b[0m",
      "\u001b[1;31mNameError\u001b[0m                                 Traceback (most recent call last)",
      "\u001b[1;32m<ipython-input-18-0eb3e9fa8ac7>\u001b[0m in \u001b[0;36m<module>\u001b[1;34m\u001b[0m\n\u001b[0;32m     20\u001b[0m \u001b[1;33m\u001b[0m\u001b[0m\n\u001b[0;32m     21\u001b[0m \u001b[0ma\u001b[0m \u001b[1;33m=\u001b[0m \u001b[1;34m'MobyDick.txt'\u001b[0m\u001b[1;33m\u001b[0m\u001b[1;33m\u001b[0m\u001b[0m\n\u001b[1;32m---> 22\u001b[1;33m \u001b[0mcount_words\u001b[0m\u001b[1;33m(\u001b[0m\u001b[0ma\u001b[0m\u001b[1;33m)\u001b[0m\u001b[1;33m\u001b[0m\u001b[1;33m\u001b[0m\u001b[0m\n\u001b[0m\u001b[0;32m     23\u001b[0m \u001b[1;31m#Most of the code is unchanged from the previous example. We\u001b[0m\u001b[1;33m\u001b[0m\u001b[1;33m\u001b[0m\u001b[1;33m\u001b[0m\u001b[0m\n\u001b[0;32m     24\u001b[0m \u001b[1;31m#simply indented it and moved it into the body of count_words().\u001b[0m\u001b[1;33m\u001b[0m\u001b[1;33m\u001b[0m\u001b[1;33m\u001b[0m\u001b[0m\n",
      "\u001b[1;32m<ipython-input-18-0eb3e9fa8ac7>\u001b[0m in \u001b[0;36mcount_words\u001b[1;34m(d)\u001b[0m\n\u001b[0;32m      5\u001b[0m     \u001b[1;34m\"\"\"Count the approximate no of words in a file.\"\"\"\u001b[0m\u001b[1;33m\u001b[0m\u001b[1;33m\u001b[0m\u001b[0m\n\u001b[0;32m      6\u001b[0m     \u001b[1;32mtry\u001b[0m\u001b[1;33m:\u001b[0m\u001b[1;33m\u001b[0m\u001b[1;33m\u001b[0m\u001b[0m\n\u001b[1;32m----> 7\u001b[1;33m         \u001b[1;32mwith\u001b[0m \u001b[0mopen\u001b[0m\u001b[1;33m(\u001b[0m\u001b[0mfilename\u001b[0m\u001b[1;33m,\u001b[0m \u001b[0mencoding\u001b[0m \u001b[1;33m=\u001b[0m \u001b[1;34m'utf = 8'\u001b[0m\u001b[1;33m)\u001b[0m \u001b[1;32mas\u001b[0m \u001b[0mf\u001b[0m\u001b[1;33m:\u001b[0m\u001b[1;33m\u001b[0m\u001b[1;33m\u001b[0m\u001b[0m\n\u001b[0m\u001b[0;32m      8\u001b[0m             \u001b[0mcontents\u001b[0m \u001b[1;33m=\u001b[0m \u001b[0mf\u001b[0m\u001b[1;33m.\u001b[0m\u001b[0mread\u001b[0m\u001b[1;33m(\u001b[0m\u001b[1;33m)\u001b[0m\u001b[1;33m\u001b[0m\u001b[1;33m\u001b[0m\u001b[0m\n\u001b[0;32m      9\u001b[0m \u001b[1;33m\u001b[0m\u001b[0m\n",
      "\u001b[1;31mNameError\u001b[0m: name 'filename' is not defined"
     ]
    }
   ],
   "source": [
    "#Let's move the bulk of this program to a function called \n",
    "#count_words(). This will make it easier to run the analysis\n",
    "#for multiple books.\n",
    "def count_words(d):\n",
    "    \"\"\"Count the approximate no of words in a file.\"\"\"\n",
    "    try:\n",
    "        with open(filename, encoding = 'utf = 8') as f:\n",
    "            contents = f.read()\n",
    "    \n",
    "    except FileNotFoundError:\n",
    "        print(f\"Sorry, the file {f} does not exist!\")\n",
    "    \n",
    "    else:\n",
    "        file_list = contents.split()\n",
    "        \n",
    "        \n",
    "        num_list = len(file_list)\n",
    "        \n",
    "        print(f\"The file {a} has about {num_list} words.\")\n",
    "        \n",
    "a = 'MobyDick.txt'\n",
    "count_words(a)\n",
    "#Most of the code is unchanged from the previous example. We\n",
    "#simply indented it and moved it into the body of count_words().\n",
    "#It's a good habit to keep comments up to date when you're\n",
    "#modifying a program."
   ]
  },
  {
   "cell_type": "code",
   "execution_count": 18,
   "metadata": {},
   "outputs": [
    {
     "name": "stdout",
     "output_type": "stream",
     "text": [
      "The file alice.txt has about 958 words.\n",
      "The file LittleWomen.txt has about 822 words.\n",
      "The file MobyDick.txt has about 897 words.\n",
      "Sorry, the file siddhartha.txt does not exist!\n"
     ]
    }
   ],
   "source": [
    "#We can write a simple loop to count the words in any text we\n",
    "#want to analyze.\n",
    "#We do this by storing the names of the files we want to \n",
    "#analyze in a list, then we call count_words() for each file\n",
    "#in the list.\n",
    "\n",
    "#We'll try to count the words for Alice in Wonderland, \n",
    "#Siddhartha, Moby Dick and Litte Women, which are all \n",
    "#available in the public domain.\n",
    "\n",
    "#Siddhartha will be intentionally left out of the directory\n",
    "#so we can see how our program handles a missing file.\n",
    "\n",
    "def count_words(filename):\n",
    "    \"\"\"Count the approximate no of words in a file.\"\"\"\n",
    "    try:\n",
    "        with open(filename, encoding = 'utf = 8') as f:\n",
    "            contents = f.read()\n",
    "    \n",
    "    except FileNotFoundError:\n",
    "        print(f\"Sorry, the file {filename} does not exist!\")\n",
    "    \n",
    "    else:\n",
    "        file_list = contents.split()\n",
    "        \n",
    "        num_list = len(file_list)\n",
    "        \n",
    "        print(f\"The file {filename} has about {num_list} words.\")\n",
    "        \n",
    "filenames = ['alice.txt', 'LittleWomen.txt', 'MobyDick.txt', 'siddhartha.txt']\n",
    "for filename in filenames:\n",
    "    count_words(filename)"
   ]
  },
  {
   "cell_type": "markdown",
   "metadata": {},
   "source": [
    "Failing Silently"
   ]
  },
  {
   "cell_type": "code",
   "execution_count": 20,
   "metadata": {},
   "outputs": [
    {
     "name": "stdout",
     "output_type": "stream",
     "text": [
      "The file alice.txt has about 958 words.\n",
      "The file LittleWomen.txt has about 822 words.\n",
      "The file MobyDick.txt has about 897 words.\n"
     ]
    }
   ],
   "source": [
    "#You don't have to report every exception you catch.\n",
    "#Sometimes you'll want the program to fail silently when an\n",
    "#exception occurs and continue on as if nothing happened.\n",
    "\n",
    "#To make a program fail silently, you write a try block as\n",
    "#usual, but you explicitly tell Python to do nothing in the\n",
    "#except block.\n",
    "\n",
    "def count_words(filename1):\n",
    "    \"\"\"Count the approximate no of words in a file.\"\"\"\n",
    "    try:\n",
    "        with open(filename1, encoding = 'utf = 8') as f:\n",
    "            contents = f.read()\n",
    "    \n",
    "    except FileNotFoundError:\n",
    "        pass #1\n",
    "    \n",
    "    else:\n",
    "        file_list = contents.split()\n",
    "        \n",
    "        num_list = len(file_list)\n",
    "        \n",
    "        print(f\"The file {filename1} has about {num_list} words.\")\n",
    "        \n",
    "filenames = ['alice.txt', 'LittleWomen.txt', 'MobyDick.txt', 'siddhartha.txt']\n",
    "for filename in filenames:\n",
    "    count_words(filename)\n",
    "    \n",
    "#Above, when the FileNotFoundError is raised, the code in the\n",
    "#except block runs, but nothing happens.\n",
    "\n",
    "#The pass statement also acts as a placeholder. It's a \n",
    "#reminder that you're choosing to do nothing at a specific\n",
    "#point in your program's execution and that you might want\n",
    "#to do sth there later.\n",
    "#example, inthis program we might decide to write any missing\n",
    "#filenames to a file called missing_files.txt. Our users\n",
    "#wouldn't see this file, but we'd be able to read the file\n",
    "#and deal with any missing texts."
   ]
  },
  {
   "cell_type": "markdown",
   "metadata": {},
   "source": [
    "Deciding Which Errors to Report"
   ]
  },
  {
   "cell_type": "code",
   "execution_count": 21,
   "metadata": {},
   "outputs": [],
   "source": [
    "#How do you know when to report an error to your users and\n",
    "#when to fail silently?\n",
    "#A little experience will help you know where to include \n",
    "#exception handling blocks in your program and how much to\n",
    "#report to users about errors that arise."
   ]
  },
  {
   "cell_type": "markdown",
   "metadata": {},
   "source": [
    "# Exercises"
   ]
  },
  {
   "cell_type": "code",
   "execution_count": 12,
   "metadata": {},
   "outputs": [
    {
     "name": "stdout",
     "output_type": "stream",
     "text": [
      "ye\n",
      "You are supposed to enter integers only!\n",
      "hh\n",
      "You are supposed to enter integers only!\n",
      "76\n"
     ]
    }
   ],
   "source": [
    "#10-6. Addition: One common problem when prompting for \n",
    "#numerical input occurs when people provide text instead of \n",
    "#numbers. When you try to convert the input to an int, you’ll\n",
    "#get a ValueError. Write a program that prompts for two \n",
    "#numbers. Add them together and print the result. Catch the \n",
    "#ValueError if either input value is not a number, and print \n",
    "#a friendly error message. Test your program by entering two\n",
    "#numbers and then by entering some text instead of a number.\n",
    "\n",
    "#Prompt two numbers\n",
    "\n",
    "\n",
    "try:\n",
    "    input_num1 = int(input())\n",
    "    \n",
    "except ValueError:\n",
    "    print(\"You are supposed to enter integers only!\")\n",
    "    \n",
    "\n",
    "try:\n",
    "    input_num2 = int(input())\n",
    "    \n",
    "except ValueError:\n",
    "    print(\"You are supposed to enter integers only!\")\n",
    "    \n",
    "add_numbers = input_num1 + input_num2\n",
    "print(add_numbers)"
   ]
  },
  {
   "cell_type": "code",
   "execution_count": null,
   "metadata": {},
   "outputs": [
    {
     "name": "stdout",
     "output_type": "stream",
     "text": [
      "9\n",
      "8\n",
      "17\n",
      "8\n",
      "8\n",
      "16\n",
      "j\n",
      "You are supposed to enter integers only!\n",
      "j\n",
      "You are supposed to enter integers only!\n",
      "16\n",
      "8j\n",
      "You are supposed to enter integers only!\n",
      "8\n",
      "16\n"
     ]
    }
   ],
   "source": [
    "#10-7. Addition Calculator: Wrap your code from Exercise 10-6\n",
    "#in a while loop so the user can continue entering numbers \n",
    "#even if they make a mistake and enter text instead of a\n",
    "#number.\n",
    "while True:\n",
    "    try:\n",
    "        input_num1 = int(input())\n",
    "        \n",
    "    except ValueError:\n",
    "        print(\"You are supposed to enter integers only!\")\n",
    "    \n",
    "    try:\n",
    "        input_num2 = int(input())\n",
    "    \n",
    "    except ValueError:\n",
    "        print(\"You are supposed to enter integers only!\")\n",
    "    \n",
    "\n",
    "    add_numbers = input_num1 + input_num2\n",
    "\n",
    "    print(add_numbers)\n",
    "    "
   ]
  },
  {
   "cell_type": "code",
   "execution_count": 61,
   "metadata": {},
   "outputs": [
    {
     "name": "stdout",
     "output_type": "stream",
     "text": [
      "The values of file cats.txt are lilly\n",
      "milly\n",
      "nally\n",
      "\n",
      "The values of file dogs.txt are mally\n",
      "sally \n",
      "tally\n"
     ]
    }
   ],
   "source": [
    "#10-8. Cats and Dogs: Make two files, cats.txt and dogs.txt. \n",
    "#Store at least three names of cats in the first file and \n",
    "#three names of dogs in the second file. Write a program that\n",
    "#tries to read these files and print the contents of the file\n",
    "#to the screen. Wrap your code in a try-except block to catch\n",
    "#the FileNotFound error, and print a friendly message if a \n",
    "#file is missing. Move one of the files to a different \n",
    "#location on your system, and make sure the code in the \n",
    "#except block executes properly.\n",
    "\n",
    "def files(x):\n",
    "    \n",
    "    try:\n",
    "        with open(x, 'r') as f:\n",
    "            contents = f.read()\n",
    "            \n",
    "        \n",
    "    except FileNotFoundError:\n",
    "        print(f\"File {x} does not exist!\")\n",
    "    \n",
    "    else:\n",
    "        print(f\"The values of file {x} are {contents}\")\n",
    "\n",
    "\n",
    "file_names = [ 'cats.txt', 'dogs.txt']\n",
    "\n",
    "for file_name in file_names:\n",
    "    files(file_name)\n",
    "\n",
    "\n",
    "    \n",
    "    \n",
    "\n"
   ]
  },
  {
   "cell_type": "code",
   "execution_count": 79,
   "metadata": {},
   "outputs": [
    {
     "name": "stdout",
     "output_type": "stream",
     "text": [
      "The contents of file cats.txt are:\n",
      "lilly\n",
      "milly\n",
      "nally\n",
      "\n",
      "The contents of file dogs.txt are:\n",
      "mally\n",
      "sally \n",
      "tally\n"
     ]
    }
   ],
   "source": [
    "#10-9. Silent Cats and Dogs: Modify your except block in \n",
    "#Exercise 10-8 to fail silently if either file is missing.\n",
    "def file1(t):\n",
    "    \"\"\"Open the file(s) available and read its content\"\"\"\n",
    "    \"\"\"Set an exception block and keep it silent in case of an error\"\"\"\n",
    "    try:\n",
    "        with open(t, encoding = 'utf = 8') as f:\n",
    "            contents = f.read()\n",
    "            \n",
    "    except FileNotFoundError:\n",
    "        pass\n",
    "    \n",
    "    else:\n",
    "        print(f\"The contents of file {t} are:\\n{contents}\")\n",
    "        \n",
    "file_names2 = ['cats.txt', 'dogs.txt']\n",
    "for file_name2 in file_names2:\n",
    "    file1(file_name2)\n",
    "    \n",
    "\n",
    "        \n",
    "        "
   ]
  },
  {
   "cell_type": "code",
   "execution_count": 122,
   "metadata": {},
   "outputs": [
    {
     "data": {
      "text/plain": [
       "2724"
      ]
     },
     "execution_count": 122,
     "metadata": {},
     "output_type": "execute_result"
    }
   ],
   "source": [
    "#10-10. Common Words: Visit Project Gutenberg \n",
    "#(https://gutenberg.org/ ) and find a few texts you’d like to\n",
    "#analyze. Download the text files for these works, or copy \n",
    "#the raw text from your browser into a text file on your \n",
    "#computer. You can use the count() method to find out how \n",
    "#many times a word or phrase appears in a string. For \n",
    "#example, the following code counts the number of times \n",
    "#'row' appears in a string:\n",
    "#>>>line = \"Row, row, row your boat\"\n",
    "#>>>line.count('row')\n",
    "#2\n",
    "#>>>line.lower().count('row')\n",
    "#3\n",
    "#Notice that converting the string to lowercase using lower()\n",
    "#catches all appearances of the word you’re looking for, \n",
    "#regardless of how it’s formatted.\n",
    "#Write a program that reads the files you found at Project \n",
    "#Gutenberg and determines how many times the word 'the' \n",
    "#appears in each text. This will be an approximation because \n",
    "#it will also count words such as 'then' and 'there'. Try \n",
    "#counting 'the ', with a space in the string, and see how \n",
    "#much lower your count is.\n",
    "file_name = 'read.txt'\n",
    "\n",
    "with open(file_name, encoding = 'utf = 8') as f:\n",
    "    contents = f.read()\n",
    "    \n",
    "contents.count('the ')"
   ]
  },
  {
   "cell_type": "markdown",
   "metadata": {},
   "source": [
    "# Storing Data"
   ]
  },
  {
   "cell_type": "code",
   "execution_count": null,
   "metadata": {},
   "outputs": [],
   "source": [
    "#Programs will ask users to input certain kinds of \n",
    "#information. You might allow users to store \n",
    "#preferences in a game or provide data for a\n",
    "#visualization.\n",
    "#Whatever the focus of your program is, you'll store \n",
    "#the information users provide in data structures such\n",
    "#as lists and dictionaries.\n",
    "#When user close the program, you'll almost always want\n",
    "#to save the info they entered. A simple way to do this\n",
    "#involves storing your data using the json module.\n",
    "\n",
    "#The json module allows you to dump simple Python data\n",
    "#structures into a file and load the data from that \n",
    "#file the next time the program runs.\n",
    "\n",
    "#You can use JSON to share data between diff Python\n",
    "#programs. JSON data format is not specific to Python,\n",
    "#so you can share data you store in the JSON format\n",
    "#with pple who work in many other programming languages.\n",
    "\n",
    "#NOTE: JSON(JavaScript Object Notation) format was \n",
    "#originally developed for JavaScript. However, it has\n",
    "#since become a common format used by many languages,\n",
    "#including Python."
   ]
  }
 ],
 "metadata": {
  "kernelspec": {
   "display_name": "Python 3",
   "language": "python",
   "name": "python3"
  },
  "language_info": {
   "codemirror_mode": {
    "name": "ipython",
    "version": 3
   },
   "file_extension": ".py",
   "mimetype": "text/x-python",
   "name": "python",
   "nbconvert_exporter": "python",
   "pygments_lexer": "ipython3",
   "version": "3.7.3"
  }
 },
 "nbformat": 4,
 "nbformat_minor": 2
}
