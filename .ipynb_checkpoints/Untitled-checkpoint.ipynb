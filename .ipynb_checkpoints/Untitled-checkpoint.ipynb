{
 "cells": [
  {
   "cell_type": "code",
   "execution_count": 5,
   "metadata": {},
   "outputs": [
    {
     "name": "stdout",
     "output_type": "stream",
     "text": [
      "ada lovelace\n"
     ]
    }
   ],
   "source": [
    "first_name = \"ada\"\n",
    "last_name = \"lovelace\"\n",
    "full_name = f\"{first_name} {last_name}\"\n",
    "print(full_name)"
   ]
  },
  {
   "cell_type": "code",
   "execution_count": 6,
   "metadata": {},
   "outputs": [
    {
     "name": "stdout",
     "output_type": "stream",
     "text": [
      "Hello, Ada Lovelace!\n"
     ]
    }
   ],
   "source": [
    "first_name = \"ada\"\n",
    "last_name = \"lovelace\"\n",
    "full_name = f\"{first_name} {last_name}\"\n",
    "print(f\"Hello, {full_name.title()}!\")"
   ]
  },
  {
   "cell_type": "code",
   "execution_count": 7,
   "metadata": {},
   "outputs": [
    {
     "name": "stdout",
     "output_type": "stream",
     "text": [
      "Hello, Ada Lovelace!\n"
     ]
    }
   ],
   "source": [
    "first_name = \"ada\"\n",
    "last_name = \"lovelace\"\n",
    "full_name = f\"{first_name} {last_name}\"\n",
    "message = f\"Hello, {full_name.title()}!\"\n",
    "print(message)"
   ]
  },
  {
   "cell_type": "code",
   "execution_count": 63,
   "metadata": {},
   "outputs": [
    {
     "data": {
      "text/plain": [
       "'Python*******'"
      ]
     },
     "execution_count": 63,
     "metadata": {},
     "output_type": "execute_result"
    }
   ],
   "source": [
    "favorite_language = 'Python*******'\n",
    "favorite_language "
   ]
  },
  {
   "cell_type": "code",
   "execution_count": 64,
   "metadata": {},
   "outputs": [
    {
     "data": {
      "text/plain": [
       "'Python'"
      ]
     },
     "execution_count": 64,
     "metadata": {},
     "output_type": "execute_result"
    }
   ],
   "source": [
    "favorite_language.rstrip('*')"
   ]
  },
  {
   "cell_type": "code",
   "execution_count": 65,
   "metadata": {},
   "outputs": [
    {
     "data": {
      "text/plain": [
       "'Python*******'"
      ]
     },
     "execution_count": 65,
     "metadata": {},
     "output_type": "execute_result"
    }
   ],
   "source": [
    "favorite_language"
   ]
  },
  {
   "cell_type": "code",
   "execution_count": 66,
   "metadata": {},
   "outputs": [
    {
     "data": {
      "text/plain": [
       "'python'"
      ]
     },
     "execution_count": 66,
     "metadata": {},
     "output_type": "execute_result"
    }
   ],
   "source": [
    "favorite_language = 'python '\n",
    "favorite_language = favorite_language.rstrip()\n",
    "favorite_language"
   ]
  },
  {
   "cell_type": "code",
   "execution_count": 67,
   "metadata": {},
   "outputs": [
    {
     "data": {
      "text/plain": [
       "' python'"
      ]
     },
     "execution_count": 67,
     "metadata": {},
     "output_type": "execute_result"
    }
   ],
   "source": [
    "favorite_language = ' python '\n",
    "favorite_language.rstrip()"
   ]
  },
  {
   "cell_type": "code",
   "execution_count": 68,
   "metadata": {},
   "outputs": [
    {
     "data": {
      "text/plain": [
       "'python '"
      ]
     },
     "execution_count": 68,
     "metadata": {},
     "output_type": "execute_result"
    }
   ],
   "source": [
    "favorite_language.lstrip()"
   ]
  },
  {
   "cell_type": "code",
   "execution_count": 69,
   "metadata": {},
   "outputs": [
    {
     "data": {
      "text/plain": [
       "'python'"
      ]
     },
     "execution_count": 69,
     "metadata": {},
     "output_type": "execute_result"
    }
   ],
   "source": [
    "favorite_language.strip()"
   ]
  },
  {
   "cell_type": "code",
   "execution_count": 70,
   "metadata": {},
   "outputs": [
    {
     "name": "stdout",
     "output_type": "stream",
     "text": [
      "Hello Nickson, would you like to learn some Python today.\n"
     ]
    }
   ],
   "source": [
    "#Use a variable to represent a person's name, and print\n",
    "#a message to that person. Your message should be simple,\n",
    "#such as, \"Hello Eric, would you like to learn some Python\n",
    "#today\"\n",
    "name = \"Nickson\"\n",
    "print(f\"Hello {name}, would you like to learn some Python today.\")"
   ]
  },
  {
   "cell_type": "code",
   "execution_count": 71,
   "metadata": {},
   "outputs": [
    {
     "name": "stdout",
     "output_type": "stream",
     "text": [
      "FREDAH KIOKO\n",
      "fredah kioko\n",
      "Fredah Kioko\n"
     ]
    }
   ],
   "source": [
    "#Use a variable to represent a person's name, and then print\n",
    "#that person's name in lowercase, uppercase and title case.\n",
    "name2 = \"Fredah Kioko\"\n",
    "print(name2.upper())\n",
    "print(name2.lower())\n",
    "print(name2.title())"
   ]
  },
  {
   "cell_type": "code",
   "execution_count": 72,
   "metadata": {},
   "outputs": [
    {
     "name": "stdout",
     "output_type": "stream",
     "text": [
      "Albert Einstein once said,\"A person who never made a mistake never tried anything new\"\n"
     ]
    }
   ],
   "source": [
    "#Find a quote from a famous person you admire. Print the\n",
    "#quote and the name of its author. Your output\n",
    "#should look something like the following,\n",
    "#including the quotation marks:\n",
    "#\n",
    "#Albert Einstein once said, \"A person who never made a \n",
    "#mistake never tried anything new.\"\n",
    "print('Albert Einstein once said,\"A person who never made a'\n",
    "       ' mistake never tried anything new\"')\n"
   ]
  },
  {
   "cell_type": "code",
   "execution_count": 5,
   "metadata": {},
   "outputs": [
    {
     "name": "stdout",
     "output_type": "stream",
     "text": [
      "cannondale\n",
      "specialized\n"
     ]
    }
   ],
   "source": [
    "#Index Positions\n",
    "\n",
    "#Using counting system, you can get any element you want from a\n",
    "#list by subtracting one from its position in the list.\n",
    "\n",
    "#Example\n",
    "#The following asks for the bicycles at index 1 and index 3\n",
    "\n",
    "bicycles = ['trek', 'cannondale', 'redline', 'specialized']\n",
    "print(bicycles[1])\n",
    "print(bicycles[3])"
   ]
  },
  {
   "cell_type": "markdown",
   "metadata": {},
   "source": [
    "# Chapter 3: INTRODUCING LISTS"
   ]
  },
  {
   "cell_type": "code",
   "execution_count": 1,
   "metadata": {},
   "outputs": [
    {
     "name": "stdout",
     "output_type": "stream",
     "text": [
      "Albert Einstein once said, 'A person who never made a mistake never tried anything new\n"
     ]
    }
   ],
   "source": [
    "#Repeat the exercise above, but this time, represet the \n",
    "#famous person's name using a variable called famous_person.\n",
    "#Then compose your message and represent it with a new variable\n",
    "#called message. Print your message\n",
    "name3 = 'Albert Einstein'\n",
    "quote = 'A person who never made a mistake never tried anything new'\n",
    "\n",
    "print(f\"{name3} once said, '{quote}\")"
   ]
  },
  {
   "cell_type": "code",
   "execution_count": 1,
   "metadata": {},
   "outputs": [
    {
     "name": "stdout",
     "output_type": "stream",
     "text": [
      "The Zen of Python, by Tim Peters\n",
      "\n",
      "Beautiful is better than ugly.\n",
      "Explicit is better than implicit.\n",
      "Simple is better than complex.\n",
      "Complex is better than complicated.\n",
      "Flat is better than nested.\n",
      "Sparse is better than dense.\n",
      "Readability counts.\n",
      "Special cases aren't special enough to break the rules.\n",
      "Although practicality beats purity.\n",
      "Errors should never pass silently.\n",
      "Unless explicitly silenced.\n",
      "In the face of ambiguity, refuse the temptation to guess.\n",
      "There should be one-- and preferably only one --obvious way to do it.\n",
      "Although that way may not be obvious at first unless you're Dutch.\n",
      "Now is better than never.\n",
      "Although never is often better than *right* now.\n",
      "If the implementation is hard to explain, it's a bad idea.\n",
      "If the implementation is easy to explain, it may be a good idea.\n",
      "Namespaces are one honking great idea -- let's do more of those!\n"
     ]
    }
   ],
   "source": [
    "import this"
   ]
  },
  {
   "cell_type": "code",
   "execution_count": 2,
   "metadata": {},
   "outputs": [
    {
     "name": "stdout",
     "output_type": "stream",
     "text": [
      "['trek', 'cannondale', 'redline', 'specialized']\n"
     ]
    }
   ],
   "source": [
    "#INTRODUCING LISTS\n",
    "\n",
    "#Lists allow you to store sets of information in one place\n",
    "#whether you have just a few items or millions of items.\n",
    "\n",
    "#A list is a collection of items in a particular order. You can\n",
    "#make a list that includes the letters of the alphabet, the digits\n",
    "#from 0-9, or the names of all the people in your family.\n",
    "\n",
    "#Because a list usually contains more than one element, it's a good\n",
    "#idea to make the name of your list plural, such as letters, digits\n",
    "# or names.\n",
    "\n",
    "#In Python, square brackets ([]) indicate a list, and individual\n",
    "#elements in the list are separated by commas.\n",
    "\n",
    "#Examples\n",
    "bicycles = ['trek', 'cannondale', 'redline', 'specialized']\n",
    "print(bicycles)"
   ]
  },
  {
   "cell_type": "code",
   "execution_count": 73,
   "metadata": {},
   "outputs": [
    {
     "name": "stdout",
     "output_type": "stream",
     "text": [
      "trek\n"
     ]
    }
   ],
   "source": [
    "#You can access any element in a list by telling Python the position,\n",
    "#or index, of the item desired. To access an element in a list, write\n",
    "#the name of the list followed by the index of the item enclosed\n",
    "#in square brackets\n",
    "\n",
    "#Example\n",
    "bicycles = ['trek', 'cannondalc', 'redline', 'specialized']\n",
    "print(bicycles[0])"
   ]
  },
  {
   "cell_type": "code",
   "execution_count": 4,
   "metadata": {},
   "outputs": [
    {
     "name": "stdout",
     "output_type": "stream",
     "text": [
      "Trek\n"
     ]
    }
   ],
   "source": [
    "#You can also use string methods on any element in the list\n",
    "\n",
    "#Example\n",
    "bicycles = ['trek', 'cannondale', 'redline', 'specialized']\n",
    "print(bicycles[0].title())\n",
    "\n",
    "#Trek is capitalized"
   ]
  },
  {
   "cell_type": "code",
   "execution_count": 6,
   "metadata": {},
   "outputs": [
    {
     "name": "stdout",
     "output_type": "stream",
     "text": [
      "specialized\n"
     ]
    }
   ],
   "source": [
    "#Python has a special syntax for accessing the last element in a list.\n",
    "#By asking for the item at index -1, Python always returns the last\n",
    "#item in the list\n",
    "\n",
    "#Example\n",
    "bicycles = ['trek', 'cannondale', 'redline', 'specialized']\n",
    "print(bicycles[-1])\n",
    "\n",
    "#The index -2 returns the second item from the end of the list,\n",
    "#the index-3 returns the third item from the end, and so forth."
   ]
  },
  {
   "cell_type": "code",
   "execution_count": 8,
   "metadata": {},
   "outputs": [
    {
     "name": "stdout",
     "output_type": "stream",
     "text": [
      "My first bicycle was a Trek.\n"
     ]
    }
   ],
   "source": [
    "#Using individual Values from a list\n",
    "#You can use individual values from a list just as you would any\n",
    "#other variable.\n",
    "#For example the use of f-strings to create a message based on\n",
    "#a value from a list\n",
    "\n",
    "#Example\n",
    "bicycles = ['trek', 'cannondale', 'redline', 'specialized']\n",
    "message = f\"My first bicycle was a {bicycles[0].title()}.\"\n",
    "print(message)\n"
   ]
  },
  {
   "cell_type": "markdown",
   "metadata": {},
   "source": [
    "# Exercises"
   ]
  },
  {
   "cell_type": "code",
   "execution_count": 74,
   "metadata": {},
   "outputs": [
    {
     "name": "stdout",
     "output_type": "stream",
     "text": [
      "Josian\n",
      "Jimmy\n",
      "Fredah\n",
      "Sos\n",
      "Mzae\n",
      "Newty\n"
     ]
    }
   ],
   "source": [
    "#3-1. Names: Store the names of a few of your friends in a list\n",
    "#called names. Print each person's name by accessing each element\n",
    "#in the list, one at a time.\n",
    "names = ['Josian', 'Jimmy', 'Fredah', 'Sos', 'Mzae', 'Newty']\n",
    "print(names[0])\n",
    "print(names[1])\n",
    "print(names[2])\n",
    "print(names[3])\n",
    "print(names[4])\n",
    "print(names[5])"
   ]
  },
  {
   "cell_type": "code",
   "execution_count": 13,
   "metadata": {},
   "outputs": [
    {
     "name": "stdout",
     "output_type": "stream",
     "text": [
      "Josian is my good friend\n",
      "Jimmy is my good friend\n",
      "Freday is my good friend\n",
      "Sos is my good friend\n",
      "Mzae is my good friend\n",
      "Newty is my good friend\n"
     ]
    }
   ],
   "source": [
    "#3-2. Greetings: Start with the lsit you used in Exercise 3-1, but \n",
    "#instead of just printing each person's name, print a message to\n",
    "#them. The text of each message should be the same, but each message\n",
    "#should be personalized with the person's name.\n",
    "names = ['Josian', 'Jimmy', 'Freday', 'Sos', 'Mzae', 'Newty']\n",
    "print(f\"{names[0]} is my good friend\")\n",
    "print(f\"{names[1]} is my good friend\")\n",
    "print(f\"{names[2]} is my good friend\")\n",
    "print(f\"{names[3]} is my good friend\")\n",
    "print(f\"{names[4]} is my good friend\")\n",
    "print(f\"{names[5]} is my good friend\")"
   ]
  },
  {
   "cell_type": "code",
   "execution_count": 75,
   "metadata": {},
   "outputs": [
    {
     "name": "stdout",
     "output_type": "stream",
     "text": [
      "Tesla is currently the most valuable car in the world.\n",
      "Nissan produces its cars on large scale.\n",
      "Mercedies is quite luxurious.\n",
      "Ferrari is very fast.\n",
      "Boughatti is driven by many celebrities.\n"
     ]
    }
   ],
   "source": [
    "#3-3.Your Own List: Think of your favorite mode of transportation,\n",
    "#such as a motorcycle or a car, and make a list that stores several\n",
    "#examples. Use your list to print a series of statements about these\n",
    "#items, such as \"I would like to own a Honda Motorcycle. \"\n",
    "car = ['Tesla', 'Nissan', 'Mercedies', 'Ferrari', 'Boughatti']\n",
    "print(f\"{car[0]} is currently the most valuable car in the world.\")\n",
    "print(f\"{car[1]} produces its cars on large scale.\")\n",
    "print(f\"{car[2]} is quite luxurious.\")\n",
    "print(f\"{car[3]} is very fast.\")\n",
    "print(f\"{car[4]} is driven by many celebrities.\")"
   ]
  },
  {
   "cell_type": "markdown",
   "metadata": {},
   "source": [
    "# Changing, Adding, and Removing Elements "
   ]
  },
  {
   "cell_type": "code",
   "execution_count": 2,
   "metadata": {},
   "outputs": [],
   "source": [
    "#Most lists you create will be dynamic, meaning you'll build a list and\n",
    "#then add and remove elements from it as your program runs its course."
   ]
  },
  {
   "cell_type": "markdown",
   "metadata": {},
   "source": [
    "Modifying Elements in a list"
   ]
  },
  {
   "cell_type": "code",
   "execution_count": 3,
   "metadata": {},
   "outputs": [
    {
     "name": "stdout",
     "output_type": "stream",
     "text": [
      "['honda', 'yamaha', 'suzuki']\n",
      "['ducati', 'yamaha', 'suzuki']\n"
     ]
    }
   ],
   "source": [
    "#The syntax for modifying an element is similar to the \n",
    "#syntax for accessing an element in a list.\n",
    "#To change an element, use the name of the list followed\n",
    "#by the index of the element you want to change, and then provide\n",
    "#the new value you want that item to have.\n",
    "\n",
    "#Example\n",
    "motorcycles = ['honda', 'yamaha', 'suzuki']\n",
    "print(motorcycles)\n",
    "motorcycles[0] = 'ducati'\n",
    "print(motorcycles)"
   ]
  },
  {
   "cell_type": "markdown",
   "metadata": {},
   "source": [
    "Adding Elements to a list"
   ]
  },
  {
   "cell_type": "code",
   "execution_count": 4,
   "metadata": {},
   "outputs": [],
   "source": [
    "#Python provides several ways to add new data to existing lists."
   ]
  },
  {
   "cell_type": "code",
   "execution_count": 7,
   "metadata": {},
   "outputs": [
    {
     "name": "stdout",
     "output_type": "stream",
     "text": [
      "['honda', 'yamaha', 'suzuki']\n",
      "['honda', 'yamaha', 'suzuki', 'tesla']\n"
     ]
    }
   ],
   "source": [
    "#The simplest way to add a new element to a list is to append the\n",
    "#item to the list. When you append an item to a list, the new element\n",
    "#is added to the end of the list.\n",
    "\n",
    "#Example\n",
    "motorcycles = ['honda', 'yamaha', 'suzuki']\n",
    "print(motorcycles)\n",
    "\n",
    "motorcycles.append('tesla')\n",
    "print(motorcycles)\n",
    "\n",
    "#Above, the append() method adds 'tesla' to the end of the list\n",
    "#without affecting any of the other elements in the list."
   ]
  },
  {
   "cell_type": "code",
   "execution_count": 8,
   "metadata": {},
   "outputs": [
    {
     "name": "stdout",
     "output_type": "stream",
     "text": [
      "['honda', 'yamaha', 'suzuki']\n"
     ]
    }
   ],
   "source": [
    "#The append() method makes it easy to build lists dynamically.\n",
    "\n",
    "#Example\n",
    "motorcycles = [] \n",
    "motorcycles.append('honda') \n",
    "motorcycles.append('yamaha') \n",
    "motorcycles.append('suzuki') \n",
    "print(motorcycles)\n"
   ]
  },
  {
   "cell_type": "markdown",
   "metadata": {},
   "source": [
    "Inserting elements into a list"
   ]
  },
  {
   "cell_type": "code",
   "execution_count": 9,
   "metadata": {},
   "outputs": [
    {
     "name": "stdout",
     "output_type": "stream",
     "text": [
      "['ducati', 'honda', 'yamaha', 'suzuki']\n"
     ]
    }
   ],
   "source": [
    "#You can add a new element at any position in your list by using\n",
    "# the insert() method. You can do this by specifying the index\n",
    "#of the new element and the value of the new item.\n",
    "motorcycles = ['honda', 'yamaha', 'suzuki']\n",
    "\n",
    "motorcycles.insert(0, 'ducati')\n",
    "print(motorcycles)\n",
    "\n",
    "#Above, the insert() method opens a space at position 0 and stores\n",
    "#the value 'ducati' at that location. This operation shifts every\n",
    "#other value in the list one position to the right"
   ]
  },
  {
   "cell_type": "markdown",
   "metadata": {},
   "source": [
    "Removing Elements from a list"
   ]
  },
  {
   "cell_type": "code",
   "execution_count": null,
   "metadata": {},
   "outputs": [],
   "source": [
    "#You can remove an item according to its position in the list\n",
    "#or according to its value."
   ]
  },
  {
   "cell_type": "markdown",
   "metadata": {},
   "source": [
    "Removing an Item Using the del Statement"
   ]
  },
  {
   "cell_type": "code",
   "execution_count": 40,
   "metadata": {},
   "outputs": [
    {
     "name": "stdout",
     "output_type": "stream",
     "text": [
      "['honda', 'yamaha', 'suzuki']\n",
      "['yamaha', 'suzuki']\n",
      "['yamaha']\n"
     ]
    }
   ],
   "source": [
    "#If you know the position of the item you want to remove from \n",
    "#a list, you can use the del statement.\n",
    "\n",
    "#Example\n",
    "motorcycles = ['honda', 'yamaha', 'suzuki']\n",
    "print(motorcycles)\n",
    "\n",
    "del motorcycles[0]\n",
    "print(motorcycles)\n",
    "\n",
    "#You can remove an item from any position in a list using the del\n",
    "#statement if you know its index\n",
    "\n",
    "#Example\n",
    "del motorcycles[1]\n",
    "print(motorcycles)"
   ]
  },
  {
   "cell_type": "markdown",
   "metadata": {},
   "source": [
    "Removing an item Using the pop() Method"
   ]
  },
  {
   "cell_type": "code",
   "execution_count": 41,
   "metadata": {},
   "outputs": [],
   "source": [
    "#Sometimes you might want to use the value of an item after you\n",
    "#remove it from a list. For example, you might want to remove\n",
    "#a user from a list of active members and then add that user to\n",
    "#a list of inactive members\n"
   ]
  },
  {
   "cell_type": "code",
   "execution_count": 42,
   "metadata": {},
   "outputs": [
    {
     "name": "stdout",
     "output_type": "stream",
     "text": [
      "['honda', 'yamaha', 'suzuki']\n",
      "['honda']\n",
      "yamaha\n"
     ]
    }
   ],
   "source": [
    "#The pop() method removes the last item in a list, but it lets\n",
    "#you work with that item after removing it.\n",
    "\n",
    "#Example\n",
    "motorcycle = ['honda', 'yamaha', 'suzuki']\n",
    "print(motorcycle)\n",
    "\n",
    "motorcycle.pop()\n",
    "nicko = motorcycle.pop()\n",
    "print(motorcycle)\n",
    "print(nicko)"
   ]
  },
  {
   "cell_type": "code",
   "execution_count": 43,
   "metadata": {},
   "outputs": [
    {
     "name": "stdout",
     "output_type": "stream",
     "text": [
      "The last motorcycle I owned was a Suzuki.\n"
     ]
    }
   ],
   "source": [
    "#Illustration of pop() method\n",
    "#Imagine that the motorcycles in the list are stored in \n",
    "#chronological order according to when we owned them.\n",
    "#If this is the case, we can use the pop() method to print\n",
    "#a statement about the last motorcycle bought\n",
    "\n",
    "#Example\n",
    "motorcycles = ['honda', 'yamaha', 'suzuki']\n",
    "\n",
    "last_owned = motorcycles.pop()\n",
    "print(f\"The last motorcycle I owned was a {last_owned.title()}.\")"
   ]
  },
  {
   "cell_type": "markdown",
   "metadata": {},
   "source": [
    "Removing an Item by Value"
   ]
  },
  {
   "cell_type": "code",
   "execution_count": 44,
   "metadata": {},
   "outputs": [
    {
     "name": "stdout",
     "output_type": "stream",
     "text": [
      "['honda', 'yamaha', 'suzuki', 'ducati']\n",
      "['honda', 'yamaha', 'suzuki']\n"
     ]
    }
   ],
   "source": [
    "#Sometimes you won't know the position of the value you want\n",
    "#to remove from a list.\n",
    "#If you only know the value of the item you want to remove, you\n",
    "#can use the remove() method.\n",
    "\n",
    "#Example, remove the value 'ducati' from the list of motorcycles.\n",
    "motorcycles = ['honda', 'yamaha', 'suzuki', 'ducati']\n",
    "print(motorcycles)\n",
    "\n",
    "motorcycles.remove('ducati')\n",
    "print(motorcycles)"
   ]
  },
  {
   "cell_type": "code",
   "execution_count": 45,
   "metadata": {},
   "outputs": [
    {
     "name": "stdout",
     "output_type": "stream",
     "text": [
      "['honda', 'yamaha', 'suzuki', 'ducati']\n",
      "['honda', 'yamaha', 'suzuki']\n",
      "\n",
      "A Ducati is too expensive for me.\n"
     ]
    }
   ],
   "source": [
    "#You can also use the remove() method to work with a value\n",
    "#that's being removed from a list.\n",
    "\n",
    "#Let's remove the value 'ducati' and print a reason for \n",
    "#removing it from the list\n",
    "motorcycles = ['honda', 'yamaha', 'suzuki', 'ducati']\n",
    "print(motorcycles)\n",
    "\n",
    "too_expensive = 'ducati'\n",
    "motorcycles.remove(too_expensive)\n",
    "print(motorcycles)\n",
    "\n",
    "print(f\"\\nA {too_expensive.title()} is too expensive for me.\")"
   ]
  },
  {
   "cell_type": "code",
   "execution_count": 46,
   "metadata": {},
   "outputs": [],
   "source": [
    "#The remove() method deletes only the first occurrence\n",
    "#of the value you specify. If there's a possibility the\n",
    "#value appears more the an once in the list, you'll need \n",
    "#to use a loop to make sure all occurrences of the value \n",
    "#are removed."
   ]
  },
  {
   "cell_type": "markdown",
   "metadata": {},
   "source": [
    "Exercises"
   ]
  },
  {
   "cell_type": "code",
   "execution_count": 47,
   "metadata": {},
   "outputs": [
    {
     "name": "stdout",
     "output_type": "stream",
     "text": [
      "You are welcome for dinner Martin Luther\n",
      "You are welcome for dinner Malcolm\n",
      "You are welcome for dinner Mother Teresa\n",
      "You are welcome for dinner Myles Munroe\n",
      "You are welcome for dinner Samuel Onyari\n"
     ]
    }
   ],
   "source": [
    "#3-4.Guest List: If you could invite anyone, living\n",
    "#or deceased, to dinner, who would you invite? Make \n",
    "#a list that includes at least three people you'd \n",
    "#like to invide to dinner. Then use your list to print\n",
    "#a message to each person, inviting them to dinner.\n",
    "guest_list = ['Martin Luther', 'Malcolm','Mother Teresa', 'Myles Munroe','Samuel Onyari']\n",
    "print(f\"You are welcome for dinner {guest_list[0]}\")\n",
    "print(f\"You are welcome for dinner {guest_list[1]}\")\n",
    "print(f\"You are welcome for dinner {guest_list[2]}\")\n",
    "print(f\"You are welcome for dinner {guest_list[3]}\")\n",
    "print(f\"You are welcome for dinner {guest_list[4]}\")"
   ]
  },
  {
   "cell_type": "code",
   "execution_count": 48,
   "metadata": {},
   "outputs": [
    {
     "name": "stdout",
     "output_type": "stream",
     "text": [
      "Martin Luther won't make it for dinner.\n",
      "['Malcolm', 'Mother Teresa', 'Myles Munroe', 'Samuel Onyari']\n",
      "Welcome Mahatma on behalf of Martin Luther.\n",
      "You are welcome for dinner Mahatma\n",
      "You are welcome for dinner Malcolm\n",
      "You are welcome for dinner Mother Teresa\n",
      "You are welcome for dinner Myles Munroe\n",
      "You are welcome for dinner Samuel Onyari\n"
     ]
    }
   ],
   "source": [
    "#3-5.Changing Guest List: You just heard that one\n",
    "#of your guests can't make the dinner, so you need\n",
    "#to send out a new set of invitations. You'll have\n",
    "#to think of someone else to invite.\n",
    "#1.Start with your program from Exercise 3-4. Add to\n",
    "#print() call at the end of your program stating the\n",
    "#name of the guest who can't make it.\n",
    "#2.Modify your list, replacing the name of the guest\n",
    "#who can't make it with the name of the new person\n",
    "#you are inviting.\n",
    "#3.Print a second set of invitation messages, one for\n",
    "#each person who is still in your list.\n",
    "\n",
    "guest_list = ['Martin Luther', 'Malcolm','Mother Teresa', 'Myles Munroe','Samuel Onyari']\n",
    "missed = 'Martin Luther'\n",
    "guest_list.remove(missed)\n",
    "print(f\"{missed} won't make it for dinner.\")\n",
    "print(guest_list)\n",
    "\n",
    "guest_list.insert(0, \"Mahatma\")\n",
    "print(f\"Welcome {guest_list[0]} on behalf of {missed}.\")\n",
    "\n",
    "#Second set of invitation messages\n",
    "print(f\"You are welcome for dinner {guest_list[0]}\")\n",
    "print(f\"You are welcome for dinner {guest_list[1]}\")\n",
    "print(f\"You are welcome for dinner {guest_list[2]}\")\n",
    "print(f\"You are welcome for dinner {guest_list[3]}\")\n",
    "print(f\"You are welcome for dinner {guest_list[4]}\")\n",
    "\n",
    "\n"
   ]
  },
  {
   "cell_type": "code",
   "execution_count": 56,
   "metadata": {},
   "outputs": [
    {
     "name": "stdout",
     "output_type": "stream",
     "text": [
      "You are welcome for dinner Mahatma Gandhi\n",
      "You are welcome for dinner Elon Musk\n",
      "You are welcome for dinner Martin Luther\n",
      "I have found a bigger dining table that will fit all of you together with our new guests.\n"
     ]
    }
   ],
   "source": [
    "#3-6.More Guests: You just found a bigger dinner table,\n",
    "#so now more space is available. Think of three more \n",
    "#guests to invite to dinner.\n",
    "#1. Start with your program from Exercise 3-4 or Exercise\n",
    "#3-5. Add a print() call to the end of your program informing\n",
    "#people that you found a bigger dinner table.\n",
    "#Use insert() to add one new guest to the beginneing of your list\n",
    "#Use insert() to add one new guest to the middle of your list.\n",
    "#Use append() to add one new guest to the end of your list.\n",
    "#Print a new set of invitation messages, on for each person in your list.\n",
    "guest_list = ['Martin Luther', 'Malcolm','Mother Teresa', 'Myles Munroe','Samuel Onyari']\n",
    "\n",
    "guest_list.insert(0, 'Mahatma Gandhi')\n",
    "guest_list.insert(1, 'Elon Musk')\n",
    "guest_list.append('Henry Ford')\n",
    "\n",
    "print(f\"You are welcome for dinner {guest_list[0]}\")\n",
    "print(f\"You are welcome for dinner {guest_list[1]}\")\n",
    "print(f\"You are welcome for dinner {guest_list[2]}\")\n",
    "\n",
    "print(\"I have found a bigger dining table that will fit all of you together with our new guests.\")"
   ]
  },
  {
   "cell_type": "code",
   "execution_count": 57,
   "metadata": {},
   "outputs": [
    {
     "name": "stdout",
     "output_type": "stream",
     "text": [
      "Hope you are all fine. As of now, we can only two people for dinner.\n",
      "['Mahatma Gandhi', 'Elon Musk', 'Martin Luther', 'Malcolm', 'Mother Teresa', 'Myles Munroe', 'Samuel Onyari', 'Henry Ford']\n"
     ]
    }
   ],
   "source": [
    "#3-7. Shrinking Guest List: You just found out that your new dinner table won't\n",
    "#arrive in time for the dinner, and you have space for only two guests.\n",
    "\n",
    "#  .Start with your program from Exercise 3-6. Add a new line that prints a \n",
    "#   message saying that you can invite only two people for dinner.\n",
    "#  .Use pop() to remove guests from your list one at a time until only two \n",
    "#   names remain in your list. Each time you pop a name from your list, print\n",
    "#   a message to taht person letting them know you're sorry you can't invite\n",
    "#   them to dinner.\n",
    "#  .Print a message to each of the two people still on your list, letting them\n",
    "#   know they're still invited\n",
    "#  .Use del to remove the last two names from your list so you have an empty\n",
    "#   list. Print your list to make sure you actually have an empty list at the end\n",
    "#   of your program.\n",
    "\n",
    "print(\"Hope you are all fine. As of now, we can only two people for dinner.\")\n",
    "print(guest_list)"
   ]
  },
  {
   "cell_type": "code",
   "execution_count": 58,
   "metadata": {},
   "outputs": [
    {
     "name": "stdout",
     "output_type": "stream",
     "text": [
      "Unfortunately we will only have to invite two people for the dinner!\n",
      "With polite notice, your invitation has been cancelled. My sincere apologies Henry Ford for the inconvenience.\n",
      "With polite notice, your invitation has been cancelled. My sincere apologies Samuel Onyari for the inconvenience.\n",
      "With polite notice, your invitation has been cancelled. My sincere apologies Myles Munroe for the inconvenience.\n",
      "With polite notice, your invitation has been cancelled. My sincere apologies Mother Teresa for the inconvenience.\n",
      "With polite notice, your invitation has been cancelled. My sincere apologies Malcolm for the inconvenience.\n",
      "With polite notice, your invitation has been cancelled. My sincere apologies Martin Luther for the inconvenience.\n",
      "['Mahatma Gandhi', 'Elon Musk']\n"
     ]
    }
   ],
   "source": [
    "print(\"Unfortunately we will only have to invite two people for the dinner!\")\n",
    "\n",
    "print(f\"With polite notice, your invitation has been cancelled. My sincere apologies {guest_list.pop()} for the inconvenience.\")\n",
    "\n",
    "\n",
    "print(f\"With polite notice, your invitation has been cancelled. My sincere apologies {guest_list.pop()} for the inconvenience.\")\n",
    "\n",
    "\n",
    "print(f\"With polite notice, your invitation has been cancelled. My sincere apologies {guest_list.pop()} for the inconvenience.\")\n",
    "\n",
    "\n",
    "print(f\"With polite notice, your invitation has been cancelled. My sincere apologies {guest_list.pop()} for the inconvenience.\")\n",
    "\n",
    "\n",
    "print(f\"With polite notice, your invitation has been cancelled. My sincere apologies {guest_list.pop()} for the inconvenience.\")\n",
    "\n",
    "\n",
    "print(f\"With polite notice, your invitation has been cancelled. My sincere apologies {guest_list.pop()} for the inconvenience.\")\n",
    "\n",
    "\n",
    "print(guest_list)"
   ]
  },
  {
   "cell_type": "code",
   "execution_count": 59,
   "metadata": {},
   "outputs": [
    {
     "name": "stdout",
     "output_type": "stream",
     "text": [
      "You are still invited for dinner Mahatma Gandhi\n",
      "You are still invited for dinner Elon Musk\n"
     ]
    }
   ],
   "source": [
    "print(f\"You are still invited for dinner {guest_list[0]}\")\n",
    "print(f\"You are still invited for dinner {guest_list[1]}\")"
   ]
  },
  {
   "cell_type": "code",
   "execution_count": 60,
   "metadata": {},
   "outputs": [
    {
     "name": "stdout",
     "output_type": "stream",
     "text": [
      "['Mahatma Gandhi', 'Elon Musk']\n"
     ]
    }
   ],
   "source": [
    "print(guest_list)"
   ]
  },
  {
   "cell_type": "code",
   "execution_count": 61,
   "metadata": {},
   "outputs": [],
   "source": [
    "del guest_list[0]"
   ]
  },
  {
   "cell_type": "code",
   "execution_count": 62,
   "metadata": {},
   "outputs": [],
   "source": [
    "del guest_list[0]"
   ]
  },
  {
   "cell_type": "code",
   "execution_count": 63,
   "metadata": {},
   "outputs": [
    {
     "name": "stdout",
     "output_type": "stream",
     "text": [
      "[]\n"
     ]
    }
   ],
   "source": [
    "print(guest_list)"
   ]
  },
  {
   "cell_type": "markdown",
   "metadata": {},
   "source": [
    "# Organizing a List"
   ]
  },
  {
   "cell_type": "code",
   "execution_count": 1,
   "metadata": {},
   "outputs": [],
   "source": [
    "#In many cases your lists come in unordred manner.\n",
    "#As the user/programmer you might want your list to\n",
    "#be in a certain order.\n",
    "#Python therefore provides ways to order your list \n",
    "#depending on your situation."
   ]
  },
  {
   "cell_type": "markdown",
   "metadata": {},
   "source": [
    "Sorting a List Permanently with the sort() Method.\n"
   ]
  },
  {
   "cell_type": "code",
   "execution_count": 2,
   "metadata": {},
   "outputs": [
    {
     "name": "stdout",
     "output_type": "stream",
     "text": [
      "['audi', 'bmw', 'subaru', 'toyota']\n"
     ]
    }
   ],
   "source": [
    "#Python sort() method makes it relatively easy to\n",
    "#sort a list\n",
    "#It sorts the list alphabetically\n",
    "\n",
    "#Example\n",
    "cars = ['bmw', 'audi', 'toyota', 'subaru']\n",
    "cars.sort()\n",
    "print(cars)\n",
    "\n",
    "#The sort() method changes the order permanently\n",
    "#and we can never revert to the order."
   ]
  },
  {
   "cell_type": "code",
   "execution_count": 4,
   "metadata": {},
   "outputs": [
    {
     "name": "stdout",
     "output_type": "stream",
     "text": [
      "['toyota', 'subaru', 'bmw', 'audi']\n"
     ]
    }
   ],
   "source": [
    "#You can also sort the list in reverse alphabetical\n",
    "#order.\n",
    "#You can add the argument reverse=True to the sort \n",
    "#method\n",
    "\n",
    "#Example\n",
    "cars = ['bmw', 'audi', 'toyota', 'subaru']\n",
    "cars.sort(reverse = True)\n",
    "print(cars)"
   ]
  },
  {
   "cell_type": "markdown",
   "metadata": {},
   "source": [
    "Sorting a List temporarily with the sorted() Function"
   ]
  },
  {
   "cell_type": "code",
   "execution_count": 5,
   "metadata": {},
   "outputs": [],
   "source": [
    "#You might want to maintain the original order of\n",
    "#your list after sorting.\n",
    "#To do so we use the function sorted()\n",
    "#It lets you display your list in particular order\n",
    "#but does not affect the actual order of the list"
   ]
  },
  {
   "cell_type": "code",
   "execution_count": 7,
   "metadata": {},
   "outputs": [
    {
     "name": "stdout",
     "output_type": "stream",
     "text": [
      "Here is the original list: \n",
      "['bmw', 'audi', 'toyota', 'subaru']\n",
      "\n",
      "Here is the sorted list: \n",
      "['audi', 'bmw', 'subaru', 'toyota']\n",
      "\n",
      "Here is the original list again: \n",
      "['bmw', 'audi', 'toyota', 'subaru']\n"
     ]
    }
   ],
   "source": [
    "#Example\n",
    "cars = ['bmw', 'audi', 'toyota', 'subaru']\n",
    "print(\"Here is the original list: \")\n",
    "print(cars)\n",
    "\n",
    "print(\"\\nHere is the sorted list: \")\n",
    "print(sorted(cars))\n",
    "\n",
    "print(\"\\nHere is the original list again: \")\n",
    "print(cars)"
   ]
  },
  {
   "cell_type": "code",
   "execution_count": 8,
   "metadata": {},
   "outputs": [],
   "source": [
    "#The sorted() method can also accept the \n",
    "#reverse=true argument to display a list in reverse\n",
    "#alphabetical order"
   ]
  },
  {
   "cell_type": "code",
   "execution_count": 9,
   "metadata": {},
   "outputs": [],
   "source": [
    "#NOTE: Sorting a list when all values are not \n",
    "#in lowercase can be complicated.\n",
    "#Uppercase letters can be interpreted several ways\n",
    "#when determining a sort order and specifying the\n",
    "#exact order can be more complex than we want to \n",
    "#deal with at this time.\n"
   ]
  },
  {
   "cell_type": "markdown",
   "metadata": {},
   "source": [
    "Printing a List in Reverse Order"
   ]
  },
  {
   "cell_type": "code",
   "execution_count": 10,
   "metadata": {},
   "outputs": [
    {
     "name": "stdout",
     "output_type": "stream",
     "text": [
      "['bmw', 'audi', 'toyota', 'subaru']\n",
      "['subaru', 'toyota', 'audi', 'bmw']\n"
     ]
    }
   ],
   "source": [
    "#To reverse the original order of a list we could\n",
    "#use reverse() method.\n",
    "\n",
    "#Example\n",
    "cars = ['bmw', 'audi', 'toyota', 'subaru']\n",
    "print(cars)\n",
    "\n",
    "cars.reverse()\n",
    "print(cars)\n",
    "\n",
    "#The reverse() method does not sort backwards \n",
    "#alphabetically, it simply reverses the order of the\n",
    "#list\n",
    "\n",
    "#The reverse() method reverts the list permanently.\n",
    "#But you can sort to the original order by using reverse()\n",
    "#on the reverted list."
   ]
  },
  {
   "cell_type": "markdown",
   "metadata": {},
   "source": [
    "Finding the Length of a list"
   ]
  },
  {
   "cell_type": "code",
   "execution_count": 11,
   "metadata": {},
   "outputs": [
    {
     "data": {
      "text/plain": [
       "4"
      ]
     },
     "execution_count": 11,
     "metadata": {},
     "output_type": "execute_result"
    }
   ],
   "source": [
    "#You can easily find the length of a list by using the\n",
    "#len() function.\n",
    "\n",
    "#Example\n",
    "cars = ['bmw', 'audi', 'toyota', 'subaru']\n",
    "len(cars)\n",
    "#Instance\n",
    "#You'll find the len() method useful when you would like\n",
    "#to determine the amount of data you have to manage in a \n",
    "#visualization, or to figure out the number of registered\n",
    "#users on a website among other tasks."
   ]
  },
  {
   "cell_type": "markdown",
   "metadata": {},
   "source": [
    "# Exercises"
   ]
  },
  {
   "cell_type": "code",
   "execution_count": 30,
   "metadata": {},
   "outputs": [
    {
     "name": "stdout",
     "output_type": "stream",
     "text": [
      "['jamaica', 'israel', 'rwanda', 'southafrica', 'nigeria', 'bahamas']\n",
      "['bahamas', 'israel', 'jamaica', 'nigeria', 'rwanda', 'southafrica']\n",
      "['jamaica', 'israel', 'rwanda', 'southafrica', 'nigeria', 'bahamas']\n",
      "['southafrica', 'rwanda', 'nigeria', 'jamaica', 'israel', 'bahamas']\n",
      "['jamaica', 'israel', 'rwanda', 'southafrica', 'nigeria', 'bahamas']\n",
      "['bahamas', 'nigeria', 'southafrica', 'rwanda', 'israel', 'jamaica']\n",
      "['jamaica', 'israel', 'rwanda', 'southafrica', 'nigeria', 'bahamas']\n",
      "['bahamas', 'israel', 'jamaica', 'nigeria', 'rwanda', 'southafrica']\n",
      "['southafrica', 'rwanda', 'nigeria', 'jamaica', 'israel', 'bahamas']\n"
     ]
    }
   ],
   "source": [
    "#3-8. Seeing the World: Think of at least five places in the\n",
    "#world you'd like to visit.\n",
    "#.Store the locations in a list. Make sure the list is not in\n",
    "#alphabetical order.\n",
    "#.Print your list in its original order. Don't worry about \n",
    "#printing the list neatly, just print it as a raw python list.\n",
    "#.Use sorted() to print your list in alphabetical order without\n",
    "#modifying the actual list.\n",
    "#.Show that your list is still in its original order by printing\n",
    "#it.\n",
    "#.Use sorted() to print your list in reverse alphabetical order\n",
    "#without changing the order of the original list.\n",
    "#.Show that your list is still in its original order by printing\n",
    "#it again.\n",
    "#.Use reverse() to change the order of your list. Print the list\n",
    "#to show that its order has changed\n",
    "#.Use reverse() to change the order of your list again. Print the\n",
    "#list to show its back to it's original order\n",
    "#.Use sort() to change your list so it's stored in alpahbetical \n",
    "#order. Print the list to show that its order has been changed.\n",
    "#.Use sort() to change your list so it's stored in reverse \n",
    "#alphabetical order. Print the list to show that its order has\n",
    "#changed\n",
    "\n",
    "visits = ['jamaica', 'israel', 'rwanda', 'southafrica', 'nigeria', 'bahamas']\n",
    "print(visits)\n",
    "\n",
    "print(sorted(visits))\n",
    "\n",
    "print(visits)\n",
    "\n",
    "print(sorted(visits, reverse = True))\n",
    "\n",
    "print(visits)\n",
    "\n",
    "visits.reverse()\n",
    "print(visits)\n",
    "\n",
    "visits.reverse()\n",
    "print(visits)\n",
    "\n",
    "visits.sort()\n",
    "print(visits)\n",
    "\n",
    "visits.sort(reverse = True)\n",
    "print(visits)"
   ]
  },
  {
   "cell_type": "code",
   "execution_count": 33,
   "metadata": {},
   "outputs": [
    {
     "data": {
      "text/plain": [
       "5"
      ]
     },
     "execution_count": 33,
     "metadata": {},
     "output_type": "execute_result"
    }
   ],
   "source": [
    "#3-9.Dinner Guests: Working with one of the programs from \n",
    "#Exercises.3-4 through 3-7. Use len() to print a message \n",
    "#indicating the number of people you are inviting to dinner.\n",
    "guest_list = ['Martin Luther', 'Malcolm','Mother Teresa', 'Myles Munroe','Samuel Onyari']\n",
    "len(guest_list)"
   ]
  },
  {
   "cell_type": "code",
   "execution_count": 47,
   "metadata": {},
   "outputs": [
    {
     "name": "stdout",
     "output_type": "stream",
     "text": [
      "['english', 'french', 'italian', 'portugese', 'spanish', 'swahili']\n",
      "['english', 'french', 'italian', 'portugese', 'spanish', 'swahili']\n",
      "['swahili', 'spanish', 'portugese', 'italian', 'french', 'english']\n",
      "['swahili', 'spanish', 'portugese', 'italian', 'french', 'english']\n",
      "['english', 'french', 'italian', 'portugese', 'spanish', 'swahili']\n",
      "['swahili', 'spanish', 'portugese', 'italian', 'french', 'english']\n",
      "['swahili', 'spanish', 'portugese', 'italian', 'french', 'english']\n",
      "['swahili', 'spanish', 'portugese', 'italian', 'french', 'english']\n",
      "['swahili', 'spanish', 'portugese', 'italian', 'french', 'english']\n",
      "['english', 'french', 'italian', 'portugese', 'spanish', 'swahili']\n",
      "['english', 'french', 'italian', 'portugese', 'spanish', 'swahili']\n",
      "6\n"
     ]
    }
   ],
   "source": [
    "#3-10.Every Function: Think of something you could store in\n",
    "#a list. For example, you could make a list of mountains, \n",
    "#rivers, countries, cities, languages, or anything else you'd\n",
    "#like. Write a program that creates a list containing these \n",
    "#items and then uses each function introduced in this chapter\n",
    "#at least once.\n",
    "\n",
    "languages = ['french', 'swahili', 'english', 'spanish', 'portugese', 'italian']\n",
    "\n",
    "languages.sort()\n",
    "print(languages)\n",
    "print(languages)\n",
    "\n",
    "languages.sort(reverse=True)\n",
    "print(languages)\n",
    "print(languages)\n",
    "\n",
    "print(sorted(languages))\n",
    "print(languages)\n",
    "print(languages)\n",
    "\n",
    "print(sorted(languages, reverse = True))\n",
    "print(languages)\n",
    "\n",
    "languages.reverse()\n",
    "print(languages)\n",
    "print(languages)\n",
    "\n",
    "print(len(languages))"
   ]
  },
  {
   "cell_type": "markdown",
   "metadata": {},
   "source": [
    "Avaoiding Index Errors When Working with Lists"
   ]
  },
  {
   "cell_type": "code",
   "execution_count": null,
   "metadata": {},
   "outputs": [],
   "source": [
    "#One common error that occurs is when you have\n",
    "#3 items in your list and you ask for the fourth item\n",
    "#the error occuring in this case is the index error\n",
    "#Example\n",
    "#motorcycles = ['honda', 'yamaha', 'suzuki']\n",
    "#print(motorcycles[3])\n",
    "\n",
    "#In the example above, python attempts to give you\n",
    "#the value at index 3. However, when it searches\n",
    "#the list no item is placed at index 3\n",
    "\n",
    "#A index error means python can't fined an item at the\n",
    "#index you requested.\n",
    "\n",
    "#If an index occurs in your program try adjusting the\n",
    "#index specified by one, then run the program again\n",
    "#to see if the results are correct.\n",
    "\n",
    "#If you find it difficult to resolve an index error \n",
    "#print out your list or the length of it.\n",
    "#This will help you sort out such logical errors."
   ]
  }
 ],
 "metadata": {
  "kernelspec": {
   "display_name": "Python 3",
   "language": "python",
   "name": "python3"
  },
  "language_info": {
   "codemirror_mode": {
    "name": "ipython",
    "version": 3
   },
   "file_extension": ".py",
   "mimetype": "text/x-python",
   "name": "python",
   "nbconvert_exporter": "python",
   "pygments_lexer": "ipython3",
   "version": "3.7.3"
  }
 },
 "nbformat": 4,
 "nbformat_minor": 2
}
