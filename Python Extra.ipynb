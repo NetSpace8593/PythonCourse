{
 "cells": [
  {
   "cell_type": "code",
   "execution_count": 3,
   "metadata": {},
   "outputs": [],
   "source": [
    "#Python is a cross-platform programming language, meaning that it can run\n",
    "#in multiple platforms like Microsoft, macOS, Linux, and .NET virtual \n",
    "#machines\n",
    "#It's free and open-source"
   ]
  },
  {
   "cell_type": "markdown",
   "metadata": {},
   "source": [
    "# Python Keywords"
   ]
  },
  {
   "cell_type": "code",
   "execution_count": 4,
   "metadata": {},
   "outputs": [],
   "source": [
    "#We cannot use a keyword as a variable name, function name or any other\n",
    "#identifier.\n",
    "#They are used to define the syntax and structure of the Python language.\n",
    "#Keywords in Python are case sensitive.\n",
    "#As of Python 3.7, there are 33 keywords in python.\n",
    "#All keywords except, True, False and None are in lowercase and must be\n",
    "#written as they are.\n",
    "#The link below has a complete list of python keywords and its functions:\n",
    "#\"https://www.programiz.com/python-programming/keyword-list\""
   ]
  },
  {
   "cell_type": "markdown",
   "metadata": {},
   "source": [
    "# Python Identifiers"
   ]
  },
  {
   "cell_type": "code",
   "execution_count": 5,
   "metadata": {},
   "outputs": [],
   "source": [
    "#An identifier is a name given to entities like class, functions, \n",
    "#variables etc.\n",
    "#It helps to differentiate one entity from another."
   ]
  },
  {
   "cell_type": "markdown",
   "metadata": {},
   "source": [
    "Rules for Writing Identifiers"
   ]
  },
  {
   "cell_type": "code",
   "execution_count": 6,
   "metadata": {},
   "outputs": [],
   "source": [
    "#1.Identifiers can be a combination of UppercaseLetters, LowercseLetters,\n",
    "#digits or an underscore. eg print_this, var_1, myClass etc\n",
    "#2.Identifiers cannot start with a digit eg 1variable\n",
    "#3.Keywords cannot be used as identifiers eg global = 1\n",
    "#4.We cannot use special symbols like !, @, #, $, %\n",
    "#5. An identifier can be of any length, but it would make more sense\n",
    "#if it would be shorter and meaningful."
   ]
  },
  {
   "cell_type": "markdown",
   "metadata": {},
   "source": [
    "Other things to Remember"
   ]
  },
  {
   "cell_type": "code",
   "execution_count": 7,
   "metadata": {},
   "outputs": [],
   "source": [
    "#1.Python is a case-sensitive language eg variable and Variable are \n",
    "#not the same.\n",
    "#2.Always give the identifiers a name that makes sense.\n",
    "#3. Multiple words can be separated using underscore eg this_is_a_long_word"
   ]
  },
  {
   "cell_type": "markdown",
   "metadata": {},
   "source": [
    "# Python Statement"
   ]
  },
  {
   "cell_type": "code",
   "execution_count": 8,
   "metadata": {},
   "outputs": [],
   "source": [
    "#Instructions that a python interpreter can execute are called statements.\n",
    "#For example, a = 1 is an assignment statement.\n",
    "#if statement, for statement, while statement etc are other kinds of\n",
    "#statements."
   ]
  },
  {
   "cell_type": "markdown",
   "metadata": {},
   "source": [
    "Multi-line statement"
   ]
  },
  {
   "cell_type": "code",
   "execution_count": 10,
   "metadata": {},
   "outputs": [
    {
     "name": "stdout",
     "output_type": "stream",
     "text": [
      "45\n"
     ]
    }
   ],
   "source": [
    "#In Python, the end of a statement is marked by a newline character.\n",
    "#But we can make a statement extend over multiple lines with the line\n",
    "#continuation character(\\).\n",
    "#Example\n",
    "a = 1 + 2 + 3 + \\\n",
    "4 + 5 + 6 + \\\n",
    "7 + 8 + 9\n",
    "print(a)\n",
    "#This is an explicit line continuation."
   ]
  },
  {
   "cell_type": "code",
   "execution_count": 11,
   "metadata": {},
   "outputs": [
    {
     "name": "stdout",
     "output_type": "stream",
     "text": [
      "45\n"
     ]
    }
   ],
   "source": [
    "#In Python, line continuation is implied inside parentheses(), brackets[],\n",
    "#and braces{}.\n",
    "#For instance, we can implement the above example as:\n",
    "b = (1 + 2 + 3 + \n",
    "4 + 5 + 6 + \n",
    "7 + 8 + 9)\n",
    "print(b)\n",
    "#Above, the surrounding parentheses() do the line continuation implicitly.\n",
    "#Same case with [] and {}."
   ]
  },
  {
   "cell_type": "code",
   "execution_count": 22,
   "metadata": {},
   "outputs": [
    {
     "name": "stdout",
     "output_type": "stream",
     "text": [
      "['red', 'blue', 'green']\n"
     ]
    }
   ],
   "source": [
    "#Example with []\n",
    "colors = ['red',\n",
    "           'blue',\n",
    "            'green']\n",
    "print(colors)"
   ]
  },
  {
   "cell_type": "code",
   "execution_count": 23,
   "metadata": {},
   "outputs": [],
   "source": [
    "#We can also use semicolons to write multiple statements\n",
    "#Example\n",
    "a = 1; b = 2; c = 3"
   ]
  },
  {
   "cell_type": "markdown",
   "metadata": {},
   "source": [
    "# Python Indentation"
   ]
  },
  {
   "cell_type": "code",
   "execution_count": 24,
   "metadata": {},
   "outputs": [
    {
     "name": "stdout",
     "output_type": "stream",
     "text": [
      "1\n",
      "2\n",
      "3\n",
      "4\n",
      "5\n"
     ]
    }
   ],
   "source": [
    "#Most programming languages use braces{} to define a block of code. Python\n",
    "#however, uses indentation.\n",
    "#A code block(body of a function, loop etc) starts with indentation and\n",
    "#ends with the first unindented line.\n",
    "#The amount of indentation is up to smn, but it must be consistent \n",
    "#throughout that block.\n",
    "#Generally four white spaces are used for indentation.\n",
    "#Example\n",
    "for i in range(1, 11):\n",
    "    print(i)\n",
    "    if i == 5:\n",
    "        break\n",
    "#Indentation in python makes the code look neat and clean. This results in\n",
    "#Python programs that look similar and consistent.\n",
    "#Indentation can be ignored in line continuation.\n",
    "#Incorrect indentation will result in IndentationError."
   ]
  },
  {
   "cell_type": "markdown",
   "metadata": {},
   "source": [
    "# Python Comments"
   ]
  },
  {
   "cell_type": "code",
   "execution_count": 25,
   "metadata": {},
   "outputs": [],
   "source": [
    "#We use the hash(#) symbol to start writing a comment.\n",
    "#Comments are for programmers to better understand a program."
   ]
  },
  {
   "cell_type": "markdown",
   "metadata": {},
   "source": [
    "Multi-line comments"
   ]
  },
  {
   "cell_type": "code",
   "execution_count": 29,
   "metadata": {},
   "outputs": [
    {
     "data": {
      "text/plain": [
       "' This is also a perfect\\nexample of multi-line \\ncomments'"
      ]
     },
     "execution_count": 29,
     "metadata": {},
     "output_type": "execute_result"
    }
   ],
   "source": [
    "#We can have comments that extend up to multiple lines.\n",
    "#1. Using the hash(#) symbol at the beginning of each line.\n",
    "#2. Using triple quotes, either (''') or (\"\"\").\n",
    "#The triple quotes are generally used for multi-line strings. But they\n",
    "#can be used as a multi-line comment as well.\n",
    "#Example\n",
    "\"\"\" This is also a perfect\n",
    "example of multi-line \n",
    "comments\"\"\"\n",
    "#To learn more about comments, \n",
    "#visit \"https://www.programiz.com/python-programming/comments\""
   ]
  },
  {
   "cell_type": "markdown",
   "metadata": {},
   "source": [
    "# Python Docstrings"
   ]
  },
  {
   "cell_type": "code",
   "execution_count": 27,
   "metadata": {},
   "outputs": [
    {
     "ename": "AttributeError",
     "evalue": "'function' object has no attribute '_doc_'",
     "output_type": "error",
     "traceback": [
      "\u001b[1;31m---------------------------------------------------------------------------\u001b[0m",
      "\u001b[1;31mAttributeError\u001b[0m                            Traceback (most recent call last)",
      "\u001b[1;32m<ipython-input-27-62a7d4b9f597>\u001b[0m in \u001b[0;36m<module>\u001b[1;34m\u001b[0m\n\u001b[0;32m      8\u001b[0m     \u001b[1;34m\"\"\" Function to double the value \"\"\"\u001b[0m\u001b[1;33m\u001b[0m\u001b[1;33m\u001b[0m\u001b[0m\n\u001b[0;32m      9\u001b[0m     \u001b[1;32mreturn\u001b[0m \u001b[1;36m2\u001b[0m \u001b[1;33m*\u001b[0m \u001b[0mnum\u001b[0m\u001b[1;33m\u001b[0m\u001b[1;33m\u001b[0m\u001b[0m\n\u001b[1;32m---> 10\u001b[1;33m \u001b[0mprint\u001b[0m\u001b[1;33m(\u001b[0m\u001b[0mdouble\u001b[0m\u001b[1;33m.\u001b[0m\u001b[0m_doc_\u001b[0m\u001b[1;33m)\u001b[0m\u001b[1;33m\u001b[0m\u001b[1;33m\u001b[0m\u001b[0m\n\u001b[0m",
      "\u001b[1;31mAttributeError\u001b[0m: 'function' object has no attribute '_doc_'"
     ]
    }
   ],
   "source": [
    "#Docstring is the short of documentation string.\n",
    "#Python docstrings are the string literals that appear after the definition\n",
    "#of a function, method, class or module. This separates docstrings from\n",
    "#multiline comments using triple quotes.\n",
    "#Triple quotes are used while writing them\n",
    "#Example\n",
    "def double(num):\n",
    "    \"\"\" Function to double the value \"\"\"\n",
    "    return 2 * num\n",
    "print(double._doc_)"
   ]
  },
  {
   "cell_type": "code",
   "execution_count": 28,
   "metadata": {},
   "outputs": [
    {
     "ename": "AttributeError",
     "evalue": "'function' object has no attribute '_doc_'",
     "output_type": "error",
     "traceback": [
      "\u001b[1;31m---------------------------------------------------------------------------\u001b[0m",
      "\u001b[1;31mAttributeError\u001b[0m                            Traceback (most recent call last)",
      "\u001b[1;32m<ipython-input-28-fb0014d87dca>\u001b[0m in \u001b[0;36m<module>\u001b[1;34m\u001b[0m\n\u001b[0;32m      2\u001b[0m \u001b[1;31m#For the example above, we can access the docstrings of the above function\u001b[0m\u001b[1;33m\u001b[0m\u001b[1;33m\u001b[0m\u001b[1;33m\u001b[0m\u001b[0m\n\u001b[0;32m      3\u001b[0m \u001b[1;31m#with the following lines of code:\u001b[0m\u001b[1;33m\u001b[0m\u001b[1;33m\u001b[0m\u001b[1;33m\u001b[0m\u001b[0m\n\u001b[1;32m----> 4\u001b[1;33m \u001b[0mprint\u001b[0m\u001b[1;33m(\u001b[0m\u001b[0mdouble\u001b[0m\u001b[1;33m.\u001b[0m\u001b[0m_doc_\u001b[0m\u001b[1;33m)\u001b[0m\u001b[1;33m\u001b[0m\u001b[1;33m\u001b[0m\u001b[0m\n\u001b[0m",
      "\u001b[1;31mAttributeError\u001b[0m: 'function' object has no attribute '_doc_'"
     ]
    }
   ],
   "source": [
    "#The docstrings are associated with the object as their _doc_ attribute.\n",
    "#For the example above, we can access the docstrings of the above function\n",
    "#with the following lines of code:\n",
    "print(double._doc_)"
   ]
  },
  {
   "cell_type": "markdown",
   "metadata": {},
   "source": [
    "# Pyhton Variables, Constants and Literals"
   ]
  },
  {
   "cell_type": "markdown",
   "metadata": {},
   "source": [
    "Python Variables"
   ]
  },
  {
   "cell_type": "code",
   "execution_count": 30,
   "metadata": {},
   "outputs": [
    {
     "name": "stdout",
     "output_type": "stream",
     "text": [
      "10\n",
      "1.2\n"
     ]
    }
   ],
   "source": [
    "#A variable is a named location used to store data in the memory.\n",
    "#Example create a variable called \"number\" and store the value 10.\n",
    "number = 10\n",
    "print(number)\n",
    "#In python you can think of variable as as store to store books and that\n",
    "#the books can be replaced at any time\n",
    "#The assignment(=) operator, is used to assign a value to a variable.\n",
    "#Python is a type-inferred language, so you don't have to define the \n",
    "#variable type. It will know automatically.\n",
    "number = 1.2\n",
    "print(number)\n"
   ]
  },
  {
   "cell_type": "code",
   "execution_count": null,
   "metadata": {},
   "outputs": [],
   "source": [
    "#In python we do not assign values to a variable, instead, Python gives the\n",
    "#reference of the object(value) to the variable."
   ]
  },
  {
   "cell_type": "markdown",
   "metadata": {},
   "source": [
    "Assigning multiple values to multiple variables"
   ]
  },
  {
   "cell_type": "code",
   "execution_count": 31,
   "metadata": {},
   "outputs": [
    {
     "name": "stdout",
     "output_type": "stream",
     "text": [
      "5\n",
      "3.2\n",
      "Hello\n"
     ]
    }
   ],
   "source": [
    "a, b, c = 5, 3.2, \"Hello\"\n",
    "print(a)\n",
    "print(b)\n",
    "print(c)"
   ]
  },
  {
   "cell_type": "markdown",
   "metadata": {},
   "source": [
    "Assigning the same value to multiple variables"
   ]
  },
  {
   "cell_type": "code",
   "execution_count": 32,
   "metadata": {},
   "outputs": [
    {
     "name": "stdout",
     "output_type": "stream",
     "text": [
      "same\n",
      "same\n",
      "same\n"
     ]
    }
   ],
   "source": [
    "x = y = z = \"same\"\n",
    "print(x)\n",
    "print(y)\n",
    "print(z)"
   ]
  },
  {
   "cell_type": "markdown",
   "metadata": {},
   "source": [
    "# #Difference between =(Assignment) and ==(Operator)"
   ]
  },
  {
   "cell_type": "code",
   "execution_count": 1,
   "metadata": {},
   "outputs": [],
   "source": [
    "#The \"=\" assignment operator is used to assign the value on the right to the \n",
    "#variable on the left\n",
    "#The \"==\" operator checks whether the two given operands are equal or not.\n",
    "#If so, it returns true. Otherwise it returns false."
   ]
  },
  {
   "cell_type": "markdown",
   "metadata": {},
   "source": [
    "# Difference between Operator and Operand"
   ]
  },
  {
   "cell_type": "code",
   "execution_count": 2,
   "metadata": {},
   "outputs": [],
   "source": [
    "#An Operator is a symbol that tells the compiler to perform specific math or\n",
    "#logical manipulations.\n",
    "#Operand on the other hand is the data items that operators use. They may be\n",
    "#any numerical value(known as literals in programming language.)"
   ]
  },
  {
   "cell_type": "markdown",
   "metadata": {},
   "source": [
    "# Constants"
   ]
  },
  {
   "cell_type": "code",
   "execution_count": 3,
   "metadata": {},
   "outputs": [],
   "source": [
    "#A constant is a type of variable whose value cannot be changed. They can be\n",
    "#thought as containers that hold information which cannot be changed later."
   ]
  },
  {
   "cell_type": "markdown",
   "metadata": {},
   "source": [
    "#Assigning values to constant in Python"
   ]
  },
  {
   "cell_type": "code",
   "execution_count": 4,
   "metadata": {},
   "outputs": [],
   "source": [
    "#In python Constants are usually declared and assigned in a module.\n",
    "#The module is a new file containing variables, functions etc which is imported\n",
    "#to the main file.\n",
    "#Inside the module, constants are written all in capital letters and \n",
    "#underscores separating the words.\n",
    "#In reality constants are not used in Python\n",
    "#Check the example in Sublime text."
   ]
  },
  {
   "cell_type": "markdown",
   "metadata": {},
   "source": [
    "# Rules and Naming Convention for Variables and Constants"
   ]
  },
  {
   "cell_type": "code",
   "execution_count": 5,
   "metadata": {},
   "outputs": [],
   "source": [
    "#1.Constants and variable names should have a combination of letters in \n",
    "#lowercase (a to z) or uppercase (A to Z) or digits (0 to 9) or underscore(_).\n",
    "#Example, snake_case\n",
    "#2.Create a name that makes sense. eg Vowel makes more sense than v.\n",
    "#3.If you create a variable with two words, use an underscore to seperate them.\n",
    "#4.Use capital letters possible to declare a constant.\n",
    "#5.Never use special symbols like !, #, $, @, % etc\n",
    "#6.Don't start a variable name with a digit."
   ]
  },
  {
   "cell_type": "markdown",
   "metadata": {},
   "source": [
    "# Literals"
   ]
  },
  {
   "cell_type": "code",
   "execution_count": 3,
   "metadata": {},
   "outputs": [
    {
     "ename": "NameError",
     "evalue": "name 'favorite_language' is not defined",
     "output_type": "error",
     "traceback": [
      "\u001b[1;31m---------------------------------------------------------------------------\u001b[0m",
      "\u001b[1;31mNameError\u001b[0m                                 Traceback (most recent call last)",
      "\u001b[1;32m<ipython-input-3-84943d694a38>\u001b[0m in \u001b[0;36m<module>\u001b[1;34m\u001b[0m\n\u001b[0;32m     12\u001b[0m \u001b[1;33m\u001b[0m\u001b[0m\n\u001b[0;32m     13\u001b[0m \u001b[0mfriends\u001b[0m \u001b[1;33m=\u001b[0m \u001b[1;33m[\u001b[0m\u001b[1;34m'phil'\u001b[0m\u001b[1;33m,\u001b[0m \u001b[1;34m'sarah'\u001b[0m\u001b[1;33m]\u001b[0m\u001b[1;31m#1\u001b[0m\u001b[1;33m\u001b[0m\u001b[1;33m\u001b[0m\u001b[0m\n\u001b[1;32m---> 14\u001b[1;33m \u001b[1;32mfor\u001b[0m \u001b[0mname\u001b[0m \u001b[1;32min\u001b[0m \u001b[0mfavorite_language\u001b[0m\u001b[1;33m.\u001b[0m\u001b[0mkeys\u001b[0m\u001b[1;33m(\u001b[0m\u001b[1;33m)\u001b[0m\u001b[1;33m:\u001b[0m\u001b[1;33m\u001b[0m\u001b[1;33m\u001b[0m\u001b[0m\n\u001b[0m\u001b[0;32m     15\u001b[0m     \u001b[0mprint\u001b[0m\u001b[1;33m(\u001b[0m\u001b[0mname\u001b[0m\u001b[1;33m.\u001b[0m\u001b[0mtitle\u001b[0m\u001b[1;33m(\u001b[0m\u001b[1;33m)\u001b[0m\u001b[1;33m)\u001b[0m\u001b[1;33m\u001b[0m\u001b[1;33m\u001b[0m\u001b[0m\n\u001b[0;32m     16\u001b[0m \u001b[1;33m\u001b[0m\u001b[0m\n",
      "\u001b[1;31mNameError\u001b[0m: name 'favorite_language' is not defined"
     ]
    }
   ],
   "source": [
    "#You can access the value associated with any key you care about inside the\n",
    "#loop by using the current key. Let us print a message to a couple of friends\n",
    "#about the language they chose.\n",
    "#We'll loop through the dictionary but when a name matches one of our friends\n",
    "#we'll display a message about their favorite language.\n",
    "favorite_languages = {\n",
    "    'jen' : 'python',\n",
    "    'sarah' : 'c',\n",
    "    'edward' : 'ruby',\n",
    "    'phil' : 'python',\n",
    "}\n",
    "\n",
    "friends = ['phil', 'sarah']#1\n",
    "for name in favorite_language.keys():\n",
    "    print(name.title())\n",
    "    \n",
    "    if name in friends:#2\n",
    "        language = favorite_language[name].title()#3\n",
    "        print(f\"\\t{name.title()}, I see you love {language}!\")\n",
    "#At #1, we are a list of friends we want to print a message to.\n",
    "#The loop prints each person's name.\n",
    "#At #2, we chek whether the name we're working with is in the list of friends.\n",
    "#If it is we determine the person's favorite language using the name of the\n",
    "#dictionary coupled with the current value of name as the key."
   ]
  },
  {
   "cell_type": "code",
   "execution_count": 2,
   "metadata": {},
   "outputs": [
    {
     "name": "stdout",
     "output_type": "stream",
     "text": [
      "\n",
      "Jen's favorite languages are: \n",
      "python\n",
      "ruby\n",
      "\n",
      "Sarah's favorite languages are: \n",
      "c\n",
      "\n",
      "Edward's favorite languages are: \n",
      "ruby\n",
      "go\n",
      "\n",
      "Phil's favorite languages are: \n",
      "python\n",
      "haskell\n"
     ]
    }
   ],
   "source": [
    "#You can nest a list inside a dictionary any time you want more than one\n",
    "#value to be associated with a single key in a dictionary.\n",
    "favorite_languages = {\n",
    "    'jen' : ['python', 'ruby'],\n",
    "    'sarah' : ['c'],\n",
    "    'edward' : ['ruby', 'go'],\n",
    "    'phil' : ['python', 'haskell'],\n",
    "}#1The value associated with each key name is now a list\n",
    "\n",
    "for name, languages in favorite_languages.items():\n",
    "    print(f\"\\n{name.title()}'s favorite languages are: \")#2When\n",
    "    #we loop through the dictionary, we use the variable name\n",
    "    #languages to hold each value from the dictionary.\n",
    "    #Inside the for loop above(blow) we use another for loop to\n",
    "    #run through each person's list of favorite languages.\n",
    "    for language in languages:\n",
    "        print(language)#3"
   ]
  },
  {
   "cell_type": "code",
   "execution_count": 8,
   "metadata": {},
   "outputs": [
    {
     "name": "stdout",
     "output_type": "stream",
     "text": [
      "\n",
      "Jen's favorite languages are: \n",
      "Python\n",
      "Ruby\n",
      "\n",
      "Sarah's favorite languages are: \n",
      "Sarah favorite language is C\n",
      "\n",
      "Edward's favorite languages are: \n",
      "Ruby\n",
      "Go\n",
      "\n",
      "Sola's favorite languages are: \n",
      "Sola favorite language is GO\n",
      "\n",
      "Phil's favorite languages are: \n",
      "Python\n",
      "Haskell\n",
      "\n",
      "Ondieki's favorite languages are: \n",
      "Ondieki favorite language is HTML\n",
      "\n",
      "Lomba's favorite languages are: \n",
      "Lomba favorite language is CSS\n"
     ]
    }
   ],
   "source": [
    "#To refine the program even further, you could include an if \n",
    "#statement at the beginning of the dictionary’s for loop to \n",
    "#see whether each person has more than one favorite language \n",
    "#by examining the value of len(languages). \n",
    "#If a person has more \n",
    "#than one favorite, the output would stay the same. If the \n",
    "#person has only one favorite language, you could change the \n",
    "#wording to reflect that. For example, you could say Sarah's \n",
    "#favorite language is C.\n",
    "favorite_languages = {\n",
    "    'jen' : ['python', 'ruby'],\n",
    "    'sarah' : ['c'],\n",
    "    'edward' : ['ruby', 'go'],\n",
    "    'sola' : ['go'],\n",
    "    'phil' : ['python', 'haskell'],\n",
    "    'ondieki' : ['html'],\n",
    "    'lomba' : ['css'],\n",
    "}\n",
    "\n",
    "for name, languages in favorite_languages.items():\n",
    "    print(f\"\\n{name.title()}'s favorite languages are: \")\n",
    "    \n",
    "\n",
    "    for language in languages:\n",
    "        if len(languages) > 1:\n",
    "            print(language.title())\n",
    "        else:\n",
    "            print(f\"{name.title()} favorite language is {language.upper()}\")"
   ]
  },
  {
   "cell_type": "code",
   "execution_count": 9,
   "metadata": {},
   "outputs": [],
   "source": [
    "#Note: You should not nest lists and dictionaries too deeply.\n",
    "#A simpler way to solve the problem exists."
   ]
  },
  {
   "cell_type": "markdown",
   "metadata": {},
   "source": [
    "# Dictionaries in Python"
   ]
  },
  {
   "cell_type": "code",
   "execution_count": null,
   "metadata": {},
   "outputs": [],
   "source": [
    "#Dictionaries are unordered collection of unique values \n",
    "#stored in Key-Value pairs."
   ]
  },
  {
   "cell_type": "markdown",
   "metadata": {},
   "source": [
    "Properties of Dictionary in Python"
   ]
  },
  {
   "cell_type": "code",
   "execution_count": 1,
   "metadata": {},
   "outputs": [],
   "source": [
    "#1.Unordered: The items in dictionary are stored without any\n",
    "#index value. They are stored in key-value pairs, and the\n",
    "#keys are their index, which will not be in any sequence.\n",
    "#2.Unique: Keys in dictionaries should be Unique. If we store\n",
    "#any value with a Key that already exists, then the most \n",
    "#recent value will replace the old value.\n",
    "#3. Mutable: We can add/Modify/Remove key-value after\n",
    "#creation."
   ]
  },
  {
   "cell_type": "markdown",
   "metadata": {},
   "source": [
    "Creating a Dictionary"
   ]
  },
  {
   "cell_type": "code",
   "execution_count": 3,
   "metadata": {},
   "outputs": [
    {
     "name": "stdout",
     "output_type": "stream",
     "text": [
      "{'name': 'Jessa', 'country': 'USA', 'telephone': 1178}\n",
      "{'name': 'Jessa', 'country': 'USA', 'telephone': 1178}\n",
      "{'name': 'Mark', 'country': 'USA', 'telephone': 1178}\n"
     ]
    }
   ],
   "source": [
    "#There are three ways:\n",
    "#1.Using Curly brackets\n",
    "#2.Using dict() constructor. Create a dictionary by passing the\n",
    "#comma seperated key:value pairs inside the dict()\n",
    "#3.Using Sequence having each item as a pair (key-value)\n",
    "#Example\n",
    "#a) Create a dictionary using {}\n",
    "person1 = {\"name\": \"Jessa\", \"country\": \"USA\", \"telephone\": 1178}\n",
    "#b) Create a dictionary using dict()\n",
    "person2 = dict({\"name\": \"Jessa\", \"country\": \"USA\", \"telephone\": 1178})\n",
    "#c) Create a dictionary from sequence having each item as a pair\n",
    "person3 = dict([(\"name\", \"Mark\"), (\"country\", \"USA\"), (\"telephone\", 1178)])\n",
    "print(person1)\n",
    "print(person2)\n",
    "print(person3)"
   ]
  },
  {
   "cell_type": "markdown",
   "metadata": {},
   "source": [
    "Empty Dictionary"
   ]
  },
  {
   "cell_type": "code",
   "execution_count": 4,
   "metadata": {},
   "outputs": [
    {
     "name": "stdout",
     "output_type": "stream",
     "text": [
      "<class 'dict'>\n"
     ]
    }
   ],
   "source": [
    "#When we create a dictionary without any key-value pairs inside\n",
    "#it, then it will be an empty dictionary.\n",
    "#Example\n",
    "emptydict = {}\n",
    "print(type(emptydict))"
   ]
  },
  {
   "cell_type": "markdown",
   "metadata": {},
   "source": [
    "# Accessing elements of a dictionary"
   ]
  },
  {
   "cell_type": "code",
   "execution_count": 5,
   "metadata": {},
   "outputs": [
    {
     "name": "stdout",
     "output_type": "stream",
     "text": [
      "Mark\n",
      "1178\n"
     ]
    }
   ],
   "source": [
    "#Ways of accessing elements of a dictionary\n",
    "#1.using key name inside [] square brackets\n",
    "#2.Passing key name as a parameter to the get() method of a \n",
    "#dictionary.\n",
    "person1 = {\"name\": \"Jessa\", \"country\": \"USA\", \"telephone\": 1178}\n",
    "#Access value using key name in []\n",
    "print(person['name'])\n",
    "\n",
    "#Get key value using key name in get()\n",
    "print(person.get('telephone'))"
   ]
  },
  {
   "cell_type": "markdown",
   "metadata": {},
   "source": [
    "Get all keys and values"
   ]
  },
  {
   "cell_type": "code",
   "execution_count": null,
   "metadata": {},
   "outputs": [],
   "source": [
    "#1.keys()\tReturns the list of all keys present in the \n",
    "#dictionary.\n",
    "#2.values()\tReturns the list of all values present in the \n",
    "#dictionary\n",
    "#3.items()\tReturns all the items present in the dictionary. \n",
    "#Each item will be inside a tuple as a key-value pair."
   ]
  },
  {
   "cell_type": "code",
   "execution_count": 4,
   "metadata": {},
   "outputs": [
    {
     "name": "stdout",
     "output_type": "stream",
     "text": [
      "key : value\n",
      "name : Jessa\n",
      "country : USA\n",
      "telephone : 1178\n"
     ]
    }
   ],
   "source": [
    "person = {\"name\": \"Jessa\", \"country\": \"USA\", \"telephone\": 1178}\n",
    "print('key', ':', 'value')\n",
    "for key in person:#By default dictionary name python without\n",
    "    #the word key accompanying it, will print the list of keys\n",
    "    print(key, ':', person[key])"
   ]
  },
  {
   "cell_type": "code",
   "execution_count": 2,
   "metadata": {},
   "outputs": [
    {
     "name": "stdout",
     "output_type": "stream",
     "text": [
      "dict_keys(['name', 'country', 'telephone'])\n",
      "<class 'dict_keys'>\n"
     ]
    }
   ],
   "source": [
    "person2 = {\"name\": \"Jessa\", \"country\": \"USA\", \"telephone\": 1178}\n",
    "print(person2.keys())\n",
    "print(type(person2.keys()))"
   ]
  },
  {
   "cell_type": "code",
   "execution_count": 4,
   "metadata": {},
   "outputs": [
    {
     "name": "stdout",
     "output_type": "stream",
     "text": [
      "dict_values(['Jessa', 'USA', 1178])\n",
      "<class 'dict_values'>\n"
     ]
    }
   ],
   "source": [
    "print(person2.values())\n",
    "print(type(person2.values()))  \n"
   ]
  },
  {
   "cell_type": "code",
   "execution_count": 5,
   "metadata": {},
   "outputs": [
    {
     "name": "stdout",
     "output_type": "stream",
     "text": [
      "dict_items([('name', 'Jessa'), ('country', 'USA'), ('telephone', 1178)])\n",
      "<class 'dict_items'>\n"
     ]
    }
   ],
   "source": [
    "print(person2.items())\n",
    "print(type(person2.items()))"
   ]
  },
  {
   "cell_type": "markdown",
   "metadata": {},
   "source": [
    "Iterating a dictionary using for loop"
   ]
  },
  {
   "cell_type": "code",
   "execution_count": 8,
   "metadata": {},
   "outputs": [
    {
     "name": "stdout",
     "output_type": "stream",
     "text": [
      "key : value\n",
      "name : Jessa\n",
      "country : USA\n",
      "telephone : 1178\n",
      "\n",
      "\n",
      "key : value\n",
      "name Jessa\n",
      "country USA\n",
      "telephone 1178\n"
     ]
    }
   ],
   "source": [
    "person = {\"name\": \"Jessa\", \"country\": \"USA\", \"telephone\": 1178}\n",
    "#Iterating the dictionary using for loop\n",
    "print('key', ':', 'value')\n",
    "for key in person:\n",
    "    print(key, ':', person[key])\n",
    "print(\"\\n\")\n",
    "    \n",
    "#Using item() method\n",
    "print('key', ':', 'value')\n",
    "for key_value in person.items():\n",
    "    #first is key, and second is value\n",
    "    print(key_value[0], key_value[1])"
   ]
  },
  {
   "cell_type": "markdown",
   "metadata": {},
   "source": [
    "Find a length of a dictionary"
   ]
  },
  {
   "cell_type": "code",
   "execution_count": 9,
   "metadata": {},
   "outputs": [
    {
     "name": "stdout",
     "output_type": "stream",
     "text": [
      "3\n"
     ]
    }
   ],
   "source": [
    "#To find the number of items in a dictionary, we use the len()\n",
    "#function.\n",
    "person = {\"name\": \"Jessa\", \"country\": \"USA\", \"telephone\": 1178}\n",
    "print(len(person))"
   ]
  },
  {
   "cell_type": "code",
   "execution_count": 2,
   "metadata": {},
   "outputs": [
    {
     "name": "stdout",
     "output_type": "stream",
     "text": [
      "Spam eggs\n"
     ]
    }
   ],
   "source": [
    "print(\"Spam\" + ' eggs')"
   ]
  },
  {
   "cell_type": "code",
   "execution_count": 4,
   "metadata": {},
   "outputs": [
    {
     "name": "stdout",
     "output_type": "stream",
     "text": [
      "Spam Spam Spam \n"
     ]
    }
   ],
   "source": [
    "print(\"Spam \" * 3)"
   ]
  },
  {
   "cell_type": "code",
   "execution_count": 6,
   "metadata": {},
   "outputs": [
    {
     "name": "stdout",
     "output_type": "stream",
     "text": [
      " 2 2 2 2\n"
     ]
    }
   ],
   "source": [
    "print(4 * ' 2')"
   ]
  },
  {
   "cell_type": "markdown",
   "metadata": {},
   "source": [
    "# Python List pop()"
   ]
  },
  {
   "cell_type": "code",
   "execution_count": 1,
   "metadata": {},
   "outputs": [
    {
     "name": "stdout",
     "output_type": "stream",
     "text": [
      "Removed Element: 5\n",
      "Updated List: [2, 3, 7]\n"
     ]
    }
   ],
   "source": [
    "#The pop() method removes the item at the given index from the\n",
    "#list and returns the removed item.\n",
    "#Example\n",
    "\n",
    "#Create a list of prime numbers\n",
    "prime_numbers = [2, 3, 5, 7]\n",
    "\n",
    "\n",
    "#Remove the element at index 2\n",
    "removed_element = prime_numbers.pop(2)\n",
    "\n",
    "print('Removed Element:', removed_element)\n",
    "print('Updated List:', prime_numbers)\n",
    "\n",
    "#Syntax of List pop()\n",
    "#list.pop(index)\n",
    "\n"
   ]
  },
  {
   "cell_type": "markdown",
   "metadata": {},
   "source": [
    "pop() parameters"
   ]
  },
  {
   "cell_type": "code",
   "execution_count": 2,
   "metadata": {},
   "outputs": [],
   "source": [
    "#The pop() method takes a single argument(index)\n",
    "#The argument passed to the method is optional. If not passed\n",
    "#,the default index -1 is passed as an argument(index of\n",
    "#the last item)\n",
    "#If the index passed to the method is not in range, it throws\n",
    "#IndexError: pop index out of range exception.\n",
    "\n",
    "#The pop() method returns the item present at the given index\n",
    "#.This item is also removed from the list."
   ]
  },
  {
   "cell_type": "markdown",
   "metadata": {},
   "source": [
    "# Python List append()"
   ]
  },
  {
   "cell_type": "code",
   "execution_count": 3,
   "metadata": {},
   "outputs": [
    {
     "name": "stdout",
     "output_type": "stream",
     "text": [
      "['Dollar', 'Euro', 'Pound', 'Yen']\n"
     ]
    }
   ],
   "source": [
    "#The append() method adds an item to the end of the list.\n",
    "\n",
    "#Example\n",
    "currencies = ['Dollar', 'Euro', 'Pound']\n",
    "\n",
    "#append 'Yen' to the list\n",
    "currencies.append('Yen')\n",
    "\n",
    "print(currencies)\n",
    "\n",
    "#Syntax of List append()\n",
    "#list.append(item)"
   ]
  },
  {
   "cell_type": "markdown",
   "metadata": {},
   "source": [
    "append() Parameters"
   ]
  },
  {
   "cell_type": "code",
   "execution_count": 4,
   "metadata": {},
   "outputs": [],
   "source": [
    "#The method takes a single argument.\n",
    "\n",
    "#item - an item( number, string, list etc ) to be added at \n",
    "#the end of the list."
   ]
  },
  {
   "cell_type": "markdown",
   "metadata": {},
   "source": [
    "Return Value from append()"
   ]
  },
  {
   "cell_type": "code",
   "execution_count": 5,
   "metadata": {},
   "outputs": [
    {
     "name": "stdout",
     "output_type": "stream",
     "text": [
      "None\n"
     ]
    }
   ],
   "source": [
    "#The method doesn't return any value(returns None)\n",
    "#Example\n",
    "animals = ['cat', 'dog', 'rabbit']\n",
    "\n",
    "anim = animals.append('guinea pig')\n",
    "print(anim)"
   ]
  },
  {
   "cell_type": "markdown",
   "metadata": {},
   "source": [
    "Adding List to a List"
   ]
  },
  {
   "cell_type": "code",
   "execution_count": 7,
   "metadata": {},
   "outputs": [
    {
     "name": "stdout",
     "output_type": "stream",
     "text": [
      "['cat', 'dog', 'rabbit', 'tiger', 'fox']\n"
     ]
    }
   ],
   "source": [
    "#Animal list\n",
    "animals = ['cat', 'dog', 'rabbit']\n",
    "\n",
    "#list of wild animals\n",
    "wild_animals = ['tiger', 'fox']\n",
    "\n",
    "#appending wild_animals list to animals\n",
    "animals.append(wild_animals)\n",
    "\n",
    "print(animals)"
   ]
  },
  {
   "cell_type": "code",
   "execution_count": 8,
   "metadata": {},
   "outputs": [
    {
     "name": "stdout",
     "output_type": "stream",
     "text": [
      "['cat', 'dog', 'rabbit', 'tiger', 'fox']\n"
     ]
    }
   ],
   "source": [
    "#Note: If you need to add items of a list rather than the \n",
    "#list itself to another list, use the extend() method.\n",
    "\n",
    "#Animal list\n",
    "animals = ['cat', 'dog', 'rabbit']\n",
    "\n",
    "#list of wild animals\n",
    "wild_animals = ['tiger', 'fox']\n",
    "\n",
    "#appending wild_animals list to animals\n",
    "animals.extend(wild_animals)\n",
    "\n",
    "print(animals)"
   ]
  },
  {
   "cell_type": "code",
   "execution_count": null,
   "metadata": {},
   "outputs": [],
   "source": []
  },
  {
   "cell_type": "code",
   "execution_count": null,
   "metadata": {},
   "outputs": [],
   "source": []
  }
 ],
 "metadata": {
  "kernelspec": {
   "display_name": "Python 3",
   "language": "python",
   "name": "python3"
  },
  "language_info": {
   "codemirror_mode": {
    "name": "ipython",
    "version": 3
   },
   "file_extension": ".py",
   "mimetype": "text/x-python",
   "name": "python",
   "nbconvert_exporter": "python",
   "pygments_lexer": "ipython3",
   "version": "3.7.3"
  }
 },
 "nbformat": 4,
 "nbformat_minor": 2
}
