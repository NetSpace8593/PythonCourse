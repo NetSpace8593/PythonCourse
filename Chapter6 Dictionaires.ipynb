{
 "cells": [
  {
   "cell_type": "markdown",
   "metadata": {},
   "source": [
    "# Dictionaries"
   ]
  },
  {
   "cell_type": "code",
   "execution_count": 113,
   "metadata": {},
   "outputs": [
    {
     "name": "stdout",
     "output_type": "stream",
     "text": [
      "green\n",
      "5\n"
     ]
    }
   ],
   "source": [
    "#Understanding Dictionaries can help you model real-world objects more\n",
    "#accurately.\n",
    "#A simple Dictionary is as follows\n",
    "alien_0 = { 'color' : 'green', 'points': 5}\n",
    "print(alien_0['color'])\n",
    "print(alien_0['points'])\n",
    "#The dictionary alien_0 stores the alien's color and point value."
   ]
  },
  {
   "cell_type": "markdown",
   "metadata": {},
   "source": [
    "# Working with Dictionaries"
   ]
  },
  {
   "cell_type": "code",
   "execution_count": 114,
   "metadata": {},
   "outputs": [],
   "source": [
    "#A dictionary in python is a collection of key-value pairs.\n",
    "#Each key is connected to a value, and you can use a key to access the\n",
    "#value associated with that key.\n",
    "#You can use any object that you can create in Python as a value in a \n",
    "#dictionary\n",
    "#As shown in the example above, a dictionary is wrapped in braces, {}, with\n",
    "#a series of key-value pairs inside the braces."
   ]
  },
  {
   "cell_type": "markdown",
   "metadata": {},
   "source": [
    "Key-value pair"
   ]
  },
  {
   "cell_type": "code",
   "execution_count": 115,
   "metadata": {},
   "outputs": [],
   "source": [
    "#A key-value pair is a set of values associated with each other.\n",
    "#When you provide a key, Python returns the value associated with that\n",
    "#key.\n",
    "#Every key is connected to its value by a colon, and individual key-value\n",
    "#pairs are separated by commas.\n",
    "#One can store as many key-value pairs as you want in a dictionary.\n",
    "#The simplest dictionary has exactly one key-value pair, as shown below:\n",
    "alien_0 = {'color' : 'green'}\n",
    "#Above stores one piece of information about alien_0, the alien's color.\n",
    "#String 'color' is a key in this dictionary, and its associated value is\n",
    "#'green'"
   ]
  },
  {
   "cell_type": "markdown",
   "metadata": {},
   "source": [
    "Accessing Values in a Dictionary"
   ]
  },
  {
   "cell_type": "code",
   "execution_count": 116,
   "metadata": {},
   "outputs": [
    {
     "name": "stdout",
     "output_type": "stream",
     "text": [
      "green\n"
     ]
    }
   ],
   "source": [
    "#To get the value associated with a key, give the name of the dictionary\n",
    "#and then place the key inside a set of square brackets.\n",
    "alien_0 = {'color' : 'green'}\n",
    "print(alien_0['color'])\n",
    "#This returns the value associated with the key 'color' from the dictionary\n",
    "#alien_0"
   ]
  },
  {
   "cell_type": "code",
   "execution_count": 117,
   "metadata": {},
   "outputs": [
    {
     "name": "stdout",
     "output_type": "stream",
     "text": [
      "You just earned 7 points!\n"
     ]
    }
   ],
   "source": [
    "#Example of more than one key-value pairs in a dictionary\n",
    "alien_0 = {'color' : 'yellow', 'points' : 7 }\n",
    "\n",
    "new_points = alien_0 ['points']#1\n",
    "print(f\"You just earned {new_points} points!\")#2\n",
    "#Once the dictionary has been defined, the code at #1 pulls the value \n",
    "#associated with the key 'points' from the dictionary. This value is then\n",
    "#assigned to the variable new_points\n",
    "#The line at #2 prints a statement about how many points the player just\n",
    "#earned"
   ]
  },
  {
   "cell_type": "markdown",
   "metadata": {},
   "source": [
    "Adding New Key-Value Pairs"
   ]
  },
  {
   "cell_type": "code",
   "execution_count": 118,
   "metadata": {},
   "outputs": [
    {
     "name": "stdout",
     "output_type": "stream",
     "text": [
      "{'color': 'yellow', 'points': 7}\n",
      "{'color': 'yellow', 'points': 7, 'size': 78, 'speed': 85}\n"
     ]
    }
   ],
   "source": [
    "#TO add a new key-value pair, you would give the name of the dictionary\n",
    "#followed by the new key in square brackets along with the new value.\n",
    "#Let us use the earlier example of alien_0\n",
    "alien_0 = {'color' : 'yellow', 'points' : 7 }\n",
    "print(alien_0)\n",
    "#Let us add new key value pairs\n",
    "alien_0['size'] = 78\n",
    "alien_0['speed'] = 85\n",
    "print(alien_0)\n",
    "#Final version contains four key value pairs\n",
    "#As of Python 3.7, dictionaries retain the order which they were defined."
   ]
  },
  {
   "cell_type": "markdown",
   "metadata": {},
   "source": [
    "Starting with an empty Dictionary"
   ]
  },
  {
   "cell_type": "code",
   "execution_count": 119,
   "metadata": {},
   "outputs": [
    {
     "name": "stdout",
     "output_type": "stream",
     "text": [
      "{'color': 'green', 'points': 5}\n"
     ]
    }
   ],
   "source": [
    "#It is sometimes convenient and necessary, to start with an empty \n",
    "#dictionary and then add each new item to it.\n",
    "alien_0 = {}#Defining an empty dictionary\n",
    "\n",
    "alien_0['color'] = 'green'\n",
    "alien_0['points'] = 5\n",
    "print(alien_0)\n",
    "#Generally you'll use empty dictionaries when storing user-supplied data in\n",
    "#a dictionary or when you write code that generates a large number of \n",
    "#key-value pairs automatically."
   ]
  },
  {
   "cell_type": "markdown",
   "metadata": {},
   "source": [
    "Modifying Values in a Dictionary"
   ]
  },
  {
   "cell_type": "code",
   "execution_count": 120,
   "metadata": {},
   "outputs": [
    {
     "name": "stdout",
     "output_type": "stream",
     "text": [
      "The alien color is: green.\n",
      "The alien new color is: yellow\n"
     ]
    }
   ],
   "source": [
    "#To do this give the name of the dictionary, with the key in brackets and\n",
    "#assign it to the new value you want associated with the key.\n",
    "#Example\n",
    "alien_0 = {'color' : 'green'}\n",
    "print(f\"The alien color is: {alien_0['color']}.\")\n",
    "#Change the value associated with the key 'color' to yellow.\n",
    "alien_0 = {'color' : 'yellow'}\n",
    "print(f\"The alien new color is: {alien_0['color']}\")"
   ]
  },
  {
   "cell_type": "code",
   "execution_count": 121,
   "metadata": {},
   "outputs": [
    {
     "name": "stdout",
     "output_type": "stream",
     "text": [
      "Original position: 0\n",
      "New position: 3\n"
     ]
    }
   ],
   "source": [
    "#A more interesting example\n",
    "#We are going to track the position of an alien that can move at different\n",
    "#speeds.\n",
    "#We'll store a value representing the alien's current speed, and use it to\n",
    "#determine how far to the right the alien should move.\n",
    "alien_0 = {'x_position' : 0, 'y_position' : 25, 'speed' : 'medium'}\n",
    "print(f\"Original position: {alien_0['x_position']}\")\n",
    "#Move the alien to the right.\n",
    "#Determine how far to move the alien based on its current speed.\n",
    "if alien_0['speed'] == 'slow':\n",
    "      x_increment = 1#Moves one unit to the right\n",
    "if alien_0['speed'] == 'medium':\n",
    "      x_increment = 3#Moves three units to the right\n",
    "else:\n",
    "      #This must be the fast alien\n",
    "      x_increment = 5#Likewise\n",
    "\n",
    "#The new position is old position plus the increment.\n",
    "alien_0['x_position'] = alien_0['x_position'] + x_increment#Increment added to the value of x_position\n",
    "#Result above is stored in the dictionary's x_position\n",
    "print(f\"New position: {alien_0['x_position']}\")\n",
    "#Note: By changing one value in the alien's dictionary, you can change the \n",
    "#overall behavior of the alien.\n"
   ]
  },
  {
   "cell_type": "markdown",
   "metadata": {},
   "source": [
    "#Removing key-value pairs."
   ]
  },
  {
   "cell_type": "code",
   "execution_count": 122,
   "metadata": {},
   "outputs": [
    {
     "name": "stdout",
     "output_type": "stream",
     "text": [
      "{'points': 5, 'color': 'green'}\n",
      "{'color': 'green'}\n"
     ]
    }
   ],
   "source": [
    "#You can remove a key-value pair using the del statement.\n",
    "#For example, let us remove key 'points'\n",
    "alien_0 = {'points' : 5 , 'color' : 'green',}\n",
    "print(alien_0)\n",
    "del alien_0['points']#Removes key 'points' from the dictionary and value 5 \n",
    "#associated to it.\n",
    "print(alien_0)"
   ]
  },
  {
   "cell_type": "markdown",
   "metadata": {},
   "source": [
    "#A Dictionary of Similar Objects"
   ]
  },
  {
   "cell_type": "code",
   "execution_count": 123,
   "metadata": {},
   "outputs": [],
   "source": [
    "#In the previous example of the aliens, it involved storing different kinds of\n",
    "#information about one object, an alien in the game.\n",
    "#You can also use a dictionary to store one kind of information about many\n",
    "#objects.\n",
    "#Example\n",
    "#Polling a number of people and ask them what their favorite programming \n",
    "#language is.\n",
    "favorite_languages = {\n",
    "    'jen' : 'python',\n",
    "    'sarah' : 'c',\n",
    "    'edward' : 'ruby',\n",
    "    'phil' : 'python',\n",
    "}\n",
    "#It's a good practice to include a coma after the last key-value pair. This\n",
    "#signals readiness to add a new key-value pair on the next line."
   ]
  },
  {
   "cell_type": "code",
   "execution_count": 124,
   "metadata": {},
   "outputs": [
    {
     "name": "stdout",
     "output_type": "stream",
     "text": [
      "Sarah's favorite language is c\n"
     ]
    }
   ],
   "source": [
    "#Looking up at the favorite language of students\n",
    "favorite_languages['sarah'].title()\n",
    "print(f\"Sarah's favorite language is {favorite_languages['sarah']}\")"
   ]
  },
  {
   "cell_type": "markdown",
   "metadata": {},
   "source": [
    "#Using get() to Access Values"
   ]
  },
  {
   "cell_type": "code",
   "execution_count": 125,
   "metadata": {},
   "outputs": [
    {
     "ename": "KeyError",
     "evalue": "'points'",
     "output_type": "error",
     "traceback": [
      "\u001b[1;31m---------------------------------------------------------------------------\u001b[0m",
      "\u001b[1;31mKeyError\u001b[0m                                  Traceback (most recent call last)",
      "\u001b[1;32m<ipython-input-125-418f15b74c0b>\u001b[0m in \u001b[0;36m<module>\u001b[1;34m\u001b[0m\n\u001b[0;32m      4\u001b[0m \u001b[0malien_0\u001b[0m \u001b[1;33m=\u001b[0m \u001b[1;33m{\u001b[0m\u001b[1;34m'color'\u001b[0m \u001b[1;33m:\u001b[0m \u001b[1;34m'green'\u001b[0m\u001b[1;33m,\u001b[0m \u001b[1;34m'speed'\u001b[0m \u001b[1;33m:\u001b[0m \u001b[1;34m'slow'\u001b[0m\u001b[1;33m}\u001b[0m\u001b[1;33m\u001b[0m\u001b[1;33m\u001b[0m\u001b[0m\n\u001b[0;32m      5\u001b[0m \u001b[1;33m\u001b[0m\u001b[0m\n\u001b[1;32m----> 6\u001b[1;33m \u001b[0mprint\u001b[0m\u001b[1;33m(\u001b[0m\u001b[0malien_0\u001b[0m\u001b[1;33m[\u001b[0m\u001b[1;34m'points'\u001b[0m\u001b[1;33m]\u001b[0m\u001b[1;33m)\u001b[0m\u001b[1;33m\u001b[0m\u001b[1;33m\u001b[0m\u001b[0m\n\u001b[0m",
      "\u001b[1;31mKeyError\u001b[0m: 'points'"
     ]
    }
   ],
   "source": [
    "#Using keys in square brackets to retrieve values you're interested in from\n",
    "#a dictionary might cause a potential problem. If the key you ask for does not\n",
    "#exist you'll get an error.\n",
    "alien_0 = {'color' : 'green', 'speed' : 'slow'}\n",
    "\n",
    "print(alien_0['points'])"
   ]
  },
  {
   "cell_type": "code",
   "execution_count": 126,
   "metadata": {},
   "outputs": [
    {
     "name": "stdout",
     "output_type": "stream",
     "text": [
      "No point value assigned.\n"
     ]
    }
   ],
   "source": [
    "#For dictionaries, specifically, you can use the get() method to set a default\n",
    "#value that will be returned if the requested key doesn't exist.\n",
    "#The get() method requires a key value as the first argument and as a second\n",
    "#optional argument you can pass the value to be returned  if the key doesn't\n",
    "#exist\n",
    "alien_0 = {'color' : 'green', 'speed' : 'slow'}\n",
    "point_value = alien_0.get('points', 'No point value assigned.')\n",
    "print(point_value)\n",
    "#If key 'point' doesn't exist you'll get the default value as above."
   ]
  },
  {
   "cell_type": "markdown",
   "metadata": {},
   "source": [
    "# Exercises"
   ]
  },
  {
   "cell_type": "code",
   "execution_count": 127,
   "metadata": {},
   "outputs": [
    {
     "name": "stdout",
     "output_type": "stream",
     "text": [
      "Joshua\n",
      "Orang\n",
      "20\n",
      "Kampala\n"
     ]
    }
   ],
   "source": [
    "#6-1.Person: Use a dictionary to store information about a person you know.\n",
    "#Store their first name, last name, age and the city in which they live. You \n",
    "#should have keys such as first_name, last_name, age, and city. Print each \n",
    "#piece of information stored in your dictionary.\n",
    "Person = {'first_name' : 'Joshua', \n",
    "          'last_name' : 'Orang', \n",
    "          'age' : 20, \n",
    "          'city': 'Kampala',}\n",
    "print(Person['first_name'])\n",
    "print(Person['last_name'])\n",
    "print(Person['age'])\n",
    "print(Person['city'])\n"
   ]
  },
  {
   "cell_type": "code",
   "execution_count": 128,
   "metadata": {},
   "outputs": [
    {
     "name": "stdout",
     "output_type": "stream",
     "text": [
      "Bill's favorite number is 30\n",
      "Sophie's favorite number is 25\n",
      "Kevin's favorite number is 20\n",
      "Dennis' favorite number is 78\n",
      "Newton's favorite number is 42\n"
     ]
    }
   ],
   "source": [
    "#6-2.Favorite Numbers: Use a dictionary to store people's favorite numbers.\n",
    "#Think of five names, and use them as keys in your dictionary. Think of a \n",
    "#favorite number for each person, and store each as a value in your dictionary.\n",
    "#Print each person's name and their favorite number. For even more fun, poll a\n",
    "#few friends and get some actual data for your program.\n",
    "Person = {'Bill' : 30, \n",
    "          'Sophie' : 25, \n",
    "          'Kevin' : 20, \n",
    "          'Dennis': 78,\n",
    "          'Newton': 42,}\n",
    "print(f\"Bill's favorite number is {Person['Bill']}\")\n",
    "print(f\"Sophie's favorite number is {Person['Sophie']}\")\n",
    "print(f\"Kevin's favorite number is {Person['Kevin']}\")\n",
    "print(f\"Dennis' favorite number is {Person['Dennis']}\")\n",
    "print(f\"Newton's favorite number is {Person['Newton']}\")"
   ]
  },
  {
   "cell_type": "code",
   "execution_count": 129,
   "metadata": {},
   "outputs": [],
   "source": [
    "#6-3.Glossary: A Python dictionary can be used to model an actual dictionary.\n",
    "#However, to avoid confusion, let's call it a glossary.\n",
    "#• Think of five programming words you’ve learned about in the previous \n",
    "#chapters. Use these words as the keys in your glossary, and store their \n",
    "#meanings as values.\n",
    "\n",
    "#•Print each word and its meaning as neatly formatted output. You might print\n",
    "#the word followed by a colon and then its meaning, or print the word on one\n",
    "#line and then print its meaning indented on a second line. Use the newline \n",
    "#character(\\n) to insert a blank line between each word meaning pair in your\n",
    "#output.\n",
    "Glossary = {'assignment' : '',\n",
    "            'operator' : '', \n",
    "            'indent' : 'A four line space at the start of each line.', \n",
    "            'argument' : 'This are values', \n",
    "            'print' : 'This is the command to output an operation'}"
   ]
  },
  {
   "cell_type": "markdown",
   "metadata": {},
   "source": [
    "# Looping Through a Dictionary"
   ]
  },
  {
   "cell_type": "code",
   "execution_count": 130,
   "metadata": {},
   "outputs": [],
   "source": [
    "#Dictionaries contain large amount of data, python can allow you to loop \n",
    "#through them.\n",
    "#Dictionaries can be used to store information in a variety of ways, thus \n",
    "#different methods of looping through them are available.\n",
    "#You can loop through the key-value pairs, through its keys, or its values."
   ]
  },
  {
   "cell_type": "markdown",
   "metadata": {},
   "source": [
    "#Example:Looping through all Key-Value Pairs"
   ]
  },
  {
   "cell_type": "code",
   "execution_count": 131,
   "metadata": {},
   "outputs": [
    {
     "name": "stdout",
     "output_type": "stream",
     "text": [
      "\n",
      "key: userName\n",
      "value: efermi\n",
      "\n",
      "key: first\n",
      "value: enrico\n",
      "\n",
      "key: last\n",
      "value: fermi\n"
     ]
    }
   ],
   "source": [
    "#In order to print out everything store in our dictionary, we can use for-loop\n",
    "user_0 = {\n",
    "    'userName' : 'efermi',\n",
    "    'first' : 'enrico',\n",
    "    'last' : 'fermi',\n",
    "}\n",
    "\n",
    "for key, value in user_0.items():#1\n",
    "    print(f\"\\nkey: {key}\")#2\n",
    "    print(f\"value: {value}\")#3\n",
    "#As shown at #1, to write a for loop for a dictionary, you create names for\n",
    "#the two variables that will hold the key and value in each key-value pair.\n",
    "#You can choose any name for the two variables.\n",
    "\n",
    "#The second half of #1, is the name of the dictionary with items() method, \n",
    "#which returns a list of key-value pairs. The for loop then assigns each of \n",
    "#these pairs to the two variables provided.\n",
    "\n",
    "#At #2, we use the variables to print each key\n",
    "#At #3 is the same as #2\n",
    "\n",
    "#\\n ensures that a blank line is inserted b4 each key-value pair"
   ]
  },
  {
   "cell_type": "code",
   "execution_count": 132,
   "metadata": {},
   "outputs": [
    {
     "name": "stdout",
     "output_type": "stream",
     "text": [
      "Jen's favorite language is Python.\n",
      "Sarah's favorite language is C.\n",
      "Edward's favorite language is Ruby.\n",
      "Phil's favorite language is Python.\n"
     ]
    }
   ],
   "source": [
    "#Example 2\n",
    "favorite_languages = {\n",
    "    'jen' : 'python',\n",
    "    'sarah' : 'c',\n",
    "    'edward' : 'ruby',\n",
    "    'phil' : 'python',\n",
    "}\n",
    "\n",
    "for name, language in favorite_languages.items():\n",
    "    print(f\"{name.title()}'s favorite language is {language.title()}.\")\n",
    "#This looping would even work while working with thousand or millions of items."
   ]
  },
  {
   "cell_type": "markdown",
   "metadata": {},
   "source": [
    "#Looping through all the keys in a dictionary"
   ]
  },
  {
   "cell_type": "code",
   "execution_count": 133,
   "metadata": {},
   "outputs": [
    {
     "name": "stdout",
     "output_type": "stream",
     "text": [
      "Jen\n",
      "Sarah\n",
      "Edward\n",
      "Phil\n",
      "\n",
      "\n",
      "Jen\n",
      "Sarah\n",
      "Edward\n",
      "Phil\n"
     ]
    }
   ],
   "source": [
    "#The keys() method is useful when you don't want to work with all the values\n",
    "#in a dictionary.\n",
    "#Example\n",
    "favorite_languages = {\n",
    "    'jen' : 'python',\n",
    "    'sarah' : 'c',\n",
    "    'edward' : 'ruby',\n",
    "    'phil' : 'python',\n",
    "}\n",
    "for name in favorite_languages.keys():#1\n",
    "    print(name.title())\n",
    "    \n",
    "    #Create some space for the illustration below\n",
    "    if name == 'phil':\n",
    "        print(\"\\n\")\n",
    "#The line at #1 tells python to pull all the keys from the dictionary and \n",
    "#assign them to variable name one at a time.\n",
    "#Looping through the key is actually the default behavior while looping through\n",
    "#a dictionary.\n",
    "#The code would still print out keys if I wrote...\n",
    "for name in favorite_languages:\n",
    "    print(name.title())\n",
    "#You can choose to use key() method explicitly if it makes your code clean or\n",
    "#you can choose to omit it."
   ]
  },
  {
   "cell_type": "code",
   "execution_count": 134,
   "metadata": {},
   "outputs": [
    {
     "name": "stdout",
     "output_type": "stream",
     "text": [
      "Jen\n",
      "Sarah\n",
      "\tSarah, I see you love C!\n",
      "Edward\n",
      "Phil\n",
      "\tPhil, I see you love Python!\n",
      "Nick\n",
      "Josh\n",
      "Lakita\n",
      "Sancho\n"
     ]
    }
   ],
   "source": [
    "#You can access the value associated with any key you care about inside the\n",
    "#loop by using the current key. Let us print a message to a couple of friends\n",
    "#about the language they chose.\n",
    "#We'll loop through the dictionary but when a name matches one of our friends\n",
    "#we'll display a message about their favorite language.\n",
    "favorite_languages = {\n",
    "    'jen' : 'python',\n",
    "    'sarah' : 'c',\n",
    "    'edward' : 'ruby',\n",
    "    'phil' : 'python',\n",
    "}\n",
    "\n",
    "friends = ['phil', 'sarah']#1\n",
    "for name in favorite_language.keys():\n",
    "    print(name.title())\n",
    "    \n",
    "    if name in friends:#2\n",
    "        language = favorite_language[name].title()#3\n",
    "        print(f\"\\t{name.title()}, I see you love {language}!\")\n",
    "#At #1, we are a list of friends we want to print a message to.\n",
    "#The loop prints each person's name.\n",
    "#At #2, we chek whether the name we're working with is in the list of friends.\n",
    "#At #3 If it is we determine the person's favorite language using the name of the\n",
    "#dictionary coupled with the current value of name as the key."
   ]
  },
  {
   "cell_type": "code",
   "execution_count": 135,
   "metadata": {},
   "outputs": [
    {
     "name": "stdout",
     "output_type": "stream",
     "text": [
      "Erin, please take the poll\n"
     ]
    }
   ],
   "source": [
    "#You can also use the keys() method to find out if a particular person was \n",
    "#polled.\n",
    "favorite_language = {\n",
    "    'jen' : 'python',\n",
    "    'sarah' : 'c',\n",
    "    'edward' : 'ruby',\n",
    "    'phil' : 'python',\n",
    "}\n",
    "\n",
    "if 'erin' not in favorite_languages.keys():#1\n",
    "    print(\"Erin, please take the poll\")\n",
    "#Line at #1 simply checks if erin is in the list. Since she's not it print out\n",
    "#the message."
   ]
  },
  {
   "cell_type": "markdown",
   "metadata": {},
   "source": [
    "#Looping through a Dictionary's Keys in a Particular Order"
   ]
  },
  {
   "cell_type": "code",
   "execution_count": 136,
   "metadata": {},
   "outputs": [
    {
     "name": "stdout",
     "output_type": "stream",
     "text": [
      "Edward, thank you for taking the poll.\n",
      "Jen, thank you for taking the poll.\n",
      "Phil, thank you for taking the poll.\n",
      "Sarah, thank you for taking the poll.\n"
     ]
    }
   ],
   "source": [
    "#Starting from Pyhthon 3.7, looping through a dictionary will return the items\n",
    "#in the same order they were inserted.\n",
    "#Sometimes you might want to loop the dictionary in a different order. To do\n",
    "#this you use the sorted() function.\n",
    "favorite_language = {\n",
    "    'jen' : 'python',\n",
    "    'sarah' : 'c',\n",
    "    'edward' : 'ruby',\n",
    "    'phil' : 'python',\n",
    "}\n",
    "\n",
    "for name in sorted(favorite_language):\n",
    "    print(f\"{name.title()}, thank you for taking the poll.\")\n",
    "#You can also write the for loop as below:\n",
    "#for name in sorted(favorite_language):\n",
    "#    print(f\"{name.title()}, thank you for taking the poll.\")\n",
    "#The sorted() function tells python to sort the dictionary before looping \n",
    "#through it."
   ]
  },
  {
   "cell_type": "markdown",
   "metadata": {},
   "source": [
    "#Looping through all values in a Dictionary"
   ]
  },
  {
   "cell_type": "code",
   "execution_count": 137,
   "metadata": {},
   "outputs": [
    {
     "name": "stdout",
     "output_type": "stream",
     "text": [
      "The following languages have been mentioned.\n",
      "Python\n",
      "C\n",
      "Ruby\n",
      "Python\n"
     ]
    }
   ],
   "source": [
    "#If you are interested in the values that a dictionary contains, you can use\n",
    "#the values() method to return list of values without keys.\n",
    "#For example\n",
    "favorite_language = {\n",
    "    'jen' : 'python',\n",
    "    'sarah' : 'c',\n",
    "    'edward' : 'ruby',\n",
    "    'phil' : 'python',\n",
    "}\n",
    "\n",
    "print(\"The following languages have been mentioned.\")\n",
    "for languages in favorite_language.values():\n",
    "    print(languages.title())\n",
    "#The for statement pulls values from the dictionary and assigns it to the \n",
    "#variable languages."
   ]
  },
  {
   "cell_type": "code",
   "execution_count": 138,
   "metadata": {},
   "outputs": [
    {
     "name": "stdout",
     "output_type": "stream",
     "text": [
      "The following languages have been mentioned:\n",
      "python\n",
      "ruby\n",
      "c\n"
     ]
    }
   ],
   "source": [
    "#In some cases the list might be large and some values become repetitive. \n",
    "#Assume the example above has some languages repetitive in a larger list. To \n",
    "#see each language chose without repetition, we can use a set. \n",
    "#A set is a collection in which each item must be unique.\n",
    "favorite_language = {\n",
    "    'jen' : 'python',\n",
    "    'sarah' : 'c',\n",
    "    'edward' : 'ruby',\n",
    "    'phil' : 'python',\n",
    "    'nick' : 'c',\n",
    "    'josh' : 'python',\n",
    "    'lakita' : 'python',\n",
    "    'sancho' : 'ruby',\n",
    "}\n",
    "print(\"The following languages have been mentioned:\")\n",
    "for language in set(favorite_language.values()):\n",
    "    print(language)\n",
    "#When you wrap set() around a list that contains duplicate items, python \n",
    "#identifies the unique items in the list and builds a set from those items, as\n",
    "#in the example above, thus a result with non repetitive list of languages."
   ]
  },
  {
   "cell_type": "code",
   "execution_count": 139,
   "metadata": {},
   "outputs": [
    {
     "data": {
      "text/plain": [
       "{'c', 'python', 'ruby'}"
      ]
     },
     "execution_count": 139,
     "metadata": {},
     "output_type": "execute_result"
    }
   ],
   "source": [
    "#Note: You can build a set directly using braces and seperating the elements\n",
    "#with commas.\n",
    "#Example\n",
    "languages = {'python', 'ruby', 'python', 'c'}\n",
    "languages"
   ]
  },
  {
   "cell_type": "code",
   "execution_count": 140,
   "metadata": {},
   "outputs": [],
   "source": [
    "#Sets and Dictionaries might look very similar. They are both wrapped in braces\n",
    "#When you see braces but no key-value pairs, you're probably looking at a set.\n",
    "#Unlike lists and dictionaries, sets do not retain items in any specific order."
   ]
  },
  {
   "cell_type": "markdown",
   "metadata": {},
   "source": [
    "# Exercise"
   ]
  },
  {
   "cell_type": "code",
   "execution_count": 141,
   "metadata": {},
   "outputs": [
    {
     "name": "stdout",
     "output_type": "stream",
     "text": [
      "\n",
      "Key values is: assignment\n",
      "value value is: dada\n",
      "\n",
      "Key values is: operator\n",
      "value value is: geweaf\n",
      "\n",
      "Key values is: indent\n",
      "value value is: A four line space at the start of each line.\n",
      "\n",
      "Key values is: argument\n",
      "value value is: This are values\n",
      "\n",
      "Key values is: print\n",
      "value value is: This is the command to output an operation\n"
     ]
    }
   ],
   "source": [
    "#6-4. Glossary 2: Now that you know how to loop through a dictionary, clean \n",
    "#up the code from Exercise 6-3 (page 99) by replacing your series of print()\n",
    "#calls with a loop that runs through the dictionary’s keys and values. When \n",
    "#you’re sure that your loop works, add five more Python terms to your glossary. \n",
    "#When you run your program again, these new words and meanings should \n",
    "#automatically be included in the output.\n",
    "Glossary = {\n",
    "            'assignment' : 'dada',\n",
    "            'operator' : 'geweaf', \n",
    "            'indent' : 'A four line space at the start of each line.', \n",
    "            'argument' : 'This are values', \n",
    "            'print' : 'This is the command to output an operation'\n",
    "           }\n",
    "for key, value in Glossary.items():\n",
    "    print(f'\\nKey values is: {key}')\n",
    "    print(f'value value is: {value}')"
   ]
  },
  {
   "cell_type": "code",
   "execution_count": 142,
   "metadata": {},
   "outputs": [
    {
     "name": "stdout",
     "output_type": "stream",
     "text": [
      "The Nile runs through Egypt.\n",
      "The Athi runs through Kenya.\n",
      "The Amazon runs through Brazil.\n",
      "\n",
      "\n",
      "Nile\n",
      "Athi\n",
      "Amazon\n",
      "\n",
      "\n",
      "Egypt\n",
      "Kenya\n",
      "Brazil\n"
     ]
    }
   ],
   "source": [
    "#6-5. Rivers: Make a dictionary containing three major rivers and the country \n",
    "#each river runs through. One key-value pair might be 'nile': 'egypt'.\n",
    "#•\t Use a loop to print a sentence about each river, such as The Nile runs \n",
    "#through Egypt.\n",
    "#•\t Use a loop to print the name of each river included in the dictionary.\n",
    "#•\t Use a loop to print the name of each country included in the dictionary.\n",
    "Rivers = {\n",
    "    'nile' : 'egypt',\n",
    "    'athi' : 'kenya',\n",
    "    'amazon' : 'brazil',\n",
    "    \n",
    "}\n",
    "\n",
    "#Print the river name with a description about it.\n",
    "for key, value in Rivers.items():\n",
    "    print(f'The {key.title()} runs through {value.title()}.')\n",
    "    \n",
    "#create space for the next loop\n",
    "print(\"\\n\")\n",
    "\n",
    "#Use a loop to print each river in the dictionary\n",
    "for river in Rivers.keys(): #or for river in Rivers:\n",
    "    print(river.title())\n",
    "\n",
    "    \n",
    "#create space for the next loop\n",
    "print(\"\\n\")\n",
    "\n",
    "\n",
    "#Loop to print each country included in the dictionary\n",
    "for country in Rivers.values():\n",
    "    print(country.title())\n",
    "    "
   ]
  },
  {
   "cell_type": "code",
   "execution_count": 143,
   "metadata": {
    "scrolled": true
   },
   "outputs": [
    {
     "ename": "SyntaxError",
     "evalue": "EOL while scanning string literal (<ipython-input-143-577b9e10ae45>, line 35)",
     "output_type": "error",
     "traceback": [
      "\u001b[1;36m  File \u001b[1;32m\"<ipython-input-143-577b9e10ae45>\"\u001b[1;36m, line \u001b[1;32m35\u001b[0m\n\u001b[1;33m    print(f\")\u001b[0m\n\u001b[1;37m             ^\u001b[0m\n\u001b[1;31mSyntaxError\u001b[0m\u001b[1;31m:\u001b[0m EOL while scanning string literal\n"
     ]
    }
   ],
   "source": [
    "#6-6. Polling: Use the code in favorite_languages.py (page 97).\n",
    "#•\t Make a list of people who should take the favorite languages poll. \n",
    "#Include some names that are already in the dictionary and some that are not. \n",
    "#•\t Loop through the list of people who should take the poll. If they have \n",
    "#already taken the poll, print a message thanking them for responding. \n",
    "#If they have not yet taken the poll, print a message inviting them to take \n",
    "#the poll\n",
    "\n",
    "favorite_languages = {\n",
    "    'jen': 'python',\n",
    "    'sarah': 'c',\n",
    "    'edward': 'ruby',\n",
    "    'phil': 'python',\n",
    "}\n",
    "\n",
    "#A list of people taking the poll\n",
    "poll_names = ['jen', 'nick', 'edward', 'phil', 'saul', 'mansol', 'sarah']\n",
    "for take_poll in poll_names:\n",
    "    print(take_poll.title())\n",
    "    if take_poll in favorite_languages.keys():\n",
    "        print(f\" thank you for taking the poll.\")\n",
    "    else:\n",
    "        print(\"You are invited to take the poll.\")\n",
    "#The above solution is correct but it is difficult to print the the message\n",
    "#including the individual names of people that have taken the poll and \n",
    "#those that have not. look at the solution below:\n",
    "print(\"\\n\")\n",
    "poll_names = ['jen', 'nick', 'edward', 'phil', 'saul', 'mansol', 'sarah']\n",
    "for names in favorite_languages.keys():\n",
    "    print(names.title())\n",
    "    if names in poll_names:\n",
    "        poll = favorite_languages[names]\n",
    "        print(f\"{names.title()} thank you for taking the poll!\")\n",
    "    else:\n",
    "        print(f\")\n",
    "\n",
    "    \n",
    "   "
   ]
  },
  {
   "cell_type": "markdown",
   "metadata": {},
   "source": [
    "# Nesting (more on nesting dictionaries:https://www.programiz.com/python-programming/nested-dictionary)"
   ]
  },
  {
   "cell_type": "code",
   "execution_count": 144,
   "metadata": {},
   "outputs": [],
   "source": [
    "#Sometimes you'll want to store a list of items as a value in a dictionary\n",
    "#or multiple dictionaries in a list. This is called nesting.\n",
    "#You can nest dictionaries inside a list, or a list of items inside a \n",
    "#dictionary or even dictionary inside another dictionary."
   ]
  },
  {
   "cell_type": "markdown",
   "metadata": {},
   "source": [
    "# A list of Dictionaries"
   ]
  },
  {
   "cell_type": "code",
   "execution_count": 145,
   "metadata": {},
   "outputs": [
    {
     "name": "stdout",
     "output_type": "stream",
     "text": [
      "{'color': 'green', 'points': 5}\n",
      "{'color': 'yellow', 'points': 10}\n",
      "{'color': 'red', 'points': 15}\n"
     ]
    }
   ],
   "source": [
    "#It will look ugly putting information about two aliens in the same \n",
    "#dictionary. You therefore have to create more than one dictionary.\n",
    "\n",
    "#Create three dictionaries representing three different aliens.\n",
    "alien_0 = {'color' : 'green', 'points' : 5}\n",
    "alien_1 = {'color' : 'yellow', 'points' : 10}\n",
    "alien_2 = {'color' : 'red', 'points' : 15}\n",
    "\n",
    "aliens = [alien_0, alien_1, alien_2]\n",
    "#print out information from all the aliens\n",
    "for alien in aliens:\n",
    "    print(alien)"
   ]
  },
  {
   "cell_type": "code",
   "execution_count": 146,
   "metadata": {},
   "outputs": [
    {
     "name": "stdout",
     "output_type": "stream",
     "text": [
      "{'color': 'green', 'points': 5, 'speed': 'slow'}\n",
      "{'color': 'green', 'points': 5, 'speed': 'slow'}\n",
      "{'color': 'green', 'points': 5, 'speed': 'slow'}\n",
      "{'color': 'green', 'points': 5, 'speed': 'slow'}\n",
      "{'color': 'green', 'points': 5, 'speed': 'slow'}\n",
      "...\n",
      "Total number of aliens is: 30\n"
     ]
    }
   ],
   "source": [
    "#A more realistic example would involve more than three aliens with code \n",
    "#that automatically generates each alien.\n",
    "aliens = []\n",
    "\n",
    "#Make 30 green aliens.\n",
    "for alien_number in range(30):#1\n",
    "    new_alien = {'color' : 'green', 'points' : 5, 'speed' : 'slow'}#2\n",
    "    aliens.append(new_alien)#3\n",
    "    #print(alien_number)\n",
    "    \n",
    "    #you can try this code\n",
    "    #for alien in aliens[:5]:#4\n",
    "    #print(alien)\n",
    "    #print(\"...\")\n",
    "    \n",
    "    #show the first 5 aliens\n",
    "for alien in aliens[:5]:#4\n",
    "    print(alien)\n",
    "print(\"...\")\n",
    "print(f\"Total number of aliens is: {len(aliens)}\")\n",
    "#Code explanation\n",
    "#This code starts with an empty list that will store all aliens that will\n",
    "#be created.\n",
    "#At #1 range() returns a series of numbers that tell python how many times\n",
    "#we want the loop to repeat.\n",
    "#At #2 each time the loop runs we create a new alien and then at #3 append\n",
    "#each new alien to the list aliens.\n",
    "#At #4 we use a slice to print the first five aliens, and at #5 we print \n",
    "#the length of the list."
   ]
  },
  {
   "cell_type": "code",
   "execution_count": 147,
   "metadata": {},
   "outputs": [
    {
     "name": "stdout",
     "output_type": "stream",
     "text": [
      "{'color': 'yellow', 'points': 10, 'speed': 'medium'}\n",
      "{'color': 'yellow', 'points': 10, 'speed': 'medium'}\n",
      "{'color': 'yellow', 'points': 10, 'speed': 'medium'}\n",
      "{'color': 'green', 'points': 5, 'speed': 'slow'}\n",
      "{'color': 'green', 'points': 5, 'speed': 'slow'}\n",
      "...\n"
     ]
    }
   ],
   "source": [
    "#In the above example the aliens have the same characteristics but python\n",
    "#considers each one a seperate object, which allows us to modify each alien\n",
    "#individually.\n",
    "#For example, we can use a for loop and an if statement to change the color\n",
    "#of aliens. eg to change the first three aliens to yellow, medium-speed \n",
    "#aliens worth 10 points each, we could do this:\n",
    "\n",
    "#Make an empty list for storing aliens.\n",
    "aliens = []\n",
    "\n",
    "#Make 30 green aliens.\n",
    "for alien in range(30):\n",
    "    new_alien = {'color' : 'green', 'points' : 5, 'speed' : 'slow'}\n",
    "    aliens.append(new_alien)\n",
    "\n",
    "for alien in aliens[:3]:\n",
    "    if alien['color'] == 'green':\n",
    "        alien['color'] = 'yellow'\n",
    "        alien['speed'] = 'medium'\n",
    "        alien['points'] = 10\n",
    "\n",
    "# Show the first 5 aliens.\n",
    "for alien in aliens[:5]:\n",
    "    print(alien)\n",
    "print(\"...\")\n",
    "\n",
    "#Above, because we want to modify the first three aliens, we loop through\n",
    "#a slice that includes only the first three aliens.\n",
    "#All of the aliens are green but that won't be the case, so we write an if\n",
    "#statement to make sure we're only modifying green aliens.\n",
    "#If the alien is green, we change the color to 'yellow', the speed to \n",
    "#'medium', and the point value to 10.\n"
   ]
  },
  {
   "cell_type": "markdown",
   "metadata": {},
   "source": [
    "# A List in a Dictionary"
   ]
  },
  {
   "cell_type": "code",
   "execution_count": 148,
   "metadata": {},
   "outputs": [
    {
     "name": "stdout",
     "output_type": "stream",
     "text": [
      "You ordered a thick-crust pizza with the following toppings: \n",
      "\tmushrooms\n",
      "\textra cheese\n"
     ]
    }
   ],
   "source": [
    "#Rather than putting a dictionary inside a list, it's sometimes useful to \n",
    "#put a list inside a dictionary.\n",
    "#For example, in a list you can store one aspect of a pizza, but with \n",
    "#dictionaries, you can store its toppings and type of crust.\n",
    "#The dictionary below stores two kinds of information, a type of crust and\n",
    "#a list of toppings.\n",
    "#To use the items in the list, we give the name of the dictionary and the \n",
    "#key 'toppings'\n",
    "#Store information about a pizza being ordered.\n",
    "pizza = {\n",
    "    'crust' : 'thick',#The key is crust and associated value is thick\n",
    "    'toppings' : ['mushrooms', 'extra cheese']#The key is toppings and its\n",
    "    #associated value is the list.\n",
    "}#1\n",
    "#Summarize the order.\n",
    "print(f\"You ordered a {pizza['crust']}-crust pizza with \"\n",
    "      \"the following toppings: \")#2\n",
    "\n",
    "for topping in pizza['toppings']:\n",
    "    print(\"\\t\" + topping)#3\n",
    "#1We begin with a dictionary that holds information about a pizza that has\n",
    "#been ordered\n",
    "#2We summarize the order before building the pizza.\n",
    "#3To print the toppings, we write a for loop. To access the list of toppigs\n",
    "#, we use the key 'toppings', and python grabs the list of toppings from \n",
    "#the dictionary."
   ]
  },
  {
   "cell_type": "code",
   "execution_count": 152,
   "metadata": {},
   "outputs": [
    {
     "name": "stdout",
     "output_type": "stream",
     "text": [
      "\n",
      "Jen's favorite languages are: \n",
      "python\n",
      "ruby\n",
      "\n",
      "Sarah's favorite languages are: \n",
      "c\n",
      "\n",
      "Edward's favorite languages are: \n",
      "ruby\n",
      "go\n",
      "\n",
      "Phil's favorite languages are: \n",
      "python\n",
      "haskell\n"
     ]
    }
   ],
   "source": [
    "#You can nest a list inside a dictionary any time you want more than one\n",
    "#value to be associated with a single key in a dictionary.\n",
    "favorite_language = {\n",
    "    'jen' : ['python', 'ruby'],\n",
    "    'sarah' : ['c'],\n",
    "    'edward' : ['ruby', 'go'],\n",
    "    'phil' : ['python', 'haskell'],\n",
    "}#1The value associated with each key name is now a list\n",
    "\n",
    "for name, languages in favorite_language.items():\n",
    "    print(f\"\\n{name.title()}'s favorite languages are: \")#2When\n",
    "    #we loop through the dictionary, we use the variable name\n",
    "    #languages to hold each value from the dictionary.\n",
    "    #Inside the for loop above(blow) we use another for loop to\n",
    "    #run through each person's list of favorite languages.\n",
    "    for language in languages:\n",
    "        print(language)#3\n",
    "#"
   ]
  },
  {
   "cell_type": "code",
   "execution_count": 154,
   "metadata": {},
   "outputs": [
    {
     "name": "stdout",
     "output_type": "stream",
     "text": [
      "\n",
      "Jen's favorite languages are: \n",
      "Python\n",
      "Ruby\n",
      "\n",
      "Sarah's favorite languages are: \n",
      "Sarah favorite language is C\n",
      "\n",
      "Edward's favorite languages are: \n",
      "Ruby\n",
      "Go\n",
      "\n",
      "Phil's favorite languages are: \n",
      "Python\n",
      "Haskell\n",
      "\n",
      "Ondieki's favorite languages are: \n",
      "Html\n",
      "\n",
      "Lomba's favorite languages are: \n",
      "Css\n"
     ]
    }
   ],
   "source": [
    "#To refine the program even further, you could include an if \n",
    "#statement at the beginning of the dictionary’s for loop to \n",
    "#see whether each person has more than one favorite language \n",
    "#by examining the value of len(languages). \n",
    "#If a person has more \n",
    "#than one favorite, the output would stay the same. If the \n",
    "#person has only one favorite language, you could change the \n",
    "#wording to reflect that. For example, you could say Sarah's \n",
    "#favorite language is C.\n",
    "favorite_languages = {\n",
    "    'jen' : ['python', 'ruby'],\n",
    "    'sarah' : ['c'],\n",
    "    'edward' : ['ruby', 'go'],\n",
    "    'phil' : ['python', 'haskell'],\n",
    "    'ondieki' : ['html'],\n",
    "    'lomba' : ['css'],\n",
    "}\n",
    "\n",
    "for name, languages in favorite_languages.items():\n",
    "    print(f\"\\n{name.title()}'s favorite languages are: \")\n",
    "    \n",
    "\n",
    "    for language in languages:\n",
    "        if len(language) > 1:\n",
    "            print(language.title())\n",
    "        else:\n",
    "            print(f\"{name.title()} favorite language is {language.title()}\")"
   ]
  },
  {
   "cell_type": "markdown",
   "metadata": {},
   "source": [
    "# A Dictionary in a Dictionary"
   ]
  },
  {
   "cell_type": "code",
   "execution_count": 172,
   "metadata": {},
   "outputs": [
    {
     "name": "stdout",
     "output_type": "stream",
     "text": [
      "Aeinstein's user names are: \n",
      "Albert Einstein\n",
      "Aeinstein's location is: \n",
      "Princeton\n",
      "\n",
      "Mcurie's user names are: \n",
      "Marie Curie\n",
      "Mcurie's location is: \n",
      "Paris\n",
      "\n"
     ]
    }
   ],
   "source": [
    "#You can nest a dictionary inside another dictionary, but it \n",
    "#can make one's code very complex.\n",
    "#For instance, if you have several users in a website with \n",
    "#unique username, you can use the usernames as the keys in a \n",
    "#dictionary.\n",
    "#The value associated to the key, is a dictionary with \n",
    "#information about the user.\n",
    "#Below is an example where we store three pieces of information\n",
    "#about each user: their first name, last name, and location.\n",
    "#We'll access the information by looping through the usernames\n",
    "#and the dictionary of information associated with each username.\n",
    "users = {\n",
    "    'aeinstein' : {\n",
    "        'first' : 'albert',\n",
    "        'last' : 'einstein',\n",
    "        'location' : 'princeton',\n",
    "    },\n",
    "    \n",
    "    'mcurie' : {\n",
    "        'first' : 'marie',\n",
    "        'last' : 'curie',\n",
    "        'location' : 'paris',\n",
    "    },  \n",
    " }\n",
    "\n",
    "for username, user_info in users.items():\n",
    "    print(f\"{username.title()}'s user names are: \")\n",
    "    print(f\"{user_info['first'].title()} {user_info['last'].title()}\")\n",
    "    \n",
    "    print(f\"{username.title()}'s location is: \")\n",
    "    print(f\"{user_info['location'].title()}\\n\")\n",
    "    \n",
    "    "
   ]
  },
  {
   "cell_type": "code",
   "execution_count": 174,
   "metadata": {},
   "outputs": [
    {
     "name": "stdout",
     "output_type": "stream",
     "text": [
      "\n",
      "Username: aeinstein\n",
      "\tFull name: Albert Einstein\n",
      "\tLocation: Princeton\n",
      "\n",
      "Username: mcurie\n",
      "\tFull name: Marie Curie\n",
      "\tLocation: Paris\n"
     ]
    }
   ],
   "source": [
    "#Another way you can go about the above problem is:\n",
    "users = {\n",
    "    'aeinstein' : {\n",
    "        'first' : 'albert',\n",
    "        'last' : 'einstein',\n",
    "        'location' : 'princeton',\n",
    "    },\n",
    "    \n",
    "    'mcurie' : {\n",
    "        'first' : 'marie',\n",
    "        'last' : 'curie',\n",
    "        'location' : 'paris',\n",
    "    },  \n",
    " }\n",
    "\n",
    "for username, user_info in users.items():#1\n",
    "    print(f\"\\nUsername: {username}\")#2\n",
    "    full_name = f\"{user_info['first']} {user_info['last']}\"#3\n",
    "    location = user_info['location']\n",
    "    \n",
    "    print(f\"\\tFull name: {full_name.title()}\")#4\n",
    "    print(f\"\\tLocation: {location.title()}\")\n",
    "#We first define a dictionary called users with two keys: \n",
    "#'aeinstein' and 'mcurie'\n",
    "#The value associated with each key, is a dictionary that \n",
    "#includes each user's first name, last name, and location.\n",
    "#At #1 we loop through the dictionary and python assigns the \n",
    "#key values to variable username, and the associated value,\n",
    "#which is a dictionary to variable user_info.\n",
    "#At #2 we print the username and at #3 we start accessing the\n",
    "#inner dictionary.\n",
    "#Variable user_info, containing the dictionary, has three keys:\n",
    "#'first', 'last', and 'location', which are used to generate\n",
    "#a neatly formatted full name and location for each person "
   ]
  },
  {
   "cell_type": "markdown",
   "metadata": {},
   "source": [
    "# Exercises"
   ]
  },
  {
   "cell_type": "code",
   "execution_count": 85,
   "metadata": {},
   "outputs": [
    {
     "name": "stdout",
     "output_type": "stream",
     "text": [
      "\n",
      "The details of all people1 are: person\n",
      "\n",
      "The details of all people1 are: person\n",
      "\n",
      "The details of all people1 are: person\n"
     ]
    }
   ],
   "source": [
    "#6-7. People: Start with the program you wrote for Exercise 6-1 \n",
    "#(page 99). \n",
    "#Make two new dictionaries representing different people, and \n",
    "#store all three dictionaries in a list called people. Loop \n",
    "#through your list of people. As you loop through the list, \n",
    "#print everything you know about each person.\n",
    "person_1 = {'first_name' : 'Joshua', \n",
    "          'last_name' : 'Orang', \n",
    "          'age' : 20, \n",
    "          'city': 'Kampala',\n",
    "           }\n",
    "\n",
    "person_2 = {'first_name' : 'Nick',\n",
    "           'last_name' : 'Okeyo',\n",
    "           'age' : 23,\n",
    "           'city' : 'Nairobi',}\n",
    "\n",
    "person_3 = {'first_name' : 'Bill',\n",
    "            'last_name' : 'Ongoro',\n",
    "            'age' : 15,\n",
    "            'city' : 'Thika',}\n",
    "\n",
    "people = [person_1, person_2, person_3]\n",
    "\n",
    "#Loop through the list and print all you know about the people\n",
    "for person in people:\n",
    "    print(f\"\\nThe details of all people1 are: {person}\")"
   ]
  },
  {
   "cell_type": "code",
   "execution_count": 86,
   "metadata": {},
   "outputs": [
    {
     "name": "stdout",
     "output_type": "stream",
     "text": [
      "The name of the animal keeper is michael and the animal is zebra.\n",
      "The name of the animal keeper is sos and the animal is tiger.\n",
      "The name of the animal keeper is nick and the animal is mouse.\n"
     ]
    }
   ],
   "source": [
    "#6-8. Pets: Make several dictionaries, where each dictionary \n",
    "#represents a different pet. In each dictionary, include the \n",
    "#kind of animal and the owner’s name. Store these dictionaries \n",
    "#in a list called pets. Next, loop through your list and as \n",
    "#you do, print everything you know about each pet\n",
    "dic_1 = {\n",
    "    'animal' : 'zebra',\n",
    "    'name' : 'michael',\n",
    "}\n",
    "\n",
    "dic_2 = {\n",
    "    'animal' : 'tiger',\n",
    "    'name' : 'sos',\n",
    "}\n",
    "\n",
    "dic_3 = {\n",
    "    'animal' : 'mouse',\n",
    "    'name' : 'nick',\n",
    "}\n",
    "\n",
    "pets = [dic_1, dic_2, dic_3]\n",
    "\n",
    "for pet in range(1):\n",
    "    #store_1 = f\"\\n{dic_1['name']}, {dic_1['animal']}\"\n",
    "    #store_2 = f\"{dic_2['name']}, {dic_2['animal']}\"\n",
    "    #store_3 = f\"{dic_3['name']}, {dic_3['animal']}\"\n",
    "    print(f\"The name of the animal keeper is {dic_1['name']} and the animal is {dic_1['animal']}.\")\n",
    "    print(f\"The name of the animal keeper is {dic_2['name']} and the animal is {dic_2['animal']}.\")\n",
    "    print(f\"The name of the animal keeper is {dic_3['name']} and the animal is {dic_3['animal']}.\")\n",
    "\n",
    "\n",
    "\n",
    "    \n",
    "\n"
   ]
  },
  {
   "cell_type": "code",
   "execution_count": 99,
   "metadata": {},
   "outputs": [
    {
     "name": "stdout",
     "output_type": "stream",
     "text": [
      "\n",
      "Mike's favorite place is: {'Cameroon', 'Morocco', 'Zimbabwe'}\n",
      "\n",
      "Solomon's favorite place is: {'Malaysia', 'Tanzania'}\n",
      "\n",
      "Judas's favorite place is: {'Dubai', 'Israel'}\n"
     ]
    }
   ],
   "source": [
    "#6-9. Favorite Places: Make a dictionary called favorite_places. \n",
    "#Think of three names to use as keys in the dictionary, and \n",
    "#store one to three favorite places for each person. To make \n",
    "#this exercise a bit more interesting, ask some friends to name \n",
    "#a few of their favorite places. Loop through the dictionary, \n",
    "#and print each person’s name and their favorite places.\n",
    "favorite_places = {\n",
    "    'Mike' : {\n",
    "        'Morocco',\n",
    "        'Zimbabwe',\n",
    "        'Cameroon',\n",
    "},\n",
    "    \n",
    "    \n",
    "    'Solomon' : {\n",
    "        'Tanzania', 'Malaysia',\n",
    "    },\n",
    "    \n",
    "    'Judas' : {\n",
    "        'Israel', 'Dubai',\n",
    "    },\n",
    "    \n",
    "}\n",
    "\n",
    "for name, place in favorite_places.items():\n",
    "    print(f\"\\n{name}'s favorite place is: {place}\")"
   ]
  },
  {
   "cell_type": "code",
   "execution_count": 100,
   "metadata": {},
   "outputs": [
    {
     "name": "stdout",
     "output_type": "stream",
     "text": [
      "Bill {53, 30, 23}\n",
      "Sophie {25, 53}\n",
      "Kevin {20, 52}\n",
      "Dennis {56, 66, 78, 63}\n",
      "Newton {64, 42, 62}\n"
     ]
    }
   ],
   "source": [
    "#6-10. Favorite Numbers: Modify your program from Exercise 6-2 \n",
    "#(page 99) so each person can have more than one favorite \n",
    "#number. Then print each person’s name along with their \n",
    "#favorite numbers.\n",
    "person = {'Bill' : {23,30,53}, \n",
    "          'Sophie' : {53,25}, \n",
    "          'Kevin' : {20,52}, \n",
    "          'Dennis': {56,78,66,63},\n",
    "          'Newton': {42,64,62},\n",
    "         }\n",
    "\n",
    "for key, value in person.items():\n",
    "    print(key,  value)"
   ]
  },
  {
   "cell_type": "code",
   "execution_count": 118,
   "metadata": {},
   "outputs": [
    {
     "name": "stdout",
     "output_type": "stream",
     "text": [
      "\n",
      "Details about Jerusalem are: \n",
      "Israel\n",
      "957,000\n",
      "it has skilled security personell\n",
      "\n",
      "Details about Nairobi are: \n",
      "Kenya\n",
      "5.1 million\n",
      "ni mji wa anasa\n",
      "\n",
      "Details about Arusha are: \n",
      "Tanzania\n",
      "519,000\n",
      "it is attractive\n"
     ]
    }
   ],
   "source": [
    "#6-11. Cities: Make a dictionary called cities. Use the names \n",
    "#of three cities as \n",
    "#keys in your dictionary. Create a dictionary of information \n",
    "#about each city and \n",
    "#include the country that the city is in, its approximate \n",
    "#population, and one fact about that city. The keys for each \n",
    "#city’s dictionary should be something like country, population,\n",
    "#and fact. Print the name of each city and all of the \n",
    "#information you have stored about it.\n",
    "cities = {\n",
    "    'Jerusalem' : {\n",
    "        'Country' : 'Israel',\n",
    "        'app_population' : '957,000',\n",
    "        'fact' : 'it has skilled security personell',\n",
    "    },\n",
    "    \n",
    "    'Nairobi' : {\n",
    "        'Country' : 'Kenya',\n",
    "        'app_population' : '5.1 million', \n",
    "        'fact' : 'ni mji wa anasa',\n",
    "    },\n",
    "    \n",
    "    'Arusha' : {\n",
    "        'Country' : 'Tanzania',\n",
    "        'app_population' : '519,000',\n",
    "        'fact' : 'it is attractive',\n",
    "    },\n",
    "}\n",
    "\n",
    "for city, details in cities.items():\n",
    "    print(f\"\\nDetails about {city} are: \")\n",
    "    for city2, details2 in details.items():\n",
    "        print(details2)\n"
   ]
  },
  {
   "cell_type": "code",
   "execution_count": 135,
   "metadata": {},
   "outputs": [
    {
     "name": "stdout",
     "output_type": "stream",
     "text": [
      "\n",
      "Aeinstein\n",
      "first name is albert\n",
      "last name is einstein\n",
      "location name is princeton\n",
      "\n",
      "Mcurie\n",
      "first is marie\n",
      "last is curie\n",
      "location is paris\n",
      "\n",
      "Estates\n",
      "Nairobi's estate is Huruma.\n",
      "Kajiado's estate is Police Sacco.\n",
      "Nakuru's estate is Njoro.\n"
     ]
    }
   ],
   "source": [
    "#6-12. Extensions: We’re now working with examples that are \n",
    "#complex enough that they can be extended in any number of \n",
    "#ways. Use one of the example programs from this chapter, and \n",
    "#extend it by adding new keys and values, changing the context \n",
    "#of the program or improving the formatting of the output\n",
    "users = {\n",
    "    'aeinstein' : {\n",
    "        'first name' : 'albert',\n",
    "        'last name' : 'einstein',\n",
    "        'location name' : 'princeton',\n",
    "    },\n",
    "    \n",
    "    'mcurie' : {\n",
    "        'first' : 'marie',\n",
    "        'last' : 'curie',\n",
    "        'location' : 'paris',\n",
    "    },  \n",
    "    \n",
    "    'estates' : {\n",
    "        'nairobi' : 'huruma',\n",
    "        'kajiado'  : 'police sacco',\n",
    "        'nakuru' : 'njoro',\n",
    "    },\n",
    "    \n",
    " }\n",
    "for name, details in users.items():\n",
    "    if name != 'estates' :\n",
    "        print(f\"\\n{name.title()}\")\n",
    "        for name2, details2 in details.items():\n",
    "            print(f\"{name2} is {details2}\")\n",
    "    else:\n",
    "        print(f\"\\n{name.title()}\")\n",
    "        for name3, details3 in details.items():\n",
    "            print(f\"{name3.title()}'s estate is {details3.title()}.\")\n"
   ]
  },
  {
   "cell_type": "code",
   "execution_count": null,
   "metadata": {},
   "outputs": [],
   "source": []
  }
 ],
 "metadata": {
  "kernelspec": {
   "display_name": "Python 3",
   "language": "python",
   "name": "python3"
  },
  "language_info": {
   "codemirror_mode": {
    "name": "ipython",
    "version": 3
   },
   "file_extension": ".py",
   "mimetype": "text/x-python",
   "name": "python",
   "nbconvert_exporter": "python",
   "pygments_lexer": "ipython3",
   "version": "3.7.3"
  }
 },
 "nbformat": 4,
 "nbformat_minor": 2
}
