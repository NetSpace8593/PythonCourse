{
 "cells": [
  {
   "cell_type": "code",
   "execution_count": 4,
   "metadata": {},
   "outputs": [
    {
     "name": "stdout",
     "output_type": "stream",
     "text": [
      "Twinkle, twinkle, little star,\n",
      "\t How I wonder what you are!\n",
      "\t\tUp above the world so high,\n",
      "\t\tLike adiamond in the sky.\n",
      "Twinkle, twinkle, little star,\n",
      "\tHow I wonder what you are\n"
     ]
    }
   ],
   "source": [
    "#1. Write a Python program to print the following string in a \n",
    "#specific format (see the output). Go to the editor\n",
    "#Sample String : \"Twinkle, twinkle, little star, How I wonder\n",
    "#what you are! Up above the world so high, Like a diamond in \n",
    "#the sky. Twinkle, twinkle, little star, How I wonder what you\n",
    "#are\" Output :\n",
    "\n",
    "#Twinkle, twinkle, little star,\n",
    "#\tHow I wonder what you are! \n",
    "#\t\tUp above the world so high,   \t\t\n",
    "#\t\tLike a diamond in the sky. \n",
    "#Twinkle, twinkle, little star, \n",
    "#\tHow I wonder what you are\n",
    "print(\"Twinkle, twinkle, little star,\\n\\t How I wonder what \"\n",
    "      \"you are!\\n\\t\\tUp above the world so high,\\n\\t\\tLike a\"\n",
    "     \"diamond in the sky.\\nTwinkle, twinkle, little star,\"\n",
    "     \"\\n\\tHow I wonder what you are\")\n"
   ]
  },
  {
   "cell_type": "markdown",
   "metadata": {},
   "source": [
    "Getting Current Version of Python in the Comp"
   ]
  },
  {
   "cell_type": "code",
   "execution_count": 8,
   "metadata": {},
   "outputs": [
    {
     "name": "stdout",
     "output_type": "stream",
     "text": [
      "User Current Version:- 3.7.3 (default, Apr 24 2019, 15:29:51) [MSC v.1915 64 bit (AMD64)]\n"
     ]
    }
   ],
   "source": [
    "#2. Write a Python program to get the Python version you \n",
    "#are using.\n",
    "#Method 1\n",
    "import sys\n",
    "print(\"User Current Version:-\", sys.version)"
   ]
  },
  {
   "cell_type": "code",
   "execution_count": 9,
   "metadata": {},
   "outputs": [
    {
     "name": "stdout",
     "output_type": "stream",
     "text": [
      "Current Python Version- 3.7.3\n"
     ]
    }
   ],
   "source": [
    "#Method 2\n",
    "from platform import python_version\n",
    "\n",
    "print(\"Current Python Version-\", python_version())\n"
   ]
  },
  {
   "cell_type": "code",
   "execution_count": 12,
   "metadata": {},
   "outputs": [
    {
     "ename": "NameError",
     "evalue": "name 'python' is not defined",
     "output_type": "error",
     "traceback": [
      "\u001b[1;31m---------------------------------------------------------------------------\u001b[0m",
      "\u001b[1;31mNameError\u001b[0m                                 Traceback (most recent call last)",
      "\u001b[1;32m<ipython-input-12-e08f7e03f248>\u001b[0m in \u001b[0;36m<module>\u001b[1;34m\u001b[0m\n\u001b[0;32m      1\u001b[0m \u001b[1;31m#Method 3\u001b[0m\u001b[1;33m\u001b[0m\u001b[1;33m\u001b[0m\u001b[1;33m\u001b[0m\u001b[0m\n\u001b[1;32m----> 2\u001b[1;33m \u001b[0mprint\u001b[0m\u001b[1;33m(\u001b[0m\u001b[0mpython\u001b[0m \u001b[1;33m-\u001b[0m\u001b[0mV\u001b[0m\u001b[1;33m)\u001b[0m\u001b[1;33m\u001b[0m\u001b[1;33m\u001b[0m\u001b[0m\n\u001b[0m",
      "\u001b[1;31mNameError\u001b[0m: name 'python' is not defined"
     ]
    }
   ],
   "source": [
    "#Method 3\n",
    "print(python -V)"
   ]
  },
  {
   "cell_type": "markdown",
   "metadata": {},
   "source": [
    "Methods to Check the Version of the Python Interpreter"
   ]
  },
  {
   "cell_type": "code",
   "execution_count": 13,
   "metadata": {},
   "outputs": [
    {
     "name": "stdout",
     "output_type": "stream",
     "text": [
      "User Current Version:  3.7.3 (default, Apr 24 2019, 15:29:51) [MSC v.1915 64 bit (AMD64)]\n"
     ]
    }
   ],
   "source": [
    "#a.Using sys.version method\n",
    "#1.Open cmd/terminal/windows powershell\n",
    "#2.Write ‘python’ and press enter key to move into python \n",
    "#interpreter\n",
    "#3.Write the same command given below, \n",
    "#and in the result, the user will get the current \n",
    "#interpreter version.\n",
    "import sys\n",
    "print(\"User Current Version: \", sys.version)\n",
    "\n"
   ]
  },
  {
   "cell_type": "code",
   "execution_count": 14,
   "metadata": {},
   "outputs": [
    {
     "name": "stdout",
     "output_type": "stream",
     "text": [
      "Current Python Version- 3.7.3\n"
     ]
    }
   ],
   "source": [
    "#b.Using Python_version() function:\n",
    "#1.Open cmd/terminal/windows powershell\n",
    "#2Write ‘python’ and press enter key to move into python \n",
    "#interpreter\n",
    "#3.Now, write the same command as mention below in the \n",
    "#code, and press enter, with this it will return the \n",
    "#current python interpreter version in the form of string.\n",
    "from platform import python_version\n",
    "print(\"Current Python Version-\", python_version())"
   ]
  },
  {
   "cell_type": "code",
   "execution_count": 15,
   "metadata": {},
   "outputs": [
    {
     "ename": "NameError",
     "evalue": "name 'python' is not defined",
     "output_type": "error",
     "traceback": [
      "\u001b[1;31m---------------------------------------------------------------------------\u001b[0m",
      "\u001b[1;31mNameError\u001b[0m                                 Traceback (most recent call last)",
      "\u001b[1;32m<ipython-input-15-ce4b2c2e69ff>\u001b[0m in \u001b[0;36m<module>\u001b[1;34m\u001b[0m\n\u001b[0;32m      5\u001b[0m \u001b[1;31m#the current python interpreter version in the form of\u001b[0m\u001b[1;33m\u001b[0m\u001b[1;33m\u001b[0m\u001b[1;33m\u001b[0m\u001b[0m\n\u001b[0;32m      6\u001b[0m \u001b[1;31m#string.\u001b[0m\u001b[1;33m\u001b[0m\u001b[1;33m\u001b[0m\u001b[1;33m\u001b[0m\u001b[0m\n\u001b[1;32m----> 7\u001b[1;33m \u001b[0mpython\u001b[0m \u001b[1;33m-\u001b[0m\u001b[0mV\u001b[0m\u001b[1;33m\u001b[0m\u001b[1;33m\u001b[0m\u001b[0m\n\u001b[0m",
      "\u001b[1;31mNameError\u001b[0m: name 'python' is not defined"
     ]
    }
   ],
   "source": [
    "#c.Using python -V command\n",
    "#1.Open cmd/terminal/windows powershell\n",
    "#2.Now, write the same command as mention below in the \n",
    "#code given, and press enter, with this it will return \n",
    "#the current python interpreter version in the form of \n",
    "#string.\n",
    "python -V"
   ]
  },
  {
   "cell_type": "code",
   "execution_count": 16,
   "metadata": {},
   "outputs": [
    {
     "name": "stdout",
     "output_type": "stream",
     "text": [
      "3.7.3\n"
     ]
    }
   ],
   "source": [
    "#d.Using platform module\n",
    "import platform\n",
    "print(platform.python_version())"
   ]
  },
  {
   "cell_type": "code",
   "execution_count": 17,
   "metadata": {},
   "outputs": [
    {
     "name": "stdout",
     "output_type": "stream",
     "text": [
      "('3', '7', '3')\n",
      "<class 'tuple'>\n"
     ]
    }
   ],
   "source": [
    "#e.Python version as tuple(major, minor, patchlevel) of \n",
    "#of strings:\n",
    "import platform\n",
    "print(platform.python_version_tuple())\n",
    "print(type(platform.python_version_tuple()))"
   ]
  },
  {
   "cell_type": "markdown",
   "metadata": {},
   "source": [
    "Getting Current Date"
   ]
  },
  {
   "cell_type": "code",
   "execution_count": 1,
   "metadata": {},
   "outputs": [
    {
     "name": "stdout",
     "output_type": "stream",
     "text": [
      "Today's date: 2022-03-15\n"
     ]
    }
   ],
   "source": [
    "#3.Write a Python program to display the current date and \n",
    "#time\n",
    "#Current date and time\n",
    "\n",
    "#We will use the date class and the datetime module to accomplish\n",
    "#this task.\n",
    "from datetime import date\n",
    "\n",
    "today = date.today()\n",
    "print(\"Today's date:\", today)\n",
    "#In the code above, we imported  the date class from the \n",
    "#datetime module. We then, used the date.today() method to get\n",
    "#the current local date.\n",
    "\n",
    "#date.today() returns a date object, which is assigned to the \n",
    "#today variable in the above program"
   ]
  },
  {
   "cell_type": "markdown",
   "metadata": {},
   "source": [
    "Current date in different formats"
   ]
  },
  {
   "cell_type": "code",
   "execution_count": 7,
   "metadata": {},
   "outputs": [
    {
     "name": "stdout",
     "output_type": "stream",
     "text": [
      "d1 = 15/03/2022\n",
      "d2 = March 15, 2022\n",
      "d3 = 03/15/22\n",
      "d4 = Mar-15-2022\n"
     ]
    }
   ],
   "source": [
    "#Below we will use the strftime() method to create a string \n",
    "#representing date in different formats.\n",
    "#If you need to get the current date and time, you can use \n",
    "#datetime class of the datetime module.\n",
    "from datetime import date#date class and datetime module\n",
    "\n",
    "today = date.today()\n",
    "\n",
    "#dd/mm/yy\n",
    "d1 = today.strftime(\"%d/%m/%Y\")\n",
    "print(\"d1 =\", d1)\n",
    "\n",
    "#Textual month, day and year\n",
    "d2 = today.strftime(\"%B %d, %Y\")\n",
    "print(\"d2 =\", d2)\n",
    "\n",
    "#mm/dd/y\n",
    "d3 = today.strftime(\"%m/%d/%y\")\n",
    "print(\"d3 =\", d3)\n",
    "\n",
    "#Month abbreviation, day and year\n",
    "d4 = today.strftime(\"%b-%d-%Y\")\n",
    "print(\"d4 =\", d4)"
   ]
  },
  {
   "cell_type": "markdown",
   "metadata": {},
   "source": [
    "Get the current date and time"
   ]
  },
  {
   "cell_type": "code",
   "execution_count": 10,
   "metadata": {},
   "outputs": [
    {
     "name": "stdout",
     "output_type": "stream",
     "text": [
      "now = 2022-03-15 20:36:12.721221\n",
      "date and time = 15/03/2022 20:36:12\n"
     ]
    }
   ],
   "source": [
    "from datetime import datetime\n",
    "\n",
    "#datetime object containing current date and time\n",
    "now = datetime.now()\n",
    "\n",
    "print(\"now =\", now)\n",
    "\n",
    "# dd/mm/YY H:M:S\n",
    "dt_string = now.strftime(\"%d/%m/%Y %H:%M:%S\")\n",
    "print(\"date and time =\", dt_string)\n",
    "\n",
    "#Above we used datetime.now() method to get the current date \n",
    "#and time. Then, we used strftime() to create a string \n",
    "#representing date and time in another format."
   ]
  },
  {
   "cell_type": "code",
   "execution_count": 6,
   "metadata": {},
   "outputs": [
    {
     "name": "stdout",
     "output_type": "stream",
     "text": [
      "4\n"
     ]
    }
   ],
   "source": [
    "print((3**2)//2)"
   ]
  },
  {
   "cell_type": "code",
   "execution_count": null,
   "metadata": {},
   "outputs": [],
   "source": []
  }
 ],
 "metadata": {
  "kernelspec": {
   "display_name": "Python 3",
   "language": "python",
   "name": "python3"
  },
  "language_info": {
   "codemirror_mode": {
    "name": "ipython",
    "version": 3
   },
   "file_extension": ".py",
   "mimetype": "text/x-python",
   "name": "python",
   "nbconvert_exporter": "python",
   "pygments_lexer": "ipython3",
   "version": "3.7.3"
  }
 },
 "nbformat": 4,
 "nbformat_minor": 2
}
